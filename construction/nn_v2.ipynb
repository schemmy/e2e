{
 "cells": [
  {
   "cell_type": "code",
   "execution_count": 1,
   "metadata": {
    "nbpresent": {
     "id": "73fb928c-b15c-40a2-bfb6-4370c9f23157"
    }
   },
   "outputs": [],
   "source": [
    "import numpy as np\n",
    "import pandas as pd\n",
    "import os\n",
    "import warnings\n",
    "from tqdm import tqdm\n",
    "import math\n",
    "import seaborn as sns\n",
    "\n",
    "from scipy.stats import gamma\n",
    "import datetime as dt\n",
    "from sklearn.model_selection import train_test_split\n",
    "from sklearn.preprocessing import MinMaxScaler\n",
    "import lightgbm as lgb\n",
    "# import optperfprofpy\n",
    "\n",
    "import sys \n",
    "sys.path.append('..')\n",
    "from utils.demand_pkg import *\n",
    "import matplotlib.pyplot as plt\n",
    "from utils.algorithms import get_opt, get_EQ, get_end2end_iid, get_end2end, get_normal_basestock, get_gamma_basestock, get_normal_basestock2\n",
    "from subprocess import call\n",
    "\n",
    "import tensorflow as tf\n",
    "\n",
    "warnings.filterwarnings('ignore')\n",
    "# plt.rcParams['font.sans-serif']=['SimHei'] #用来正常显示中文标签\n",
    "# plt.rcParams['axes.unicode_minus']=False #用来正常显示负号"
   ]
  },
  {
   "cell_type": "code",
   "execution_count": 2,
   "metadata": {
    "nbpresent": {
     "id": "8c92309b-8cdb-4da6-84b4-a452bed4f113"
    }
   },
   "outputs": [],
   "source": [
    "# o0 = pd.read_csv('../data/1320_feature/features_v11.csv', parse_dates=['create_tm','complete_dt','dt','next_complete_dt'],\n",
    "#                  usecols=lambda col: col not in ['d_vlt'])\n",
    "with open('../data/1320_feature/df_e2e.pkl', 'rb') as fp:\n",
    "    o0 = pickle.load(fp)\n",
    "df_sales = pd.read_csv('../data/1320/rdc_sales_1320_replenishment_V1_filled_pp.csv')\n",
    "df_sl = df_sales.set_index('row')\n",
    "df_sl.rename(columns=lambda x: (dt.datetime(2016,1,1) + dt.timedelta(days=int(x)-730)).date(), inplace=True)"
   ]
  },
  {
   "cell_type": "code",
   "execution_count": 3,
   "metadata": {},
   "outputs": [],
   "source": [
    "o0 = o0[o0.next_complete_dt < dt.datetime(2018,8,31)]"
   ]
  },
  {
   "cell_type": "code",
   "execution_count": 4,
   "metadata": {
    "scrolled": true
   },
   "outputs": [
    {
     "data": {
      "text/html": [
       "<div>\n",
       "<style scoped>\n",
       "    .dataframe tbody tr th:only-of-type {\n",
       "        vertical-align: middle;\n",
       "    }\n",
       "\n",
       "    .dataframe tbody tr th {\n",
       "        vertical-align: top;\n",
       "    }\n",
       "\n",
       "    .dataframe thead th {\n",
       "        text-align: right;\n",
       "    }\n",
       "</style>\n",
       "<table border=\"1\" class=\"dataframe\">\n",
       "  <thead>\n",
       "    <tr style=\"text-align: right;\">\n",
       "      <th></th>\n",
       "      <th>item_sku_id</th>\n",
       "      <th>pur_bill_id</th>\n",
       "      <th>item_first_cate_cd</th>\n",
       "      <th>item_second_cate_cd</th>\n",
       "      <th>brand_code</th>\n",
       "      <th>create_day_of_week</th>\n",
       "      <th>create_tm</th>\n",
       "      <th>complete_dt</th>\n",
       "      <th>dt</th>\n",
       "      <th>vlt_actual</th>\n",
       "      <th>...</th>\n",
       "      <th>item_third_cate_cd_5022</th>\n",
       "      <th>item_third_cate_cd_5024</th>\n",
       "      <th>int_org_num_3</th>\n",
       "      <th>int_org_num_4</th>\n",
       "      <th>int_org_num_5</th>\n",
       "      <th>int_org_num_6</th>\n",
       "      <th>int_org_num_9</th>\n",
       "      <th>int_org_num_10</th>\n",
       "      <th>int_org_num_316</th>\n",
       "      <th>int_org_num_772</th>\n",
       "    </tr>\n",
       "  </thead>\n",
       "  <tbody>\n",
       "    <tr>\n",
       "      <th>120461</th>\n",
       "      <td>6450270#10</td>\n",
       "      <td>54027902</td>\n",
       "      <td>1320</td>\n",
       "      <td>1584</td>\n",
       "      <td>193767</td>\n",
       "      <td>3</td>\n",
       "      <td>2018-07-03 12:48:48</td>\n",
       "      <td>2018-07-06 17:19:13</td>\n",
       "      <td>2018-09-08</td>\n",
       "      <td>3.187789</td>\n",
       "      <td>...</td>\n",
       "      <td>0</td>\n",
       "      <td>0</td>\n",
       "      <td>0</td>\n",
       "      <td>0</td>\n",
       "      <td>0</td>\n",
       "      <td>0</td>\n",
       "      <td>0</td>\n",
       "      <td>1</td>\n",
       "      <td>0</td>\n",
       "      <td>0</td>\n",
       "    </tr>\n",
       "    <tr>\n",
       "      <th>120462</th>\n",
       "      <td>6450270#10</td>\n",
       "      <td>54184997</td>\n",
       "      <td>1320</td>\n",
       "      <td>1584</td>\n",
       "      <td>193767</td>\n",
       "      <td>5</td>\n",
       "      <td>2018-07-05 04:55:40</td>\n",
       "      <td>2018-07-06 17:19:11</td>\n",
       "      <td>2018-09-08</td>\n",
       "      <td>1.516331</td>\n",
       "      <td>...</td>\n",
       "      <td>0</td>\n",
       "      <td>0</td>\n",
       "      <td>0</td>\n",
       "      <td>0</td>\n",
       "      <td>0</td>\n",
       "      <td>0</td>\n",
       "      <td>0</td>\n",
       "      <td>1</td>\n",
       "      <td>0</td>\n",
       "      <td>0</td>\n",
       "    </tr>\n",
       "    <tr>\n",
       "      <th>120463</th>\n",
       "      <td>6450270#10</td>\n",
       "      <td>54481105</td>\n",
       "      <td>1320</td>\n",
       "      <td>1584</td>\n",
       "      <td>193767</td>\n",
       "      <td>2</td>\n",
       "      <td>2018-07-09 05:14:59</td>\n",
       "      <td>2018-07-11 18:30:59</td>\n",
       "      <td>2018-09-08</td>\n",
       "      <td>2.552778</td>\n",
       "      <td>...</td>\n",
       "      <td>0</td>\n",
       "      <td>0</td>\n",
       "      <td>0</td>\n",
       "      <td>0</td>\n",
       "      <td>0</td>\n",
       "      <td>0</td>\n",
       "      <td>0</td>\n",
       "      <td>1</td>\n",
       "      <td>0</td>\n",
       "      <td>0</td>\n",
       "    </tr>\n",
       "    <tr>\n",
       "      <th>120464</th>\n",
       "      <td>6450270#10</td>\n",
       "      <td>54778065</td>\n",
       "      <td>1320</td>\n",
       "      <td>1584</td>\n",
       "      <td>193767</td>\n",
       "      <td>4</td>\n",
       "      <td>2018-07-11 18:41:26</td>\n",
       "      <td>2018-07-14 15:02:02</td>\n",
       "      <td>2018-09-08</td>\n",
       "      <td>2.847639</td>\n",
       "      <td>...</td>\n",
       "      <td>0</td>\n",
       "      <td>0</td>\n",
       "      <td>0</td>\n",
       "      <td>0</td>\n",
       "      <td>0</td>\n",
       "      <td>0</td>\n",
       "      <td>0</td>\n",
       "      <td>1</td>\n",
       "      <td>0</td>\n",
       "      <td>0</td>\n",
       "    </tr>\n",
       "    <tr>\n",
       "      <th>120465</th>\n",
       "      <td>6450270#10</td>\n",
       "      <td>56098750</td>\n",
       "      <td>1320</td>\n",
       "      <td>1584</td>\n",
       "      <td>193767</td>\n",
       "      <td>4</td>\n",
       "      <td>2018-07-25 04:56:00</td>\n",
       "      <td>2018-07-27 16:46:57</td>\n",
       "      <td>2018-09-08</td>\n",
       "      <td>2.493715</td>\n",
       "      <td>...</td>\n",
       "      <td>0</td>\n",
       "      <td>0</td>\n",
       "      <td>0</td>\n",
       "      <td>0</td>\n",
       "      <td>0</td>\n",
       "      <td>0</td>\n",
       "      <td>0</td>\n",
       "      <td>1</td>\n",
       "      <td>0</td>\n",
       "      <td>0</td>\n",
       "    </tr>\n",
       "    <tr>\n",
       "      <th>120466</th>\n",
       "      <td>6450270#10</td>\n",
       "      <td>56582259</td>\n",
       "      <td>1320</td>\n",
       "      <td>1584</td>\n",
       "      <td>193767</td>\n",
       "      <td>2</td>\n",
       "      <td>2018-07-30 05:07:00</td>\n",
       "      <td>2018-08-03 18:18:08</td>\n",
       "      <td>2018-09-08</td>\n",
       "      <td>4.549398</td>\n",
       "      <td>...</td>\n",
       "      <td>0</td>\n",
       "      <td>0</td>\n",
       "      <td>0</td>\n",
       "      <td>0</td>\n",
       "      <td>0</td>\n",
       "      <td>0</td>\n",
       "      <td>0</td>\n",
       "      <td>1</td>\n",
       "      <td>0</td>\n",
       "      <td>0</td>\n",
       "    </tr>\n",
       "    <tr>\n",
       "      <th>120467</th>\n",
       "      <td>6450270#10</td>\n",
       "      <td>56832803</td>\n",
       "      <td>1320</td>\n",
       "      <td>1584</td>\n",
       "      <td>193767</td>\n",
       "      <td>4</td>\n",
       "      <td>2018-08-01 04:55:20</td>\n",
       "      <td>2018-08-03 17:19:06</td>\n",
       "      <td>2018-09-08</td>\n",
       "      <td>2.516505</td>\n",
       "      <td>...</td>\n",
       "      <td>0</td>\n",
       "      <td>0</td>\n",
       "      <td>0</td>\n",
       "      <td>0</td>\n",
       "      <td>0</td>\n",
       "      <td>0</td>\n",
       "      <td>0</td>\n",
       "      <td>1</td>\n",
       "      <td>0</td>\n",
       "      <td>0</td>\n",
       "    </tr>\n",
       "    <tr>\n",
       "      <th>120468</th>\n",
       "      <td>6450270#10</td>\n",
       "      <td>57288705</td>\n",
       "      <td>1320</td>\n",
       "      <td>1584</td>\n",
       "      <td>193767</td>\n",
       "      <td>2</td>\n",
       "      <td>2018-08-06 05:05:57</td>\n",
       "      <td>2018-08-08 18:06:53</td>\n",
       "      <td>2018-09-08</td>\n",
       "      <td>2.542315</td>\n",
       "      <td>...</td>\n",
       "      <td>0</td>\n",
       "      <td>0</td>\n",
       "      <td>0</td>\n",
       "      <td>0</td>\n",
       "      <td>0</td>\n",
       "      <td>0</td>\n",
       "      <td>0</td>\n",
       "      <td>1</td>\n",
       "      <td>0</td>\n",
       "      <td>0</td>\n",
       "    </tr>\n",
       "    <tr>\n",
       "      <th>120469</th>\n",
       "      <td>6450270#10</td>\n",
       "      <td>57559925</td>\n",
       "      <td>1320</td>\n",
       "      <td>1584</td>\n",
       "      <td>193767</td>\n",
       "      <td>4</td>\n",
       "      <td>2018-08-08 05:01:30</td>\n",
       "      <td>2018-08-11 17:04:04</td>\n",
       "      <td>2018-09-08</td>\n",
       "      <td>3.501782</td>\n",
       "      <td>...</td>\n",
       "      <td>0</td>\n",
       "      <td>0</td>\n",
       "      <td>0</td>\n",
       "      <td>0</td>\n",
       "      <td>0</td>\n",
       "      <td>0</td>\n",
       "      <td>0</td>\n",
       "      <td>1</td>\n",
       "      <td>0</td>\n",
       "      <td>0</td>\n",
       "    </tr>\n",
       "    <tr>\n",
       "      <th>120470</th>\n",
       "      <td>6450270#10</td>\n",
       "      <td>58063101</td>\n",
       "      <td>1320</td>\n",
       "      <td>1584</td>\n",
       "      <td>193767</td>\n",
       "      <td>2</td>\n",
       "      <td>2018-08-13 05:14:56</td>\n",
       "      <td>2018-08-17 15:42:36</td>\n",
       "      <td>2018-09-08</td>\n",
       "      <td>4.435880</td>\n",
       "      <td>...</td>\n",
       "      <td>0</td>\n",
       "      <td>0</td>\n",
       "      <td>0</td>\n",
       "      <td>0</td>\n",
       "      <td>0</td>\n",
       "      <td>0</td>\n",
       "      <td>0</td>\n",
       "      <td>1</td>\n",
       "      <td>0</td>\n",
       "      <td>0</td>\n",
       "    </tr>\n",
       "    <tr>\n",
       "      <th>120471</th>\n",
       "      <td>6450270#10</td>\n",
       "      <td>58351952</td>\n",
       "      <td>1320</td>\n",
       "      <td>1584</td>\n",
       "      <td>193767</td>\n",
       "      <td>4</td>\n",
       "      <td>2018-08-15 05:00:54</td>\n",
       "      <td>2018-08-17 15:41:28</td>\n",
       "      <td>2018-09-08</td>\n",
       "      <td>2.444838</td>\n",
       "      <td>...</td>\n",
       "      <td>0</td>\n",
       "      <td>0</td>\n",
       "      <td>0</td>\n",
       "      <td>0</td>\n",
       "      <td>0</td>\n",
       "      <td>0</td>\n",
       "      <td>0</td>\n",
       "      <td>1</td>\n",
       "      <td>0</td>\n",
       "      <td>0</td>\n",
       "    </tr>\n",
       "    <tr>\n",
       "      <th>120472</th>\n",
       "      <td>6450270#10</td>\n",
       "      <td>58846600</td>\n",
       "      <td>1320</td>\n",
       "      <td>1584</td>\n",
       "      <td>193767</td>\n",
       "      <td>2</td>\n",
       "      <td>2018-08-20 04:55:21</td>\n",
       "      <td>2018-08-24 15:40:18</td>\n",
       "      <td>2018-09-08</td>\n",
       "      <td>4.447882</td>\n",
       "      <td>...</td>\n",
       "      <td>0</td>\n",
       "      <td>0</td>\n",
       "      <td>0</td>\n",
       "      <td>0</td>\n",
       "      <td>0</td>\n",
       "      <td>0</td>\n",
       "      <td>0</td>\n",
       "      <td>1</td>\n",
       "      <td>0</td>\n",
       "      <td>0</td>\n",
       "    </tr>\n",
       "  </tbody>\n",
       "</table>\n",
       "<p>12 rows × 156 columns</p>\n",
       "</div>"
      ],
      "text/plain": [
       "       item_sku_id  pur_bill_id  item_first_cate_cd  item_second_cate_cd  \\\n",
       "120461  6450270#10     54027902                1320                 1584   \n",
       "120462  6450270#10     54184997                1320                 1584   \n",
       "120463  6450270#10     54481105                1320                 1584   \n",
       "120464  6450270#10     54778065                1320                 1584   \n",
       "120465  6450270#10     56098750                1320                 1584   \n",
       "120466  6450270#10     56582259                1320                 1584   \n",
       "120467  6450270#10     56832803                1320                 1584   \n",
       "120468  6450270#10     57288705                1320                 1584   \n",
       "120469  6450270#10     57559925                1320                 1584   \n",
       "120470  6450270#10     58063101                1320                 1584   \n",
       "120471  6450270#10     58351952                1320                 1584   \n",
       "120472  6450270#10     58846600                1320                 1584   \n",
       "\n",
       "        brand_code  create_day_of_week           create_tm  \\\n",
       "120461      193767                   3 2018-07-03 12:48:48   \n",
       "120462      193767                   5 2018-07-05 04:55:40   \n",
       "120463      193767                   2 2018-07-09 05:14:59   \n",
       "120464      193767                   4 2018-07-11 18:41:26   \n",
       "120465      193767                   4 2018-07-25 04:56:00   \n",
       "120466      193767                   2 2018-07-30 05:07:00   \n",
       "120467      193767                   4 2018-08-01 04:55:20   \n",
       "120468      193767                   2 2018-08-06 05:05:57   \n",
       "120469      193767                   4 2018-08-08 05:01:30   \n",
       "120470      193767                   2 2018-08-13 05:14:56   \n",
       "120471      193767                   4 2018-08-15 05:00:54   \n",
       "120472      193767                   2 2018-08-20 04:55:21   \n",
       "\n",
       "               complete_dt         dt  vlt_actual       ...         \\\n",
       "120461 2018-07-06 17:19:13 2018-09-08    3.187789       ...          \n",
       "120462 2018-07-06 17:19:11 2018-09-08    1.516331       ...          \n",
       "120463 2018-07-11 18:30:59 2018-09-08    2.552778       ...          \n",
       "120464 2018-07-14 15:02:02 2018-09-08    2.847639       ...          \n",
       "120465 2018-07-27 16:46:57 2018-09-08    2.493715       ...          \n",
       "120466 2018-08-03 18:18:08 2018-09-08    4.549398       ...          \n",
       "120467 2018-08-03 17:19:06 2018-09-08    2.516505       ...          \n",
       "120468 2018-08-08 18:06:53 2018-09-08    2.542315       ...          \n",
       "120469 2018-08-11 17:04:04 2018-09-08    3.501782       ...          \n",
       "120470 2018-08-17 15:42:36 2018-09-08    4.435880       ...          \n",
       "120471 2018-08-17 15:41:28 2018-09-08    2.444838       ...          \n",
       "120472 2018-08-24 15:40:18 2018-09-08    4.447882       ...          \n",
       "\n",
       "        item_third_cate_cd_5022  item_third_cate_cd_5024  int_org_num_3  \\\n",
       "120461                        0                        0              0   \n",
       "120462                        0                        0              0   \n",
       "120463                        0                        0              0   \n",
       "120464                        0                        0              0   \n",
       "120465                        0                        0              0   \n",
       "120466                        0                        0              0   \n",
       "120467                        0                        0              0   \n",
       "120468                        0                        0              0   \n",
       "120469                        0                        0              0   \n",
       "120470                        0                        0              0   \n",
       "120471                        0                        0              0   \n",
       "120472                        0                        0              0   \n",
       "\n",
       "        int_org_num_4  int_org_num_5  int_org_num_6  int_org_num_9  \\\n",
       "120461              0              0              0              0   \n",
       "120462              0              0              0              0   \n",
       "120463              0              0              0              0   \n",
       "120464              0              0              0              0   \n",
       "120465              0              0              0              0   \n",
       "120466              0              0              0              0   \n",
       "120467              0              0              0              0   \n",
       "120468              0              0              0              0   \n",
       "120469              0              0              0              0   \n",
       "120470              0              0              0              0   \n",
       "120471              0              0              0              0   \n",
       "120472              0              0              0              0   \n",
       "\n",
       "        int_org_num_10  int_org_num_316  int_org_num_772  \n",
       "120461               1                0                0  \n",
       "120462               1                0                0  \n",
       "120463               1                0                0  \n",
       "120464               1                0                0  \n",
       "120465               1                0                0  \n",
       "120466               1                0                0  \n",
       "120467               1                0                0  \n",
       "120468               1                0                0  \n",
       "120469               1                0                0  \n",
       "120470               1                0                0  \n",
       "120471               1                0                0  \n",
       "120472               1                0                0  \n",
       "\n",
       "[12 rows x 156 columns]"
      ]
     },
     "execution_count": 4,
     "metadata": {},
     "output_type": "execute_result"
    }
   ],
   "source": [
    "o0[o0['item_sku_id']=='6450270#10']\n",
    "#4285528#3"
   ]
  },
  {
   "cell_type": "code",
   "execution_count": 5,
   "metadata": {},
   "outputs": [
    {
     "data": {
      "text/plain": [
       "item_sku_id\n",
       "5045816#6    8\n",
       "Name: pur_bill_id, dtype: int64"
      ]
     },
     "execution_count": 5,
     "metadata": {},
     "output_type": "execute_result"
    }
   ],
   "source": [
    "o0.groupby('item_sku_id').pur_bill_id.count().sort_values(ascending=False)[2000:2001]"
   ]
  },
  {
   "cell_type": "code",
   "execution_count": 6,
   "metadata": {
    "scrolled": true
   },
   "outputs": [
    {
     "data": {
      "text/plain": [
       "(93362, 156)"
      ]
     },
     "execution_count": 6,
     "metadata": {},
     "output_type": "execute_result"
    }
   ],
   "source": [
    "o0.shape"
   ]
  },
  {
   "cell_type": "code",
   "execution_count": 7,
   "metadata": {
    "nbpresent": {
     "id": "ef2cf35d-c15d-4cb8-8ab3-6ad8a7a8b5af"
    }
   },
   "outputs": [],
   "source": [
    "# o_num = o2.loc[:, feature_list+LABEL]\n",
    "# for i in range(2, o_num.shape[1]):\n",
    "#     plt.figure();\n",
    "#     ax = sns.distplot(o_num.iloc[:,i]);\n",
    "#     plt.savefig('../figures/vlm/%i.png' %i);\n",
    "#     plt.close();"
   ]
  },
  {
   "cell_type": "code",
   "execution_count": 8,
   "metadata": {
    "nbpresent": {
     "id": "a6f40729-407e-4127-9ed5-a2b6565c5620"
    }
   },
   "outputs": [],
   "source": [
    "IDX = ['item_sku_id','sku_id']\n",
    "\n",
    "CAT_FEA = [\n",
    "#     'item_first_cate_cd', 'item_second_cate_cd', \n",
    "    'item_third_cate_cd', \n",
    "    'int_org_num', \n",
    "#     'brand_code', \n",
    "#     'create_day_of_week'\n",
    "    ]\n",
    "\n",
    "VLT_FEA = [\n",
    "#            'review_period', \n",
    "    'uprc', 'contract_stk_prc', \n",
    "    'wt', 'width', 'height', 'calc_volume', 'len',\n",
    "    'vlt_count', 'vlt_sum', 'vlt_min', 'vlt_max', 'vlt_mean', 'vlt_std',\n",
    "    'qtty_sum', 'qtty_min', 'qtty_max', 'qtty_mean', 'qtty_std', \n",
    "    'amount_sum', 'amount_min', 'amount_max', 'amount_mean', 'amount_std', \n",
    "    'vlt_count_6mo', 'vlt_sum_6mo', 'vlt_min_6mo', 'vlt_max_6mo', 'vlt_mean_6mo', 'vlt_std_6mo',\n",
    "    'vendor_vlt_count', 'vendor_vlt_sum', 'vendor_vlt_min', 'vendor_vlt_max', 'vendor_vlt_mean', 'vendor_vlt_std', \n",
    "    'vendor_vlt_count_6mo', 'vendor_vlt_sum_6mo', 'vendor_vlt_min_6mo', \n",
    "    'vendor_vlt_max_6mo', 'vendor_vlt_mean_6mo', 'vendor_vlt_std_6mo', \n",
    "    'vendor_qtty_sum', 'vendor_qtty_min', 'vendor_qtty_max', \n",
    "    'vendor_qtty_mean', 'vendor_qtty_std', 'vendor_amount_sum',\n",
    "    'vendor_amount_min', 'vendor_amount_max', 'vendor_amount_mean'\n",
    "        ]\n",
    "\n",
    "SF_FEA = [\n",
    "        'q_7', 'q_14', 'q_28', 'q_56', 'q_112', \n",
    "        'mean_3', 'mean_7', 'mean_14', 'mean_28', 'mean_56', 'mean_112', \n",
    "        'diff_140_mean', 'mean_140_decay', 'median_140', 'min_140', 'max_140', 'std_140', \n",
    "        'diff_60_mean', 'mean_60_decay', 'median_60', 'min_60', 'max_60', 'std_60', \n",
    "        'diff_30_mean', 'mean_30_decay', 'median_30', 'min_30', 'max_30', 'std_30', \n",
    "        'diff_14_mean', 'mean_14_decay', 'median_14', 'min_14', 'max_14', 'std_14',\n",
    "        'diff_7_mean', 'mean_7_decay', 'median_7', 'min_7', 'max_7', 'std_7',\n",
    "        'diff_3_mean', 'mean_3_decay', 'median_3', 'min_3', 'max_3', 'std_3',\n",
    "        'has_sales_days_in_last_140', 'last_has_sales_day_in_last_140',\n",
    "        'first_has_sales_day_in_last_140', 'has_sales_days_in_last_60',\n",
    "        'last_has_sales_day_in_last_60', 'first_has_sales_day_in_last_60',\n",
    "        'has_sales_days_in_last_30', 'last_has_sales_day_in_last_30',\n",
    "        'first_has_sales_day_in_last_30', 'has_sales_days_in_last_14',\n",
    "        'last_has_sales_day_in_last_14', 'first_has_sales_day_in_last_14',\n",
    "        'has_sales_days_in_last_7', 'last_has_sales_day_in_last_7', 'first_has_sales_day_in_last_7'\n",
    "            ]\n",
    "   \n",
    "MORE_FEA =[\n",
    "           'review_period', \n",
    "           'normal', \n",
    "           'gamma', \n",
    "            'eq'\n",
    "            ]\n",
    "\n",
    "IS_FEA = [\n",
    "           'initial_stock', \n",
    "#            'IS_over_mean_56'\n",
    "        ]\n",
    "    \n",
    "# LABEL = ['target_decision']  \n",
    "    \n",
    "CAT_FEA_HOT = ['item_third_cate_cd_1591',\n",
    "             'item_third_cate_cd_2677',\n",
    "             'item_third_cate_cd_5022',\n",
    "             'item_third_cate_cd_5024',\n",
    "             'int_org_num_3',\n",
    "             'int_org_num_4',\n",
    "             'int_org_num_5',\n",
    "             'int_org_num_6',\n",
    "             'int_org_num_9',\n",
    "             'int_org_num_10',\n",
    "             'int_org_num_316',\n",
    "             'int_org_num_772']\n",
    "TO_SCALE = [\n",
    "            # 'label_sf'\n",
    "            ]\n",
    "SEQ2SEQ = ['Enc_X', 'Enc_y', 'Dec_X', 'Dec_y']\n",
    "\n",
    "LABEL = ['demand_RV']    \n",
    "LABEL_vlt = ['vlt_actual']    \n",
    "LABEL_sf = ['label_sf'] "
   ]
  },
  {
   "cell_type": "code",
   "execution_count": 9,
   "metadata": {
    "nbpresent": {
     "id": "fa4e4107-7854-40e5-9373-775bec02ffe6"
    }
   },
   "outputs": [],
   "source": [
    "SCALE_FEA =  VLT_FEA + SF_FEA + MORE_FEA + IS_FEA + CAT_FEA_HOT + TO_SCALE + LABEL_vlt + LABEL_sf\n",
    "CUT_FEA = VLT_FEA + SF_FEA + MORE_FEA\n",
    "MODEL_FEA = VLT_FEA + SF_FEA + MORE_FEA + IS_FEA + CAT_FEA_HOT"
   ]
  },
  {
   "cell_type": "code",
   "execution_count": 10,
   "metadata": {},
   "outputs": [],
   "source": [
    "sku_set = o0.sku_id.unique()\n",
    "sku_train, sku_test = train_test_split(sku_set, random_state=12, train_size=0.9, test_size=0.1)\n",
    "# with open('../data/1320_feature/sku_buddle.pkl', 'rb') as fp:\n",
    "#     sku_train, sku_test = pickle.load(fp)\n",
    "df_train = o0[(o0['sku_id'].isin(sku_train)) & (o0['create_tm'] < dt.datetime(2018,7,27))]\n",
    "df_test = o0[(o0['sku_id'].isin(sku_test)) & (o0['create_tm'] >= dt.datetime(2018,7,27))]\n",
    "# df_train = o0[o0['create_tm'] < dt.datetime(2018,8,10)]\n",
    "# df_test = o0[o0['create_tm'] >= dt.datetime(2018,8,10)]"
   ]
  },
  {
   "cell_type": "code",
   "execution_count": 11,
   "metadata": {
    "scrolled": true
   },
   "outputs": [
    {
     "data": {
      "text/plain": [
       "((46574, 156), (3753, 156))"
      ]
     },
     "execution_count": 11,
     "metadata": {},
     "output_type": "execute_result"
    }
   ],
   "source": [
    "df_train.shape, df_test.shape"
   ]
  },
  {
   "cell_type": "code",
   "execution_count": 12,
   "metadata": {
    "nbpresent": {
     "id": "8b32cff8-e7b9-4a77-bf0d-fbd8835dec9c"
    }
   },
   "outputs": [],
   "source": [
    "X_train_ns, y_train_ns, id_train = df_train[SCALE_FEA], df_train[LABEL], df_train[IDX]\n",
    "X_test_ns, y_test_ns, id_test = df_test[SCALE_FEA], df_test[LABEL], df_test[IDX]\n",
    "\n",
    "n_train, n_test = len(X_train_ns), len(X_test_ns)"
   ]
  },
  {
   "cell_type": "code",
   "execution_count": 13,
   "metadata": {},
   "outputs": [],
   "source": [
    "# y_train_ns = np.log(y_train_ns+1)\n",
    "# y_test_ns = np.log(y_test_ns+1)"
   ]
  },
  {
   "cell_type": "code",
   "execution_count": 14,
   "metadata": {
    "nbpresent": {
     "id": "aad8d85f-0233-4a12-a061-e9b271b97add"
    }
   },
   "outputs": [
    {
     "name": "stdout",
     "output_type": "stream",
     "text": [
      "22.487537620622177 22.337129153819806\n"
     ]
    }
   ],
   "source": [
    "print(X_train_ns.mean_7.mean(), X_test_ns.mean_7.mean())"
   ]
  },
  {
   "cell_type": "code",
   "execution_count": 15,
   "metadata": {
    "nbpresent": {
     "id": "83409c34-6ca9-489a-adf9-15ead5b44f9b"
    }
   },
   "outputs": [],
   "source": [
    "X_scaler = MinMaxScaler() # For normalizing dataset\n",
    "y_scaler = MinMaxScaler() # For normalizing dataset\n",
    "# We want to predict Close value of stock \n",
    "X_train = pd.DataFrame(X_scaler.fit_transform(X_train_ns), columns=X_train_ns.columns)\n",
    "y_train = pd.DataFrame(y_scaler.fit_transform(y_train_ns), columns=y_train_ns.columns)\n",
    "# y_train = y_train_ns\n",
    "\n",
    "X_test = pd.DataFrame(X_scaler.transform(X_test_ns), columns=X_test_ns.columns)\n",
    "y_test = pd.DataFrame(y_scaler.transform(y_test_ns), columns=y_test_ns.columns)\n",
    "# y_test = y_test_ns\n",
    "\n",
    "# pd.DataFrame(min_max_scaler.inverse_transform(y_test), columns=y_test.columns)"
   ]
  },
  {
   "cell_type": "code",
   "execution_count": 16,
   "metadata": {},
   "outputs": [],
   "source": [
    "pd_scaler = pd.concat([pd.DataFrame([y_scaler.data_min_,y_scaler.scale_], columns=y_train_ns.columns),\n",
    "            pd.DataFrame([X_scaler.data_min_,X_scaler.scale_], columns=X_train_ns.columns)], axis=1)\n",
    "pd_scaler.to_csv('../data/1320_feature/scaler.csv', index=False)"
   ]
  },
  {
   "cell_type": "code",
   "execution_count": 17,
   "metadata": {},
   "outputs": [
    {
     "data": {
      "text/plain": [
       "0.00020606312609925824"
      ]
     },
     "execution_count": 17,
     "metadata": {},
     "output_type": "execute_result"
    }
   ],
   "source": [
    "pd_scaler = pd.read_csv('../data/1320_feature/scaler.csv')\n",
    "pd_scaler.loc[1, 'label_sf']"
   ]
  },
  {
   "cell_type": "code",
   "execution_count": 18,
   "metadata": {},
   "outputs": [],
   "source": [
    "X_train = X_train[MODEL_FEA]\n",
    "X_test = X_test[MODEL_FEA]"
   ]
  },
  {
   "cell_type": "code",
   "execution_count": 19,
   "metadata": {
    "scrolled": true
   },
   "outputs": [],
   "source": [
    "cat_dim = len(CAT_FEA_HOT)\n",
    "vlt_dim = len(VLT_FEA)\n",
    "sf_dim = len(SF_FEA)\n",
    "oth_dim = len(MORE_FEA)\n",
    "is_dim = len(IS_FEA)\n",
    "input_dim =  vlt_dim + sf_dim + oth_dim + is_dim + cat_dim\n",
    "\n",
    "hidden_dim = [[100, 120], 160, 30]\n",
    "\n",
    "output_dim = 1\n",
    "q = 0.7\n",
    "\n",
    "\n",
    "tf.reset_default_graph()\n",
    "tf.set_random_seed(0)\n",
    "\n",
    "with tf.name_scope('Data'):\n",
    "    x_vlt = tf.placeholder(tf.float32, shape=[None, vlt_dim], name='Input_vlt')\n",
    "    x_sf = tf.placeholder(tf.float32, shape=[None, sf_dim], name='Input_sf')\n",
    "    x_cat = tf.placeholder(tf.float32, shape=[None, cat_dim], name='Input_pf')\n",
    "    x_oth = tf.placeholder(tf.float32, shape=[None, oth_dim], name='Input_more')\n",
    "    x_is = tf.placeholder(tf.float32, shape=[None, is_dim], name='Input_IS')\n",
    "    mean_vlt = tf.expand_dims(x_vlt[:,-17],1, name='mean_vlt')\n",
    "    review_p = tf.expand_dims(x_oth[:,0],1, name='review_p')\n",
    "\n",
    "with tf.name_scope('Label'):\n",
    "    y = tf.placeholder(tf.float32, shape=[None, 1], name='Label')\n",
    "\n",
    "\n",
    "with tf.variable_scope('Layer_1_vlt'):\n",
    "    W1_vlt = tf.Variable(tf.truncated_normal([vlt_dim+cat_dim, hidden_dim[0][0]], stddev=0.001), name='Weight_1_vlt')\n",
    "    b1_vlt = tf.Variable(tf.zeros([hidden_dim[0][0]]), name='Bias_1_vlt')\n",
    "    l1_vlt = tf.add(tf.matmul(tf.concat([x_vlt, x_cat], axis=1), W1_vlt), b1_vlt)\n",
    "    l1_vlt = tf.nn.relu(l1_vlt)\n",
    "\n",
    "with tf.variable_scope('Layer_1_sf'):\n",
    "    W1_sf = tf.Variable(tf.truncated_normal([sf_dim+cat_dim, hidden_dim[0][1]], stddev=0.001), name='Weight_1_sf')\n",
    "    b1_sf = tf.Variable(tf.zeros([hidden_dim[0][1]]), name='Bias_1_sf')\n",
    "    l1_sf = tf.add(tf.matmul(tf.concat([x_sf, x_cat], axis=1), W1_sf), b1_sf)\n",
    "    l1_sf = tf.nn.relu(l1_sf)\n",
    "            \n",
    "# with tf.variable_scope('Layer_1_profile'):\n",
    "#     W1_pf = tf.Variable(tf.truncated_normal([cat_dim, hidden_dim[0][2]], stddev=0.001), name='Weight_1_pf')\n",
    "#     b1_pf = tf.Variable(tf.zeros([hidden_dim[0][2]]), name='Bias_1_pf')\n",
    "#     l1_pf = tf.add(tf.matmul(x_cat, W1_pf), b1_pf)\n",
    "#     l1_pf = tf.nn.relu(l1_pf)\n",
    "\n",
    "with tf.variable_scope('Layer_2'):\n",
    "    W2 = tf.Variable(tf.truncated_normal([hidden_dim[0][0]+hidden_dim[0][1]+oth_dim, hidden_dim[1]], stddev=0.001), name='Weight_2')\n",
    "    b2 = tf.Variable(tf.zeros([hidden_dim[1]]), name='Bias_3')\n",
    "    l2 = tf.add(tf.matmul(tf.concat([l1_vlt, l1_sf, x_oth], axis=1), W2), b2)\n",
    "    l2 = tf.nn.relu(l2)\n",
    "\n",
    "with tf.variable_scope('Layer_3'):\n",
    "    W3 = tf.Variable(tf.truncated_normal([hidden_dim[1], hidden_dim[2]], stddev=0.001), name='Weight_3')\n",
    "    b3 = tf.Variable(tf.zeros([hidden_dim[2]]), name='Bias_3')\n",
    "    l3 = tf.add(tf.matmul(tf.concat([l2], axis=1), W3), b3)\n",
    "    l3 = tf.nn.relu(l3)\n",
    "\n",
    "with tf.variable_scope('Layer_final'):\n",
    "    W4 = tf.Variable(tf.truncated_normal([hidden_dim[2]+is_dim, 1], stddev=0.001), name='Weight_4')\n",
    "    b4 = tf.Variable(tf.zeros([1]), name='Bias_4')\n",
    "    output = tf.add(tf.matmul(tf.concat([l3, x_is], axis=1), W4), b4)\n",
    "    error = y - output\n",
    "#     loss = tf.reduce_mean(tf.square(tf.maximum(q*error, (q-1)*error)) )\n",
    "    c_os = q*error\n",
    "    c_hd = (q-1)*error\n",
    "    loss = tf.reduce_mean(tf.maximum(c_os, c_hd) )\n",
    "#     c_os = tf.maximum(tf.zeros([1], tf.float32), q*error)\n",
    "#     c_hd = tf.multiply((1-q)*output, review_p + mean_vlt )*0.5\n",
    "#     loss = tf.reduce_mean(c_os+ c_hd )    \n",
    "\n",
    "with tf.name_scope('Optimizer'):\n",
    "    train_step = tf.train.AdamOptimizer(learning_rate=0.0001).minimize(loss)\n"
   ]
  },
  {
   "cell_type": "code",
   "execution_count": 20,
   "metadata": {
    "scrolled": true
   },
   "outputs": [
    {
     "name": "stdout",
     "output_type": "stream",
     "text": [
      "0 0.027599728 0.026070634\n",
      "1 0.011234617192051335 0.006029941\n",
      "2 0.006658378189569457 0.005710851\n",
      "3 0.006423426984163088 0.005581238\n",
      "4 0.00621881229282774 0.005510953\n",
      "5 0.005996013627046321 0.0054539223\n",
      "6 0.005795046934334373 0.005427299\n",
      "7 0.005640765138857258 0.0053581055\n",
      "8 0.005532754871718464 0.0053057713\n",
      "9 0.005427532460076692 0.0052606165\n",
      "10 0.005364845430889744 0.005229111\n",
      "11 0.005317082157927311 0.005199994\n",
      "12 0.005263299789797932 0.0051993714\n",
      "13 0.005232422561766073 0.0051627145\n",
      "14 0.005185186534741034 0.005150999\n",
      "15 0.005149556059110673 0.005125334\n",
      "16 0.005115560067126645 0.0051047658\n",
      "17 0.005066368771348934 0.0050701452\n",
      "18 0.005034712754788987 0.005030021\n",
      "19 0.00498729231130664 0.0050134766\n",
      "20 0.004954088571084953 0.004957564\n",
      "21 0.004916843387665464 0.004939968\n",
      "22 0.004882212554931246 0.0049134647\n",
      "23 0.004845778619603069 0.004900526\n",
      "24 0.004811936565308303 0.0048717298\n",
      "25 0.004790137532715764 0.0048250854\n",
      "26 0.004755019455167593 0.0048300647\n",
      "27 0.004731925145616184 0.0048014363\n",
      "28 0.004720058546692471 0.0047791246\n",
      "29 0.0046805175782542105 0.00475269\n",
      "30 0.004650410452063788 0.004738051\n",
      "31 0.004622936102439033 0.004713034\n",
      "32 0.004605140126432948 0.004691331\n",
      "33 0.004574496096937557 0.0046805637\n",
      "34 0.004534395289056319 0.0046815155\n",
      "35 0.004537576438118271 0.0046599284\n",
      "36 0.004526902348084748 0.004659675\n",
      "37 0.00449365914124927 0.004647226\n",
      "38 0.0044657999516306435 0.0046657054\n",
      "39 0.004458795294507393 0.004687022\n",
      "40 0.00442928673286408 0.004685915\n"
     ]
    }
   ],
   "source": [
    "epochs = 40\n",
    "batch_size = 64\n",
    "init = tf.global_variables_initializer()\n",
    "\n",
    "sess = tf.Session()\n",
    "sess.run(init)\n",
    "writer = tf.summary.FileWriter(\"output\", sess.graph)\n",
    "writer.close()\n",
    "\n",
    "\n",
    "train_err = sess.run(loss, feed_dict={x_vlt: X_train[VLT_FEA].values, \n",
    "                                     x_sf: X_train[SF_FEA].values, \n",
    "                                     x_oth: X_train[MORE_FEA].values, \n",
    "                                     x_cat: X_train[CAT_FEA_HOT].values, \n",
    "                                     x_is: X_train[IS_FEA].values, \n",
    "                                     y: y_train.values})\n",
    "test_err = sess.run(loss, feed_dict={x_vlt: X_test[VLT_FEA].values, \n",
    "                                     x_sf: X_test[SF_FEA].values, \n",
    "                                     x_oth: X_test[MORE_FEA].values, \n",
    "                                     x_cat: X_test[CAT_FEA_HOT].values, \n",
    "                                     x_is: X_test[IS_FEA].values, \n",
    "                                     y: y_test.values})\n",
    "print(0, train_err, test_err)\n",
    "for epoch in range(epochs):\n",
    "    # Split data to batches\n",
    "    train_err = 0\n",
    "    for idx in range(0, X_train.shape[0], batch_size):\n",
    "        bs = min(idx + batch_size, n_train) - idx\n",
    "        batch_data = X_train.iloc[idx:bs+idx, :]\n",
    "        batch_data_ns = X_train_ns.iloc[idx:bs+idx, :]\n",
    "        batch_labels = y_train.iloc[idx:bs+idx, :]\n",
    "        feed_dict = {x_vlt: batch_data[VLT_FEA].values, \n",
    "                     x_sf: batch_data[SF_FEA].values, \n",
    "                     x_oth: batch_data[MORE_FEA].values,\n",
    "                     x_cat: batch_data[CAT_FEA_HOT].values,\n",
    "                     x_is: batch_data[IS_FEA].values,\n",
    "                     y: batch_labels}\n",
    "        _, c_loss = sess.run([train_step, loss], feed_dict)\n",
    "        train_err += c_loss*bs\n",
    "    test_err = sess.run(loss, feed_dict={x_vlt: X_test[VLT_FEA].values, \n",
    "                                         x_sf: X_test[SF_FEA].values, \n",
    "                                         x_oth: X_test[MORE_FEA].values, \n",
    "                                         x_cat: X_test[CAT_FEA_HOT].values, \n",
    "                                         x_is: X_test[IS_FEA].values, \n",
    "                                         y: y_test.values})\n",
    "    print(epoch+1, train_err/n_train, test_err)"
   ]
  },
  {
   "cell_type": "code",
   "execution_count": 119,
   "metadata": {
    "nbpresent": {
     "id": "f4eeb342-e463-48af-92f5-ebc6f36d01b1"
    },
    "scrolled": true
   },
   "outputs": [],
   "source": [
    "pred = sess.run(output, feed_dict={x_vlt: X_test[VLT_FEA].values, \n",
    "                                  x_sf: X_test[SF_FEA].values, \n",
    "                                  x_oth: X_test[MORE_FEA].values, \n",
    "                                  x_cat: X_test[CAT_FEA_HOT].values, \n",
    "                                  x_is: X_test[IS_FEA].values, \n",
    "                                  })\n",
    "\n",
    "pred = pd.DataFrame(y_scaler.inverse_transform(pred), columns=['E2E_NN_pred']).fillna(0)\n",
    "# pred = pd.DataFrame(np.exp(pred)-1, columns=['prediction']).fillna(0)"
   ]
  },
  {
   "cell_type": "code",
   "execution_count": 111,
   "metadata": {},
   "outputs": [],
   "source": [
    "pred_path = '../logs/torch/pred_v5.csv'\n",
    "pred_v5 = pd.read_csv(pred_path)\n",
    "pred_path = '../logs/torch/pred_v6.csv'\n",
    "pred_v6 = pd.read_csv(pred_path)\n",
    "sf_rnn = pickle.load(open('../logs/torch/pred_E2E_SF_RNN.pkl', 'rb'))"
   ]
  },
  {
   "cell_type": "code",
   "execution_count": 112,
   "metadata": {
    "nbpresent": {
     "id": "706bda58-8a7e-4d3f-b36b-e01917d85d98"
    },
    "scrolled": true
   },
   "outputs": [
    {
     "data": {
      "image/png": "[encoded data removed]",
      "text/plain": [
       "<Figure size 432x288 with 1 Axes>"
      ]
     },
     "metadata": {},
     "output_type": "display_data"
    }
   ],
   "source": [
    "sns.distplot(pred_v5['E2E_MLP_pred'].clip(0,1000));\n",
    "sns.distplot(y_test_ns.clip(0,1000));"
   ]
  },
  {
   "cell_type": "code",
   "execution_count": 114,
   "metadata": {},
   "outputs": [
    {
     "data": {
      "image/png": "[encoded data removed]",
      "text/plain": [
       "<Figure size 432x288 with 1 Axes>"
      ]
     },
     "metadata": {},
     "output_type": "display_data"
    }
   ],
   "source": [
    "sns.distplot(pred_v6['E2E_RNN_pred'].clip(0,1000));\n",
    "sns.distplot(y_test_ns.clip(0,1000));"
   ]
  },
  {
   "cell_type": "code",
   "execution_count": 24,
   "metadata": {},
   "outputs": [],
   "source": [
    "X_train_gbm_ns = df_train[SCALE_FEA].reset_index(drop=True)\n",
    "X_test_gbm_ns = df_test[SCALE_FEA].reset_index(drop=True)\n",
    "y_train_gbm_ns = (df_train[['target_decision']]).clip(0)\n",
    "y_test_gbm_ns = (df_test[['target_decision']]).clip(0)\n",
    "\n",
    "X_scaler_gbm = MinMaxScaler() \n",
    "y_scaler_gbm = MinMaxScaler() \n",
    "X_train_gbm = pd.DataFrame(X_scaler_gbm.fit_transform(X_train_gbm_ns), columns=X_train_gbm_ns.columns)\n",
    "y_train_gbm = pd.DataFrame(y_scaler_gbm.fit_transform(y_train_gbm_ns), columns=y_train_gbm_ns.columns)\n",
    "X_test_gbm = pd.DataFrame(X_scaler_gbm.transform(X_test_gbm_ns), columns=X_test_gbm_ns.columns)\n",
    "y_test_gbm = pd.DataFrame(y_scaler_gbm.transform(y_test_gbm_ns), columns=y_test_gbm_ns.columns)\n",
    "X_train_gbm = X_train_gbm[MODEL_FEA]\n",
    "X_test_gbm = X_test_gbm[MODEL_FEA]"
   ]
  },
  {
   "cell_type": "code",
   "execution_count": 25,
   "metadata": {
    "nbpresent": {
     "id": "14e7f7ff-7b40-4434-aecf-f1cf820f0814"
    },
    "scrolled": true
   },
   "outputs": [
    {
     "data": {
      "text/plain": [
       "LGBMRegressor(alpha=0.8, boosting_type='gbdt', class_weight=None,\n",
       "       colsample_bytree=1.0, learning_rate=0.05, max_depth=-10,\n",
       "       min_child_samples=20, min_child_weight=0.001, min_split_gain=0.0,\n",
       "       n_estimators=100, n_jobs=-1, num_leaves=31, objective='quantile',\n",
       "       random_state=None, reg_alpha=0.0, reg_lambda=0.0, reg_sqrt=True,\n",
       "       seed=0, silent=1, subsample=0.7, subsample_for_bin=200000,\n",
       "       subsample_freq=0)"
      ]
     },
     "execution_count": 25,
     "metadata": {},
     "output_type": "execute_result"
    }
   ],
   "source": [
    "gbm = lgb.LGBMRegressor(alpha=0.8, objective='quantile', max_depth = -10, num_leaves=31, learning_rate=0.05, \n",
    "                        n_estimators=100, \n",
    "                        subsample=0.7,\n",
    "                        reg_sqrt = True,\n",
    "                        silent=1,\n",
    "                        seed=0)\n",
    "\n",
    "gbm.fit(X_train_gbm, y_train_gbm['target_decision']) "
   ]
  },
  {
   "cell_type": "code",
   "execution_count": 26,
   "metadata": {
    "nbpresent": {
     "id": "be20090e-1a6d-40f0-a30b-01e1f854975e"
    }
   },
   "outputs": [],
   "source": [
    "gbm_pred=gbm.predict(X_test_gbm) \n",
    "\n",
    "gbm_pred = pd.DataFrame(y_scaler_gbm.inverse_transform(gbm_pred.reshape(-1, 1)), columns=['E2E_GBM_pred']).fillna(0).clip(0)\n",
    "gbm_pred.E2E_GBM_pred = gbm_pred.E2E_GBM_pred+X_test_gbm_ns.initial_stock"
   ]
  },
  {
   "cell_type": "code",
   "execution_count": 27,
   "metadata": {},
   "outputs": [
    {
     "data": {
      "image/png": "[encoded data removed]",
      "text/plain": [
       "<Figure size 432x288 with 1 Axes>"
      ]
     },
     "metadata": {},
     "output_type": "display_data"
    }
   ],
   "source": [
    "sns.distplot(gbm_pred['E2E_GBM_pred'].clip(0,1000));\n",
    "sns.distplot(y_test_ns.clip(0,1000));"
   ]
  },
  {
   "cell_type": "code",
   "execution_count": null,
   "metadata": {},
   "outputs": [],
   "source": []
  },
  {
   "cell_type": "code",
   "execution_count": null,
   "metadata": {
    "nbpresent": {
     "id": "4a1fe4ef-4032-472a-8249-6573357a36e6"
    }
   },
   "outputs": [],
   "source": []
  },
  {
   "cell_type": "code",
   "execution_count": 28,
   "metadata": {
    "nbpresent": {
     "id": "13da0871-e7a1-49c3-bc80-e1a69d59fb61"
    }
   },
   "outputs": [],
   "source": [
    "h = 1\n",
    "b = 9"
   ]
  },
  {
   "cell_type": "code",
   "execution_count": 29,
   "metadata": {
    "nbpresent": {
     "id": "796df926-836c-48eb-ad71-1a30f31748a3"
    },
    "scrolled": true
   },
   "outputs": [],
   "source": [
    "o4 = df_test.copy()\n",
    "o4.reset_index(drop=True, inplace=True)"
   ]
  },
  {
   "cell_type": "code",
   "execution_count": 30,
   "metadata": {
    "nbpresent": {
     "id": "3aac5064-50a3-4dc5-b42a-60ae8cfbc92f"
    },
    "scrolled": true
   },
   "outputs": [],
   "source": [
    "o4['demand_RV_list'] = o4.apply(lambda x: df_sl.loc[x['item_sku_id'], \\\n",
    "                                            x['create_tm'].date():x['next_complete_dt'].date()].values\\\n",
    "                            if x['item_sku_id'] in df_sl.index else [], axis=1)\n",
    "\n",
    "o4['demand_RV_list_acm'] = o4['demand_RV_list'].apply(lambda x: np.cumsum(x))"
   ]
  },
  {
   "cell_type": "code",
   "execution_count": 115,
   "metadata": {
    "nbpresent": {
     "id": "159ddfd9-94ca-41c8-a3bf-0e4807c7c3b3"
    }
   },
   "outputs": [],
   "source": [
    "list_c = ['SKU_DC', 'create_tm', 'OPT', \n",
    "#           'E2E_NN',\n",
    "          'E2E_MLP', 'E2E_RNN',\n",
    "          'E2E_GBM',  \n",
    "          'Normal', 'Gamma', 'Hist', \n",
    "          'Ave_sales','Std_sales', \n",
    "#           'Ave_review', 'Std_review'\n",
    "         ]\n",
    "numberOfRows = len(o4)\n",
    "\n",
    "df_cost = pd.DataFrame(index=np.arange(0, numberOfRows), columns=list_c)\n",
    "df_holding = pd.DataFrame(index=np.arange(0, numberOfRows), columns=list_c)\n",
    "df_back = pd.DataFrame(index=np.arange(0, numberOfRows), columns=list_c)\n",
    "df_stockout = pd.DataFrame(index=np.arange(0, numberOfRows), columns=list_c)\n",
    "df_turnover = pd.DataFrame(index=np.arange(0, numberOfRows), columns=list_c)"
   ]
  },
  {
   "cell_type": "code",
   "execution_count": 116,
   "metadata": {
    "nbpresent": {
     "id": "1a85c95c-b02f-4517-b8d0-9b3930890d71"
    }
   },
   "outputs": [],
   "source": [
    "df_cost['SKU_DC']=df_holding['SKU_DC']=df_back['SKU_DC']=df_stockout['SKU_DC']=df_turnover['SKU_DC']=o4['item_sku_id'].values\n",
    "df_cost['create_tm']=df_holding['create_tm']=df_back['create_tm']=df_stockout['create_tm']=df_turnover['create_tm']=o4['create_tm'].values\n",
    "df_cost['Ave_sales']=df_holding['Ave_sales']=df_back['Ave_sales']=df_stockout['Ave_sales']=df_turnover['Ave_sales']=o4['mean_112'].values\n",
    "df_cost['Std_sales']=df_holding['Std_sales']=df_back['Std_sales']=df_stockout['Std_sales']=df_turnover['Std_sales']=o4['std_140'].values"
   ]
  },
  {
   "cell_type": "code",
   "execution_count": 117,
   "metadata": {
    "nbpresent": {
     "id": "168366be-7fe7-4569-9187-a1f8cd674714"
    },
    "scrolled": true
   },
   "outputs": [],
   "source": [
    "def get_inv(x, name):\n",
    "    inv1, inv2 = [], []\n",
    " \n",
    "    for t in range(len(x['demand_RV_list_acm'])):\n",
    "        if t < np.ceil(x['vlt_actual']):\n",
    "            inv1.append(x['initial_stock']-x['demand_RV_list_acm'][t])\n",
    "            continue\n",
    "        else:\n",
    "#             if inv[-1] <= 0:\n",
    "#                 inv.append(-x['demand_RV_list'][t])\n",
    "#             else:\n",
    "#                 inv.append(inv[-1] - x['demand_RV_list'][t])\n",
    "            inv_ = x[name]+x['initial_stock']-x['demand_RV_list_acm'][t]\n",
    "            inv1.append(inv_)\n",
    "            inv2.append(inv_)\n",
    "    return [inv1, inv2]\n",
    "\n",
    "Z90 = 1.96\n",
    "o4['OPT_inv_f'], o4['OPT_inv'] = zip(*o4.apply(lambda x: get_inv(x, 'target_decision'), axis=1))\n",
    "\n",
    "o4['EQ_pred'] = pd.read_csv('EQ_replen_with_IS.csv')\n",
    "o4['EQ_replen'] = (o4['EQ_pred'] - o4['initial_stock']).clip(0)\n",
    "o4['EQ_inv_f'], o4['EQ_inv'] = zip(*o4.apply(get_inv, name='EQ_replen', axis=1))\n",
    "\n",
    "o4['Normal_pred'] = o4.apply(lambda x: int(x['mean_112']*1.1*(x['review_period']+x['vendor_vlt_mean'])\n",
    "                                       +Z90*np.sqrt((x['review_period']+x['vendor_vlt_mean'])*x['std_140']**2\n",
    "                                                    + x['std_140']**2 * x['vlt_std'])), axis=1)\n",
    "o4['Normal_replen'] = (o4['Normal_pred'] - o4['initial_stock']).clip(0)\n",
    "o4['Normal_inv_f'], o4['Normal_inv'] = zip(*o4.apply(get_inv, name='Normal_replen',  axis=1))\n",
    "\n",
    "def gamma_base(x):\n",
    "    mean = x['mean_112']*1.2\n",
    "    var = x['std_140']**2\n",
    "    theta = var/(mean+1e-4)\n",
    "    k = mean/(theta+1e-4)\n",
    "    k_sum = int(x['review_period']+x['vendor_vlt_mean'])*k\n",
    "    gamma_stock = gamma.ppf(0.9, a=k_sum, scale = theta)\n",
    "    if(np.isnan(gamma_stock)):\n",
    "        return 0\n",
    "    else:\n",
    "        return int(gamma_stock)\n",
    "\n",
    "o4['Gamma_pred'] = o4.apply(gamma_base, axis=1)\n",
    "o4['Gamma_replen'] = (o4['Gamma_pred'] - o4['initial_stock']).clip(0)\n",
    "o4['Gamma_inv_f'],o4['Gamma_inv'] = zip(*o4.apply(get_inv, name='Gamma_replen', axis=1))\n",
    "\n",
    "o4['Hist_inv_f'], o4['Hist_inv'] = zip(*o4.apply(get_inv, name='actual_pur_qtty', axis=1))"
   ]
  },
  {
   "cell_type": "code",
   "execution_count": 34,
   "metadata": {
    "nbpresent": {
     "id": "e60d1357-599b-4bcb-8a48-44c08cde2d7e"
    }
   },
   "outputs": [],
   "source": [
    "# o4['demand_EQ_list'] = o4.apply(lambda x: df_sl.iloc[:,360:].loc[x['item_sku_id'], \\\n",
    "#                                             :x['create_tm'].date()].values\\\n",
    "#                             if x['item_sku_id'] in df_sl.index else [], axis=1)\n",
    "# o4['EQ_replen_with_IS'] = o4.apply(lambda x: np.percentile(\n",
    "#                             [np.sum(x['demand_EQ_list'][i:i+int(x['review_period']+x['vendor_vlt_mean'])])\n",
    "#                                      for i in range(int(len(x['demand_EQ_list'])-x['review_period']-x['vendor_vlt_mean']))\n",
    "#                             ], 90), axis=1)\n",
    "# o4['EQ_replen_with_IS'] = o4['EQ_replen_with_IS'] - o4['initial_stock_overall']\n",
    "# o4['EQ_replen_with_IS'].to_csv('EQ_replen_with_IS.csv', index=False)\n",
    "# o4['EQ_replen_with_IS'] = pd.read_csv('EQ_replen_with_IS.csv')\n"
   ]
  },
  {
   "cell_type": "code",
   "execution_count": 120,
   "metadata": {
    "nbpresent": {
     "id": "adab284f-93eb-4609-8a11-2fc59f9107e4"
    }
   },
   "outputs": [],
   "source": [
    "o4['E2E_GBM_replen'] = (gbm_pred['E2E_GBM_pred'] - o4['initial_stock']).clip(0)\n",
    "o4['E2E_GBM_inv_f'], o4['E2E_GBM_inv'] = zip(*o4.apply(get_inv, name='E2E_GBM_replen',  axis=1))\n",
    "\n",
    "o4['E2E_NN_replen'] = (pred['E2E_NN_pred'] - o4['initial_stock']).clip(0)\n",
    "o4['E2E_NN_inv_f'], o4['E2E_NN_inv'] = zip(*o4.apply(get_inv, name='E2E_NN_replen', axis=1))\n",
    "\n",
    "o4['E2E_MLP_replen'] = (pred_v5['E2E_MLP_pred'] - o4['initial_stock']).clip(0)\n",
    "o4['E2E_MLP_inv_f'], o4['E2E_MLP_inv'] = zip(*o4.apply(get_inv, name='E2E_MLP_replen', axis=1))\n",
    "\n",
    "o4['E2E_RNN_replen'] = (pred_v6['E2E_RNN_pred'] - o4['initial_stock']).clip(0)\n",
    "o4['E2E_RNN_inv_f'], o4['E2E_RNN_inv'] = zip(*o4.apply(get_inv, name='E2E_RNN_replen', axis=1))"
   ]
  },
  {
   "cell_type": "code",
   "execution_count": 121,
   "metadata": {
    "nbpresent": {
     "id": "fa6686c0-47fe-45d2-9764-ee090eb83b49"
    }
   },
   "outputs": [],
   "source": [
    "str_list = ['OPT', \n",
    "#             'E2E_NN', \n",
    "            'E2E_MLP', 'E2E_RNN', \n",
    "            'E2E_GBM', \n",
    "            'Normal', 'Gamma', 'Hist']\n",
    "for str1 in str_list:\n",
    "    str2 = str1 + '_inv'\n",
    "    df_holding[str1] = o4[str2].apply(lambda x: h * sum([inv for inv in x if inv>0]) )\n",
    "    df_back[str1] = o4[str2].apply(lambda x: b * (0 if  x==[] else max(0, -x[-1])))\n",
    "    df_stockout[str1] = o4[str2].apply(lambda x: len([inv for inv in x if inv<0])/len(x) if len(x)>0 else 0 )\n",
    "    df_turnover[str1] = o4.apply(lambda x: np.mean([max(i,0) for i in x[str2]]) / x['mean_14']\n",
    "                                  if np.mean(x['mean_14']) >0 else np.mean(x[str2]), axis=1).fillna(7)\n",
    "    df_cost[str1] = df_holding[str1] + df_back[str1]"
   ]
  },
  {
   "cell_type": "code",
   "execution_count": 37,
   "metadata": {},
   "outputs": [],
   "source": [
    "# h,b = 1,9\n",
    "# str_list = ['OPT', 'E2E_NN', 'E2E_GBM', 'Normal', 'Gamma', 'Hist']\n",
    "# o4['OPT_replen'] = o4['target_decision']\n",
    "# o4['Hist_replen'] = o4['actual_pur_qtty']\n",
    "# for str1 in str_list:\n",
    "#     str_r = str1 + '_replen'\n",
    "#     str2 = str1 + '_inv'\n",
    "#     df_holding[str1] = (o4[str_r] - o4['target_decision']).clip(0) * h\n",
    "#     df_back[str1] = (o4['target_decision'] - o4[str_r]).clip(0) * b\n",
    "#     df_stockout[str1] = o4[str2].apply(lambda x: len([inv for inv in x if inv<0])/len(x) if len(x)>0 else 0 )\n",
    "#     df_turnover[str1] = o4.apply(lambda x: np.mean([max(i,0) for i in x[str2]]) / x['mean_112']\n",
    "#                                   if np.mean(x['mean_112']) >0 else np.mean(x[str2]), axis=1).fillna(7)\n",
    "#     df_cost[str1] = df_holding[str1] + df_back[str1]"
   ]
  },
  {
   "cell_type": "code",
   "execution_count": 122,
   "metadata": {
    "nbpresent": {
     "id": "e9b08461-6fd3-4aaf-b956-560b0c6fb607"
    },
    "scrolled": true
   },
   "outputs": [
    {
     "data": {
      "text/html": [
       "<div>\n",
       "<style scoped>\n",
       "    .dataframe tbody tr th:only-of-type {\n",
       "        vertical-align: middle;\n",
       "    }\n",
       "\n",
       "    .dataframe tbody tr th {\n",
       "        vertical-align: top;\n",
       "    }\n",
       "\n",
       "    .dataframe thead th {\n",
       "        text-align: right;\n",
       "    }\n",
       "</style>\n",
       "<table border=\"1\" class=\"dataframe\">\n",
       "  <thead>\n",
       "    <tr style=\"text-align: right;\">\n",
       "      <th></th>\n",
       "      <th>E2E_MLP</th>\n",
       "      <th>Hist</th>\n",
       "      <th>E2E_RNN</th>\n",
       "      <th>E2E_GBM</th>\n",
       "      <th>Gamma</th>\n",
       "      <th>Normal</th>\n",
       "    </tr>\n",
       "  </thead>\n",
       "  <tbody>\n",
       "    <tr>\n",
       "      <th>Best</th>\n",
       "      <td>0.472156</td>\n",
       "      <td>0.210765</td>\n",
       "      <td>0.139622</td>\n",
       "      <td>0.082068</td>\n",
       "      <td>0.056222</td>\n",
       "      <td>0.039169</td>\n",
       "    </tr>\n",
       "  </tbody>\n",
       "</table>\n",
       "</div>"
      ],
      "text/plain": [
       "       E2E_MLP      Hist   E2E_RNN   E2E_GBM     Gamma    Normal\n",
       "Best  0.472156  0.210765  0.139622  0.082068  0.056222  0.039169"
      ]
     },
     "execution_count": 122,
     "metadata": {},
     "output_type": "execute_result"
    }
   ],
   "source": [
    "pd.DataFrame({'Best': df_cost.iloc[:,3:9].idxmin(axis=1).value_counts()/len(df_cost)}).T"
   ]
  },
  {
   "cell_type": "code",
   "execution_count": 123,
   "metadata": {
    "nbpresent": {
     "id": "ccf73c3c-dd85-425c-8e5e-8d97141dd64a"
    },
    "scrolled": true
   },
   "outputs": [
    {
     "data": {
      "text/html": [
       "<div>\n",
       "<style scoped>\n",
       "    .dataframe tbody tr th:only-of-type {\n",
       "        vertical-align: middle;\n",
       "    }\n",
       "\n",
       "    .dataframe tbody tr th {\n",
       "        vertical-align: top;\n",
       "    }\n",
       "\n",
       "    .dataframe thead th {\n",
       "        text-align: right;\n",
       "    }\n",
       "</style>\n",
       "<table border=\"1\" class=\"dataframe\">\n",
       "  <thead>\n",
       "    <tr style=\"text-align: right;\">\n",
       "      <th></th>\n",
       "      <th>OPT</th>\n",
       "      <th>E2E_MLP</th>\n",
       "      <th>E2E_RNN</th>\n",
       "      <th>E2E_GBM</th>\n",
       "      <th>Normal</th>\n",
       "      <th>Gamma</th>\n",
       "      <th>Hist</th>\n",
       "    </tr>\n",
       "  </thead>\n",
       "  <tbody>\n",
       "    <tr>\n",
       "      <th>Total Cost</th>\n",
       "      <td>733.468159</td>\n",
       "      <td>998.094542</td>\n",
       "      <td>950.955252</td>\n",
       "      <td>1047.075736</td>\n",
       "      <td>1693.687184</td>\n",
       "      <td>1555.624567</td>\n",
       "      <td>1236.368505</td>\n",
       "    </tr>\n",
       "    <tr>\n",
       "      <th>Holding Cost</th>\n",
       "      <td>659.209166</td>\n",
       "      <td>883.488351</td>\n",
       "      <td>817.522132</td>\n",
       "      <td>933.395477</td>\n",
       "      <td>1661.190781</td>\n",
       "      <td>1510.847589</td>\n",
       "      <td>1022.428457</td>\n",
       "    </tr>\n",
       "    <tr>\n",
       "      <th>Stockout Cost</th>\n",
       "      <td>74.258993</td>\n",
       "      <td>114.606191</td>\n",
       "      <td>133.433120</td>\n",
       "      <td>113.680259</td>\n",
       "      <td>32.496403</td>\n",
       "      <td>44.776978</td>\n",
       "      <td>213.940048</td>\n",
       "    </tr>\n",
       "    <tr>\n",
       "      <th>Stockout rate</th>\n",
       "      <td>0.074379</td>\n",
       "      <td>0.130017</td>\n",
       "      <td>0.095939</td>\n",
       "      <td>0.082177</td>\n",
       "      <td>0.039539</td>\n",
       "      <td>0.059441</td>\n",
       "      <td>0.188516</td>\n",
       "    </tr>\n",
       "    <tr>\n",
       "      <th>Turnover rate</th>\n",
       "      <td>4.688122</td>\n",
       "      <td>6.766950</td>\n",
       "      <td>8.321740</td>\n",
       "      <td>8.707426</td>\n",
       "      <td>14.515929</td>\n",
       "      <td>12.502682</td>\n",
       "      <td>7.612045</td>\n",
       "    </tr>\n",
       "  </tbody>\n",
       "</table>\n",
       "</div>"
      ],
      "text/plain": [
       "                      OPT     E2E_MLP     E2E_RNN      E2E_GBM       Normal  \\\n",
       "Total Cost     733.468159  998.094542  950.955252  1047.075736  1693.687184   \n",
       "Holding Cost   659.209166  883.488351  817.522132   933.395477  1661.190781   \n",
       "Stockout Cost   74.258993  114.606191  133.433120   113.680259    32.496403   \n",
       "Stockout rate    0.074379    0.130017    0.095939     0.082177     0.039539   \n",
       "Turnover rate    4.688122    6.766950    8.321740     8.707426    14.515929   \n",
       "\n",
       "                     Gamma         Hist  \n",
       "Total Cost     1555.624567  1236.368505  \n",
       "Holding Cost   1510.847589  1022.428457  \n",
       "Stockout Cost    44.776978   213.940048  \n",
       "Stockout rate     0.059441     0.188516  \n",
       "Turnover rate    12.502682     7.612045  "
      ]
     },
     "execution_count": 123,
     "metadata": {},
     "output_type": "execute_result"
    }
   ],
   "source": [
    "df_com = pd.DataFrame({'Total Cost' : df_cost[str_list].mean(),\n",
    "             'Holding Cost': df_holding[str_list].mean(),\n",
    "             'Stockout Cost': df_back[str_list].mean(),\n",
    "             'Stockout rate': df_stockout[str_list].mean(),\n",
    "             'Turnover rate': df_turnover[str_list].mean(),\n",
    "             }).T\n",
    "df_com"
   ]
  },
  {
   "cell_type": "code",
   "execution_count": null,
   "metadata": {},
   "outputs": [],
   "source": []
  },
  {
   "cell_type": "code",
   "execution_count": null,
   "metadata": {},
   "outputs": [],
   "source": []
  },
  {
   "cell_type": "code",
   "execution_count": null,
   "metadata": {},
   "outputs": [],
   "source": []
  },
  {
   "cell_type": "code",
   "execution_count": 290,
   "metadata": {},
   "outputs": [],
   "source": [
    "list_c2 = ['SKU_DC',\n",
    "#           'E2E_NN',\n",
    "          'E2E_MLP', 'E2E_RNN',\n",
    "          'Bm1','Bm2',  \n",
    "          'Ave_sales','Std_sales'\n",
    "#           'Ave_review', 'Std_review'\n",
    "         ]\n",
    "numberOfRows = len(o4)\n",
    "\n",
    "df2_cost = pd.DataFrame(index=np.arange(0, numberOfRows), columns=list_c2)\n",
    "df2_holding = pd.DataFrame(index=np.arange(0, numberOfRows), columns=list_c2)\n",
    "df2_back = pd.DataFrame(index=np.arange(0, numberOfRows), columns=list_c2)\n",
    "df2_stockout = pd.DataFrame(index=np.arange(0, numberOfRows), columns=list_c2)\n",
    "df2_turnover = pd.DataFrame(index=np.arange(0, numberOfRows), columns=list_c2)"
   ]
  },
  {
   "cell_type": "code",
   "execution_count": 291,
   "metadata": {},
   "outputs": [],
   "source": [
    "df2_cost['SKU_DC']=df2_holding['SKU_DC']=df2_back['SKU_DC']=df2_stockout['SKU_DC']=df2_turnover['SKU_DC']=o4['item_sku_id'].values\n",
    "df2_cost['Ave_sales']=df2_holding['Ave_sales']=df2_back['Ave_sales']=df2_stockout['Ave_sales']=df2_turnover['Ave_sales']=o4['mean_112'].values\n",
    "df2_cost['Std_sales']=df2_holding['Std_sales']=df2_back['Std_sales']=df2_stockout['Std_sales']=df2_turnover['Std_sales']=o4['std_140'].values"
   ]
  },
  {
   "cell_type": "code",
   "execution_count": 343,
   "metadata": {
    "scrolled": true
   },
   "outputs": [],
   "source": [
    "o4['Bm1_pred'] = np.mean(sf_rnn[:,:,5], axis=1)\n",
    "o4['Bm1_pred'] = o4['Bm1_pred'] * (o4['review_period'] + o4['vlt_actual']).astype(int)\n",
    "\n",
    "def get_bm2(x):\n",
    "    rl = x['review_period'] + x['vlt_actual']\n",
    "    if rl <= b:\n",
    "        days = int(rl)\n",
    "    else:\n",
    "        days = int(rl) - rl//(b+h)\n",
    "    return x['Bm2_pred'] * days\n",
    "\n",
    "o4['Bm2_pred'] = np.mean(sf_rnn[:,:,4], axis=1)\n",
    "o4['Bm2_pred'] = o4.apply(get_bm2, axis=1)"
   ]
  },
  {
   "cell_type": "code",
   "execution_count": 344,
   "metadata": {},
   "outputs": [],
   "source": [
    "o4['Bm1_replen'] = (o4['Bm1_pred'] - o4['initial_stock']).clip(0)\n",
    "o4['Bm1_inv_f'], o4['Bm1_inv'] = zip(*o4.apply(get_inv, name='Bm1_replen', axis=1))\n",
    "\n",
    "o4['Bm2_replen'] = (o4['Bm2_pred'] - o4['initial_stock']).clip(0)\n",
    "o4['Bm2_inv_f'], o4['Bm2_inv'] = zip(*o4.apply(get_inv, name='Bm2_replen', axis=1))"
   ]
  },
  {
   "cell_type": "code",
   "execution_count": 345,
   "metadata": {},
   "outputs": [],
   "source": [
    "str_list2 = ['E2E_MLP', 'E2E_RNN', 'Bm1','Bm2']\n",
    "for str1 in str_list2:\n",
    "    str2 = str1 + '_inv'\n",
    "    df2_holding[str1] = o4[str2].apply(lambda x: h * sum([inv for inv in x if inv>0]) )\n",
    "    df2_back[str1] = o4[str2].apply(lambda x: b * (0 if  x==[] else max(0, -x[-1])))\n",
    "    df2_stockout[str1] = o4[str2].apply(lambda x: len([inv for inv in x if inv<0])/len(x) if len(x)>0 else 0 )\n",
    "    df2_turnover[str1] = o4.apply(lambda x: np.mean([max(i,0) for i in x[str2]]) / x['mean_14']\n",
    "                                  if np.mean(x['mean_14']) >0 else np.mean(x[str2]), axis=1).fillna(7)\n",
    "    df2_cost[str1] = df2_holding[str1] + df2_back[str1]"
   ]
  },
  {
   "cell_type": "code",
   "execution_count": 346,
   "metadata": {},
   "outputs": [
    {
     "data": {
      "text/html": [
       "<div>\n",
       "<style scoped>\n",
       "    .dataframe tbody tr th:only-of-type {\n",
       "        vertical-align: middle;\n",
       "    }\n",
       "\n",
       "    .dataframe tbody tr th {\n",
       "        vertical-align: top;\n",
       "    }\n",
       "\n",
       "    .dataframe thead th {\n",
       "        text-align: right;\n",
       "    }\n",
       "</style>\n",
       "<table border=\"1\" class=\"dataframe\">\n",
       "  <thead>\n",
       "    <tr style=\"text-align: right;\">\n",
       "      <th></th>\n",
       "      <th>E2E_MLP</th>\n",
       "      <th>Bm2</th>\n",
       "      <th>E2E_RNN</th>\n",
       "      <th>Bm1</th>\n",
       "    </tr>\n",
       "  </thead>\n",
       "  <tbody>\n",
       "    <tr>\n",
       "      <th>Best</th>\n",
       "      <td>0.47855</td>\n",
       "      <td>0.285905</td>\n",
       "      <td>0.133493</td>\n",
       "      <td>0.102052</td>\n",
       "    </tr>\n",
       "  </tbody>\n",
       "</table>\n",
       "</div>"
      ],
      "text/plain": [
       "      E2E_MLP       Bm2   E2E_RNN       Bm1\n",
       "Best  0.47855  0.285905  0.133493  0.102052"
      ]
     },
     "execution_count": 346,
     "metadata": {},
     "output_type": "execute_result"
    }
   ],
   "source": [
    "pd.DataFrame({'Best': df2_cost.iloc[:,1:5].idxmin(axis=1).value_counts()/len(df2_cost)}).T"
   ]
  },
  {
   "cell_type": "code",
   "execution_count": 361,
   "metadata": {},
   "outputs": [
    {
     "data": {
      "text/html": [
       "<div>\n",
       "<style scoped>\n",
       "    .dataframe tbody tr th:only-of-type {\n",
       "        vertical-align: middle;\n",
       "    }\n",
       "\n",
       "    .dataframe tbody tr th {\n",
       "        vertical-align: top;\n",
       "    }\n",
       "\n",
       "    .dataframe thead th {\n",
       "        text-align: right;\n",
       "    }\n",
       "</style>\n",
       "<table border=\"1\" class=\"dataframe\">\n",
       "  <thead>\n",
       "    <tr style=\"text-align: right;\">\n",
       "      <th></th>\n",
       "      <th>SKU_DC</th>\n",
       "      <th>E2E_MLP</th>\n",
       "      <th>E2E_RNN</th>\n",
       "      <th>Bm1</th>\n",
       "      <th>Bm2</th>\n",
       "      <th>Ave_sales</th>\n",
       "      <th>Std_sales</th>\n",
       "    </tr>\n",
       "  </thead>\n",
       "  <tbody>\n",
       "    <tr>\n",
       "      <th>0</th>\n",
       "      <td>258214#3</td>\n",
       "      <td>0.000000</td>\n",
       "      <td>0.000000</td>\n",
       "      <td>0.000000</td>\n",
       "      <td>0.000000</td>\n",
       "      <td>194.151786</td>\n",
       "      <td>82.417867</td>\n",
       "    </tr>\n",
       "    <tr>\n",
       "      <th>1</th>\n",
       "      <td>258214#3</td>\n",
       "      <td>9288.548000</td>\n",
       "      <td>12178.504000</td>\n",
       "      <td>9112.000000</td>\n",
       "      <td>9429.844635</td>\n",
       "      <td>193.794643</td>\n",
       "      <td>82.400208</td>\n",
       "    </tr>\n",
       "    <tr>\n",
       "      <th>2</th>\n",
       "      <td>258214#3</td>\n",
       "      <td>4687.000000</td>\n",
       "      <td>4687.000000</td>\n",
       "      <td>4687.000000</td>\n",
       "      <td>4687.000000</td>\n",
       "      <td>185.214286</td>\n",
       "      <td>82.470279</td>\n",
       "    </tr>\n",
       "    <tr>\n",
       "      <th>3</th>\n",
       "      <td>258214#3</td>\n",
       "      <td>4437.492500</td>\n",
       "      <td>7334.184900</td>\n",
       "      <td>6000.341125</td>\n",
       "      <td>3841.523163</td>\n",
       "      <td>178.392857</td>\n",
       "      <td>81.425470</td>\n",
       "    </tr>\n",
       "    <tr>\n",
       "      <th>4</th>\n",
       "      <td>258214#4</td>\n",
       "      <td>1294.584300</td>\n",
       "      <td>980.964560</td>\n",
       "      <td>1291.550476</td>\n",
       "      <td>736.085695</td>\n",
       "      <td>27.946429</td>\n",
       "      <td>11.182213</td>\n",
       "    </tr>\n",
       "    <tr>\n",
       "      <th>5</th>\n",
       "      <td>258214#4</td>\n",
       "      <td>0.000000</td>\n",
       "      <td>0.000000</td>\n",
       "      <td>0.000000</td>\n",
       "      <td>0.000000</td>\n",
       "      <td>27.232143</td>\n",
       "      <td>10.938478</td>\n",
       "    </tr>\n",
       "    <tr>\n",
       "      <th>6</th>\n",
       "      <td>258214#4</td>\n",
       "      <td>436.592200</td>\n",
       "      <td>425.965660</td>\n",
       "      <td>489.750145</td>\n",
       "      <td>768.399651</td>\n",
       "      <td>27.107143</td>\n",
       "      <td>10.964886</td>\n",
       "    </tr>\n",
       "    <tr>\n",
       "      <th>7</th>\n",
       "      <td>258214#4</td>\n",
       "      <td>647.214100</td>\n",
       "      <td>833.124500</td>\n",
       "      <td>1267.934448</td>\n",
       "      <td>691.738398</td>\n",
       "      <td>26.678571</td>\n",
       "      <td>10.952000</td>\n",
       "    </tr>\n",
       "    <tr>\n",
       "      <th>8</th>\n",
       "      <td>258214#5</td>\n",
       "      <td>1718.278340</td>\n",
       "      <td>1285.053350</td>\n",
       "      <td>2217.748211</td>\n",
       "      <td>1115.521721</td>\n",
       "      <td>37.535714</td>\n",
       "      <td>14.743527</td>\n",
       "    </tr>\n",
       "    <tr>\n",
       "      <th>9</th>\n",
       "      <td>258214#6</td>\n",
       "      <td>0.000000</td>\n",
       "      <td>0.000000</td>\n",
       "      <td>0.000000</td>\n",
       "      <td>0.000000</td>\n",
       "      <td>145.517857</td>\n",
       "      <td>46.866500</td>\n",
       "    </tr>\n",
       "    <tr>\n",
       "      <th>10</th>\n",
       "      <td>258214#6</td>\n",
       "      <td>6758.606500</td>\n",
       "      <td>8752.056000</td>\n",
       "      <td>6627.264694</td>\n",
       "      <td>3816.032288</td>\n",
       "      <td>145.142857</td>\n",
       "      <td>46.809282</td>\n",
       "    </tr>\n",
       "    <tr>\n",
       "      <th>11</th>\n",
       "      <td>258214#6</td>\n",
       "      <td>9705.000000</td>\n",
       "      <td>9705.000000</td>\n",
       "      <td>9705.000000</td>\n",
       "      <td>9705.000000</td>\n",
       "      <td>138.419643</td>\n",
       "      <td>47.436485</td>\n",
       "    </tr>\n",
       "    <tr>\n",
       "      <th>12</th>\n",
       "      <td>258214#6</td>\n",
       "      <td>6927.000000</td>\n",
       "      <td>6927.000000</td>\n",
       "      <td>6927.000000</td>\n",
       "      <td>6927.000000</td>\n",
       "      <td>135.116071</td>\n",
       "      <td>47.163987</td>\n",
       "    </tr>\n",
       "    <tr>\n",
       "      <th>13</th>\n",
       "      <td>258214#9</td>\n",
       "      <td>1685.056000</td>\n",
       "      <td>1433.592350</td>\n",
       "      <td>1845.106567</td>\n",
       "      <td>1507.390736</td>\n",
       "      <td>47.348214</td>\n",
       "      <td>22.162156</td>\n",
       "    </tr>\n",
       "    <tr>\n",
       "      <th>14</th>\n",
       "      <td>258214#9</td>\n",
       "      <td>952.276500</td>\n",
       "      <td>779.177000</td>\n",
       "      <td>1472.136803</td>\n",
       "      <td>765.630074</td>\n",
       "      <td>45.276786</td>\n",
       "      <td>22.365133</td>\n",
       "    </tr>\n",
       "    <tr>\n",
       "      <th>15</th>\n",
       "      <td>258214#9</td>\n",
       "      <td>1187.810800</td>\n",
       "      <td>918.604000</td>\n",
       "      <td>1320.108643</td>\n",
       "      <td>564.575745</td>\n",
       "      <td>42.178571</td>\n",
       "      <td>22.583084</td>\n",
       "    </tr>\n",
       "    <tr>\n",
       "      <th>16</th>\n",
       "      <td>258214#10</td>\n",
       "      <td>5596.202000</td>\n",
       "      <td>6954.415500</td>\n",
       "      <td>5811.286133</td>\n",
       "      <td>2895.093567</td>\n",
       "      <td>176.000000</td>\n",
       "      <td>95.289168</td>\n",
       "    </tr>\n",
       "    <tr>\n",
       "      <th>17</th>\n",
       "      <td>258214#10</td>\n",
       "      <td>0.000000</td>\n",
       "      <td>0.000000</td>\n",
       "      <td>0.000000</td>\n",
       "      <td>0.000000</td>\n",
       "      <td>170.553571</td>\n",
       "      <td>95.245770</td>\n",
       "    </tr>\n",
       "    <tr>\n",
       "      <th>18</th>\n",
       "      <td>258214#10</td>\n",
       "      <td>247.508500</td>\n",
       "      <td>721.099100</td>\n",
       "      <td>180.700928</td>\n",
       "      <td>1365.682983</td>\n",
       "      <td>169.982143</td>\n",
       "      <td>95.226546</td>\n",
       "    </tr>\n",
       "    <tr>\n",
       "      <th>19</th>\n",
       "      <td>258214#10</td>\n",
       "      <td>4296.504000</td>\n",
       "      <td>6926.620800</td>\n",
       "      <td>3853.840881</td>\n",
       "      <td>5229.092896</td>\n",
       "      <td>169.169643</td>\n",
       "      <td>95.112131</td>\n",
       "    </tr>\n",
       "    <tr>\n",
       "      <th>20</th>\n",
       "      <td>258214#10</td>\n",
       "      <td>4098.008200</td>\n",
       "      <td>5853.754000</td>\n",
       "      <td>4804.516907</td>\n",
       "      <td>2326.309082</td>\n",
       "      <td>163.991071</td>\n",
       "      <td>95.335415</td>\n",
       "    </tr>\n",
       "    <tr>\n",
       "      <th>21</th>\n",
       "      <td>258214#316</td>\n",
       "      <td>1728.381080</td>\n",
       "      <td>2449.796880</td>\n",
       "      <td>4513.089085</td>\n",
       "      <td>2519.725437</td>\n",
       "      <td>19.848214</td>\n",
       "      <td>8.893731</td>\n",
       "    </tr>\n",
       "    <tr>\n",
       "      <th>22</th>\n",
       "      <td>258214#316</td>\n",
       "      <td>258.179500</td>\n",
       "      <td>320.955650</td>\n",
       "      <td>811.381989</td>\n",
       "      <td>390.216255</td>\n",
       "      <td>19.455357</td>\n",
       "      <td>8.844610</td>\n",
       "    </tr>\n",
       "    <tr>\n",
       "      <th>23</th>\n",
       "      <td>258214#772</td>\n",
       "      <td>0.000000</td>\n",
       "      <td>0.000000</td>\n",
       "      <td>0.000000</td>\n",
       "      <td>0.000000</td>\n",
       "      <td>33.410714</td>\n",
       "      <td>17.284417</td>\n",
       "    </tr>\n",
       "    <tr>\n",
       "      <th>24</th>\n",
       "      <td>258214#772</td>\n",
       "      <td>2312.940400</td>\n",
       "      <td>1781.996000</td>\n",
       "      <td>2391.214172</td>\n",
       "      <td>1372.822937</td>\n",
       "      <td>33.419643</td>\n",
       "      <td>17.276535</td>\n",
       "    </tr>\n",
       "    <tr>\n",
       "      <th>25</th>\n",
       "      <td>258214#772</td>\n",
       "      <td>1263.000000</td>\n",
       "      <td>1263.000000</td>\n",
       "      <td>1263.000000</td>\n",
       "      <td>1263.000000</td>\n",
       "      <td>32.794643</td>\n",
       "      <td>17.270133</td>\n",
       "    </tr>\n",
       "    <tr>\n",
       "      <th>26</th>\n",
       "      <td>258214#772</td>\n",
       "      <td>1250.773100</td>\n",
       "      <td>897.921800</td>\n",
       "      <td>1553.310135</td>\n",
       "      <td>766.281128</td>\n",
       "      <td>32.258929</td>\n",
       "      <td>17.065836</td>\n",
       "    </tr>\n",
       "    <tr>\n",
       "      <th>27</th>\n",
       "      <td>258231#3</td>\n",
       "      <td>335.043360</td>\n",
       "      <td>576.357360</td>\n",
       "      <td>402.736393</td>\n",
       "      <td>283.682877</td>\n",
       "      <td>5.125000</td>\n",
       "      <td>6.049551</td>\n",
       "    </tr>\n",
       "    <tr>\n",
       "      <th>28</th>\n",
       "      <td>258231#3</td>\n",
       "      <td>0.000000</td>\n",
       "      <td>0.000000</td>\n",
       "      <td>0.000000</td>\n",
       "      <td>0.000000</td>\n",
       "      <td>4.848214</td>\n",
       "      <td>6.066029</td>\n",
       "    </tr>\n",
       "    <tr>\n",
       "      <th>29</th>\n",
       "      <td>258236#3</td>\n",
       "      <td>0.000000</td>\n",
       "      <td>0.000000</td>\n",
       "      <td>0.000000</td>\n",
       "      <td>0.000000</td>\n",
       "      <td>25.339286</td>\n",
       "      <td>24.576558</td>\n",
       "    </tr>\n",
       "    <tr>\n",
       "      <th>...</th>\n",
       "      <td>...</td>\n",
       "      <td>...</td>\n",
       "      <td>...</td>\n",
       "      <td>...</td>\n",
       "      <td>...</td>\n",
       "      <td>...</td>\n",
       "      <td>...</td>\n",
       "    </tr>\n",
       "    <tr>\n",
       "      <th>3723</th>\n",
       "      <td>7441629#5</td>\n",
       "      <td>182.829750</td>\n",
       "      <td>177.022960</td>\n",
       "      <td>148.716798</td>\n",
       "      <td>200.040996</td>\n",
       "      <td>1.455357</td>\n",
       "      <td>1.495643</td>\n",
       "    </tr>\n",
       "    <tr>\n",
       "      <th>3724</th>\n",
       "      <td>7441629#6</td>\n",
       "      <td>106.444415</td>\n",
       "      <td>120.815870</td>\n",
       "      <td>85.147774</td>\n",
       "      <td>46.856227</td>\n",
       "      <td>2.285714</td>\n",
       "      <td>1.535868</td>\n",
       "    </tr>\n",
       "    <tr>\n",
       "      <th>3725</th>\n",
       "      <td>7441629#6</td>\n",
       "      <td>304.000000</td>\n",
       "      <td>304.220535</td>\n",
       "      <td>438.894312</td>\n",
       "      <td>305.304837</td>\n",
       "      <td>2.285714</td>\n",
       "      <td>1.568314</td>\n",
       "    </tr>\n",
       "    <tr>\n",
       "      <th>3726</th>\n",
       "      <td>7441629#9</td>\n",
       "      <td>255.444245</td>\n",
       "      <td>241.831040</td>\n",
       "      <td>262.818371</td>\n",
       "      <td>229.000000</td>\n",
       "      <td>1.276786</td>\n",
       "      <td>1.721919</td>\n",
       "    </tr>\n",
       "    <tr>\n",
       "      <th>3727</th>\n",
       "      <td>7441629#9</td>\n",
       "      <td>71.563788</td>\n",
       "      <td>161.049123</td>\n",
       "      <td>72.987611</td>\n",
       "      <td>111.858562</td>\n",
       "      <td>1.276786</td>\n",
       "      <td>1.744924</td>\n",
       "    </tr>\n",
       "    <tr>\n",
       "      <th>3728</th>\n",
       "      <td>7441629#9</td>\n",
       "      <td>135.084204</td>\n",
       "      <td>206.038341</td>\n",
       "      <td>127.383876</td>\n",
       "      <td>190.910724</td>\n",
       "      <td>1.294643</td>\n",
       "      <td>1.760361</td>\n",
       "    </tr>\n",
       "    <tr>\n",
       "      <th>3729</th>\n",
       "      <td>7441629#10</td>\n",
       "      <td>10.000000</td>\n",
       "      <td>61.551110</td>\n",
       "      <td>10.000000</td>\n",
       "      <td>10.000000</td>\n",
       "      <td>3.178571</td>\n",
       "      <td>1.575294</td>\n",
       "    </tr>\n",
       "    <tr>\n",
       "      <th>3730</th>\n",
       "      <td>7441629#10</td>\n",
       "      <td>97.580075</td>\n",
       "      <td>204.697975</td>\n",
       "      <td>99.024581</td>\n",
       "      <td>51.706876</td>\n",
       "      <td>3.285714</td>\n",
       "      <td>1.870128</td>\n",
       "    </tr>\n",
       "    <tr>\n",
       "      <th>3731</th>\n",
       "      <td>7441629#10</td>\n",
       "      <td>93.168480</td>\n",
       "      <td>96.838120</td>\n",
       "      <td>130.555344</td>\n",
       "      <td>174.778275</td>\n",
       "      <td>3.303571</td>\n",
       "      <td>1.980000</td>\n",
       "    </tr>\n",
       "    <tr>\n",
       "      <th>3732</th>\n",
       "      <td>7441629#10</td>\n",
       "      <td>23.811888</td>\n",
       "      <td>126.173736</td>\n",
       "      <td>61.152161</td>\n",
       "      <td>20.635551</td>\n",
       "      <td>3.348214</td>\n",
       "      <td>2.020082</td>\n",
       "    </tr>\n",
       "    <tr>\n",
       "      <th>3733</th>\n",
       "      <td>7441629#10</td>\n",
       "      <td>375.124760</td>\n",
       "      <td>244.969700</td>\n",
       "      <td>423.945393</td>\n",
       "      <td>465.377132</td>\n",
       "      <td>3.482143</td>\n",
       "      <td>2.237343</td>\n",
       "    </tr>\n",
       "    <tr>\n",
       "      <th>3734</th>\n",
       "      <td>7441629#10</td>\n",
       "      <td>276.050133</td>\n",
       "      <td>123.429610</td>\n",
       "      <td>154.965505</td>\n",
       "      <td>117.636896</td>\n",
       "      <td>3.500000</td>\n",
       "      <td>2.233205</td>\n",
       "    </tr>\n",
       "    <tr>\n",
       "      <th>3735</th>\n",
       "      <td>7441629#316</td>\n",
       "      <td>21.432405</td>\n",
       "      <td>36.759602</td>\n",
       "      <td>21.822530</td>\n",
       "      <td>12.000000</td>\n",
       "      <td>0.750000</td>\n",
       "      <td>0.976602</td>\n",
       "    </tr>\n",
       "    <tr>\n",
       "      <th>3736</th>\n",
       "      <td>7458211#3</td>\n",
       "      <td>62.510692</td>\n",
       "      <td>69.485149</td>\n",
       "      <td>128.772641</td>\n",
       "      <td>58.006462</td>\n",
       "      <td>1.044643</td>\n",
       "      <td>2.191031</td>\n",
       "    </tr>\n",
       "    <tr>\n",
       "      <th>3737</th>\n",
       "      <td>7458211#4</td>\n",
       "      <td>0.000000</td>\n",
       "      <td>0.000000</td>\n",
       "      <td>0.000000</td>\n",
       "      <td>0.000000</td>\n",
       "      <td>0.419643</td>\n",
       "      <td>1.594102</td>\n",
       "    </tr>\n",
       "    <tr>\n",
       "      <th>3738</th>\n",
       "      <td>7458211#5</td>\n",
       "      <td>216.467595</td>\n",
       "      <td>320.999010</td>\n",
       "      <td>296.417071</td>\n",
       "      <td>115.777039</td>\n",
       "      <td>0.776786</td>\n",
       "      <td>0.893364</td>\n",
       "    </tr>\n",
       "    <tr>\n",
       "      <th>3739</th>\n",
       "      <td>7458211#6</td>\n",
       "      <td>65.359281</td>\n",
       "      <td>52.095384</td>\n",
       "      <td>85.646456</td>\n",
       "      <td>52.422077</td>\n",
       "      <td>1.178571</td>\n",
       "      <td>1.784065</td>\n",
       "    </tr>\n",
       "    <tr>\n",
       "      <th>3740</th>\n",
       "      <td>7458211#6</td>\n",
       "      <td>162.240570</td>\n",
       "      <td>171.128061</td>\n",
       "      <td>160.853105</td>\n",
       "      <td>189.000000</td>\n",
       "      <td>1.160714</td>\n",
       "      <td>1.792112</td>\n",
       "    </tr>\n",
       "    <tr>\n",
       "      <th>3741</th>\n",
       "      <td>7458211#6</td>\n",
       "      <td>0.000000</td>\n",
       "      <td>0.000000</td>\n",
       "      <td>0.000000</td>\n",
       "      <td>0.000000</td>\n",
       "      <td>1.392857</td>\n",
       "      <td>3.103979</td>\n",
       "    </tr>\n",
       "    <tr>\n",
       "      <th>3742</th>\n",
       "      <td>7458211#10</td>\n",
       "      <td>87.412160</td>\n",
       "      <td>118.522880</td>\n",
       "      <td>202.925518</td>\n",
       "      <td>89.452246</td>\n",
       "      <td>1.116071</td>\n",
       "      <td>0.838776</td>\n",
       "    </tr>\n",
       "    <tr>\n",
       "      <th>3743</th>\n",
       "      <td>7458211#772</td>\n",
       "      <td>91.154692</td>\n",
       "      <td>153.825870</td>\n",
       "      <td>99.817936</td>\n",
       "      <td>123.597418</td>\n",
       "      <td>0.375000</td>\n",
       "      <td>1.233233</td>\n",
       "    </tr>\n",
       "    <tr>\n",
       "      <th>3744</th>\n",
       "      <td>7458211#772</td>\n",
       "      <td>26.606025</td>\n",
       "      <td>25.471740</td>\n",
       "      <td>4.131915</td>\n",
       "      <td>54.000000</td>\n",
       "      <td>0.383929</td>\n",
       "      <td>1.234378</td>\n",
       "    </tr>\n",
       "    <tr>\n",
       "      <th>3745</th>\n",
       "      <td>7458227#3</td>\n",
       "      <td>94.176240</td>\n",
       "      <td>142.406820</td>\n",
       "      <td>116.040785</td>\n",
       "      <td>187.582428</td>\n",
       "      <td>1.544643</td>\n",
       "      <td>2.881873</td>\n",
       "    </tr>\n",
       "    <tr>\n",
       "      <th>3746</th>\n",
       "      <td>7458227#3</td>\n",
       "      <td>125.489980</td>\n",
       "      <td>31.089163</td>\n",
       "      <td>61.361863</td>\n",
       "      <td>7.000000</td>\n",
       "      <td>1.625000</td>\n",
       "      <td>2.914859</td>\n",
       "    </tr>\n",
       "    <tr>\n",
       "      <th>3747</th>\n",
       "      <td>7458227#4</td>\n",
       "      <td>157.860800</td>\n",
       "      <td>476.124242</td>\n",
       "      <td>261.256822</td>\n",
       "      <td>103.206867</td>\n",
       "      <td>0.446429</td>\n",
       "      <td>0.831670</td>\n",
       "    </tr>\n",
       "    <tr>\n",
       "      <th>3748</th>\n",
       "      <td>7458227#6</td>\n",
       "      <td>264.043580</td>\n",
       "      <td>284.504550</td>\n",
       "      <td>299.318114</td>\n",
       "      <td>328.928051</td>\n",
       "      <td>2.008929</td>\n",
       "      <td>2.868576</td>\n",
       "    </tr>\n",
       "    <tr>\n",
       "      <th>3749</th>\n",
       "      <td>7458227#6</td>\n",
       "      <td>0.000000</td>\n",
       "      <td>0.000000</td>\n",
       "      <td>0.000000</td>\n",
       "      <td>0.000000</td>\n",
       "      <td>2.428571</td>\n",
       "      <td>5.076289</td>\n",
       "    </tr>\n",
       "    <tr>\n",
       "      <th>3750</th>\n",
       "      <td>7458227#10</td>\n",
       "      <td>118.807871</td>\n",
       "      <td>98.633056</td>\n",
       "      <td>164.648703</td>\n",
       "      <td>101.084145</td>\n",
       "      <td>1.937500</td>\n",
       "      <td>1.878025</td>\n",
       "    </tr>\n",
       "    <tr>\n",
       "      <th>3751</th>\n",
       "      <td>7458227#10</td>\n",
       "      <td>241.234496</td>\n",
       "      <td>161.599445</td>\n",
       "      <td>345.966126</td>\n",
       "      <td>171.377682</td>\n",
       "      <td>1.946429</td>\n",
       "      <td>1.877806</td>\n",
       "    </tr>\n",
       "    <tr>\n",
       "      <th>3752</th>\n",
       "      <td>7458227#772</td>\n",
       "      <td>329.353088</td>\n",
       "      <td>375.180320</td>\n",
       "      <td>257.398668</td>\n",
       "      <td>101.000000</td>\n",
       "      <td>0.830357</td>\n",
       "      <td>1.598609</td>\n",
       "    </tr>\n",
       "  </tbody>\n",
       "</table>\n",
       "<p>3753 rows × 7 columns</p>\n",
       "</div>"
      ],
      "text/plain": [
       "           SKU_DC      E2E_MLP       E2E_RNN          Bm1          Bm2  \\\n",
       "0        258214#3     0.000000      0.000000     0.000000     0.000000   \n",
       "1        258214#3  9288.548000  12178.504000  9112.000000  9429.844635   \n",
       "2        258214#3  4687.000000   4687.000000  4687.000000  4687.000000   \n",
       "3        258214#3  4437.492500   7334.184900  6000.341125  3841.523163   \n",
       "4        258214#4  1294.584300    980.964560  1291.550476   736.085695   \n",
       "5        258214#4     0.000000      0.000000     0.000000     0.000000   \n",
       "6        258214#4   436.592200    425.965660   489.750145   768.399651   \n",
       "7        258214#4   647.214100    833.124500  1267.934448   691.738398   \n",
       "8        258214#5  1718.278340   1285.053350  2217.748211  1115.521721   \n",
       "9        258214#6     0.000000      0.000000     0.000000     0.000000   \n",
       "10       258214#6  6758.606500   8752.056000  6627.264694  3816.032288   \n",
       "11       258214#6  9705.000000   9705.000000  9705.000000  9705.000000   \n",
       "12       258214#6  6927.000000   6927.000000  6927.000000  6927.000000   \n",
       "13       258214#9  1685.056000   1433.592350  1845.106567  1507.390736   \n",
       "14       258214#9   952.276500    779.177000  1472.136803   765.630074   \n",
       "15       258214#9  1187.810800    918.604000  1320.108643   564.575745   \n",
       "16      258214#10  5596.202000   6954.415500  5811.286133  2895.093567   \n",
       "17      258214#10     0.000000      0.000000     0.000000     0.000000   \n",
       "18      258214#10   247.508500    721.099100   180.700928  1365.682983   \n",
       "19      258214#10  4296.504000   6926.620800  3853.840881  5229.092896   \n",
       "20      258214#10  4098.008200   5853.754000  4804.516907  2326.309082   \n",
       "21     258214#316  1728.381080   2449.796880  4513.089085  2519.725437   \n",
       "22     258214#316   258.179500    320.955650   811.381989   390.216255   \n",
       "23     258214#772     0.000000      0.000000     0.000000     0.000000   \n",
       "24     258214#772  2312.940400   1781.996000  2391.214172  1372.822937   \n",
       "25     258214#772  1263.000000   1263.000000  1263.000000  1263.000000   \n",
       "26     258214#772  1250.773100    897.921800  1553.310135   766.281128   \n",
       "27       258231#3   335.043360    576.357360   402.736393   283.682877   \n",
       "28       258231#3     0.000000      0.000000     0.000000     0.000000   \n",
       "29       258236#3     0.000000      0.000000     0.000000     0.000000   \n",
       "...           ...          ...           ...          ...          ...   \n",
       "3723    7441629#5   182.829750    177.022960   148.716798   200.040996   \n",
       "3724    7441629#6   106.444415    120.815870    85.147774    46.856227   \n",
       "3725    7441629#6   304.000000    304.220535   438.894312   305.304837   \n",
       "3726    7441629#9   255.444245    241.831040   262.818371   229.000000   \n",
       "3727    7441629#9    71.563788    161.049123    72.987611   111.858562   \n",
       "3728    7441629#9   135.084204    206.038341   127.383876   190.910724   \n",
       "3729   7441629#10    10.000000     61.551110    10.000000    10.000000   \n",
       "3730   7441629#10    97.580075    204.697975    99.024581    51.706876   \n",
       "3731   7441629#10    93.168480     96.838120   130.555344   174.778275   \n",
       "3732   7441629#10    23.811888    126.173736    61.152161    20.635551   \n",
       "3733   7441629#10   375.124760    244.969700   423.945393   465.377132   \n",
       "3734   7441629#10   276.050133    123.429610   154.965505   117.636896   \n",
       "3735  7441629#316    21.432405     36.759602    21.822530    12.000000   \n",
       "3736    7458211#3    62.510692     69.485149   128.772641    58.006462   \n",
       "3737    7458211#4     0.000000      0.000000     0.000000     0.000000   \n",
       "3738    7458211#5   216.467595    320.999010   296.417071   115.777039   \n",
       "3739    7458211#6    65.359281     52.095384    85.646456    52.422077   \n",
       "3740    7458211#6   162.240570    171.128061   160.853105   189.000000   \n",
       "3741    7458211#6     0.000000      0.000000     0.000000     0.000000   \n",
       "3742   7458211#10    87.412160    118.522880   202.925518    89.452246   \n",
       "3743  7458211#772    91.154692    153.825870    99.817936   123.597418   \n",
       "3744  7458211#772    26.606025     25.471740     4.131915    54.000000   \n",
       "3745    7458227#3    94.176240    142.406820   116.040785   187.582428   \n",
       "3746    7458227#3   125.489980     31.089163    61.361863     7.000000   \n",
       "3747    7458227#4   157.860800    476.124242   261.256822   103.206867   \n",
       "3748    7458227#6   264.043580    284.504550   299.318114   328.928051   \n",
       "3749    7458227#6     0.000000      0.000000     0.000000     0.000000   \n",
       "3750   7458227#10   118.807871     98.633056   164.648703   101.084145   \n",
       "3751   7458227#10   241.234496    161.599445   345.966126   171.377682   \n",
       "3752  7458227#772   329.353088    375.180320   257.398668   101.000000   \n",
       "\n",
       "       Ave_sales  Std_sales  \n",
       "0     194.151786  82.417867  \n",
       "1     193.794643  82.400208  \n",
       "2     185.214286  82.470279  \n",
       "3     178.392857  81.425470  \n",
       "4      27.946429  11.182213  \n",
       "5      27.232143  10.938478  \n",
       "6      27.107143  10.964886  \n",
       "7      26.678571  10.952000  \n",
       "8      37.535714  14.743527  \n",
       "9     145.517857  46.866500  \n",
       "10    145.142857  46.809282  \n",
       "11    138.419643  47.436485  \n",
       "12    135.116071  47.163987  \n",
       "13     47.348214  22.162156  \n",
       "14     45.276786  22.365133  \n",
       "15     42.178571  22.583084  \n",
       "16    176.000000  95.289168  \n",
       "17    170.553571  95.245770  \n",
       "18    169.982143  95.226546  \n",
       "19    169.169643  95.112131  \n",
       "20    163.991071  95.335415  \n",
       "21     19.848214   8.893731  \n",
       "22     19.455357   8.844610  \n",
       "23     33.410714  17.284417  \n",
       "24     33.419643  17.276535  \n",
       "25     32.794643  17.270133  \n",
       "26     32.258929  17.065836  \n",
       "27      5.125000   6.049551  \n",
       "28      4.848214   6.066029  \n",
       "29     25.339286  24.576558  \n",
       "...          ...        ...  \n",
       "3723    1.455357   1.495643  \n",
       "3724    2.285714   1.535868  \n",
       "3725    2.285714   1.568314  \n",
       "3726    1.276786   1.721919  \n",
       "3727    1.276786   1.744924  \n",
       "3728    1.294643   1.760361  \n",
       "3729    3.178571   1.575294  \n",
       "3730    3.285714   1.870128  \n",
       "3731    3.303571   1.980000  \n",
       "3732    3.348214   2.020082  \n",
       "3733    3.482143   2.237343  \n",
       "3734    3.500000   2.233205  \n",
       "3735    0.750000   0.976602  \n",
       "3736    1.044643   2.191031  \n",
       "3737    0.419643   1.594102  \n",
       "3738    0.776786   0.893364  \n",
       "3739    1.178571   1.784065  \n",
       "3740    1.160714   1.792112  \n",
       "3741    1.392857   3.103979  \n",
       "3742    1.116071   0.838776  \n",
       "3743    0.375000   1.233233  \n",
       "3744    0.383929   1.234378  \n",
       "3745    1.544643   2.881873  \n",
       "3746    1.625000   2.914859  \n",
       "3747    0.446429   0.831670  \n",
       "3748    2.008929   2.868576  \n",
       "3749    2.428571   5.076289  \n",
       "3750    1.937500   1.878025  \n",
       "3751    1.946429   1.877806  \n",
       "3752    0.830357   1.598609  \n",
       "\n",
       "[3753 rows x 7 columns]"
      ]
     },
     "execution_count": 361,
     "metadata": {},
     "output_type": "execute_result"
    }
   ],
   "source": [
    "df2_cost"
   ]
  },
  {
   "cell_type": "code",
   "execution_count": 347,
   "metadata": {},
   "outputs": [
    {
     "data": {
      "text/html": [
       "<div>\n",
       "<style scoped>\n",
       "    .dataframe tbody tr th:only-of-type {\n",
       "        vertical-align: middle;\n",
       "    }\n",
       "\n",
       "    .dataframe tbody tr th {\n",
       "        vertical-align: top;\n",
       "    }\n",
       "\n",
       "    .dataframe thead th {\n",
       "        text-align: right;\n",
       "    }\n",
       "</style>\n",
       "<table border=\"1\" class=\"dataframe\">\n",
       "  <thead>\n",
       "    <tr style=\"text-align: right;\">\n",
       "      <th></th>\n",
       "      <th>E2E_MLP</th>\n",
       "      <th>E2E_RNN</th>\n",
       "      <th>Bm1</th>\n",
       "      <th>Bm2</th>\n",
       "    </tr>\n",
       "  </thead>\n",
       "  <tbody>\n",
       "    <tr>\n",
       "      <th>Total Cost</th>\n",
       "      <td>998.094542</td>\n",
       "      <td>950.955252</td>\n",
       "      <td>1097.776788</td>\n",
       "      <td>925.432447</td>\n",
       "    </tr>\n",
       "    <tr>\n",
       "      <th>Holding Cost</th>\n",
       "      <td>883.488351</td>\n",
       "      <td>817.522132</td>\n",
       "      <td>965.026706</td>\n",
       "      <td>705.552961</td>\n",
       "    </tr>\n",
       "    <tr>\n",
       "      <th>Stockout Cost</th>\n",
       "      <td>114.606191</td>\n",
       "      <td>133.433120</td>\n",
       "      <td>132.750081</td>\n",
       "      <td>219.879486</td>\n",
       "    </tr>\n",
       "    <tr>\n",
       "      <th>Stockout rate</th>\n",
       "      <td>0.130017</td>\n",
       "      <td>0.095939</td>\n",
       "      <td>0.086059</td>\n",
       "      <td>0.185213</td>\n",
       "    </tr>\n",
       "    <tr>\n",
       "      <th>Turnover rate</th>\n",
       "      <td>6.766950</td>\n",
       "      <td>8.321740</td>\n",
       "      <td>9.389059</td>\n",
       "      <td>5.821450</td>\n",
       "    </tr>\n",
       "  </tbody>\n",
       "</table>\n",
       "</div>"
      ],
      "text/plain": [
       "                  E2E_MLP     E2E_RNN          Bm1         Bm2\n",
       "Total Cost     998.094542  950.955252  1097.776788  925.432447\n",
       "Holding Cost   883.488351  817.522132   965.026706  705.552961\n",
       "Stockout Cost  114.606191  133.433120   132.750081  219.879486\n",
       "Stockout rate    0.130017    0.095939     0.086059    0.185213\n",
       "Turnover rate    6.766950    8.321740     9.389059    5.821450"
      ]
     },
     "execution_count": 347,
     "metadata": {},
     "output_type": "execute_result"
    }
   ],
   "source": [
    "df2_com = pd.DataFrame({'Total Cost' : df2_cost[str_list2].mean(),\n",
    "             'Holding Cost': df2_holding[str_list2].mean(),\n",
    "             'Stockout Cost': df2_back[str_list2].mean(),\n",
    "             'Stockout rate': df2_stockout[str_list2].mean(),\n",
    "             'Turnover rate': df2_turnover[str_list2].mean(),\n",
    "             }).T\n",
    "df2_com"
   ]
  },
  {
   "cell_type": "code",
   "execution_count": 348,
   "metadata": {},
   "outputs": [
    {
     "data": {
      "image/png": "[encoded data removed]",
      "text/plain": [
       "<Figure size 576x432 with 1 Axes>"
      ]
     },
     "metadata": {},
     "output_type": "display_data"
    }
   ],
   "source": [
    "tt = o4.iloc[3,:]\n",
    "fig, ax1 = plt.subplots(figsize=(8, 6))\n",
    "ax1.plot(tt['OPT_inv_f'], label = 'DP optimal')\n",
    "ax1.plot(tt['E2E_NN_inv_f'], label = 'E2E NN')\n",
    "ax1.plot(tt['E2E_GBM_inv_f'], label = 'E2E GBM')\n",
    "# ax1.plot(tt['EQ_inv_f'], label = 'Emperical Quantile')\n",
    "ax1.plot(tt['Normal_inv_f'], label = 'Normal Basestock')\n",
    "ax1.plot(tt['Gamma_inv_f'], label = 'Gamma Basestock')\n",
    "ax1.plot(tt['Hist_inv_f'], label = 'Historical Decision')\n",
    "ax1.legend(loc='center left', bbox_to_anchor=(1.0, 0.5))\n",
    "ax1.grid(True)"
   ]
  },
  {
   "cell_type": "code",
   "execution_count": null,
   "metadata": {},
   "outputs": [],
   "source": []
  },
  {
   "cell_type": "code",
   "execution_count": 349,
   "metadata": {},
   "outputs": [],
   "source": [
    "o4_ = pd.concat([o4, pred, pred_v5['E2E_MLP_pred'], pred_v6['E2E_RNN_pred'], gbm_pred], axis=1)\n",
    "o4_['Hist_pred'] = o4_['actual_pur_qtty'] + o4_['initial_stock']\n",
    "o4_['OPT_pred'] = o4_[LABEL]\n",
    "o4g = o4_.groupby('item_sku_id').agg(lambda x: x.tolist())"
   ]
  },
  {
   "cell_type": "code",
   "execution_count": 350,
   "metadata": {},
   "outputs": [],
   "source": [
    "def get_agginv(x, name):\n",
    "    inv1, inv2 = [x['initial_stock'][0]], []\n",
    "    rd = len(x['pur_bill_id'])\n",
    " \n",
    "    for r in range(rd):\n",
    "        if r < rd - 1:\n",
    "            len_day = len(x['demand_RV_list'][r])-1\n",
    "        else:\n",
    "            len_day = len(x['demand_RV_list'][r])\n",
    "        for t in range(len_day):\n",
    "            if t == 0:\n",
    "                if r == 0:\n",
    "                    replen = int(round(x[name+'_pred'][r] - inv1[0]))\n",
    "                else:\n",
    "                    try:\n",
    "                        replen = int(round(x[name+'_pred'][r] - max(inv1[-int(round(x['vlt_actual'][r]))-1], 0)))\n",
    "                    except:\n",
    "                        replen = int(round(x[name+'_pred'][r] - max(inv1[1],0)))\n",
    "            if t < int(round(x['vlt_actual'][r])):\n",
    "                if r == 0:\n",
    "                    inv1.append(inv1[-1] - x['demand_RV_list'][r][t])\n",
    "            elif t == int(round(x['vlt_actual'][r])):\n",
    "                if inv1[-1] >= 0:\n",
    "                    inv_ = inv1[-1] + replen - x['demand_RV_list'][r][t]\n",
    "                else:\n",
    "                    inv_ = replen - x['demand_RV_list'][r][t]\n",
    "                inv1.append(inv_)\n",
    "                inv2.append(inv_)\n",
    "            else:\n",
    "                inv_ = inv1[-1] - x['demand_RV_list'][r][t]\n",
    "                inv1.append(inv_)\n",
    "                inv2.append(inv_)\n",
    "    \n",
    "    inv1 = inv1[1:]\n",
    "    return [inv1, inv2]\n",
    "\n",
    "o4g['OPT_agginv_f'], o4g['OPT_agginv'] = zip(*o4g.apply(get_agginv, name='OPT',  axis=1))\n",
    "o4g['E2E_NN_agginv_f'], o4g['E2E_NN_agginv'] = zip(*o4g.apply(get_agginv, name='E2E_NN',  axis=1))\n",
    "o4g['E2E_MLP_agginv_f'], o4g['E2E_MLP_agginv'] = zip(*o4g.apply(get_agginv, name='E2E_MLP',  axis=1))\n",
    "o4g['E2E_RNN_agginv_f'], o4g['E2E_RNN_agginv'] = zip(*o4g.apply(get_agginv, name='E2E_RNN',  axis=1))\n",
    "o4g['E2E_GBM_agginv_f'], o4g['E2E_GBM_agginv'] = zip(*o4g.apply(get_agginv, name='E2E_GBM',  axis=1))\n",
    "o4g['EQ_agginv_f'], o4g['EQ_agginv'] = zip(*o4g.apply(get_agginv, name='EQ',  axis=1))\n",
    "o4g['Normal_agginv_f'], o4g['Normal_agginv'] = zip(*o4g.apply(get_agginv, name='Normal',  axis=1))\n",
    "o4g['Gamma_agginv_f'], o4g['Gamma_agginv'] = zip(*o4g.apply(get_agginv, name='Gamma',  axis=1))\n",
    "o4g['Hist_agginv_f'], o4g['Hist_agginv'] = zip(*o4g.apply(get_agginv, name='Hist',  axis=1))"
   ]
  },
  {
   "cell_type": "code",
   "execution_count": 351,
   "metadata": {},
   "outputs": [],
   "source": [
    "# xx = o4g.loc['258236#3']\n",
    "# xx['OPT_agginv'], xx['OPT_pred'], xx['initial_stock'],xx['demand_RV_list']"
   ]
  },
  {
   "cell_type": "code",
   "execution_count": 352,
   "metadata": {},
   "outputs": [],
   "source": [
    "list_c = ['SKU_DC', 'OPT', \n",
    "#           'E2E_NN', \n",
    "          'E2E_MLP', 'E2E_RNN', \n",
    "          'E2E_GBM', \n",
    "          'Normal', 'Gamma', 'Hist', \n",
    "          'Ave_sales','Std_sales', \n",
    "#           'Ave_review', 'Std_review'\n",
    "         ]\n",
    "numberOfRows = len(o4g)\n",
    "df_cost_agg = pd.DataFrame(index=np.arange(0, numberOfRows), columns=list_c)\n",
    "df_holding_agg = pd.DataFrame(index=np.arange(0, numberOfRows), columns=list_c)\n",
    "df_back_agg = pd.DataFrame(index=np.arange(0, numberOfRows), columns=list_c)\n",
    "df_stockout_agg = pd.DataFrame(index=np.arange(0, numberOfRows), columns=list_c)\n",
    "df_turnover_agg = pd.DataFrame(index=np.arange(0, numberOfRows), columns=list_c)\n",
    "\n",
    "df_cost_agg['SKU_DC']=df_holding_agg['SKU_DC']=df_back_agg['SKU_DC']=df_stockout_agg['SKU_DC']\\\n",
    "            =df_turnover_agg['SKU_DC']=o4g.index.values\n",
    "df_cost_agg['Ave_sales']=df_holding_agg['Ave_sales']=df_back_agg['Ave_sales']=df_stockout_agg['Ave_sales']\\\n",
    "            =df_turnover_agg['Ave_sales']=o4g['mean_112'].apply(lambda x:x[0]).values\n",
    "df_cost_agg['Std_sales']=df_holding_agg['Std_sales']=df_back_agg['Std_sales']=df_stockout_agg['Std_sales']\\\n",
    "            =df_turnover_agg['Std_sales']=o4g['std_140'].apply(lambda x:x[0]).values"
   ]
  },
  {
   "cell_type": "code",
   "execution_count": 353,
   "metadata": {},
   "outputs": [],
   "source": [
    "str_list = ['OPT', \n",
    "#             'E2E_NN', \n",
    "            'E2E_MLP', 'E2E_RNN', \n",
    "            'E2E_GBM', \n",
    "            'Normal', 'Gamma', 'Hist']\n",
    "o4g_ = o4g.reset_index(drop=True)\n",
    "for str1 in str_list:\n",
    "    str2 = str1 + '_agginv'\n",
    "    df_holding_agg[str1] = o4g_[str2].apply(lambda x: h * sum([inv for inv in x if inv>0]) )\n",
    "    df_back_agg[str1] = o4g_[str2].apply(lambda x: b * (0 if  x==[] else max(0, -x[-1])))\n",
    "    df_stockout_agg[str1] = o4g_[str2].apply(lambda x: len([inv for inv in x if inv<0])/len(x) if len(x)>0 else 0 )\n",
    "    df_turnover_agg[str1] = o4g_.apply(lambda x: np.mean([max(i,0) for i in x[str2]]) / x['mean_112'][0]\n",
    "                                  if np.mean(x['mean_112'][0]) >0 else np.mean(x[str2]), axis=1).fillna(7)\n",
    "    df_cost_agg[str1] = df_holding_agg[str1] + df_back_agg[str1]"
   ]
  },
  {
   "cell_type": "code",
   "execution_count": 354,
   "metadata": {
    "scrolled": false
   },
   "outputs": [
    {
     "data": {
      "text/html": [
       "<div>\n",
       "<style scoped>\n",
       "    .dataframe tbody tr th:only-of-type {\n",
       "        vertical-align: middle;\n",
       "    }\n",
       "\n",
       "    .dataframe tbody tr th {\n",
       "        vertical-align: top;\n",
       "    }\n",
       "\n",
       "    .dataframe thead th {\n",
       "        text-align: right;\n",
       "    }\n",
       "</style>\n",
       "<table border=\"1\" class=\"dataframe\">\n",
       "  <thead>\n",
       "    <tr style=\"text-align: right;\">\n",
       "      <th></th>\n",
       "      <th>E2E_MLP</th>\n",
       "      <th>E2E_RNN</th>\n",
       "      <th>E2E_GBM</th>\n",
       "      <th>Gamma</th>\n",
       "      <th>Normal</th>\n",
       "    </tr>\n",
       "  </thead>\n",
       "  <tbody>\n",
       "    <tr>\n",
       "      <th>Best</th>\n",
       "      <td>0.218758</td>\n",
       "      <td>0.140421</td>\n",
       "      <td>0.044764</td>\n",
       "      <td>0.03304</td>\n",
       "      <td>0.007194</td>\n",
       "    </tr>\n",
       "  </tbody>\n",
       "</table>\n",
       "</div>"
      ],
      "text/plain": [
       "       E2E_MLP   E2E_RNN   E2E_GBM    Gamma    Normal\n",
       "Best  0.218758  0.140421  0.044764  0.03304  0.007194"
      ]
     },
     "execution_count": 354,
     "metadata": {},
     "output_type": "execute_result"
    }
   ],
   "source": [
    "pd.DataFrame({'Best': df_cost_agg.iloc[:,2:7].idxmin(axis=1).value_counts()/len(df_cost)}).T"
   ]
  },
  {
   "cell_type": "code",
   "execution_count": 355,
   "metadata": {},
   "outputs": [
    {
     "data": {
      "text/html": [
       "<div>\n",
       "<style scoped>\n",
       "    .dataframe tbody tr th:only-of-type {\n",
       "        vertical-align: middle;\n",
       "    }\n",
       "\n",
       "    .dataframe tbody tr th {\n",
       "        vertical-align: top;\n",
       "    }\n",
       "\n",
       "    .dataframe thead th {\n",
       "        text-align: right;\n",
       "    }\n",
       "</style>\n",
       "<table border=\"1\" class=\"dataframe\">\n",
       "  <thead>\n",
       "    <tr style=\"text-align: right;\">\n",
       "      <th></th>\n",
       "      <th>OPT</th>\n",
       "      <th>E2E_MLP</th>\n",
       "      <th>E2E_RNN</th>\n",
       "      <th>E2E_GBM</th>\n",
       "      <th>Normal</th>\n",
       "      <th>Gamma</th>\n",
       "      <th>Hist</th>\n",
       "    </tr>\n",
       "  </thead>\n",
       "  <tbody>\n",
       "    <tr>\n",
       "      <th>Total cost</th>\n",
       "      <td>1768.502100</td>\n",
       "      <td>2463.115777</td>\n",
       "      <td>2303.483503</td>\n",
       "      <td>3025.090582</td>\n",
       "      <td>4636.819436</td>\n",
       "      <td>4196.594481</td>\n",
       "      <td>3324.155369</td>\n",
       "    </tr>\n",
       "    <tr>\n",
       "      <th>Holding cost</th>\n",
       "      <td>1626.418716</td>\n",
       "      <td>2275.595081</td>\n",
       "      <td>2072.782244</td>\n",
       "      <td>2962.349730</td>\n",
       "      <td>4468.832034</td>\n",
       "      <td>3993.616677</td>\n",
       "      <td>3237.848230</td>\n",
       "    </tr>\n",
       "    <tr>\n",
       "      <th>Stockout cost</th>\n",
       "      <td>142.083383</td>\n",
       "      <td>187.520696</td>\n",
       "      <td>230.701260</td>\n",
       "      <td>62.740852</td>\n",
       "      <td>167.987403</td>\n",
       "      <td>202.977804</td>\n",
       "      <td>86.307139</td>\n",
       "    </tr>\n",
       "    <tr>\n",
       "      <th>Stockout rate</th>\n",
       "      <td>0.033749</td>\n",
       "      <td>0.093084</td>\n",
       "      <td>0.082066</td>\n",
       "      <td>0.033153</td>\n",
       "      <td>0.029233</td>\n",
       "      <td>0.042361</td>\n",
       "      <td>0.091591</td>\n",
       "    </tr>\n",
       "    <tr>\n",
       "      <th>Turnover rate</th>\n",
       "      <td>7.776102</td>\n",
       "      <td>10.349857</td>\n",
       "      <td>12.707137</td>\n",
       "      <td>13.787155</td>\n",
       "      <td>19.798418</td>\n",
       "      <td>17.116164</td>\n",
       "      <td>11.256141</td>\n",
       "    </tr>\n",
       "  </tbody>\n",
       "</table>\n",
       "</div>"
      ],
      "text/plain": [
       "                       OPT      E2E_MLP      E2E_RNN      E2E_GBM  \\\n",
       "Total cost     1768.502100  2463.115777  2303.483503  3025.090582   \n",
       "Holding cost   1626.418716  2275.595081  2072.782244  2962.349730   \n",
       "Stockout cost   142.083383   187.520696   230.701260    62.740852   \n",
       "Stockout rate     0.033749     0.093084     0.082066     0.033153   \n",
       "Turnover rate     7.776102    10.349857    12.707137    13.787155   \n",
       "\n",
       "                    Normal        Gamma         Hist  \n",
       "Total cost     4636.819436  4196.594481  3324.155369  \n",
       "Holding cost   4468.832034  3993.616677  3237.848230  \n",
       "Stockout cost   167.987403   202.977804    86.307139  \n",
       "Stockout rate     0.029233     0.042361     0.091591  \n",
       "Turnover rate    19.798418    17.116164    11.256141  "
      ]
     },
     "execution_count": 355,
     "metadata": {},
     "output_type": "execute_result"
    }
   ],
   "source": [
    "df_aggcom = pd.DataFrame({'Total cost': df_cost_agg[str_list].mean(),\n",
    "             'Holding cost': df_holding_agg[str_list].mean(),\n",
    "             'Stockout cost': df_back_agg[str_list].mean(),\n",
    "             'Stockout rate': df_stockout_agg[str_list].mean(),\n",
    "             'Turnover rate': df_turnover_agg[str_list].mean(),\n",
    "             }).T\n",
    "df_aggcom"
   ]
  },
  {
   "cell_type": "code",
   "execution_count": null,
   "metadata": {},
   "outputs": [],
   "source": []
  },
  {
   "cell_type": "code",
   "execution_count": null,
   "metadata": {},
   "outputs": [],
   "source": []
  },
  {
   "cell_type": "code",
   "execution_count": 356,
   "metadata": {},
   "outputs": [],
   "source": [
    "o4g['Bm1_agginv_f'], o4g['Bm1_agginv'] = zip(*o4g.apply(get_agginv, name='Bm1',  axis=1))\n",
    "o4g['Bm2_agginv_f'], o4g['Bm2_agginv'] = zip(*o4g.apply(get_agginv, name='Bm2',  axis=1))"
   ]
  },
  {
   "cell_type": "code",
   "execution_count": 357,
   "metadata": {},
   "outputs": [],
   "source": [
    "numberOfRows = len(o4g)\n",
    "df2_cost_agg = pd.DataFrame(index=np.arange(0, numberOfRows), columns=list_c2)\n",
    "df2_holding_agg = pd.DataFrame(index=np.arange(0, numberOfRows), columns=list_c2)\n",
    "df2_back_agg = pd.DataFrame(index=np.arange(0, numberOfRows), columns=list_c2)\n",
    "df2_stockout_agg = pd.DataFrame(index=np.arange(0, numberOfRows), columns=list_c2)\n",
    "df2_turnover_agg = pd.DataFrame(index=np.arange(0, numberOfRows), columns=list_c2)\n",
    "\n",
    "df2_cost_agg['SKU_DC']=df2_holding_agg['SKU_DC']=df2_back_agg['SKU_DC']=df2_stockout_agg['SKU_DC']\\\n",
    "            =df2_turnover_agg['SKU_DC']=o4g.index.values\n",
    "df2_cost_agg['Ave_sales']=df2_holding_agg['Ave_sales']=df2_back_agg['Ave_sales']=df2_stockout_agg['Ave_sales']\\\n",
    "            =df2_turnover_agg['Ave_sales']=o4g['mean_112'].apply(lambda x:x[0]).values\n",
    "df2_cost_agg['Std_sales']=df2_holding_agg['Std_sales']=df2_back_agg['Std_sales']=df2_stockout_agg['Std_sales']\\\n",
    "            =df2_turnover_agg['Std_sales']=o4g['std_140'].apply(lambda x:x[0]).values"
   ]
  },
  {
   "cell_type": "code",
   "execution_count": 358,
   "metadata": {},
   "outputs": [],
   "source": [
    "o4g_ = o4g.reset_index(drop=True)\n",
    "for str1 in str_list2:\n",
    "    str2 = str1 + '_agginv'\n",
    "    df2_holding_agg[str1] = o4g_[str2].apply(lambda x: h * sum([inv for inv in x if inv>0]) )\n",
    "    df2_back_agg[str1] = o4g_[str2].apply(lambda x: b * (0 if  x==[] else max(0, -x[-1])))\n",
    "    df2_stockout_agg[str1] = o4g_[str2].apply(lambda x: len([inv for inv in x if inv<0])/len(x) if len(x)>0 else 0 )\n",
    "    df2_turnover_agg[str1] = o4g_.apply(lambda x: np.mean([max(i,0) for i in x[str2]]) / x['mean_112'][0]\n",
    "                                  if np.mean(x['mean_112'][0]) >0 else np.mean(x[str2]), axis=1).fillna(7)\n",
    "    df2_cost_agg[str1] = df2_holding_agg[str1] + df2_back_agg[str1]"
   ]
  },
  {
   "cell_type": "code",
   "execution_count": 359,
   "metadata": {},
   "outputs": [
    {
     "data": {
      "text/html": [
       "<div>\n",
       "<style scoped>\n",
       "    .dataframe tbody tr th:only-of-type {\n",
       "        vertical-align: middle;\n",
       "    }\n",
       "\n",
       "    .dataframe tbody tr th {\n",
       "        vertical-align: top;\n",
       "    }\n",
       "\n",
       "    .dataframe thead th {\n",
       "        text-align: right;\n",
       "    }\n",
       "</style>\n",
       "<table border=\"1\" class=\"dataframe\">\n",
       "  <thead>\n",
       "    <tr style=\"text-align: right;\">\n",
       "      <th></th>\n",
       "      <th>Bm2</th>\n",
       "      <th>E2E_MLP</th>\n",
       "      <th>E2E_RNN</th>\n",
       "      <th>Bm1</th>\n",
       "    </tr>\n",
       "  </thead>\n",
       "  <tbody>\n",
       "    <tr>\n",
       "      <th>Best</th>\n",
       "      <td>0.242206</td>\n",
       "      <td>0.123102</td>\n",
       "      <td>0.061018</td>\n",
       "      <td>0.017852</td>\n",
       "    </tr>\n",
       "  </tbody>\n",
       "</table>\n",
       "</div>"
      ],
      "text/plain": [
       "           Bm2   E2E_MLP   E2E_RNN       Bm1\n",
       "Best  0.242206  0.123102  0.061018  0.017852"
      ]
     },
     "execution_count": 359,
     "metadata": {},
     "output_type": "execute_result"
    }
   ],
   "source": [
    "pd.DataFrame({'Best': df2_cost_agg.iloc[:,1:5].idxmin(axis=1).value_counts()/len(df2_cost)}).T"
   ]
  },
  {
   "cell_type": "code",
   "execution_count": 360,
   "metadata": {},
   "outputs": [
    {
     "data": {
      "text/html": [
       "<div>\n",
       "<style scoped>\n",
       "    .dataframe tbody tr th:only-of-type {\n",
       "        vertical-align: middle;\n",
       "    }\n",
       "\n",
       "    .dataframe tbody tr th {\n",
       "        vertical-align: top;\n",
       "    }\n",
       "\n",
       "    .dataframe thead th {\n",
       "        text-align: right;\n",
       "    }\n",
       "</style>\n",
       "<table border=\"1\" class=\"dataframe\">\n",
       "  <thead>\n",
       "    <tr style=\"text-align: right;\">\n",
       "      <th></th>\n",
       "      <th>E2E_MLP</th>\n",
       "      <th>E2E_RNN</th>\n",
       "      <th>Bm1</th>\n",
       "      <th>Bm2</th>\n",
       "    </tr>\n",
       "  </thead>\n",
       "  <tbody>\n",
       "    <tr>\n",
       "      <th>Total cost</th>\n",
       "      <td>2463.115777</td>\n",
       "      <td>2303.483503</td>\n",
       "      <td>2586.570486</td>\n",
       "      <td>1858.477504</td>\n",
       "    </tr>\n",
       "    <tr>\n",
       "      <th>Holding cost</th>\n",
       "      <td>2275.595081</td>\n",
       "      <td>2072.782244</td>\n",
       "      <td>2314.556689</td>\n",
       "      <td>1499.298140</td>\n",
       "    </tr>\n",
       "    <tr>\n",
       "      <th>Stockout cost</th>\n",
       "      <td>187.520696</td>\n",
       "      <td>230.701260</td>\n",
       "      <td>272.013797</td>\n",
       "      <td>359.179364</td>\n",
       "    </tr>\n",
       "    <tr>\n",
       "      <th>Stockout rate</th>\n",
       "      <td>0.093084</td>\n",
       "      <td>0.082066</td>\n",
       "      <td>0.069879</td>\n",
       "      <td>0.153521</td>\n",
       "    </tr>\n",
       "    <tr>\n",
       "      <th>Turnover rate</th>\n",
       "      <td>10.349857</td>\n",
       "      <td>12.707137</td>\n",
       "      <td>14.644203</td>\n",
       "      <td>8.443878</td>\n",
       "    </tr>\n",
       "  </tbody>\n",
       "</table>\n",
       "</div>"
      ],
      "text/plain": [
       "                   E2E_MLP      E2E_RNN          Bm1          Bm2\n",
       "Total cost     2463.115777  2303.483503  2586.570486  1858.477504\n",
       "Holding cost   2275.595081  2072.782244  2314.556689  1499.298140\n",
       "Stockout cost   187.520696   230.701260   272.013797   359.179364\n",
       "Stockout rate     0.093084     0.082066     0.069879     0.153521\n",
       "Turnover rate    10.349857    12.707137    14.644203     8.443878"
      ]
     },
     "execution_count": 360,
     "metadata": {},
     "output_type": "execute_result"
    }
   ],
   "source": [
    "df2_aggcom = pd.DataFrame({'Total cost': df2_cost_agg[str_list2].mean(),\n",
    "             'Holding cost': df2_holding_agg[str_list2].mean(),\n",
    "             'Stockout cost': df2_back_agg[str_list2].mean(),\n",
    "             'Stockout rate': df2_stockout_agg[str_list2].mean(),\n",
    "             'Turnover rate': df2_turnover_agg[str_list2].mean(),\n",
    "             }).T\n",
    "df2_aggcom"
   ]
  },
  {
   "cell_type": "code",
   "execution_count": null,
   "metadata": {},
   "outputs": [],
   "source": []
  },
  {
   "cell_type": "code",
   "execution_count": null,
   "metadata": {},
   "outputs": [],
   "source": []
  },
  {
   "cell_type": "code",
   "execution_count": null,
   "metadata": {},
   "outputs": [],
   "source": []
  },
  {
   "cell_type": "code",
   "execution_count": null,
   "metadata": {},
   "outputs": [],
   "source": []
  },
  {
   "cell_type": "code",
   "execution_count": 342,
   "metadata": {},
   "outputs": [
    {
     "data": {
      "image/png": "[encoded data removed]",
      "text/plain": [
       "<Figure size 432x288 with 1 Axes>"
      ]
     },
     "metadata": {},
     "output_type": "display_data"
    }
   ],
   "source": [
    "df_com.iloc[1:2,:].plot.bar(rot=0)\n",
    "plt.savefig('../figures/eps/exp1.eps', dpi=200)"
   ]
  },
  {
   "cell_type": "code",
   "execution_count": 161,
   "metadata": {},
   "outputs": [
    {
     "data": {
      "image/png": "[encoded data removed]",
      "text/plain": [
       "<Figure size 432x288 with 1 Axes>"
      ]
     },
     "metadata": {},
     "output_type": "display_data"
    }
   ],
   "source": [
    "df_com.iloc[3:4,:].plot.bar(rot=0)\n",
    "plt.savefig('../figures/eps/exp2.eps', dpi=200)"
   ]
  },
  {
   "cell_type": "code",
   "execution_count": 162,
   "metadata": {},
   "outputs": [
    {
     "data": {
      "image/png": "[encoded data removed]",
      "text/plain": [
       "<Figure size 432x288 with 1 Axes>"
      ]
     },
     "metadata": {},
     "output_type": "display_data"
    }
   ],
   "source": [
    "df_com.iloc[4:5,:].plot.bar(rot=0)\n",
    "plt.savefig('../figures/eps/exp3.eps', dpi=200)"
   ]
  },
  {
   "cell_type": "code",
   "execution_count": null,
   "metadata": {},
   "outputs": [],
   "source": []
  },
  {
   "cell_type": "code",
   "execution_count": 48,
   "metadata": {
    "scrolled": false
   },
   "outputs": [
    {
     "data": {
      "image/png": "[encoded data removed]",
      "text/plain": [
       "<Figure size 576x432 with 1 Axes>"
      ]
     },
     "metadata": {},
     "output_type": "display_data"
    }
   ],
   "source": [
    "tt = o4g.iloc[114,:]\n",
    "fig, ax1 = plt.subplots(figsize=(8, 6))\n",
    "ax1.plot(tt['OPT_agginv_f'], label = 'DP optimal')\n",
    "ax1.plot(tt['E2E_NN_agginv_f'], label = 'E2E NN')\n",
    "ax1.plot(tt['E2E_GBM_agginv_f'], label = 'E2E GBM')\n",
    "# ax1.plot(tt['EQ_agginv_f'], label = 'Emperical Quantile')\n",
    "ax1.plot(tt['Normal_agginv_f'], label = 'Normal Basestock')\n",
    "ax1.plot(tt['Gamma_agginv_f'], label = 'Gamma Basestock')\n",
    "ax1.plot(tt['Hist_agginv_f'], label = 'Historical Decision')\n",
    "ax1.legend(loc='center left', bbox_to_anchor=(1.0, 0.5))\n",
    "ax1.grid(True)"
   ]
  },
  {
   "cell_type": "markdown",
   "metadata": {},
   "source": [
    " "
   ]
  },
  {
   "cell_type": "code",
   "execution_count": null,
   "metadata": {},
   "outputs": [],
   "source": []
  },
  {
   "cell_type": "code",
   "execution_count": 49,
   "metadata": {},
   "outputs": [],
   "source": [
    "import matplotlib.pyplot as plt\n",
    "import matplotlib"
   ]
  },
  {
   "cell_type": "code",
   "execution_count": 50,
   "metadata": {
    "nbpresent": {
     "id": "cf6c6a76-7ba1-46bb-95c6-a99cec742422"
    }
   },
   "outputs": [],
   "source": [
    "co_qtl = df_cost.iloc[:,2:].quantile(np.linspace(0, 1, 11), numeric_only=False)\n",
    "hd_qtl = df_holding.iloc[:,2:].quantile(np.linspace(0, 1, 11), numeric_only=False)\n",
    "bk_qtl = df_back.iloc[:,2:].quantile(np.linspace(0, 1, 11), numeric_only=False)\n",
    "bk_qtl = df_back.iloc[:,2:].quantile(np.linspace(0, 1, 11), numeric_only=False)"
   ]
  },
  {
   "cell_type": "code",
   "execution_count": 51,
   "metadata": {
    "nbpresent": {
     "id": "1917f71f-49c7-4efb-8cd3-3ae8aa1e42a2"
    }
   },
   "outputs": [
    {
     "data": {
      "image/png": "[encoded data removed]",
      "text/plain": [
       "<Figure size 576x432 with 1 Axes>"
      ]
     },
     "metadata": {},
     "output_type": "display_data"
    }
   ],
   "source": [
    "fig, ax = plt.subplots(figsize=(8, 6))\n",
    "ax.plot(np.log(co_qtl.iloc[:,:-2].astype(float)).replace(-np.inf, 0));\n",
    "ax.legend(co_qtl.columns[:-2], loc=0)\n",
    "ax.set_title('total cost不同分位点下不同模型的表现');"
   ]
  },
  {
   "cell_type": "code",
   "execution_count": 52,
   "metadata": {
    "nbpresent": {
     "id": "da0572e3-1a51-4530-9f44-a64330989685"
    }
   },
   "outputs": [
    {
     "data": {
      "image/png": "[encoded data removed]",
      "text/plain": [
       "<Figure size 576x432 with 1 Axes>"
      ]
     },
     "metadata": {},
     "output_type": "display_data"
    }
   ],
   "source": [
    "fig, ax = plt.subplots(figsize=(8, 6))\n",
    "ax.plot(np.log(hd_qtl.iloc[:,:-2].astype(float)).replace(-np.inf, 0));\n",
    "ax.legend(hd_qtl.columns[:-2], loc=0)\n",
    "ax.set_title('holding cost不同分位点下不同模型的表现');"
   ]
  },
  {
   "cell_type": "code",
   "execution_count": 53,
   "metadata": {
    "nbpresent": {
     "id": "f5769300-8fed-46ff-a755-a5e55fd62dab"
    }
   },
   "outputs": [
    {
     "data": {
      "image/png": "[encoded data removed]",
      "text/plain": [
       "<Figure size 576x432 with 1 Axes>"
      ]
     },
     "metadata": {},
     "output_type": "display_data"
    }
   ],
   "source": [
    "fig, ax = plt.subplots(figsize=(8, 6))\n",
    "ax.plot(np.log(bk_qtl.iloc[:,:-2].astype(float)).replace(-np.inf, 0));\n",
    "ax.set_xlim(0, 1)\n",
    "ax.legend(bk_qtl.columns[:-2], loc=0)\n",
    "ax.set_title('stockout cost不同分位点下不同模型的表现');"
   ]
  },
  {
   "cell_type": "code",
   "execution_count": null,
   "metadata": {},
   "outputs": [],
   "source": []
  },
  {
   "cell_type": "code",
   "execution_count": 163,
   "metadata": {},
   "outputs": [
    {
     "data": {
      "image/png": "[encoded data removed]",
      "text/plain": [
       "<Figure size 432x360 with 1 Axes>"
      ]
     },
     "metadata": {},
     "output_type": "display_data"
    }
   ],
   "source": [
    "sl_qtl = df_cost.sort_values('Ave_sales').groupby(df_cost.index//360).mean()\n",
    "fig, ax = plt.subplots(figsize=(6, 5))\n",
    "ax.plot(np.log(sl_qtl.iloc[:,:-2].astype(float)).replace(-np.inf, 0));\n",
    "ax.legend(sl_qtl.columns[:-2], loc=0)\n",
    "ax.set_xlabel('$i$-th quantile of averaged demand');\n",
    "ax.set_ylabel('total cost(log)');\n",
    "ax.set_ylim((0,10));\n",
    "plt.savefig('../figures/eps/qtl1.eps', dpi=200)"
   ]
  },
  {
   "cell_type": "code",
   "execution_count": 164,
   "metadata": {},
   "outputs": [
    {
     "data": {
      "image/png": "[encoded data removed]",
      "text/plain": [
       "<Figure size 432x360 with 1 Axes>"
      ]
     },
     "metadata": {},
     "output_type": "display_data"
    }
   ],
   "source": [
    "sl_qtl = df_holding.sort_values('Ave_sales').groupby(df_cost.index//360).mean()\n",
    "fig, ax = plt.subplots(figsize=(6, 5))\n",
    "ax.plot(np.log(sl_qtl.iloc[:,:-2].astype(float)).replace(-np.inf, 0));\n",
    "ax.legend(sl_qtl.columns[:-2], loc=0)\n",
    "ax.set_xlabel('$i$-th quantile of averaged demand');\n",
    "ax.set_ylabel('Holding cost(log)');\n",
    "ax.set_ylim((0,10));\n",
    "plt.savefig('../figures/eps/qtl2.eps', dpi=200)"
   ]
  },
  {
   "cell_type": "code",
   "execution_count": 165,
   "metadata": {},
   "outputs": [
    {
     "data": {
      "image/png": "[encoded data removed]",
      "text/plain": [
       "<Figure size 432x360 with 1 Axes>"
      ]
     },
     "metadata": {},
     "output_type": "display_data"
    }
   ],
   "source": [
    "sl_qtl = df_back.sort_values('Ave_sales').groupby(df_cost.index//360).mean()\n",
    "fig, ax = plt.subplots(figsize=(6, 5))\n",
    "ax.plot(np.log(sl_qtl.iloc[:,:-2].astype(float)).replace(-np.inf, 0));\n",
    "ax.legend(sl_qtl.columns[:-2], loc=0)\n",
    "ax.set_xlabel('$i$-th quantile of averaged demand');\n",
    "ax.set_ylabel('Stockout cost(log)');\n",
    "ax.set_ylim((0,10));\n",
    "plt.savefig('../figures/eps/qtl3.eps', dpi=200)"
   ]
  },
  {
   "cell_type": "code",
   "execution_count": 166,
   "metadata": {},
   "outputs": [
    {
     "data": {
      "image/png": "[encoded data removed]",
      "text/plain": [
       "<Figure size 432x360 with 1 Axes>"
      ]
     },
     "metadata": {},
     "output_type": "display_data"
    }
   ],
   "source": [
    "sl_qtl = df_stockout.sort_values('Ave_sales').groupby(df_cost.index//360).mean()\n",
    "fig, ax = plt.subplots(figsize=(6, 5))\n",
    "ax.plot(sl_qtl.iloc[:,:-2].astype(float));\n",
    "ax.legend(sl_qtl.columns[:-2], loc=0)\n",
    "ax.set_xlabel('$i$-th quantile of averaged demand');\n",
    "ax.set_ylabel('Stockout ratio');\n",
    "# ax.set_ylim((0,));\n",
    "plt.savefig('../figures/eps/qtl4.png', dpi=200)"
   ]
  },
  {
   "cell_type": "code",
   "execution_count": 167,
   "metadata": {},
   "outputs": [
    {
     "data": {
      "image/png": "[encoded data removed]",
      "text/plain": [
       "<Figure size 432x360 with 1 Axes>"
      ]
     },
     "metadata": {},
     "output_type": "display_data"
    }
   ],
   "source": [
    "sl_qtl = df_turnover.sort_values('Ave_sales').groupby(df_cost.index//360).mean()\n",
    "fig, ax = plt.subplots(figsize=(6, 5))\n",
    "ax.plot(sl_qtl.iloc[:,:-2].astype(float));\n",
    "ax.legend(sl_qtl.columns[:-2], loc=0)\n",
    "ax.set_xlabel('$i$-th quantile of averaged demand');\n",
    "ax.set_ylabel('Inventory turnover (days)');\n",
    "# ax.set_ylim((0,));\n",
    "plt.savefig('../figures/eps/qtl5.eps', dpi=200)"
   ]
  },
  {
   "cell_type": "code",
   "execution_count": 129,
   "metadata": {},
   "outputs": [],
   "source": [
    "df_cost.to_csv('../figures/eps/df_cost.csv', index=False)\n",
    "df_holding.to_csv('../figures/eps/df_holding.csv', index=False)\n",
    "df_back.to_csv('../figures/eps/df_back.csv', index=False)\n",
    "df_stockout.to_csv('../figures/eps/df_stockout.csv', index=False)\n",
    "df_turnover.to_csv('../figures/eps/df_turnover.csv', index=False)"
   ]
  },
  {
   "cell_type": "code",
   "execution_count": null,
   "metadata": {},
   "outputs": [],
   "source": []
  },
  {
   "cell_type": "code",
   "execution_count": null,
   "metadata": {},
   "outputs": [],
   "source": []
  },
  {
   "cell_type": "code",
   "execution_count": 59,
   "metadata": {
    "nbpresent": {
     "id": "872b6578-a501-4bef-8872-611ece3043a4"
    }
   },
   "outputs": [],
   "source": [
    "# py_pp = df_cost\n",
    "# py_pp['SKU_DC'] = py_pp[['SKU_DC','create_tm']].apply(lambda x: '_'.join([str(i) for i in x]), axis=1)\n",
    "# py_pp.drop(columns=['create_tm','Ave_sales','Std_sales'], inplace=True)\n",
    "# py_pp_stack = py_pp.set_index('SKU_DC').stack().rename('method')\n",
    "# py_pp_stack = pd.DataFrame(py_pp_stack).reset_index()\n",
    "# taus, solver_vals, solvers, transformed_data = optperfprofpy.calc_perprof(py_pp_stack.iloc[0:770,:], ['SKU_DC'], ['method'], ['level_1'])\n",
    "# optperfprofpy.draw_simple_pp(taus, solver_vals, solvers)"
   ]
  },
  {
   "cell_type": "code",
   "execution_count": 60,
   "metadata": {
    "nbpresent": {
     "id": "248a1984-524d-4ec5-93f6-3f017ec87699"
    }
   },
   "outputs": [],
   "source": [
    "# import shap\n",
    "# # print the JS visualization code to the notebook\n",
    "# shap.initjs()"
   ]
  },
  {
   "cell_type": "code",
   "execution_count": 61,
   "metadata": {
    "nbpresent": {
     "id": "aad22aa7-3314-4a3a-9897-858f1a37d71a"
    }
   },
   "outputs": [],
   "source": [
    "# explainer = shap.TreeExplainer(gbm)\n",
    "# shap_values = explainer.shap_values(X_test)\n",
    "\n",
    "# shap.summary_plot(shap_values, X_test)\n",
    "\n",
    "# shap.summary_plot(shap_values, X_test, plot_type=\"bar\")"
   ]
  },
  {
   "cell_type": "code",
   "execution_count": null,
   "metadata": {},
   "outputs": [],
   "source": []
  },
  {
   "cell_type": "code",
   "execution_count": null,
   "metadata": {},
   "outputs": [],
   "source": []
  },
  {
   "cell_type": "code",
   "execution_count": null,
   "metadata": {
    "nbpresent": {
     "id": "3cf7da8c-ecb1-4bae-b26e-7b03b8899273"
    }
   },
   "outputs": [],
   "source": [
    "xx = np.arange(0, 200, 5)\n",
    "tt_is = X_test_ns.iloc[305:306,:]\n",
    "yy1, yy2 = [],[]\n",
    "for i in xx:\n",
    "#     tt_is['initial_stock'] = i\n",
    "    tt_ = pd.DataFrame(X_scaler.transform(tt_is), columns=tt_is.columns)\n",
    "\n",
    "    gbm_pred=gbm.predict(tt_) \n",
    "    nn_pred=sess.run(output, feed_dict={x_vlt: tt_[VLT_FEA].values, \n",
    "                                  x_sf: tt_[SF_FEA].values, \n",
    "                                  x_oth: tt_[MORE_FEA].values, \n",
    "                                  x_cat: tt_[CAT_FEA_HOT].values, \n",
    "                                  x_is: tt_[IS_FEA].values, \n",
    "                                  })\n",
    "    yy1.append( y_scaler.inverse_transform(gbm_pred.reshape(-1, 1))[0][0] )\n",
    "    yy2.append( y_scaler.inverse_transform(nn_pred.reshape(-1, 1))[0][0] )\n",
    "\n",
    "fig, ax1 = plt.subplots(figsize=(8, 6))\n",
    "plt.plot(xx, yy1, label='GBM');\n",
    "plt.plot(xx, yy2, label='NN');\n",
    "plt.plot(xx, 350-xx, label='ideally');\n",
    "\n",
    "# plt.plot(xx, 330-xx)\n",
    "plt.xlabel('initial stock')\n",
    "plt.ylabel('prediction')\n",
    "plt.legend(prop={'size': 12})"
   ]
  },
  {
   "cell_type": "code",
   "execution_count": null,
   "metadata": {},
   "outputs": [],
   "source": []
  },
  {
   "cell_type": "code",
   "execution_count": null,
   "metadata": {},
   "outputs": [],
   "source": []
  },
  {
   "cell_type": "code",
   "execution_count": null,
   "metadata": {},
   "outputs": [],
   "source": []
  },
  {
   "cell_type": "code",
   "execution_count": null,
   "metadata": {},
   "outputs": [],
   "source": []
  },
  {
   "cell_type": "code",
   "execution_count": null,
   "metadata": {},
   "outputs": [],
   "source": []
  },
  {
   "cell_type": "code",
   "execution_count": null,
   "metadata": {
    "nbpresent": {
     "id": "9eb6a2cb-fe6e-48e8-8e44-04471f39eb2d"
    }
   },
   "outputs": [],
   "source": [
    "sess.close()"
   ]
  },
  {
   "cell_type": "code",
   "execution_count": null,
   "metadata": {},
   "outputs": [],
   "source": []
  },
  {
   "cell_type": "code",
   "execution_count": null,
   "metadata": {},
   "outputs": [],
   "source": []
  },
  {
   "cell_type": "code",
   "execution_count": null,
   "metadata": {},
   "outputs": [],
   "source": [
    "# def get_agginv(x, name):\n",
    "#     inv1, inv2 = [x['initial_stock'][0]], []\n",
    "#     rd = len(x['pur_bill_id'])\n",
    " \n",
    "#     for r in range(rd):\n",
    "#         if r < rd - 1:\n",
    "#             len_day = len(x['demand_RV_list'][r])-1\n",
    "#         else:\n",
    "#             len_day = len(x['demand_RV_list'][r])\n",
    "#         print(x['demand_RV_list'][r])\n",
    "#         for t in range(len_day):\n",
    "#             if t == 0:\n",
    "#                 if r == 0:\n",
    "#                     replen = int(round(x[name+'_pred'][r] - inv1[0]))\n",
    "#                 else:\n",
    "#                     try:\n",
    "#                         replen = int(round(x[name+'_pred'][r] - max(inv1[-int(round(x['vlt_actual'][r]))-1], 0)))\n",
    "#                     except:\n",
    "#                         replen = int(round(x[name+'_pred'][r] - max(inv1[1],0)))\n",
    "#                 print(replen)\n",
    "#             if t < int(round(x['vlt_actual'][r])):\n",
    "#                 if r == 0:\n",
    "#                     inv1.append(inv1[-1] - x['demand_RV_list'][r][t])\n",
    "#             elif t == int(round(x['vlt_actual'][r])):\n",
    "#                 if inv1[-1] >= 0:\n",
    "#                     inv_ = inv1[-1] + replen - x['demand_RV_list'][r][t]\n",
    "#                 else:\n",
    "#                     inv_ = replen - x['demand_RV_list'][r][t]\n",
    "#                 inv1.append(inv_)\n",
    "#                 inv2.append(inv_)\n",
    "#             else:\n",
    "#                 inv_ = inv1[-1] - x['demand_RV_list'][r][t]\n",
    "#                 inv1.append(inv_)\n",
    "#                 inv2.append(inv_)\n",
    "    \n",
    "#     inv1 = inv1[1:]\n",
    "#     return [inv1, inv2]\n",
    "\n",
    "# o4g.iloc[109:110].apply(get_agginv, name='OPT',  axis=1).values"
   ]
  },
  {
   "cell_type": "code",
   "execution_count": null,
   "metadata": {},
   "outputs": [],
   "source": []
  },
  {
   "cell_type": "code",
   "execution_count": null,
   "metadata": {},
   "outputs": [],
   "source": []
  },
  {
   "cell_type": "code",
   "execution_count": 221,
   "metadata": {},
   "outputs": [],
   "source": [
    "dic_sku_name = pickle.load(open('../../general_data/dic_sku_name.pkl', 'rb'))"
   ]
  },
  {
   "cell_type": "code",
   "execution_count": 240,
   "metadata": {},
   "outputs": [
    {
     "name": "stdout",
     "output_type": "stream",
     "text": [
      "                       良品铺子 西瓜子 话梅味 袋装炒货 零食小包装105g\n"
     ]
    },
    {
     "data": {
      "image/png": "[encoded data removed]",
      "text/plain": [
       "<Figure size 720x360 with 1 Axes>"
      ]
     },
     "metadata": {},
     "output_type": "display_data"
    }
   ],
   "source": [
    "idx = 1000\n",
    "hist = np.exp(df_test['Enc_y'].iloc[idx][0])-1\n",
    "q10 = sf_rnn[idx,:,0]\n",
    "q50 = sf_rnn[idx,:,2]\n",
    "q90 = sf_rnn[idx,:,-2]\n",
    "x1 = np.arange(91)\n",
    "x2 = np.arange(91,122)\n",
    "fig, ax = plt.subplots(figsize=(10,5))\n",
    "ax.plot(x1, hist, label='history')\n",
    "ax.plot(x2, q10, color='r', label='10% quantile')\n",
    "ax.plot(x2, q50, color='C1', label='50% quantile')\n",
    "ax.plot(x2, q90, color='C2', label='90% quantile')\n",
    "ax.fill_between(x2, q10, q90, color='g', alpha=0.2)\n",
    "ax.legend()\n",
    "sku = df_test.iloc[idx][0].split('#')[0]\n",
    "print('                      ', dic_sku_name[sku]);"
   ]
  },
  {
   "cell_type": "code",
   "execution_count": null,
   "metadata": {},
   "outputs": [],
   "source": []
  }
 ],
 "metadata": {
  "kernelspec": {
   "display_name": "Python [conda env:tf]",
   "language": "python",
   "name": "conda-env-tf-py"
  },
  "language_info": {
   "codemirror_mode": {
    "name": "ipython",
    "version": 3
   },
   "file_extension": ".py",
   "mimetype": "text/x-python",
   "name": "python",
   "nbconvert_exporter": "python",
   "pygments_lexer": "ipython3",
   "version": "3.6.6"
  }
 },
 "nbformat": 4,
 "nbformat_minor": 2
}
