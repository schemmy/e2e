{
 "cells": [
  {
   "cell_type": "code",
   "execution_count": 1,
   "metadata": {
    "nbpresent": {
     "id": "73fb928c-b15c-40a2-bfb6-4370c9f23157"
    }
   },
   "outputs": [],
   "source": [
    "import numpy as np\n",
    "import pandas as pd\n",
    "import os\n",
    "import warnings\n",
    "from tqdm import tqdm\n",
    "import math\n",
    "import seaborn as sns\n",
    "\n",
    "from scipy.stats import gamma\n",
    "import datetime as dt\n",
    "from sklearn.model_selection import train_test_split\n",
    "from sklearn.preprocessing import MinMaxScaler\n",
    "import lightgbm as lgb\n",
    "# import optperfprofpy\n",
    "\n",
    "import sys \n",
    "sys.path.append('..')\n",
    "from utils.demand_pkg import *\n",
    "import matplotlib.pyplot as plt\n",
    "from utils.algorithms import get_opt, get_EQ, get_end2end_iid, get_end2end, get_normal_basestock, get_gamma_basestock, get_normal_basestock2\n",
    "\n",
    "import tensorflow as tf\n",
    "\n",
    "warnings.filterwarnings('ignore')\n",
    "plt.rcParams['font.sans-serif']=['SimHei'] #用来正常显示中文标签\n",
    "plt.rcParams['axes.unicode_minus']=False #用来正常显示负号"
   ]
  },
  {
   "cell_type": "code",
   "execution_count": 2,
   "metadata": {
    "nbpresent": {
     "id": "8c92309b-8cdb-4da6-84b4-a452bed4f113"
    }
   },
   "outputs": [],
   "source": [
    "o0 = pd.read_csv('../data/1320_feature/features_v12.csv', parse_dates=['create_tm','complete_dt','dt','next_complete_dt'],\n",
    "                 usecols=lambda col: col not in ['d_vlt'])"
   ]
  },
  {
   "cell_type": "code",
   "execution_count": 3,
   "metadata": {
    "nbpresent": {
     "id": "4877929e-a64f-4bd5-99b9-48aec65e7a10"
    }
   },
   "outputs": [],
   "source": [
    "df_sales = pd.read_csv('../data/1320/rdc_sales_1320_replenishment_V1_filled_pp.csv')\n",
    "df_sl = df_sales.set_index('row')\n",
    "df_sl.rename(columns=lambda x: (dt.datetime(2016,1,1) + dt.timedelta(days=int(x)-730)).date(), inplace=True)"
   ]
  },
  {
   "cell_type": "code",
   "execution_count": 4,
   "metadata": {
    "nbpresent": {
     "id": "d2498d9f-84ba-4e70-8a23-f078e31266eb"
    }
   },
   "outputs": [],
   "source": [
    "o0['IS_over_mean_56'] = (o0['initial_stock_overall'] / o0['mean_56']).replace(np.inf, 0).fillna(0)\n",
    "o0['overall_opt_order_for_opt'] = o0['overall_opt_order'].copy()"
   ]
  },
  {
   "cell_type": "code",
   "execution_count": 5,
   "metadata": {
    "nbpresent": {
     "id": "3b61de37-59f2-4614-bcc7-99042c425ef6"
    }
   },
   "outputs": [],
   "source": [
    "o1 = o0.copy()\n",
    "\n",
    "# o1.insert(1, 'sku_id', o1['item_sku_id'])\n",
    "o1.loc[:,'sku_id'] = o1['item_sku_id'].apply(lambda x: x.split('#')[0])"
   ]
  },
  {
   "cell_type": "code",
   "execution_count": 6,
   "metadata": {
    "nbpresent": {
     "id": "ef2cf35d-c15d-4cb8-8ab3-6ad8a7a8b5af"
    }
   },
   "outputs": [],
   "source": [
    "# o_num = o2.loc[:, feature_list+LABEL]\n",
    "# for i in range(2, o_num.shape[1]):\n",
    "#     plt.figure();\n",
    "#     ax = sns.distplot(o_num.iloc[:,i]);\n",
    "#     plt.savefig('../figures/vlm/%i.png' %i);\n",
    "#     plt.close();"
   ]
  },
  {
   "cell_type": "code",
   "execution_count": 7,
   "metadata": {
    "nbpresent": {
     "id": "a0c50587-c2a2-40f2-8b94-b6d57e504166"
    }
   },
   "outputs": [],
   "source": [
    "sku_set = o1.sku_id.unique()\n",
    "sku_train, sku_test = train_test_split(sku_set, random_state=10, train_size=0.9, test_size=0.1)"
   ]
  },
  {
   "cell_type": "code",
   "execution_count": 8,
   "metadata": {
    "nbpresent": {
     "id": "a6f40729-407e-4127-9ed5-a2b6565c5620"
    }
   },
   "outputs": [],
   "source": [
    "IDX = ['item_sku_id','sku_id']\n",
    "\n",
    "CAT_FEA = [\n",
    "#     'item_first_cate_cd', 'item_second_cate_cd', \n",
    "    'item_third_cate_cd', \n",
    "    'int_org_num', \n",
    "#     'brand_code', \n",
    "#     'create_day_of_week'\n",
    "    ]\n",
    "\n",
    "VLT_FEA = [\n",
    "#            'review_period', \n",
    "    'uprc', 'contract_stk_prc', \n",
    "#     'wt', 'width', 'height', 'calc_volume', 'len',\n",
    "#     'vlt_count', 'vlt_sum', 'vlt_min', 'vlt_max', 'vlt_mean', 'vlt_std',\n",
    "    'qtty_sum', 'qtty_min', 'qtty_max', 'qtty_mean', 'qtty_std', \n",
    "#     'amount_sum', 'amount_min', 'amount_max', 'amount_mean', 'amount_std', \n",
    "    'vlt_count_6mo', 'vlt_sum_6mo', 'vlt_min_6mo', 'vlt_max_6mo', 'vlt_mean_6mo', 'vlt_std_6mo',\n",
    "#     'vendor_vlt_count', 'vendor_vlt_sum', 'vendor_vlt_min', 'vendor_vlt_max', 'vendor_vlt_mean', 'vendor_vlt_std', \n",
    "#     'vendor_vlt_count_6mo', 'vendor_vlt_sum_6mo', 'vendor_vlt_min_6mo', \n",
    "#     'vendor_vlt_max_6mo', 'vendor_vlt_mean_6mo', 'vendor_vlt_std_6mo', \n",
    "#     'vendor_qtty_sum', 'vendor_qtty_min', 'vendor_qtty_max', \n",
    "#     'vendor_qtty_mean', 'vendor_qtty_std', 'vendor_amount_sum',\n",
    "#     'vendor_amount_min', 'vendor_amount_max', 'vendor_amount_mean'\n",
    "        ]\n",
    "\n",
    "SF_FEA = [\n",
    "#         'q_7', 'q_14', 'q_28', 'q_56', 'q_112', \n",
    "        'mean_3', 'mean_7', 'mean_14', 'mean_28', 'mean_56', 'mean_112', \n",
    "#         'diff_140_mean', 'mean_140_decay', 'median_140', 'min_140', 'max_140', 'std_140', \n",
    "#         'diff_60_mean', 'mean_60_decay', 'median_60', 'min_60', 'max_60', 'std_60', \n",
    "        'diff_30_mean', 'mean_30_decay', 'median_30', 'min_30', 'max_30', 'std_30', \n",
    "#         'diff_14_mean', 'mean_14_decay', 'median_14', 'min_14', 'max_14', 'std_14',\n",
    "#         'diff_7_mean', 'mean_7_decay', 'median_7', 'min_7', 'max_7', 'std_7',\n",
    "        'diff_3_mean', 'mean_3_decay', 'median_3', 'min_3', 'max_3', 'std_3',\n",
    "#         'has_sales_days_in_last_140', 'last_has_sales_day_in_last_140',\n",
    "#         'first_has_sales_day_in_last_140', 'has_sales_days_in_last_60',\n",
    "#         'last_has_sales_day_in_last_60', 'first_has_sales_day_in_last_60',\n",
    "#         'has_sales_days_in_last_30', 'last_has_sales_day_in_last_30',\n",
    "#         'first_has_sales_day_in_last_30', 'has_sales_days_in_last_14',\n",
    "#         'last_has_sales_day_in_last_14', 'first_has_sales_day_in_last_14',\n",
    "#         'has_sales_days_in_last_7', 'last_has_sales_day_in_last_7', 'first_has_sales_day_in_last_7'\n",
    "            ]\n",
    "   \n",
    "MORE_FEA =[\n",
    "           'review_period', \n",
    "           'normal', \n",
    "           'gamma', \n",
    "            'eq'\n",
    "            ]\n",
    "\n",
    "IS_FEA = [\n",
    "#            'initial_stock', \n",
    "#            'IS_over_mean_56'\n",
    "        ]\n",
    "    \n",
    "# LABEL = ['target_decision']    \n",
    "LABEL = ['demand_RV']    \n",
    "\n",
    "\n",
    "o1[CAT_FEA] = o1[CAT_FEA].astype('category')\n",
    "\n",
    "# o1 = o0[VLT_CAT_FEA_COLS + VLT_NUM_FEA_COLS]\n",
    "\n",
    "o_dummy = pd.get_dummies(o1[CAT_FEA])\n",
    "len_dummy = o_dummy.shape[1]\n",
    "o1 = pd.concat([o1, o_dummy], axis=1)\n",
    "o2 = o1.drop(CAT_FEA, axis=1)\n",
    "\n",
    "CAT_FEA_HOT = list(o2.columns)[-len_dummy:]"
   ]
  },
  {
   "cell_type": "code",
   "execution_count": 9,
   "metadata": {
    "nbpresent": {
     "id": "fa4e4107-7854-40e5-9373-775bec02ffe6"
    }
   },
   "outputs": [],
   "source": [
    "feature_list =  VLT_FEA + SF_FEA + MORE_FEA + IS_FEA + CAT_FEA_HOT"
   ]
  },
  {
   "cell_type": "code",
   "execution_count": 10,
   "metadata": {
    "nbpresent": {
     "id": "99b45a3e-0ea9-4163-b023-31de3e154ed3"
    }
   },
   "outputs": [],
   "source": [
    "# o1 = o1[(o1['target_decision'] > o1['target_decision'].quantile(0.01)) & (o1['target_decision'] < o1['target_decision'].quantile(0.98))]\n",
    "# o1 = o1[(o1['initial_stock'] > o1['initial_stock'].quantile(0.01)) & (o1['initial_stock'] < o1['initial_stock'].quantile(0.98))]"
   ]
  },
  {
   "cell_type": "code",
   "execution_count": 11,
   "metadata": {
    "nbpresent": {
     "id": "31290e7a-ca37-4132-830e-665baeeed748"
    }
   },
   "outputs": [],
   "source": [
    "low_qtl = o1[VLT_FEA + SF_FEA + MORE_FEA].quantile(0.01)\n",
    "hgh_qtl = o1[VLT_FEA + SF_FEA + MORE_FEA].quantile(0.98)\n",
    "o2 = o2.copy()\n",
    "o2.loc[:, VLT_FEA + SF_FEA + MORE_FEA] = o1[VLT_FEA + SF_FEA + MORE_FEA].clip(low_qtl, hgh_qtl, axis=1)"
   ]
  },
  {
   "cell_type": "code",
   "execution_count": 12,
   "metadata": {},
   "outputs": [],
   "source": [
    "# Remove outliers\n",
    "o2r = o2[o2[LABEL[0]]<=o2[LABEL[0]].quantile(0.99)]"
   ]
  },
  {
   "cell_type": "code",
   "execution_count": 13,
   "metadata": {
    "nbpresent": {
     "id": "8b32cff8-e7b9-4a77-bf0d-fbd8835dec9c"
    }
   },
   "outputs": [],
   "source": [
    "df_train = o2r[o2r['sku_id'].isin(sku_train)]\n",
    "df_test = o2r[o2r['sku_id'].isin(sku_test)]\n",
    "\n",
    "X_train_ns, y_train_ns, id_train = df_train[feature_list], df_train[LABEL], df_train[IDX]\n",
    "X_test_ns, y_test_ns, id_test = df_test[feature_list], df_test[LABEL], df_test[IDX]\n",
    "\n",
    "n_train, n_test = len(X_train_ns), len(X_test_ns)"
   ]
  },
  {
   "cell_type": "code",
   "execution_count": 14,
   "metadata": {
    "nbpresent": {
     "id": "aad8d85f-0233-4a12-a061-e9b271b97add"
    }
   },
   "outputs": [
    {
     "name": "stdout",
     "output_type": "stream",
     "text": [
      "21.17255381689934 23.170218058204128\n"
     ]
    }
   ],
   "source": [
    "print(X_train_ns.mean_7.mean(), X_test_ns.mean_7.mean())"
   ]
  },
  {
   "cell_type": "code",
   "execution_count": 15,
   "metadata": {
    "nbpresent": {
     "id": "83409c34-6ca9-489a-adf9-15ead5b44f9b"
    }
   },
   "outputs": [],
   "source": [
    "X_scaler = MinMaxScaler() # For normalizing dataset\n",
    "y_scaler = MinMaxScaler() # For normalizing dataset\n",
    "# We want to predict Close value of stock \n",
    "X_train = pd.DataFrame(X_scaler.fit_transform(X_train_ns), columns=X_train_ns.columns)\n",
    "y_train = pd.DataFrame(y_scaler.fit_transform(y_train_ns), columns=y_train_ns.columns)\n",
    "\n",
    "X_test = pd.DataFrame(X_scaler.transform(X_test_ns), columns=X_test_ns.columns)\n",
    "y_test = pd.DataFrame(y_scaler.transform(y_test_ns), columns=y_test_ns.columns)\n",
    "# pd.DataFrame(min_max_scaler.inverse_transform(y_test), columns=y_test.columns)"
   ]
  },
  {
   "cell_type": "code",
   "execution_count": 16,
   "metadata": {
    "nbpresent": {
     "id": "92c75512-d64f-40cb-882d-3843911c03c8"
    },
    "scrolled": true
   },
   "outputs": [
    {
     "data": {
      "text/plain": [
       "Index(['uprc', 'contract_stk_prc', 'qtty_sum', 'qtty_min', 'qtty_max',\n",
       "       'qtty_mean', 'qtty_std', 'vlt_count_6mo', 'vlt_sum_6mo', 'vlt_min_6mo',\n",
       "       'vlt_max_6mo', 'vlt_mean_6mo', 'vlt_std_6mo', 'mean_3', 'mean_7',\n",
       "       'mean_14', 'mean_28', 'mean_56', 'mean_112', 'diff_30_mean',\n",
       "       'mean_30_decay', 'median_30', 'min_30', 'max_30', 'std_30',\n",
       "       'diff_3_mean', 'mean_3_decay', 'median_3', 'min_3', 'max_3', 'std_3',\n",
       "       'review_period', 'normal', 'gamma', 'eq', 'item_third_cate_cd_1591',\n",
       "       'item_third_cate_cd_2677', 'item_third_cate_cd_5022',\n",
       "       'item_third_cate_cd_5024', 'int_org_num_3', 'int_org_num_4',\n",
       "       'int_org_num_5', 'int_org_num_6', 'int_org_num_9', 'int_org_num_10',\n",
       "       'int_org_num_316', 'int_org_num_772'],\n",
       "      dtype='object')"
      ]
     },
     "execution_count": 16,
     "metadata": {},
     "output_type": "execute_result"
    }
   ],
   "source": [
    "X_train_ns.columns"
   ]
  },
  {
   "cell_type": "code",
   "execution_count": 17,
   "metadata": {
    "nbpresent": {
     "id": "c78a01c5-6cb5-409f-8a51-6a8827611efc"
    }
   },
   "outputs": [
    {
     "data": {
      "text/plain": [
       "array([5281.])"
      ]
     },
     "execution_count": 17,
     "metadata": {},
     "output_type": "execute_result"
    }
   ],
   "source": [
    "y_scaler.data_max_"
   ]
  },
  {
   "cell_type": "code",
   "execution_count": 18,
   "metadata": {
    "nbpresent": {
     "id": "c9ed1df0-a8cc-4666-9a0c-840b1e235d3d"
    }
   },
   "outputs": [
    {
     "data": {
      "text/plain": [
       "(0.0001893580761219466, 0.00041419007284551417)"
      ]
     },
     "execution_count": 18,
     "metadata": {},
     "output_type": "execute_result"
    }
   ],
   "source": [
    "y_scaler.scale_[0], X_scaler.scale_[-13]"
   ]
  },
  {
   "cell_type": "code",
   "execution_count": 19,
   "metadata": {
    "nbpresent": {
     "id": "e3ad4ff8-33be-422e-8f53-99be9eef6db1"
    }
   },
   "outputs": [],
   "source": [
    "# mean = X_train_ns.mean(axis=0)\n",
    "# std = X_train_ns.std(axis=0)\n",
    "# X_train = (X_train_ns - mean) / std\n",
    "# X_test = (X_test_ns - mean) / std"
   ]
  },
  {
   "cell_type": "code",
   "execution_count": 103,
   "metadata": {
    "nbpresent": {
     "id": "26f9a1d0-33c0-4a59-84b0-32f9bb65d8a3"
    }
   },
   "outputs": [],
   "source": [
    "cat_dim = len(CAT_FEA_HOT)\n",
    "vlt_dim = len(VLT_FEA)\n",
    "sf_dim = len(SF_FEA)\n",
    "oth_dim = len(MORE_FEA)\n",
    "is_dim = len(IS_FEA)\n",
    "input_dim =  vlt_dim + sf_dim + oth_dim + is_dim + cat_dim\n",
    "\n",
    "hidden_dim = [[50, 60], 80, 20]\n",
    "\n",
    "output_dim = 1\n",
    "q = 0.9\n",
    "\n",
    "\n",
    "tf.reset_default_graph()\n",
    "tf.set_random_seed(0)\n",
    "\n",
    "with tf.name_scope('Data'):\n",
    "    x_vlt = tf.placeholder(tf.float32, shape=[None, vlt_dim], name='Input_vlt')\n",
    "    x_sf = tf.placeholder(tf.float32, shape=[None, sf_dim], name='Input_sf')\n",
    "    x_cat = tf.placeholder(tf.float32, shape=[None, cat_dim], name='Input_pf')\n",
    "    x_oth = tf.placeholder(tf.float32, shape=[None, oth_dim], name='Input_more')\n",
    "    x_is = tf.placeholder(tf.float32, shape=[None, is_dim], name='Input_IS')\n",
    "    mean_vlt = tf.expand_dims(x_vlt[:,11],1, name='mean_vlt')\n",
    "    review_p = tf.expand_dims(x_oth[:,0],1, name='review_p')\n",
    "\n",
    "with tf.name_scope('Label'):\n",
    "    y = tf.placeholder(tf.float32, shape=[None, 1], name='Label')\n",
    "\n",
    "\n",
    "with tf.variable_scope('Layer_1_vlt'):\n",
    "    W1_vlt = tf.Variable(tf.truncated_normal([vlt_dim+cat_dim, hidden_dim[0][0]], stddev=0.001), name='Weight_1_vlt')\n",
    "    b1_vlt = tf.Variable(tf.zeros([hidden_dim[0][0]]), name='Bias_1_vlt')\n",
    "    l1_vlt = tf.add(tf.matmul(tf.concat([x_vlt, x_cat], axis=1), W1_vlt), b1_vlt)\n",
    "    l1_vlt = tf.nn.relu(l1_vlt)\n",
    "\n",
    "with tf.variable_scope('Layer_1_sf'):\n",
    "    W1_sf = tf.Variable(tf.truncated_normal([sf_dim+cat_dim, hidden_dim[0][1]], stddev=0.001), name='Weight_1_sf')\n",
    "    b1_sf = tf.Variable(tf.zeros([hidden_dim[0][1]]), name='Bias_1_sf')\n",
    "    l1_sf = tf.add(tf.matmul(tf.concat([x_sf, x_cat], axis=1), W1_sf), b1_sf)\n",
    "    l1_sf = tf.nn.relu(l1_sf)\n",
    "    \n",
    "# with tf.variable_scope('Layer_1_profile'):\n",
    "#     W1_pf = tf.Variable(tf.truncated_normal([cat_dim, hidden_dim[0][2]], stddev=0.001), name='Weight_1_pf')\n",
    "#     b1_pf = tf.Variable(tf.zeros([hidden_dim[0][2]]), name='Bias_1_pf')\n",
    "#     l1_pf = tf.add(tf.matmul(x_cat, W1_pf), b1_pf)\n",
    "#     l1_pf = tf.nn.relu(l1_pf)\n",
    "\n",
    "with tf.variable_scope('Layer_2'):\n",
    "    W2 = tf.Variable(tf.truncated_normal([hidden_dim[0][0]+hidden_dim[0][1]+oth_dim, hidden_dim[1]], stddev=0.001), name='Weight_2')\n",
    "    b2 = tf.Variable(tf.zeros([hidden_dim[1]]), name='Bias_3')\n",
    "    l2 = tf.add(tf.matmul(tf.concat([l1_vlt, l1_sf, x_oth], axis=1), W2), b2)\n",
    "    l2 = tf.nn.relu(l2)\n",
    "\n",
    "with tf.variable_scope('Layer_3'):\n",
    "    W3 = tf.Variable(tf.truncated_normal([hidden_dim[1], hidden_dim[2]], stddev=0.001), name='Weight_3')\n",
    "    b3 = tf.Variable(tf.zeros([hidden_dim[2]]), name='Bias_3')\n",
    "    l3 = tf.add(tf.matmul(tf.concat([l2], axis=1), W3), b3)\n",
    "    l3 = tf.nn.relu(l3)\n",
    "\n",
    "with tf.variable_scope('Layer_final'):\n",
    "    W4 = tf.Variable(tf.truncated_normal([hidden_dim[2], 1], stddev=0.001), name='Weight_4')\n",
    "    b4 = tf.Variable(tf.zeros([1]), name='Bias_4')\n",
    "    output = tf.add(tf.matmul(tf.concat([l3, x_is], axis=1), W4), b4)\n",
    "    error = y - output\n",
    "#     loss = tf.reduce_mean(tf.square(tf.maximum(q*error, (q-1)*error)) )\n",
    "    c_os = tf.multiply(q*error, review_p + mean_vlt ) * 0.5\n",
    "    c_hd = (q-1)*error\n",
    "    loss = tf.reduce_mean(tf.maximum(c_os, c_hd) )\n",
    "\n",
    "with tf.name_scope('Optimizer'):\n",
    "    train_step = tf.train.AdamOptimizer(learning_rate=0.0001).minimize(loss)\n"
   ]
  },
  {
   "cell_type": "code",
   "execution_count": 104,
   "metadata": {
    "nbpresent": {
     "id": "c5b00d1c-e3a7-4a50-b57e-2646db13eb4f"
    }
   },
   "outputs": [
    {
     "name": "stdout",
     "output_type": "stream",
     "text": [
      "0 0.011302222 0.012461871\n",
      "1 0.00448303575545313 0.0032490622\n",
      "2 0.002754830489162958 0.0031530473\n",
      "3 0.0026907561885745226 0.0030997507\n",
      "4 0.002639386122002705 0.003061452\n",
      "5 0.002596213310189028 0.003030743\n",
      "6 0.002556584173431535 0.0029986373\n",
      "7 0.0025194847089463307 0.002979304\n",
      "8 0.0024879918760792913 0.0029585294\n",
      "9 0.0024589330899369055 0.002956283\n",
      "10 0.0024347491641265313 0.0029331439\n",
      "11 0.002411954489871877 0.0029149249\n",
      "12 0.0023923453293148143 0.0028973294\n",
      "13 0.002373152264211291 0.0028922933\n",
      "14 0.002355392389006926 0.0028917876\n",
      "15 0.0023381751896311156 0.0028866713\n",
      "16 0.0023248675880167325 0.0028608069\n",
      "17 0.002309997720513632 0.0028512874\n",
      "18 0.0022961216312035707 0.0028408826\n",
      "19 0.0022834865441277467 0.002825795\n",
      "20 0.0022715309601383264 0.0028144936\n"
     ]
    }
   ],
   "source": [
    "epochs = 20\n",
    "batch_size = 64\n",
    "init = tf.global_variables_initializer()\n",
    "\n",
    "sess = tf.Session()\n",
    "sess.run(init)\n",
    "writer = tf.summary.FileWriter(\"output\", sess.graph)\n",
    "writer.close()\n",
    "\n",
    "\n",
    "train_err = sess.run(loss, feed_dict={x_vlt: X_train[VLT_FEA].values, \n",
    "                                     x_sf: X_train[SF_FEA].values, \n",
    "                                     x_oth: X_train[MORE_FEA].values, \n",
    "                                     x_cat: X_train[CAT_FEA_HOT].values, \n",
    "                                     x_is: X_train[IS_FEA].values, \n",
    "                                     y: y_train.values})\n",
    "test_err = sess.run(loss, feed_dict={x_vlt: X_test[VLT_FEA].values, \n",
    "                                     x_sf: X_test[SF_FEA].values, \n",
    "                                     x_oth: X_test[MORE_FEA].values, \n",
    "                                     x_cat: X_test[CAT_FEA_HOT].values, \n",
    "                                     x_is: X_test[IS_FEA].values, \n",
    "                                     y: y_test.values})\n",
    "print(0, train_err, test_err)\n",
    "for epoch in range(epochs):\n",
    "    # Split data to batches\n",
    "    train_err = 0\n",
    "    for idx in range(0, X_train.shape[0], batch_size):\n",
    "        bs = min(idx + batch_size, n_train) - idx\n",
    "        batch_data = X_train.iloc[idx:bs+idx, :]\n",
    "        batch_labels = y_train.iloc[idx:bs+idx, :]\n",
    "        feed_dict = {x_vlt: batch_data[VLT_FEA].values, \n",
    "                     x_sf: batch_data[SF_FEA].values, \n",
    "                     x_oth: batch_data[MORE_FEA].values,\n",
    "                     x_cat: batch_data[CAT_FEA_HOT].values,\n",
    "                     x_is: batch_data[IS_FEA].values,\n",
    "                     y: batch_labels}\n",
    "        _, c_loss = sess.run([train_step, loss], feed_dict)\n",
    "        train_err += c_loss*bs\n",
    "    test_err = sess.run(loss, feed_dict={x_vlt: X_test[VLT_FEA].values, \n",
    "                                         x_sf: X_test[SF_FEA].values, \n",
    "                                         x_oth: X_test[MORE_FEA].values, \n",
    "                                         x_cat: X_test[CAT_FEA_HOT].values, \n",
    "                                         x_is: X_test[IS_FEA].values, \n",
    "                                         y: y_test.values})\n",
    "    print(epoch+1, train_err/n_train, test_err)"
   ]
  },
  {
   "cell_type": "code",
   "execution_count": 105,
   "metadata": {
    "nbpresent": {
     "id": "f4eeb342-e463-48af-92f5-ebc6f36d01b1"
    },
    "scrolled": true
   },
   "outputs": [],
   "source": [
    "pred = sess.run(output, feed_dict={x_vlt: X_test[VLT_FEA].values, \n",
    "                                  x_sf: X_test[SF_FEA].values, \n",
    "                                  x_oth: X_test[MORE_FEA].values, \n",
    "                                  x_cat: X_test[CAT_FEA_HOT].values, \n",
    "                                  x_is: X_test[IS_FEA].values, \n",
    "                                  })\n",
    "\n",
    "pred = pd.DataFrame(y_scaler.inverse_transform(pred), columns=['prediction']).fillna(0)"
   ]
  },
  {
   "cell_type": "code",
   "execution_count": null,
   "metadata": {
    "nbpresent": {
     "id": "4ae000aa-b43b-4e8b-a0b6-8949f9a6fd5c"
    }
   },
   "outputs": [],
   "source": []
  },
  {
   "cell_type": "code",
   "execution_count": 106,
   "metadata": {
    "nbpresent": {
     "id": "706bda58-8a7e-4d3f-b36b-e01917d85d98"
    },
    "scrolled": false
   },
   "outputs": [
    {
     "data": {
      "image/png": "[encoded data removed]",
      "text/plain": [
       "<Figure size 432x288 with 1 Axes>"
      ]
     },
     "metadata": {},
     "output_type": "display_data"
    }
   ],
   "source": [
    "sns.distplot(pred['prediction']);\n",
    "sns.distplot(y_test_ns);"
   ]
  },
  {
   "cell_type": "code",
   "execution_count": null,
   "metadata": {
    "nbpresent": {
     "id": "671f9f0c-3308-4676-92c7-2cac73e8cf9d"
    },
    "scrolled": true
   },
   "outputs": [],
   "source": []
  },
  {
   "cell_type": "code",
   "execution_count": 107,
   "metadata": {
    "nbpresent": {
     "id": "14e7f7ff-7b40-4434-aecf-f1cf820f0814"
    },
    "scrolled": true
   },
   "outputs": [],
   "source": [
    "# gbm = lgb.LGBMRegressor(alpha=0.9, objective='quantile', max_depth = -10, num_leaves=31, learning_rate=0.05, \n",
    "#                         n_estimators=2000, \n",
    "#                         subsample=0.7,\n",
    "#                         silent=1,\n",
    "#                         seed=0 )\n",
    "\n",
    "# gbm.fit(X_train, y_train.values.T[0], eval_set=(X_test, y_test.values.T[0])) "
   ]
  },
  {
   "cell_type": "code",
   "execution_count": 108,
   "metadata": {
    "nbpresent": {
     "id": "be20090e-1a6d-40f0-a30b-01e1f854975e"
    }
   },
   "outputs": [],
   "source": [
    "gbm_pred=gbm.predict(X_test) "
   ]
  },
  {
   "cell_type": "code",
   "execution_count": 109,
   "metadata": {
    "nbpresent": {
     "id": "e11119cf-c080-4422-be5b-1028d93e8fe1"
    }
   },
   "outputs": [],
   "source": [
    "gbm_pred = pd.DataFrame(y_scaler.inverse_transform(gbm_pred.reshape(-1, 1)), columns=['prediction']).fillna(0)\n",
    "# gbm_pred = pd.DataFrame(gbm_pred.reshape(-1, 1), columns=['prediction']).fillna(0)"
   ]
  },
  {
   "cell_type": "code",
   "execution_count": null,
   "metadata": {
    "nbpresent": {
     "id": "f53c0748-1ee5-4758-8829-84ca02965dee"
    }
   },
   "outputs": [],
   "source": []
  },
  {
   "cell_type": "code",
   "execution_count": null,
   "metadata": {
    "nbpresent": {
     "id": "4a1fe4ef-4032-472a-8249-6573357a36e6"
    }
   },
   "outputs": [],
   "source": []
  },
  {
   "cell_type": "code",
   "execution_count": 110,
   "metadata": {
    "nbpresent": {
     "id": "13da0871-e7a1-49c3-bc80-e1a69d59fb61"
    }
   },
   "outputs": [],
   "source": [
    "h = 1\n",
    "b = 9"
   ]
  },
  {
   "cell_type": "code",
   "execution_count": 111,
   "metadata": {
    "nbpresent": {
     "id": "796df926-836c-48eb-ad71-1a30f31748a3"
    },
    "scrolled": true
   },
   "outputs": [],
   "source": [
    "o4 = df_test.copy()\n",
    "o4.reset_index(drop=True, inplace=True)"
   ]
  },
  {
   "cell_type": "code",
   "execution_count": 112,
   "metadata": {
    "nbpresent": {
     "id": "3aac5064-50a3-4dc5-b42a-60ae8cfbc92f"
    },
    "scrolled": true
   },
   "outputs": [],
   "source": [
    "o4['demand_RV_list'] = o4.apply(lambda x: df_sl.loc[x['item_sku_id'], \\\n",
    "                                            x['create_tm'].date():x['next_complete_dt'].date()].values\\\n",
    "                            if x['item_sku_id'] in df_sl.index else [], axis=1)\n",
    "\n",
    "o4['demand_RV_list_acm'] = o4['demand_RV_list'].apply(lambda x: np.cumsum(x))"
   ]
  },
  {
   "cell_type": "code",
   "execution_count": 113,
   "metadata": {
    "nbpresent": {
     "id": "159ddfd9-94ca-41c8-a3bf-0e4807c7c3b3"
    }
   },
   "outputs": [],
   "source": [
    "list_c = ['SKU_DC', 'create_tm', 'OPT', 'E2E_NN', 'E2E_GBM', 'EQ',  'Normal', 'Gamma', 'Hist', \n",
    "          'Ave_sales','Std_sales', \n",
    "#           'Ave_review', 'Std_review'\n",
    "         ]\n",
    "numberOfRows = len(o4)\n",
    "\n",
    "df_cost = pd.DataFrame(index=np.arange(0, numberOfRows), columns=list_c)\n",
    "df_holding = pd.DataFrame(index=np.arange(0, numberOfRows), columns=list_c)\n",
    "df_back = pd.DataFrame(index=np.arange(0, numberOfRows), columns=list_c)\n",
    "df_stockout = pd.DataFrame(index=np.arange(0, numberOfRows), columns=list_c)\n",
    "df_turnover = pd.DataFrame(index=np.arange(0, numberOfRows), columns=list_c)"
   ]
  },
  {
   "cell_type": "code",
   "execution_count": 114,
   "metadata": {
    "nbpresent": {
     "id": "1a85c95c-b02f-4517-b8d0-9b3930890d71"
    }
   },
   "outputs": [],
   "source": [
    "df_cost['SKU_DC']=df_holding['SKU_DC']=df_back['SKU_DC']=df_stockout['SKU_DC']=df_turnover['SKU_DC']=o4['item_sku_id'].values\n",
    "df_cost['create_tm']=df_holding['create_tm']=df_back['create_tm']=df_stockout['create_tm']=df_turnover['create_tm']=o4['create_tm'].values\n",
    "df_cost['Ave_sales']=df_holding['Ave_sales']=df_back['Ave_sales']=df_stockout['Ave_sales']=df_turnover['Ave_sales']=o4['mean_112'].values\n",
    "df_cost['Std_sales']=df_holding['Std_sales']=df_back['Std_sales']=df_stockout['Std_sales']=df_turnover['Std_sales']=o4['std_140'].values"
   ]
  },
  {
   "cell_type": "code",
   "execution_count": 115,
   "metadata": {
    "nbpresent": {
     "id": "168366be-7fe7-4569-9187-a1f8cd674714"
    },
    "scrolled": true
   },
   "outputs": [],
   "source": [
    "def get_inv(x, name):\n",
    "    inv1, inv2 = [], []\n",
    " \n",
    "    for t in range(len(x['demand_RV_list_acm'])):\n",
    "        if t < np.ceil(x['vlt_actual']):\n",
    "            inv1.append(x['initial_stock']-x['demand_RV_list_acm'][t])\n",
    "            continue\n",
    "        else:\n",
    "#             if inv[-1] <= 0:\n",
    "#                 inv.append(-x['demand_RV_list'][t])\n",
    "#             else:\n",
    "#                 inv.append(inv[-1] - x['demand_RV_list'][t])\n",
    "            inv_ = x[name]+x['initial_stock']-x['demand_RV_list_acm'][t]\n",
    "            inv1.append(inv_)\n",
    "            inv2.append(inv_)\n",
    "    return [inv1, inv2]\n",
    "    \n",
    "Z90 = 1.96\n",
    "o4['OPT_inv_f'], o4['OPT_inv'] = zip(*o4.apply(lambda x: get_inv(x, 'target_decision'), axis=1))\n",
    "\n",
    "o4['EQ_replen'] = pd.read_csv('EQ_replen_with_IS.csv')\n",
    "o4['EQ_replen'] = (o4['EQ_replen'] - o4['initial_stock']).clip(0)\n",
    "o4['EQ_inv_f'], o4['EQ_inv'] = zip(*o4.apply(get_inv, name='EQ_replen', axis=1))\n",
    "\n",
    "o4['Normal_replen'] = o4.apply(lambda x: int(x['mean_112']*(x['review_period']+x['vendor_vlt_mean'])\n",
    "                                       +Z90*np.sqrt((x['review_period']+x['vendor_vlt_mean'])*x['std_140']**2\n",
    "                                                    + x['std_140']**2 * x['vlt_std'])), axis=1)\n",
    "o4['Normal_replen'] = (o4['Normal_replen'] - o4['initial_stock']).clip(0)\n",
    "o4['Normal_inv_f'], o4['Normal_inv'] = zip(*o4.apply(get_inv, name='Normal_replen',  axis=1))\n",
    "\n",
    "def gamma_base(x):\n",
    "    mean = x['mean_112']\n",
    "    var = x['std_140']**2\n",
    "    theta = var/(mean+1e-5)\n",
    "    k = mean/(theta+1e-5)\n",
    "    k_sum = int(x['review_period']+x['vendor_vlt_mean'])*k\n",
    "    gamma_stock = gamma.ppf(0.9, a=k_sum, scale = theta)\n",
    "    if(np.isnan(gamma_stock)):\n",
    "        return 0\n",
    "    else:\n",
    "        return int(gamma_stock)\n",
    "\n",
    "o4['Gamma_replen'] = o4.apply(gamma_base, axis=1)\n",
    "o4['Gamma_replen'] = (o4['Gamma_replen'] - o4['initial_stock']).clip(0)\n",
    "o4['Gamma_inv_f'],o4['Gamma_inv'] = zip(*o4.apply(get_inv, name='Gamma_replen', axis=1))\n",
    "\n",
    "o4['Hist_inv_f'], o4['Hist_inv'] = zip(*o4.apply(get_inv, name='actual_pur_qtty', axis=1))\n"
   ]
  },
  {
   "cell_type": "code",
   "execution_count": 116,
   "metadata": {
    "nbpresent": {
     "id": "adab284f-93eb-4609-8a11-2fc59f9107e4"
    }
   },
   "outputs": [],
   "source": [
    "o4['gbm_pred'] = (gbm_pred['prediction'] - o4['initial_stock']).clip(0)\n",
    "# o4['gbm_pred'] = gbm_pred['prediction'].clip(0)\n",
    "o4['E2E_GBM_inv_f'], o4['E2E_GBM_inv'] = zip(*o4.apply(get_inv, name='gbm_pred',  axis=1))\n",
    "\n",
    "o4['nn_pred'] = (pred['prediction'] - o4['initial_stock']).clip(0)\n",
    "# o4['nn_pred'] = pred['prediction'].clip(0)\n",
    "o4['E2E_NN_inv_f'], o4['E2E_NN_inv'] = zip(*o4.apply(get_inv, name='nn_pred', axis=1))"
   ]
  },
  {
   "cell_type": "code",
   "execution_count": 117,
   "metadata": {
    "nbpresent": {
     "id": "e60d1357-599b-4bcb-8a48-44c08cde2d7e"
    }
   },
   "outputs": [],
   "source": [
    "# o4['demand_EQ_list'] = o4.apply(lambda x: df_sl.iloc[:,360:].loc[x['item_sku_id'], \\\n",
    "#                                             :x['create_tm'].date()].values\\\n",
    "#                             if x['item_sku_id'] in df_sl.index else [], axis=1)\n",
    "# o4['EQ_replen_with_IS'] = o4.apply(lambda x: np.percentile(\n",
    "#                             [np.sum(x['demand_EQ_list'][i:i+int(x['review_period']+x['vendor_vlt_mean'])])\n",
    "#                                      for i in range(int(len(x['demand_EQ_list'])-x['review_period']-x['vendor_vlt_mean']))\n",
    "#                             ], 90), axis=1)\n",
    "# o4['EQ_replen_with_IS'] = o4['EQ_replen_with_IS'] - o4['initial_stock_overall']\n",
    "# o4['EQ_replen_with_IS'].to_csv('EQ_replen_with_IS.csv', index=False)\n",
    "# o4['EQ_replen_with_IS'] = pd.read_csv('EQ_replen_with_IS.csv')\n"
   ]
  },
  {
   "cell_type": "code",
   "execution_count": 118,
   "metadata": {
    "nbpresent": {
     "id": "fa6686c0-47fe-45d2-9764-ee090eb83b49"
    }
   },
   "outputs": [],
   "source": [
    "str_list = ['OPT', 'E2E_NN', 'E2E_GBM', 'EQ', 'Normal', 'Gamma', 'Hist']\n",
    "for str1 in str_list:\n",
    "    str2 = str1 + '_inv'\n",
    "    df_holding[str1] = o4[str2].apply(lambda x: h * sum([inv for inv in x if inv>0]) )\n",
    "#     df_back[str1] = o4[str2].apply(lambda x: b * sum([-inv for inv in x if inv<0]) )\n",
    "    df_back[str1] = o4[str2].apply(lambda x: b * (0 if  x==[] else max(0, -x[-1])))\n",
    "    df_stockout[str1] = o4[str2].apply(lambda x: len([inv for inv in x if inv<0])/len(x) if len(x)>0 else 0 )\n",
    "    df_turnover[str1] = o4.apply(lambda x: np.mean([max(i,0) for i in x[str2]]) / x['mean_112']\n",
    "                                  if np.mean(x['mean_112']) >0 else np.mean(x[str2]), axis=1).fillna(7)\n",
    "    df_cost[str1] = df_holding[str1] + df_back[str1]"
   ]
  },
  {
   "cell_type": "code",
   "execution_count": 119,
   "metadata": {
    "nbpresent": {
     "id": "e9b08461-6fd3-4aaf-b956-560b0c6fb607"
    },
    "scrolled": false
   },
   "outputs": [
    {
     "data": {
      "text/html": [
       "<div>\n",
       "<style scoped>\n",
       "    .dataframe tbody tr th:only-of-type {\n",
       "        vertical-align: middle;\n",
       "    }\n",
       "\n",
       "    .dataframe tbody tr th {\n",
       "        vertical-align: top;\n",
       "    }\n",
       "\n",
       "    .dataframe thead th {\n",
       "        text-align: right;\n",
       "    }\n",
       "</style>\n",
       "<table border=\"1\" class=\"dataframe\">\n",
       "  <thead>\n",
       "    <tr style=\"text-align: right;\">\n",
       "      <th></th>\n",
       "      <th>E2E_NN</th>\n",
       "      <th>Hist</th>\n",
       "      <th>Gamma</th>\n",
       "      <th>EQ</th>\n",
       "      <th>E2E_GBM</th>\n",
       "      <th>Normal</th>\n",
       "    </tr>\n",
       "  </thead>\n",
       "  <tbody>\n",
       "    <tr>\n",
       "      <th>Best</th>\n",
       "      <td>0.339856</td>\n",
       "      <td>0.271371</td>\n",
       "      <td>0.125114</td>\n",
       "      <td>0.118398</td>\n",
       "      <td>0.097007</td>\n",
       "      <td>0.048255</td>\n",
       "    </tr>\n",
       "  </tbody>\n",
       "</table>\n",
       "</div>"
      ],
      "text/plain": [
       "        E2E_NN      Hist     Gamma        EQ   E2E_GBM    Normal\n",
       "Best  0.339856  0.271371  0.125114  0.118398  0.097007  0.048255"
      ]
     },
     "execution_count": 119,
     "metadata": {},
     "output_type": "execute_result"
    }
   ],
   "source": [
    "pd.DataFrame({'Best': df_cost.iloc[:,3:9].idxmin(axis=1).value_counts()/len(df_cost)}).T"
   ]
  },
  {
   "cell_type": "code",
   "execution_count": 120,
   "metadata": {
    "nbpresent": {
     "id": "ccf73c3c-dd85-425c-8e5e-8d97141dd64a"
    },
    "scrolled": true
   },
   "outputs": [
    {
     "data": {
      "text/html": [
       "<div>\n",
       "<style scoped>\n",
       "    .dataframe tbody tr th:only-of-type {\n",
       "        vertical-align: middle;\n",
       "    }\n",
       "\n",
       "    .dataframe tbody tr th {\n",
       "        vertical-align: top;\n",
       "    }\n",
       "\n",
       "    .dataframe thead th {\n",
       "        text-align: right;\n",
       "    }\n",
       "</style>\n",
       "<table border=\"1\" class=\"dataframe\">\n",
       "  <thead>\n",
       "    <tr style=\"text-align: right;\">\n",
       "      <th></th>\n",
       "      <th>OPT</th>\n",
       "      <th>E2E_NN</th>\n",
       "      <th>E2E_GBM</th>\n",
       "      <th>EQ</th>\n",
       "      <th>Normal</th>\n",
       "      <th>Gamma</th>\n",
       "      <th>Hist</th>\n",
       "      <th>Ave_sales</th>\n",
       "    </tr>\n",
       "  </thead>\n",
       "  <tbody>\n",
       "    <tr>\n",
       "      <th>Total</th>\n",
       "      <td>959.150568</td>\n",
       "      <td>1524.774817</td>\n",
       "      <td>1556.880192</td>\n",
       "      <td>5067.905771</td>\n",
       "      <td>2337.760136</td>\n",
       "      <td>1992.108697</td>\n",
       "      <td>1574.354117</td>\n",
       "      <td>21.344102</td>\n",
       "    </tr>\n",
       "    <tr>\n",
       "      <th>Holding</th>\n",
       "      <td>959.150568</td>\n",
       "      <td>1279.238399</td>\n",
       "      <td>1407.728994</td>\n",
       "      <td>4558.411226</td>\n",
       "      <td>2212.000415</td>\n",
       "      <td>1807.381477</td>\n",
       "      <td>1207.003234</td>\n",
       "      <td>21.344102</td>\n",
       "    </tr>\n",
       "    <tr>\n",
       "      <th>Back</th>\n",
       "      <td>0.000000</td>\n",
       "      <td>245.536417</td>\n",
       "      <td>149.151198</td>\n",
       "      <td>509.494544</td>\n",
       "      <td>125.759721</td>\n",
       "      <td>184.727220</td>\n",
       "      <td>367.350883</td>\n",
       "      <td>21.344102</td>\n",
       "    </tr>\n",
       "    <tr>\n",
       "      <th>Stockout</th>\n",
       "      <td>0.000000</td>\n",
       "      <td>0.101895</td>\n",
       "      <td>0.061461</td>\n",
       "      <td>0.175182</td>\n",
       "      <td>0.058249</td>\n",
       "      <td>0.100721</td>\n",
       "      <td>0.234471</td>\n",
       "      <td>21.344102</td>\n",
       "    </tr>\n",
       "    <tr>\n",
       "      <th>Turnover</th>\n",
       "      <td>6.383452</td>\n",
       "      <td>15.335047</td>\n",
       "      <td>13.285219</td>\n",
       "      <td>201.062388</td>\n",
       "      <td>16.378515</td>\n",
       "      <td>12.776500</td>\n",
       "      <td>10.736846</td>\n",
       "      <td>21.344102</td>\n",
       "    </tr>\n",
       "  </tbody>\n",
       "</table>\n",
       "</div>"
      ],
      "text/plain": [
       "                 OPT       E2E_NN      E2E_GBM           EQ       Normal  \\\n",
       "Total     959.150568  1524.774817  1556.880192  5067.905771  2337.760136   \n",
       "Holding   959.150568  1279.238399  1407.728994  4558.411226  2212.000415   \n",
       "Back        0.000000   245.536417   149.151198   509.494544   125.759721   \n",
       "Stockout    0.000000     0.101895     0.061461     0.175182     0.058249   \n",
       "Turnover    6.383452    15.335047    13.285219   201.062388    16.378515   \n",
       "\n",
       "                Gamma         Hist  Ave_sales  \n",
       "Total     1992.108697  1574.354117  21.344102  \n",
       "Holding   1807.381477  1207.003234  21.344102  \n",
       "Back       184.727220   367.350883  21.344102  \n",
       "Stockout     0.100721     0.234471  21.344102  \n",
       "Turnover    12.776500    10.736846  21.344102  "
      ]
     },
     "execution_count": 120,
     "metadata": {},
     "output_type": "execute_result"
    }
   ],
   "source": [
    "pd.DataFrame({'Total': df_cost[['OPT','E2E_NN','E2E_GBM','EQ','Normal','Gamma','Hist','Ave_sales']].mean(),\n",
    "             'Holding': df_holding[['OPT','E2E_NN','E2E_GBM','EQ','Normal','Gamma','Hist','Ave_sales']].mean(),\n",
    "             'Back': df_back[['OPT','E2E_NN','E2E_GBM','EQ','Normal','Gamma','Hist','Ave_sales']].mean(),\n",
    "             'Stockout': df_stockout[['OPT','E2E_NN','E2E_GBM','EQ','Normal','Gamma','Hist','Ave_sales']].mean(),\n",
    "             'Turnover': df_turnover[['OPT','E2E_NN','E2E_GBM','EQ','Normal','Gamma','Hist','Ave_sales']].mean(),\n",
    "             }).T"
   ]
  },
  {
   "cell_type": "code",
   "execution_count": null,
   "metadata": {},
   "outputs": [],
   "source": []
  },
  {
   "cell_type": "code",
   "execution_count": 102,
   "metadata": {
    "nbpresent": {
     "id": "487e9481-2713-42d3-8f8c-f37e8509a175"
    },
    "scrolled": true
   },
   "outputs": [
    {
     "data": {
      "image/png": "[encoded data removed]",
      "text/plain": [
       "<Figure size 576x432 with 1 Axes>"
      ]
     },
     "metadata": {},
     "output_type": "display_data"
    }
   ],
   "source": [
    "tt = o4.iloc[305,:]\n",
    "fig, ax1 = plt.subplots(figsize=(8, 6))\n",
    "ax1.plot(tt['OPT_inv_f'], label = 'DP optimal')\n",
    "ax1.plot(tt['E2E_NN_inv_f'], label = 'E2E NN')\n",
    "ax1.plot(tt['E2E_GBM_inv_f'], label = 'E2E GBM')\n",
    "ax1.plot(tt['EQ_inv_f'], label = 'Emperical Quantile')\n",
    "ax1.plot(tt['Normal_inv_f'], label = 'Normal Basestock')\n",
    "ax1.plot(tt['Gamma_inv_f'], label = 'Gamma Basestock')\n",
    "ax1.plot(tt['Hist_inv_f'], label = 'Historical Decision')\n",
    "ax1.legend(loc='center left', bbox_to_anchor=(1.0, 0.5))\n",
    "ax1.grid(True)"
   ]
  },
  {
   "cell_type": "code",
   "execution_count": null,
   "metadata": {
    "nbpresent": {
     "id": "f468307e-99b3-4d0d-af2a-666ba691c804"
    }
   },
   "outputs": [],
   "source": []
  },
  {
   "cell_type": "code",
   "execution_count": null,
   "metadata": {
    "nbpresent": {
     "id": "cf6c6a76-7ba1-46bb-95c6-a99cec742422"
    }
   },
   "outputs": [],
   "source": [
    "co_qtl = df_cost.iloc[:,2:].quantile(np.linspace(0, 1, 11), numeric_only=False)\n",
    "hd_qtl = df_holding.iloc[:,2:].quantile(np.linspace(0, 1, 11), numeric_only=False)\n",
    "bk_qtl = df_back.iloc[:,2:].quantile(np.linspace(0, 1, 11), numeric_only=False)"
   ]
  },
  {
   "cell_type": "code",
   "execution_count": null,
   "metadata": {
    "nbpresent": {
     "id": "1917f71f-49c7-4efb-8cd3-3ae8aa1e42a2"
    }
   },
   "outputs": [],
   "source": [
    "fig, ax = plt.subplots(figsize=(8, 6))\n",
    "ax.plot(np.log(co_qtl.iloc[:,:-2].astype(float)).replace(-np.inf, 0));\n",
    "ax.legend(co_qtl.columns[:-2], loc=0)\n",
    "ax.set_title('total cost不同分位点下不同模型的表现');"
   ]
  },
  {
   "cell_type": "code",
   "execution_count": null,
   "metadata": {
    "nbpresent": {
     "id": "da0572e3-1a51-4530-9f44-a64330989685"
    }
   },
   "outputs": [],
   "source": [
    "fig, ax = plt.subplots(figsize=(8, 6))\n",
    "ax.plot(np.log(hd_qtl.iloc[:,:-2].astype(float)).replace(-np.inf, 0));\n",
    "ax.legend(hd_qtl.columns[:-2], loc=0)\n",
    "ax.set_title('holding cost不同分位点下不同模型的表现');"
   ]
  },
  {
   "cell_type": "code",
   "execution_count": null,
   "metadata": {
    "nbpresent": {
     "id": "f5769300-8fed-46ff-a755-a5e55fd62dab"
    }
   },
   "outputs": [],
   "source": [
    "fig, ax = plt.subplots(figsize=(8, 6))\n",
    "ax.plot(np.log(bk_qtl.iloc[:,:-2].astype(float)).replace(-np.inf, 0));\n",
    "ax.set_xlim(0, 1)\n",
    "ax.legend(bk_qtl.columns[:-2], loc=0)\n",
    "ax.set_title('backorder cost不同分位点下不同模型的表现');"
   ]
  },
  {
   "cell_type": "code",
   "execution_count": 297,
   "metadata": {
    "nbpresent": {
     "id": "a99d58fe-ed5c-4ca2-abdf-6844849af19a"
    }
   },
   "outputs": [
    {
     "data": {
      "text/plain": [
       "<matplotlib.axes._subplots.AxesSubplot at 0x1a31812c18>"
      ]
     },
     "execution_count": 297,
     "metadata": {},
     "output_type": "execute_result"
    },
    {
     "data": {
      "image/png": "[encoded data removed]",
      "text/plain": [
       "<Figure size 432x288 with 1 Axes>"
      ]
     },
     "metadata": {},
     "output_type": "display_data"
    }
   ],
   "source": [
    "# sns.distplot(np.log(df_cost['Ave_sales']));\n",
    "sns.distplot(o4.groupby('item_sku_id').review_period.std().fillna(0))"
   ]
  },
  {
   "cell_type": "code",
   "execution_count": null,
   "metadata": {
    "nbpresent": {
     "id": "da44d0a9-878f-45af-ae21-8639071f1989"
    }
   },
   "outputs": [],
   "source": []
  },
  {
   "cell_type": "code",
   "execution_count": 259,
   "metadata": {
    "nbpresent": {
     "id": "872b6578-a501-4bef-8872-611ece3043a4"
    }
   },
   "outputs": [],
   "source": [
    "# py_pp = df_cost\n",
    "# py_pp['SKU_DC'] = py_pp[['SKU_DC','create_tm']].apply(lambda x: '_'.join([str(i) for i in x]), axis=1)\n",
    "# py_pp.drop(columns=['create_tm','Ave_sales','Std_sales'], inplace=True)\n",
    "# py_pp_stack = py_pp.set_index('SKU_DC').stack().rename('method')\n",
    "# py_pp_stack = pd.DataFrame(py_pp_stack).reset_index()\n",
    "# taus, solver_vals, solvers, transformed_data = optperfprofpy.calc_perprof(py_pp_stack.iloc[0:770,:], ['SKU_DC'], ['method'], ['level_1'])\n",
    "# optperfprofpy.draw_simple_pp(taus, solver_vals, solvers)"
   ]
  },
  {
   "cell_type": "code",
   "execution_count": 260,
   "metadata": {
    "nbpresent": {
     "id": "248a1984-524d-4ec5-93f6-3f017ec87699"
    }
   },
   "outputs": [],
   "source": [
    "# import shap\n",
    "# # print the JS visualization code to the notebook\n",
    "# shap.initjs()"
   ]
  },
  {
   "cell_type": "code",
   "execution_count": 261,
   "metadata": {
    "nbpresent": {
     "id": "aad22aa7-3314-4a3a-9897-858f1a37d71a"
    }
   },
   "outputs": [],
   "source": [
    "# explainer = shap.TreeExplainer(gbm)\n",
    "# shap_values = explainer.shap_values(X_test)\n",
    "\n",
    "# shap.summary_plot(shap_values, X_test)\n",
    "\n",
    "# shap.summary_plot(shap_values, X_test, plot_type=\"bar\")"
   ]
  },
  {
   "cell_type": "code",
   "execution_count": null,
   "metadata": {},
   "outputs": [],
   "source": []
  },
  {
   "cell_type": "code",
   "execution_count": null,
   "metadata": {},
   "outputs": [],
   "source": []
  },
  {
   "cell_type": "code",
   "execution_count": 515,
   "metadata": {
    "nbpresent": {
     "id": "3cf7da8c-ecb1-4bae-b26e-7b03b8899273"
    }
   },
   "outputs": [
    {
     "data": {
      "text/plain": [
       "<matplotlib.legend.Legend at 0x1a2f4300f0>"
      ]
     },
     "execution_count": 515,
     "metadata": {},
     "output_type": "execute_result"
    },
    {
     "data": {
      "image/png": "[encoded data removed]",
      "text/plain": [
       "<Figure size 576x432 with 1 Axes>"
      ]
     },
     "metadata": {},
     "output_type": "display_data"
    }
   ],
   "source": [
    "xx = np.arange(0, 200, 5)\n",
    "tt_is = X_test_ns.iloc[305:306,:]\n",
    "yy1, yy2 = [],[]\n",
    "for i in xx:\n",
    "#     tt_is['initial_stock'] = i\n",
    "    tt_ = pd.DataFrame(X_scaler.transform(tt_is), columns=tt_is.columns)\n",
    "\n",
    "    gbm_pred=gbm.predict(tt_) \n",
    "    nn_pred=sess.run(output, feed_dict={x_vlt: tt_[VLT_FEA].values, \n",
    "                                  x_sf: tt_[SF_FEA].values, \n",
    "                                  x_oth: tt_[MORE_FEA].values, \n",
    "                                  x_cat: tt_[CAT_FEA_HOT].values, \n",
    "                                  x_is: tt_[IS_FEA].values, \n",
    "                                  })\n",
    "    yy1.append( y_scaler.inverse_transform(gbm_pred.reshape(-1, 1))[0][0] )\n",
    "    yy2.append( y_scaler.inverse_transform(nn_pred.reshape(-1, 1))[0][0] )\n",
    "\n",
    "fig, ax1 = plt.subplots(figsize=(8, 6))\n",
    "plt.plot(xx, yy1, label='GBM');\n",
    "plt.plot(xx, yy2, label='NN');\n",
    "plt.plot(xx, 350-xx, label='ideally');\n",
    "\n",
    "# plt.plot(xx, 330-xx)\n",
    "plt.xlabel('initial stock')\n",
    "plt.ylabel('prediction')\n",
    "plt.legend(prop={'size': 12})"
   ]
  },
  {
   "cell_type": "code",
   "execution_count": null,
   "metadata": {},
   "outputs": [],
   "source": []
  },
  {
   "cell_type": "code",
   "execution_count": 201,
   "metadata": {
    "nbpresent": {
     "id": "9eb6a2cb-fe6e-48e8-8e44-04471f39eb2d"
    }
   },
   "outputs": [],
   "source": [
    "sess.close()"
   ]
  }
 ],
 "metadata": {
  "kernelspec": {
   "display_name": "Python [conda env:tf]",
   "language": "python",
   "name": "conda-env-tf-py"
  },
  "language_info": {
   "codemirror_mode": {
    "name": "ipython",
    "version": 3
   },
   "file_extension": ".py",
   "mimetype": "text/x-python",
   "name": "python",
   "nbconvert_exporter": "python",
   "pygments_lexer": "ipython3",
   "version": "3.6.6"
  }
 },
 "nbformat": 4,
 "nbformat_minor": 2
}
