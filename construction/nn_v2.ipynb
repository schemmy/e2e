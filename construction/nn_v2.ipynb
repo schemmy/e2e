{
 "cells": [
  {
   "cell_type": "code",
   "execution_count": 1,
   "metadata": {
    "nbpresent": {
     "id": "73fb928c-b15c-40a2-bfb6-4370c9f23157"
    }
   },
   "outputs": [],
   "source": [
    "import numpy as np\n",
    "import pandas as pd\n",
    "import os\n",
    "import warnings\n",
    "from tqdm import tqdm\n",
    "import math\n",
    "import seaborn as sns\n",
    "\n",
    "from scipy.stats import gamma\n",
    "import datetime as dt\n",
    "from sklearn.model_selection import train_test_split\n",
    "from sklearn.preprocessing import MinMaxScaler\n",
    "import lightgbm as lgb\n",
    "# import optperfprofpy\n",
    "\n",
    "import sys \n",
    "sys.path.append('..')\n",
    "from utils.demand_pkg import *\n",
    "import matplotlib.pyplot as plt\n",
    "from utils.algorithms import get_opt, get_EQ, get_end2end_iid, get_end2end, get_normal_basestock, get_gamma_basestock, get_normal_basestock2\n",
    "\n",
    "import tensorflow as tf\n",
    "\n",
    "warnings.filterwarnings('ignore')\n",
    "plt.rcParams['font.sans-serif']=['SimHei'] #用来正常显示中文标签\n",
    "plt.rcParams['axes.unicode_minus']=False #用来正常显示负号"
   ]
  },
  {
   "cell_type": "code",
   "execution_count": 2,
   "metadata": {
    "nbpresent": {
     "id": "8c92309b-8cdb-4da6-84b4-a452bed4f113"
    }
   },
   "outputs": [],
   "source": [
    "o0 = pd.read_csv('../data/1320_feature/features_v12.csv', parse_dates=['create_tm','complete_dt','dt','next_complete_dt'],\n",
    "                 usecols=lambda col: col not in ['d_vlt'])"
   ]
  },
  {
   "cell_type": "code",
   "execution_count": 3,
   "metadata": {
    "nbpresent": {
     "id": "4877929e-a64f-4bd5-99b9-48aec65e7a10"
    }
   },
   "outputs": [],
   "source": [
    "df_sales = pd.read_csv('../data/1320/rdc_sales_1320_replenishment_V1_filled_pp.csv')\n",
    "df_sl = df_sales.set_index('row')\n",
    "df_sl.rename(columns=lambda x: (dt.datetime(2016,1,1) + dt.timedelta(days=int(x)-730)).date(), inplace=True)"
   ]
  },
  {
   "cell_type": "code",
   "execution_count": 567,
   "metadata": {
    "nbpresent": {
     "id": "d2498d9f-84ba-4e70-8a23-f078e31266eb"
    }
   },
   "outputs": [],
   "source": [
    "o0['IS_over_mean_56'] = (o0['initial_stock_overall'] / o0['mean_56']).replace(np.inf, 0).fillna(0)\n",
    "o0['overall_opt_order_for_opt'] = o0['overall_opt_order'].copy()"
   ]
  },
  {
   "cell_type": "code",
   "execution_count": 1022,
   "metadata": {
    "nbpresent": {
     "id": "3b61de37-59f2-4614-bcc7-99042c425ef6"
    }
   },
   "outputs": [],
   "source": [
    "o1 = o0.copy()\n",
    "\n",
    "# o1.insert(1, 'sku_id', o1['item_sku_id'])\n",
    "o1.loc[:,'sku_id'] = o1['item_sku_id'].apply(lambda x: x.split('#')[0])"
   ]
  },
  {
   "cell_type": "code",
   "execution_count": 1023,
   "metadata": {
    "nbpresent": {
     "id": "ef2cf35d-c15d-4cb8-8ab3-6ad8a7a8b5af"
    }
   },
   "outputs": [],
   "source": [
    "# o_num = o2.loc[:, feature_list+LABEL]\n",
    "# for i in range(2, o_num.shape[1]):\n",
    "#     plt.figure();\n",
    "#     ax = sns.distplot(o_num.iloc[:,i]);\n",
    "#     plt.savefig('../figures/vlm/%i.png' %i);\n",
    "#     plt.close();"
   ]
  },
  {
   "cell_type": "code",
   "execution_count": 1024,
   "metadata": {
    "nbpresent": {
     "id": "a0c50587-c2a2-40f2-8b94-b6d57e504166"
    }
   },
   "outputs": [],
   "source": [
    "sku_set = o1.sku_id.unique()\n",
    "sku_train, sku_test = train_test_split(sku_set, random_state=10, train_size=0.8, test_size=0.1)"
   ]
  },
  {
   "cell_type": "code",
   "execution_count": 1025,
   "metadata": {
    "nbpresent": {
     "id": "a6f40729-407e-4127-9ed5-a2b6565c5620"
    }
   },
   "outputs": [],
   "source": [
    "IDX = ['item_sku_id','sku_id']\n",
    "\n",
    "CAT_FEA = [\n",
    "#     'item_first_cate_cd', 'item_second_cate_cd', \n",
    "    'item_third_cate_cd', \n",
    "    'int_org_num', \n",
    "#     'brand_code', \n",
    "#     'create_day_of_week'\n",
    "    ]\n",
    "\n",
    "VLT_FEA = [\n",
    "#            'review_period', \n",
    "    'uprc', 'contract_stk_prc', \n",
    "    'wt', 'width', 'height', 'calc_volume', 'len',\n",
    "    'vlt_count', 'vlt_sum', 'vlt_min', 'vlt_max', 'vlt_mean', 'vlt_std',\n",
    "    'qtty_sum', 'qtty_min', 'qtty_max', 'qtty_mean', 'qtty_std', \n",
    "    'amount_sum', 'amount_min', 'amount_max', 'amount_mean', 'amount_std', \n",
    "    'vlt_count_6mo', 'vlt_sum_6mo', 'vlt_min_6mo', 'vlt_max_6mo', 'vlt_mean_6mo', 'vlt_std_6mo',\n",
    "    'vendor_vlt_count', 'vendor_vlt_sum', 'vendor_vlt_min', 'vendor_vlt_max', 'vendor_vlt_mean', 'vendor_vlt_std', \n",
    "    'vendor_vlt_count_6mo', 'vendor_vlt_sum_6mo', 'vendor_vlt_min_6mo', \n",
    "    'vendor_vlt_max_6mo', 'vendor_vlt_mean_6mo', 'vendor_vlt_std_6mo', \n",
    "    'vendor_qtty_sum', 'vendor_qtty_min', 'vendor_qtty_max', \n",
    "    'vendor_qtty_mean', 'vendor_qtty_std', 'vendor_amount_sum',\n",
    "    'vendor_amount_min', 'vendor_amount_max', 'vendor_amount_mean'\n",
    "        ]\n",
    "\n",
    "SF_FEA = [\n",
    "        'q_7', 'q_14', 'q_28', 'q_56', 'q_112', \n",
    "        'mean_3', 'mean_7', 'mean_14', 'mean_28', 'mean_56', 'mean_112', \n",
    "        'diff_140_mean', 'mean_140_decay', 'median_140', 'min_140', 'max_140', 'std_140', \n",
    "        'diff_60_mean', 'mean_60_decay', 'median_60', 'min_60', 'max_60', 'std_60', \n",
    "        'diff_30_mean', 'mean_30_decay', 'median_30', 'min_30', 'max_30', 'std_30', \n",
    "        'diff_14_mean', 'mean_14_decay', 'median_14', 'min_14', 'max_14', 'std_14',\n",
    "        'diff_7_mean', 'mean_7_decay', 'median_7', 'min_7', 'max_7', 'std_7',\n",
    "        'diff_3_mean', 'mean_3_decay', 'median_3', 'min_3', 'max_3', 'std_3',\n",
    "        'has_sales_days_in_last_140', 'last_has_sales_day_in_last_140',\n",
    "        'first_has_sales_day_in_last_140', 'has_sales_days_in_last_60',\n",
    "        'last_has_sales_day_in_last_60', 'first_has_sales_day_in_last_60',\n",
    "        'has_sales_days_in_last_30', 'last_has_sales_day_in_last_30',\n",
    "        'first_has_sales_day_in_last_30', 'has_sales_days_in_last_14',\n",
    "        'last_has_sales_day_in_last_14', 'first_has_sales_day_in_last_14',\n",
    "        'has_sales_days_in_last_7', 'last_has_sales_day_in_last_7', 'first_has_sales_day_in_last_7'\n",
    "            ]\n",
    "   \n",
    "MORE_FEA =[\n",
    "           'review_period', \n",
    "           'normal', \n",
    "           'gamma', \n",
    "            'eq'\n",
    "            ]\n",
    "\n",
    "IS_FEA = [\n",
    "#            'initial_stock', \n",
    "#            'IS_over_mean_56'\n",
    "        ]\n",
    "    \n",
    "# LABEL = ['target_decision']    \n",
    "LABEL = ['demand_RV']    \n",
    "\n",
    "\n",
    "\n",
    "o1[CAT_FEA] = o1[CAT_FEA].astype('category')\n",
    "\n",
    "# o1 = o0[VLT_CAT_FEA_COLS + VLT_NUM_FEA_COLS]\n",
    "\n",
    "o_dummy = pd.get_dummies(o1[CAT_FEA])\n",
    "len_dummy = o_dummy.shape[1]\n",
    "o1 = pd.concat([o1, o_dummy], axis=1)\n",
    "o2 = o1.drop(CAT_FEA, axis=1)\n",
    "\n",
    "CAT_FEA_HOT = list(o2.columns)[-len_dummy:]"
   ]
  },
  {
   "cell_type": "code",
   "execution_count": 1115,
   "metadata": {},
   "outputs": [
    {
     "data": {
      "text/plain": [
       "['item_third_cate_cd_1591',\n",
       " 'item_third_cate_cd_2677',\n",
       " 'item_third_cate_cd_5022',\n",
       " 'item_third_cate_cd_5024',\n",
       " 'int_org_num_3',\n",
       " 'int_org_num_4',\n",
       " 'int_org_num_5',\n",
       " 'int_org_num_6',\n",
       " 'int_org_num_9',\n",
       " 'int_org_num_10',\n",
       " 'int_org_num_316',\n",
       " 'int_org_num_772']"
      ]
     },
     "execution_count": 1115,
     "metadata": {},
     "output_type": "execute_result"
    }
   ],
   "source": [
    "CAT_FEA_HOT"
   ]
  },
  {
   "cell_type": "code",
   "execution_count": 1026,
   "metadata": {
    "nbpresent": {
     "id": "fa4e4107-7854-40e5-9373-775bec02ffe6"
    }
   },
   "outputs": [],
   "source": [
    "SCALE_FEA =  VLT_FEA + SF_FEA + MORE_FEA + IS_FEA + CAT_FEA_HOT\n",
    "CUT_FEA = VLT_FEA + SF_FEA + MORE_FEA"
   ]
  },
  {
   "cell_type": "code",
   "execution_count": 1027,
   "metadata": {
    "nbpresent": {
     "id": "99b45a3e-0ea9-4163-b023-31de3e154ed3"
    }
   },
   "outputs": [],
   "source": [
    "# o1 = o1[(o1['target_decision'] > o1['target_decision'].quantile(0.01)) & (o1['target_decision'] < o1['target_decision'].quantile(0.98))]\n",
    "# o1 = o1[(o1['initial_stock'] > o1['initial_stock'].quantile(0.01)) & (o1['initial_stock'] < o1['initial_stock'].quantile(0.98))]"
   ]
  },
  {
   "cell_type": "code",
   "execution_count": 1028,
   "metadata": {
    "nbpresent": {
     "id": "31290e7a-ca37-4132-830e-665baeeed748"
    }
   },
   "outputs": [],
   "source": [
    "low_qtl = o1[CUT_FEA].quantile(0.01)\n",
    "hgh_qtl = o1[CUT_FEA].quantile(0.98)\n",
    "o2 = o2.copy()\n",
    "o2.loc[:, CUT_FEA] = o1[CUT_FEA].clip(low_qtl, hgh_qtl, axis=1)"
   ]
  },
  {
   "cell_type": "code",
   "execution_count": 1029,
   "metadata": {},
   "outputs": [],
   "source": [
    "# Remove outliers\n",
    "o2r = o2[o2[LABEL[0]]<=o2[LABEL[0]].quantile(0.99)]\n",
    "# o2r[LABEL[0]] = np.sqrt(o2[LABEL[0]])"
   ]
  },
  {
   "cell_type": "code",
   "execution_count": 1030,
   "metadata": {
    "nbpresent": {
     "id": "8b32cff8-e7b9-4a77-bf0d-fbd8835dec9c"
    }
   },
   "outputs": [],
   "source": [
    "df_train = o2r[o2r['sku_id'].isin(sku_train)]\n",
    "df_test = o2r[o2r['sku_id'].isin(sku_test)]\n",
    "\n",
    "X_train_ns, y_train_ns, id_train = df_train[SCALE_FEA], df_train[LABEL], df_train[IDX]\n",
    "X_test_ns, y_test_ns, id_test = df_test[SCALE_FEA], df_test[LABEL], df_test[IDX]\n",
    "\n",
    "n_train, n_test = len(X_train_ns), len(X_test_ns)"
   ]
  },
  {
   "cell_type": "code",
   "execution_count": 1031,
   "metadata": {
    "nbpresent": {
     "id": "aad8d85f-0233-4a12-a061-e9b271b97add"
    }
   },
   "outputs": [
    {
     "name": "stdout",
     "output_type": "stream",
     "text": [
      "21.68045962234727 23.170218058204128\n"
     ]
    }
   ],
   "source": [
    "print(X_train_ns.mean_7.mean(), X_test_ns.mean_7.mean())"
   ]
  },
  {
   "cell_type": "code",
   "execution_count": 1032,
   "metadata": {
    "nbpresent": {
     "id": "83409c34-6ca9-489a-adf9-15ead5b44f9b"
    }
   },
   "outputs": [],
   "source": [
    "X_scaler = MinMaxScaler() # For normalizing dataset\n",
    "y_scaler = MinMaxScaler() # For normalizing dataset\n",
    "# We want to predict Close value of stock \n",
    "X_train = pd.DataFrame(X_scaler.fit_transform(X_train_ns), columns=X_train_ns.columns)\n",
    "y_train = pd.DataFrame(y_scaler.fit_transform(y_train_ns), columns=y_train_ns.columns)\n",
    "\n",
    "X_test = pd.DataFrame(X_scaler.transform(X_test_ns), columns=X_test_ns.columns)\n",
    "y_test = pd.DataFrame(y_scaler.transform(y_test_ns), columns=y_test_ns.columns)\n",
    "# pd.DataFrame(min_max_scaler.inverse_transform(y_test), columns=y_test.columns)"
   ]
  },
  {
   "cell_type": "code",
   "execution_count": 1033,
   "metadata": {
    "nbpresent": {
     "id": "92c75512-d64f-40cb-882d-3843911c03c8"
    },
    "scrolled": false
   },
   "outputs": [
    {
     "data": {
      "text/plain": [
       "Index(['uprc', 'contract_stk_prc', 'wt', 'width', 'height', 'calc_volume',\n",
       "       'len', 'vlt_count', 'vlt_sum', 'vlt_min',\n",
       "       ...\n",
       "       'item_third_cate_cd_5022', 'item_third_cate_cd_5024', 'int_org_num_3',\n",
       "       'int_org_num_4', 'int_org_num_5', 'int_org_num_6', 'int_org_num_9',\n",
       "       'int_org_num_10', 'int_org_num_316', 'int_org_num_772'],\n",
       "      dtype='object', length=128)"
      ]
     },
     "execution_count": 1033,
     "metadata": {},
     "output_type": "execute_result"
    }
   ],
   "source": [
    "X_train_ns.columns"
   ]
  },
  {
   "cell_type": "code",
   "execution_count": 1034,
   "metadata": {
    "nbpresent": {
     "id": "c78a01c5-6cb5-409f-8a51-6a8827611efc"
    }
   },
   "outputs": [
    {
     "data": {
      "text/plain": [
       "array([5281.])"
      ]
     },
     "execution_count": 1034,
     "metadata": {},
     "output_type": "execute_result"
    }
   ],
   "source": [
    "y_scaler.data_max_"
   ]
  },
  {
   "cell_type": "code",
   "execution_count": 1035,
   "metadata": {},
   "outputs": [
    {
     "data": {
      "text/plain": [
       "Index(['uprc', 'contract_stk_prc', 'wt', 'width', 'height', 'calc_volume',\n",
       "       'len', 'vlt_count', 'vlt_sum', 'vlt_min',\n",
       "       ...\n",
       "       'item_third_cate_cd_5022', 'item_third_cate_cd_5024', 'int_org_num_3',\n",
       "       'int_org_num_4', 'int_org_num_5', 'int_org_num_6', 'int_org_num_9',\n",
       "       'int_org_num_10', 'int_org_num_316', 'int_org_num_772'],\n",
       "      dtype='object', length=128)"
      ]
     },
     "execution_count": 1035,
     "metadata": {},
     "output_type": "execute_result"
    }
   ],
   "source": [
    "X_train_ns.columns"
   ]
  },
  {
   "cell_type": "code",
   "execution_count": 1036,
   "metadata": {
    "nbpresent": {
     "id": "c9ed1df0-a8cc-4666-9a0c-840b1e235d3d"
    }
   },
   "outputs": [
    {
     "data": {
      "text/plain": [
       "(0.0001893580761219466, 0.00041419007284551417)"
      ]
     },
     "execution_count": 1036,
     "metadata": {},
     "output_type": "execute_result"
    }
   ],
   "source": [
    "y_scaler.scale_[0], X_scaler.scale_[-13]"
   ]
  },
  {
   "cell_type": "code",
   "execution_count": 1041,
   "metadata": {
    "scrolled": true
   },
   "outputs": [],
   "source": [
    "cat_dim = len(CAT_FEA_HOT)\n",
    "vlt_dim = len(VLT_FEA)\n",
    "sf_dim = len(SF_FEA)\n",
    "oth_dim = len(MORE_FEA)\n",
    "is_dim = len(IS_FEA)\n",
    "input_dim =  vlt_dim + sf_dim + oth_dim + is_dim + cat_dim\n",
    "\n",
    "hidden_dim = [[100, 120], 160, 30]\n",
    "\n",
    "output_dim = 1\n",
    "q = 0.9\n",
    "\n",
    "\n",
    "tf.reset_default_graph()\n",
    "tf.set_random_seed(0)\n",
    "\n",
    "with tf.name_scope('Data'):\n",
    "    x_vlt = tf.placeholder(tf.float32, shape=[None, vlt_dim], name='Input_vlt')\n",
    "    x_sf = tf.placeholder(tf.float32, shape=[None, sf_dim], name='Input_sf')\n",
    "    x_cat = tf.placeholder(tf.float32, shape=[None, cat_dim], name='Input_pf')\n",
    "    x_oth = tf.placeholder(tf.float32, shape=[None, oth_dim], name='Input_more')\n",
    "    x_is = tf.placeholder(tf.float32, shape=[None, is_dim], name='Input_IS')\n",
    "    mean_vlt = tf.expand_dims(x_vlt[:,-17],1, name='mean_vlt')\n",
    "    review_p = tf.expand_dims(x_oth[:,0],1, name='review_p')\n",
    "\n",
    "with tf.name_scope('Label'):\n",
    "    y = tf.placeholder(tf.float32, shape=[None, 1], name='Label')\n",
    "\n",
    "\n",
    "with tf.variable_scope('Layer_1_vlt'):\n",
    "    W1_vlt = tf.Variable(tf.truncated_normal([vlt_dim+cat_dim, hidden_dim[0][0]], stddev=0.001), name='Weight_1_vlt')\n",
    "    b1_vlt = tf.Variable(tf.zeros([hidden_dim[0][0]]), name='Bias_1_vlt')\n",
    "    l1_vlt = tf.add(tf.matmul(tf.concat([x_vlt, x_cat], axis=1), W1_vlt), b1_vlt)\n",
    "    l1_vlt = tf.nn.relu(l1_vlt)\n",
    "\n",
    "with tf.variable_scope('Layer_1_sf'):\n",
    "    W1_sf = tf.Variable(tf.truncated_normal([sf_dim+cat_dim, hidden_dim[0][1]], stddev=0.001), name='Weight_1_sf')\n",
    "    b1_sf = tf.Variable(tf.zeros([hidden_dim[0][1]]), name='Bias_1_sf')\n",
    "    l1_sf = tf.add(tf.matmul(tf.concat([x_sf, x_cat], axis=1), W1_sf), b1_sf)\n",
    "    l1_sf = tf.nn.relu(l1_sf)\n",
    "            \n",
    "# with tf.variable_scope('Layer_1_profile'):\n",
    "#     W1_pf = tf.Variable(tf.truncated_normal([cat_dim, hidden_dim[0][2]], stddev=0.001), name='Weight_1_pf')\n",
    "#     b1_pf = tf.Variable(tf.zeros([hidden_dim[0][2]]), name='Bias_1_pf')\n",
    "#     l1_pf = tf.add(tf.matmul(x_cat, W1_pf), b1_pf)\n",
    "#     l1_pf = tf.nn.relu(l1_pf)\n",
    "\n",
    "with tf.variable_scope('Layer_2'):\n",
    "    W2 = tf.Variable(tf.truncated_normal([hidden_dim[0][0]+hidden_dim[0][1]+oth_dim, hidden_dim[1]], stddev=0.001), name='Weight_2')\n",
    "    b2 = tf.Variable(tf.zeros([hidden_dim[1]]), name='Bias_3')\n",
    "    l2 = tf.add(tf.matmul(tf.concat([l1_vlt, l1_sf, x_oth], axis=1), W2), b2)\n",
    "    l2 = tf.nn.relu(l2)\n",
    "\n",
    "with tf.variable_scope('Layer_3'):\n",
    "    W3 = tf.Variable(tf.truncated_normal([hidden_dim[1], hidden_dim[2]], stddev=0.001), name='Weight_3')\n",
    "    b3 = tf.Variable(tf.zeros([hidden_dim[2]]), name='Bias_3')\n",
    "    l3 = tf.add(tf.matmul(tf.concat([l2], axis=1), W3), b3)\n",
    "    l3 = tf.nn.relu(l3)\n",
    "\n",
    "with tf.variable_scope('Layer_final'):\n",
    "    W4 = tf.Variable(tf.truncated_normal([hidden_dim[2], 1], stddev=0.001), name='Weight_4')\n",
    "    b4 = tf.Variable(tf.zeros([1]), name='Bias_4')\n",
    "    output = tf.add(tf.matmul(tf.concat([l3, x_is], axis=1), W4), b4)\n",
    "    error = y - output\n",
    "#     loss = tf.reduce_mean(tf.square(tf.maximum(q*error, (q-1)*error)) )\n",
    "    c_os = q*error\n",
    "    c_hd = (q-1)*error\n",
    "    loss = tf.reduce_mean(tf.maximum(c_os, c_hd) )\n",
    "#     c_os = tf.maximum(tf.zeros([1], tf.float32), q*error)\n",
    "#     c_hd = tf.multiply((1-q)*output, review_p + mean_vlt )*0.5\n",
    "#     loss = tf.reduce_mean(c_os+ c_hd )    \n",
    "\n",
    "with tf.name_scope('Optimizer'):\n",
    "    train_step = tf.train.AdamOptimizer(learning_rate=0.0001).minimize(loss)\n"
   ]
  },
  {
   "cell_type": "code",
   "execution_count": 1066,
   "metadata": {
    "scrolled": true
   },
   "outputs": [
    {
     "name": "stdout",
     "output_type": "stream",
     "text": [
      "0 0.04435852 0.048612714\n",
      "1 0.008814651324431454 0.0054161074\n",
      "2 0.004687224224332276 0.0052805534\n",
      "3 0.004605815230300296 0.0052344953\n",
      "4 0.0045390525232158335 0.005209955\n",
      "5 0.004500299202205907 0.0051715765\n",
      "6 0.004466039912311142 0.005145361\n",
      "7 0.00442254003056865 0.005139225\n",
      "8 0.004402187299393641 0.005124881\n",
      "9 0.004374683163197053 0.005112604\n",
      "10 0.004343014874595737 0.0051039844\n",
      "11 0.004322258663978138 0.005089543\n",
      "12 0.004284653735736208 0.0050996384\n",
      "13 0.004258457718604355 0.005082282\n",
      "14 0.004238409124174248 0.0050847204\n",
      "15 0.004219088434505551 0.0050779986\n",
      "16 0.004200289648057939 0.005075574\n",
      "17 0.004168404457607862 0.0050523705\n",
      "18 0.004134860056208019 0.005036323\n",
      "19 0.004104922051129034 0.005035521\n",
      "20 0.004073460823057683 0.005032313\n",
      "21 0.004058139101691659 0.0050220527\n",
      "22 0.004016372384482258 0.0050051534\n",
      "23 0.003986955236521672 0.0049825655\n",
      "24 0.003974942261953863 0.0049674157\n",
      "25 0.003939979017365949 0.004969085\n",
      "26 0.003914704788407176 0.0049558375\n",
      "27 0.003891017842360366 0.004937675\n",
      "28 0.0038720494041750144 0.00492959\n",
      "29 0.0038411873784527867 0.004922527\n",
      "30 0.003823708799678242 0.0049228244\n"
     ]
    }
   ],
   "source": [
    "epochs = 30\n",
    "batch_size = 64\n",
    "init = tf.global_variables_initializer()\n",
    "\n",
    "sess = tf.Session()\n",
    "sess.run(init)\n",
    "writer = tf.summary.FileWriter(\"output\", sess.graph)\n",
    "writer.close()\n",
    "\n",
    "\n",
    "train_err = sess.run(loss, feed_dict={x_vlt: X_train[VLT_FEA].values, \n",
    "                                     x_sf: X_train[SF_FEA].values, \n",
    "                                     x_oth: X_train[MORE_FEA].values, \n",
    "                                     x_cat: X_train[CAT_FEA_HOT].values, \n",
    "                                     x_is: X_train[IS_FEA].values, \n",
    "                                     y: y_train.values})\n",
    "test_err = sess.run(loss, feed_dict={x_vlt: X_test[VLT_FEA].values, \n",
    "                                     x_sf: X_test[SF_FEA].values, \n",
    "                                     x_oth: X_test[MORE_FEA].values, \n",
    "                                     x_cat: X_test[CAT_FEA_HOT].values, \n",
    "                                     x_is: X_test[IS_FEA].values, \n",
    "                                     y: y_test.values})\n",
    "print(0, train_err, test_err)\n",
    "for epoch in range(epochs):\n",
    "    # Split data to batches\n",
    "    train_err = 0\n",
    "    for idx in range(0, X_train.shape[0], batch_size):\n",
    "        bs = min(idx + batch_size, n_train) - idx\n",
    "        batch_data = X_train.iloc[idx:bs+idx, :]\n",
    "        batch_data_ns = X_train_ns.iloc[idx:bs+idx, :]\n",
    "        batch_labels = y_train.iloc[idx:bs+idx, :]\n",
    "        feed_dict = {x_vlt: batch_data[VLT_FEA].values, \n",
    "                     x_sf: batch_data[SF_FEA].values, \n",
    "                     x_oth: batch_data[MORE_FEA].values,\n",
    "                     x_cat: batch_data[CAT_FEA_HOT].values,\n",
    "                     x_is: batch_data[IS_FEA].values,\n",
    "                     y: batch_labels}\n",
    "        _, c_loss = sess.run([train_step, loss], feed_dict)\n",
    "        train_err += c_loss*bs\n",
    "    test_err = sess.run(loss, feed_dict={x_vlt: X_test[VLT_FEA].values, \n",
    "                                         x_sf: X_test[SF_FEA].values, \n",
    "                                         x_oth: X_test[MORE_FEA].values, \n",
    "                                         x_cat: X_test[CAT_FEA_HOT].values, \n",
    "                                         x_is: X_test[IS_FEA].values, \n",
    "                                         y: y_test.values})\n",
    "    print(epoch+1, train_err/n_train, test_err)"
   ]
  },
  {
   "cell_type": "code",
   "execution_count": 1067,
   "metadata": {
    "nbpresent": {
     "id": "f4eeb342-e463-48af-92f5-ebc6f36d01b1"
    },
    "scrolled": true
   },
   "outputs": [],
   "source": [
    "pred = sess.run(output, feed_dict={x_vlt: X_test[VLT_FEA].values, \n",
    "                                  x_sf: X_test[SF_FEA].values, \n",
    "                                  x_oth: X_test[MORE_FEA].values, \n",
    "                                  x_cat: X_test[CAT_FEA_HOT].values, \n",
    "                                  x_is: X_test[IS_FEA].values, \n",
    "                                  })\n",
    "\n",
    "pred = pd.DataFrame(y_scaler.inverse_transform(pred), columns=['prediction']).fillna(0)"
   ]
  },
  {
   "cell_type": "code",
   "execution_count": 1068,
   "metadata": {
    "nbpresent": {
     "id": "706bda58-8a7e-4d3f-b36b-e01917d85d98"
    },
    "scrolled": false
   },
   "outputs": [
    {
     "data": {
      "image/png": "[encoded data removed]",
      "text/plain": [
       "<Figure size 432x288 with 1 Axes>"
      ]
     },
     "metadata": {},
     "output_type": "display_data"
    }
   ],
   "source": [
    "sns.distplot(pred['prediction'].clip(0,1000));\n",
    "sns.distplot(y_test_ns.clip(0,1000));\n",
    "# g.set(lim=(0, None))"
   ]
  },
  {
   "cell_type": "code",
   "execution_count": null,
   "metadata": {},
   "outputs": [],
   "source": []
  },
  {
   "cell_type": "code",
   "execution_count": null,
   "metadata": {
    "nbpresent": {
     "id": "671f9f0c-3308-4676-92c7-2cac73e8cf9d"
    },
    "scrolled": true
   },
   "outputs": [],
   "source": []
  },
  {
   "cell_type": "code",
   "execution_count": 1069,
   "metadata": {
    "nbpresent": {
     "id": "14e7f7ff-7b40-4434-aecf-f1cf820f0814"
    },
    "scrolled": true
   },
   "outputs": [
    {
     "name": "stdout",
     "output_type": "stream",
     "text": [
      "[1]\tvalid_0's l2: 0.0165329\n",
      "[2]\tvalid_0's l2: 0.015229\n",
      "[3]\tvalid_0's l2: 0.0140464\n",
      "[4]\tvalid_0's l2: 0.0129348\n",
      "[5]\tvalid_0's l2: 0.011897\n",
      "[6]\tvalid_0's l2: 0.0109638\n",
      "[7]\tvalid_0's l2: 0.0101375\n",
      "[8]\tvalid_0's l2: 0.00936836\n",
      "[9]\tvalid_0's l2: 0.00867602\n",
      "[10]\tvalid_0's l2: 0.00804179\n",
      "[11]\tvalid_0's l2: 0.007438\n",
      "[12]\tvalid_0's l2: 0.00691772\n",
      "[13]\tvalid_0's l2: 0.006421\n",
      "[14]\tvalid_0's l2: 0.00598927\n",
      "[15]\tvalid_0's l2: 0.00559872\n",
      "[16]\tvalid_0's l2: 0.00525366\n",
      "[17]\tvalid_0's l2: 0.0049418\n",
      "[18]\tvalid_0's l2: 0.00465697\n",
      "[19]\tvalid_0's l2: 0.00440246\n",
      "[20]\tvalid_0's l2: 0.00417666\n",
      "[21]\tvalid_0's l2: 0.0039682\n",
      "[22]\tvalid_0's l2: 0.00379477\n",
      "[23]\tvalid_0's l2: 0.00364114\n",
      "[24]\tvalid_0's l2: 0.00349996\n",
      "[25]\tvalid_0's l2: 0.00337721\n",
      "[26]\tvalid_0's l2: 0.00327139\n",
      "[27]\tvalid_0's l2: 0.00318334\n",
      "[28]\tvalid_0's l2: 0.00310773\n",
      "[29]\tvalid_0's l2: 0.0030424\n",
      "[30]\tvalid_0's l2: 0.00298829\n",
      "[31]\tvalid_0's l2: 0.00293449\n",
      "[32]\tvalid_0's l2: 0.00289002\n",
      "[33]\tvalid_0's l2: 0.00285644\n",
      "[34]\tvalid_0's l2: 0.00282656\n",
      "[35]\tvalid_0's l2: 0.0027985\n",
      "[36]\tvalid_0's l2: 0.00277725\n",
      "[37]\tvalid_0's l2: 0.00275824\n",
      "[38]\tvalid_0's l2: 0.00274129\n",
      "[39]\tvalid_0's l2: 0.00272761\n",
      "[40]\tvalid_0's l2: 0.00271923\n",
      "[41]\tvalid_0's l2: 0.00270921\n",
      "[42]\tvalid_0's l2: 0.00270222\n",
      "[43]\tvalid_0's l2: 0.00269494\n",
      "[44]\tvalid_0's l2: 0.00269256\n",
      "[45]\tvalid_0's l2: 0.00269016\n",
      "[46]\tvalid_0's l2: 0.00268676\n",
      "[47]\tvalid_0's l2: 0.00268952\n",
      "[48]\tvalid_0's l2: 0.00269087\n",
      "[49]\tvalid_0's l2: 0.00269418\n",
      "[50]\tvalid_0's l2: 0.00269829\n",
      "[51]\tvalid_0's l2: 0.00270661\n",
      "[52]\tvalid_0's l2: 0.00270879\n",
      "[53]\tvalid_0's l2: 0.00271856\n",
      "[54]\tvalid_0's l2: 0.00272035\n",
      "[55]\tvalid_0's l2: 0.00272559\n",
      "[56]\tvalid_0's l2: 0.00272874\n",
      "[57]\tvalid_0's l2: 0.00273614\n",
      "[58]\tvalid_0's l2: 0.00273981\n",
      "[59]\tvalid_0's l2: 0.00273902\n",
      "[60]\tvalid_0's l2: 0.00274261\n",
      "[61]\tvalid_0's l2: 0.00274882\n",
      "[62]\tvalid_0's l2: 0.00275426\n",
      "[63]\tvalid_0's l2: 0.00276048\n",
      "[64]\tvalid_0's l2: 0.00276237\n",
      "[65]\tvalid_0's l2: 0.00276388\n",
      "[66]\tvalid_0's l2: 0.00276998\n",
      "[67]\tvalid_0's l2: 0.00277438\n",
      "[68]\tvalid_0's l2: 0.00277957\n",
      "[69]\tvalid_0's l2: 0.00278348\n",
      "[70]\tvalid_0's l2: 0.0027861\n",
      "[71]\tvalid_0's l2: 0.00278683\n",
      "[72]\tvalid_0's l2: 0.00278392\n",
      "[73]\tvalid_0's l2: 0.00278512\n",
      "[74]\tvalid_0's l2: 0.00279047\n",
      "[75]\tvalid_0's l2: 0.00279127\n",
      "[76]\tvalid_0's l2: 0.00279332\n",
      "[77]\tvalid_0's l2: 0.00279433\n",
      "[78]\tvalid_0's l2: 0.00279271\n",
      "[79]\tvalid_0's l2: 0.00279071\n",
      "[80]\tvalid_0's l2: 0.002793\n",
      "[81]\tvalid_0's l2: 0.00279728\n",
      "[82]\tvalid_0's l2: 0.00279809\n",
      "[83]\tvalid_0's l2: 0.00280171\n",
      "[84]\tvalid_0's l2: 0.00280062\n",
      "[85]\tvalid_0's l2: 0.00280137\n",
      "[86]\tvalid_0's l2: 0.00280448\n",
      "[87]\tvalid_0's l2: 0.00280106\n",
      "[88]\tvalid_0's l2: 0.00279988\n",
      "[89]\tvalid_0's l2: 0.00280184\n",
      "[90]\tvalid_0's l2: 0.00279949\n",
      "[91]\tvalid_0's l2: 0.00279714\n",
      "[92]\tvalid_0's l2: 0.00279761\n",
      "[93]\tvalid_0's l2: 0.00279787\n",
      "[94]\tvalid_0's l2: 0.00279661\n",
      "[95]\tvalid_0's l2: 0.00279396\n",
      "[96]\tvalid_0's l2: 0.00279067\n",
      "[97]\tvalid_0's l2: 0.00278819\n",
      "[98]\tvalid_0's l2: 0.00278911\n",
      "[99]\tvalid_0's l2: 0.00279153\n",
      "[100]\tvalid_0's l2: 0.0027904\n",
      "[101]\tvalid_0's l2: 0.00279127\n",
      "[102]\tvalid_0's l2: 0.00278876\n",
      "[103]\tvalid_0's l2: 0.00279085\n",
      "[104]\tvalid_0's l2: 0.0027938\n",
      "[105]\tvalid_0's l2: 0.00279028\n",
      "[106]\tvalid_0's l2: 0.00279122\n",
      "[107]\tvalid_0's l2: 0.00278905\n",
      "[108]\tvalid_0's l2: 0.00278792\n",
      "[109]\tvalid_0's l2: 0.00278702\n",
      "[110]\tvalid_0's l2: 0.00278782\n",
      "[111]\tvalid_0's l2: 0.00279287\n",
      "[112]\tvalid_0's l2: 0.00279128\n",
      "[113]\tvalid_0's l2: 0.00279119\n",
      "[114]\tvalid_0's l2: 0.00279072\n",
      "[115]\tvalid_0's l2: 0.00279244\n",
      "[116]\tvalid_0's l2: 0.0027921\n",
      "[117]\tvalid_0's l2: 0.00279242\n",
      "[118]\tvalid_0's l2: 0.00279509\n",
      "[119]\tvalid_0's l2: 0.00279319\n",
      "[120]\tvalid_0's l2: 0.00279166\n",
      "[121]\tvalid_0's l2: 0.00279083\n",
      "[122]\tvalid_0's l2: 0.00279302\n",
      "[123]\tvalid_0's l2: 0.00279114\n",
      "[124]\tvalid_0's l2: 0.00279091\n",
      "[125]\tvalid_0's l2: 0.00278931\n",
      "[126]\tvalid_0's l2: 0.00278982\n",
      "[127]\tvalid_0's l2: 0.00278901\n",
      "[128]\tvalid_0's l2: 0.00278681\n",
      "[129]\tvalid_0's l2: 0.00278902\n",
      "[130]\tvalid_0's l2: 0.00278976\n",
      "[131]\tvalid_0's l2: 0.00278854\n",
      "[132]\tvalid_0's l2: 0.0027918\n",
      "[133]\tvalid_0's l2: 0.00279089\n",
      "[134]\tvalid_0's l2: 0.00279116\n",
      "[135]\tvalid_0's l2: 0.00279001\n",
      "[136]\tvalid_0's l2: 0.00278844\n",
      "[137]\tvalid_0's l2: 0.00278887\n",
      "[138]\tvalid_0's l2: 0.00278842\n",
      "[139]\tvalid_0's l2: 0.00278757\n",
      "[140]\tvalid_0's l2: 0.00278991\n",
      "[141]\tvalid_0's l2: 0.00279062\n",
      "[142]\tvalid_0's l2: 0.00278941\n",
      "[143]\tvalid_0's l2: 0.00278973\n",
      "[144]\tvalid_0's l2: 0.00278852\n",
      "[145]\tvalid_0's l2: 0.00278828\n",
      "[146]\tvalid_0's l2: 0.00278849\n",
      "[147]\tvalid_0's l2: 0.00278742\n",
      "[148]\tvalid_0's l2: 0.00278745\n",
      "[149]\tvalid_0's l2: 0.00278773\n",
      "[150]\tvalid_0's l2: 0.00278642\n",
      "[151]\tvalid_0's l2: 0.00278582\n",
      "[152]\tvalid_0's l2: 0.00278485\n",
      "[153]\tvalid_0's l2: 0.00278343\n",
      "[154]\tvalid_0's l2: 0.00278509\n",
      "[155]\tvalid_0's l2: 0.00278625\n",
      "[156]\tvalid_0's l2: 0.00278621\n",
      "[157]\tvalid_0's l2: 0.00278862\n",
      "[158]\tvalid_0's l2: 0.00278702\n",
      "[159]\tvalid_0's l2: 0.00278628\n",
      "[160]\tvalid_0's l2: 0.00278596\n",
      "[161]\tvalid_0's l2: 0.00278697\n",
      "[162]\tvalid_0's l2: 0.00278692\n",
      "[163]\tvalid_0's l2: 0.00278714\n",
      "[164]\tvalid_0's l2: 0.00278647\n",
      "[165]\tvalid_0's l2: 0.00278671\n",
      "[166]\tvalid_0's l2: 0.00278569\n",
      "[167]\tvalid_0's l2: 0.00278473\n",
      "[168]\tvalid_0's l2: 0.0027843\n",
      "[169]\tvalid_0's l2: 0.00278438\n",
      "[170]\tvalid_0's l2: 0.00278435\n",
      "[171]\tvalid_0's l2: 0.00278366\n",
      "[172]\tvalid_0's l2: 0.0027829\n",
      "[173]\tvalid_0's l2: 0.00278221\n",
      "[174]\tvalid_0's l2: 0.00278124\n",
      "[175]\tvalid_0's l2: 0.00277969\n",
      "[176]\tvalid_0's l2: 0.00277981\n",
      "[177]\tvalid_0's l2: 0.00277925\n",
      "[178]\tvalid_0's l2: 0.00278\n",
      "[179]\tvalid_0's l2: 0.00277843\n",
      "[180]\tvalid_0's l2: 0.00277878\n",
      "[181]\tvalid_0's l2: 0.00277906\n",
      "[182]\tvalid_0's l2: 0.00277782\n",
      "[183]\tvalid_0's l2: 0.00277794\n",
      "[184]\tvalid_0's l2: 0.00277655\n",
      "[185]\tvalid_0's l2: 0.00277602\n",
      "[186]\tvalid_0's l2: 0.00277536\n",
      "[187]\tvalid_0's l2: 0.00277566\n",
      "[188]\tvalid_0's l2: 0.00277446\n",
      "[189]\tvalid_0's l2: 0.00277587\n",
      "[190]\tvalid_0's l2: 0.00277617\n",
      "[191]\tvalid_0's l2: 0.00277519\n",
      "[192]\tvalid_0's l2: 0.00277357\n",
      "[193]\tvalid_0's l2: 0.00277292\n",
      "[194]\tvalid_0's l2: 0.00277183\n",
      "[195]\tvalid_0's l2: 0.00277122\n",
      "[196]\tvalid_0's l2: 0.00277257\n",
      "[197]\tvalid_0's l2: 0.002773\n",
      "[198]\tvalid_0's l2: 0.00277342\n",
      "[199]\tvalid_0's l2: 0.00277254\n",
      "[200]\tvalid_0's l2: 0.00277319\n",
      "[201]\tvalid_0's l2: 0.00277203\n",
      "[202]\tvalid_0's l2: 0.00277179\n",
      "[203]\tvalid_0's l2: 0.00276993\n",
      "[204]\tvalid_0's l2: 0.00276969\n",
      "[205]\tvalid_0's l2: 0.00276898\n",
      "[206]\tvalid_0's l2: 0.00276826\n",
      "[207]\tvalid_0's l2: 0.00276739\n",
      "[208]\tvalid_0's l2: 0.00276823\n",
      "[209]\tvalid_0's l2: 0.00276787\n",
      "[210]\tvalid_0's l2: 0.00276882\n",
      "[211]\tvalid_0's l2: 0.00276852\n",
      "[212]\tvalid_0's l2: 0.00276828\n",
      "[213]\tvalid_0's l2: 0.00276775\n",
      "[214]\tvalid_0's l2: 0.00276899\n",
      "[215]\tvalid_0's l2: 0.0027689\n",
      "[216]\tvalid_0's l2: 0.00276925\n",
      "[217]\tvalid_0's l2: 0.00276814\n",
      "[218]\tvalid_0's l2: 0.00276677\n",
      "[219]\tvalid_0's l2: 0.00276633\n",
      "[220]\tvalid_0's l2: 0.0027677\n",
      "[221]\tvalid_0's l2: 0.00276714\n",
      "[222]\tvalid_0's l2: 0.00276676\n",
      "[223]\tvalid_0's l2: 0.002766\n",
      "[224]\tvalid_0's l2: 0.00276509\n",
      "[225]\tvalid_0's l2: 0.00276509\n",
      "[226]\tvalid_0's l2: 0.002765\n",
      "[227]\tvalid_0's l2: 0.00276407\n",
      "[228]\tvalid_0's l2: 0.00276471\n",
      "[229]\tvalid_0's l2: 0.00276559\n",
      "[230]\tvalid_0's l2: 0.00276628\n",
      "[231]\tvalid_0's l2: 0.00276609\n",
      "[232]\tvalid_0's l2: 0.00276609\n",
      "[233]\tvalid_0's l2: 0.00276537\n",
      "[234]\tvalid_0's l2: 0.00276496\n",
      "[235]\tvalid_0's l2: 0.00276426\n",
      "[236]\tvalid_0's l2: 0.00276308\n",
      "[237]\tvalid_0's l2: 0.00276229\n",
      "[238]\tvalid_0's l2: 0.00276234\n",
      "[239]\tvalid_0's l2: 0.00276169\n",
      "[240]\tvalid_0's l2: 0.00276088\n",
      "[241]\tvalid_0's l2: 0.00276051\n",
      "[242]\tvalid_0's l2: 0.00276065\n",
      "[243]\tvalid_0's l2: 0.00276058\n",
      "[244]\tvalid_0's l2: 0.00275993\n",
      "[245]\tvalid_0's l2: 0.00276531\n",
      "[246]\tvalid_0's l2: 0.00276618\n",
      "[247]\tvalid_0's l2: 0.00276709\n",
      "[248]\tvalid_0's l2: 0.00276695\n",
      "[249]\tvalid_0's l2: 0.00276704\n",
      "[250]\tvalid_0's l2: 0.00276612\n",
      "[251]\tvalid_0's l2: 0.00276435\n",
      "[252]\tvalid_0's l2: 0.00276388\n",
      "[253]\tvalid_0's l2: 0.00276445\n",
      "[254]\tvalid_0's l2: 0.00276349\n",
      "[255]\tvalid_0's l2: 0.00276381\n",
      "[256]\tvalid_0's l2: 0.00276305\n",
      "[257]\tvalid_0's l2: 0.00276217\n",
      "[258]\tvalid_0's l2: 0.00276165\n",
      "[259]\tvalid_0's l2: 0.00276073\n",
      "[260]\tvalid_0's l2: 0.00276026\n",
      "[261]\tvalid_0's l2: 0.00275922\n",
      "[262]\tvalid_0's l2: 0.00275862\n",
      "[263]\tvalid_0's l2: 0.00275813\n",
      "[264]\tvalid_0's l2: 0.00275864\n",
      "[265]\tvalid_0's l2: 0.00275847\n",
      "[266]\tvalid_0's l2: 0.00275732\n",
      "[267]\tvalid_0's l2: 0.0027565\n",
      "[268]\tvalid_0's l2: 0.00275544\n",
      "[269]\tvalid_0's l2: 0.00275426\n"
     ]
    },
    {
     "name": "stdout",
     "output_type": "stream",
     "text": [
      "[270]\tvalid_0's l2: 0.00275111\n",
      "[271]\tvalid_0's l2: 0.00275008\n",
      "[272]\tvalid_0's l2: 0.0027488\n",
      "[273]\tvalid_0's l2: 0.00274759\n",
      "[274]\tvalid_0's l2: 0.00274666\n",
      "[275]\tvalid_0's l2: 0.00274553\n",
      "[276]\tvalid_0's l2: 0.00274485\n",
      "[277]\tvalid_0's l2: 0.00274386\n",
      "[278]\tvalid_0's l2: 0.00274306\n",
      "[279]\tvalid_0's l2: 0.00274266\n",
      "[280]\tvalid_0's l2: 0.00274251\n",
      "[281]\tvalid_0's l2: 0.00274155\n",
      "[282]\tvalid_0's l2: 0.00274131\n",
      "[283]\tvalid_0's l2: 0.00274021\n",
      "[284]\tvalid_0's l2: 0.00273999\n",
      "[285]\tvalid_0's l2: 0.00273929\n",
      "[286]\tvalid_0's l2: 0.00273903\n",
      "[287]\tvalid_0's l2: 0.00273813\n",
      "[288]\tvalid_0's l2: 0.00273715\n",
      "[289]\tvalid_0's l2: 0.0027361\n",
      "[290]\tvalid_0's l2: 0.00273534\n",
      "[291]\tvalid_0's l2: 0.00273499\n",
      "[292]\tvalid_0's l2: 0.00273444\n",
      "[293]\tvalid_0's l2: 0.00273392\n",
      "[294]\tvalid_0's l2: 0.00273523\n",
      "[295]\tvalid_0's l2: 0.00273453\n",
      "[296]\tvalid_0's l2: 0.00273422\n",
      "[297]\tvalid_0's l2: 0.00273391\n",
      "[298]\tvalid_0's l2: 0.00273449\n",
      "[299]\tvalid_0's l2: 0.00273453\n",
      "[300]\tvalid_0's l2: 0.00273502\n",
      "[301]\tvalid_0's l2: 0.00273474\n",
      "[302]\tvalid_0's l2: 0.0027345\n",
      "[303]\tvalid_0's l2: 0.0027342\n",
      "[304]\tvalid_0's l2: 0.00273399\n",
      "[305]\tvalid_0's l2: 0.00273313\n",
      "[306]\tvalid_0's l2: 0.00273462\n",
      "[307]\tvalid_0's l2: 0.00273436\n",
      "[308]\tvalid_0's l2: 0.00273374\n",
      "[309]\tvalid_0's l2: 0.00273349\n",
      "[310]\tvalid_0's l2: 0.00273393\n",
      "[311]\tvalid_0's l2: 0.00273267\n",
      "[312]\tvalid_0's l2: 0.00273243\n",
      "[313]\tvalid_0's l2: 0.00273212\n",
      "[314]\tvalid_0's l2: 0.00273188\n",
      "[315]\tvalid_0's l2: 0.0027314\n",
      "[316]\tvalid_0's l2: 0.00273027\n",
      "[317]\tvalid_0's l2: 0.00273016\n",
      "[318]\tvalid_0's l2: 0.00273031\n",
      "[319]\tvalid_0's l2: 0.0027299\n",
      "[320]\tvalid_0's l2: 0.00273142\n",
      "[321]\tvalid_0's l2: 0.0027318\n",
      "[322]\tvalid_0's l2: 0.00273162\n",
      "[323]\tvalid_0's l2: 0.00273168\n",
      "[324]\tvalid_0's l2: 0.00273119\n",
      "[325]\tvalid_0's l2: 0.00273118\n",
      "[326]\tvalid_0's l2: 0.00273085\n",
      "[327]\tvalid_0's l2: 0.00273097\n",
      "[328]\tvalid_0's l2: 0.00273027\n",
      "[329]\tvalid_0's l2: 0.00273009\n",
      "[330]\tvalid_0's l2: 0.00272994\n",
      "[331]\tvalid_0's l2: 0.00273155\n",
      "[332]\tvalid_0's l2: 0.00273131\n",
      "[333]\tvalid_0's l2: 0.00273094\n",
      "[334]\tvalid_0's l2: 0.00273082\n",
      "[335]\tvalid_0's l2: 0.00273314\n",
      "[336]\tvalid_0's l2: 0.00273293\n",
      "[337]\tvalid_0's l2: 0.00273463\n",
      "[338]\tvalid_0's l2: 0.00273647\n",
      "[339]\tvalid_0's l2: 0.00273472\n",
      "[340]\tvalid_0's l2: 0.00273387\n",
      "[341]\tvalid_0's l2: 0.00273289\n",
      "[342]\tvalid_0's l2: 0.00273243\n",
      "[343]\tvalid_0's l2: 0.0027315\n",
      "[344]\tvalid_0's l2: 0.00273134\n",
      "[345]\tvalid_0's l2: 0.00273025\n",
      "[346]\tvalid_0's l2: 0.00273021\n",
      "[347]\tvalid_0's l2: 0.00272921\n",
      "[348]\tvalid_0's l2: 0.0027289\n",
      "[349]\tvalid_0's l2: 0.00272861\n",
      "[350]\tvalid_0's l2: 0.00272817\n",
      "[351]\tvalid_0's l2: 0.00272843\n",
      "[352]\tvalid_0's l2: 0.00272806\n",
      "[353]\tvalid_0's l2: 0.00272764\n",
      "[354]\tvalid_0's l2: 0.00272793\n",
      "[355]\tvalid_0's l2: 0.00272814\n",
      "[356]\tvalid_0's l2: 0.00272889\n",
      "[357]\tvalid_0's l2: 0.00272824\n",
      "[358]\tvalid_0's l2: 0.00272913\n",
      "[359]\tvalid_0's l2: 0.00272994\n",
      "[360]\tvalid_0's l2: 0.00273798\n",
      "[361]\tvalid_0's l2: 0.00273773\n",
      "[362]\tvalid_0's l2: 0.00273756\n",
      "[363]\tvalid_0's l2: 0.00273707\n",
      "[364]\tvalid_0's l2: 0.00273684\n",
      "[365]\tvalid_0's l2: 0.00273638\n",
      "[366]\tvalid_0's l2: 0.00273581\n",
      "[367]\tvalid_0's l2: 0.00273585\n",
      "[368]\tvalid_0's l2: 0.00273591\n",
      "[369]\tvalid_0's l2: 0.00273622\n",
      "[370]\tvalid_0's l2: 0.00273522\n",
      "[371]\tvalid_0's l2: 0.00273427\n",
      "[372]\tvalid_0's l2: 0.00273372\n",
      "[373]\tvalid_0's l2: 0.00273377\n",
      "[374]\tvalid_0's l2: 0.00273321\n",
      "[375]\tvalid_0's l2: 0.00273234\n",
      "[376]\tvalid_0's l2: 0.00273236\n",
      "[377]\tvalid_0's l2: 0.00273223\n",
      "[378]\tvalid_0's l2: 0.00273055\n",
      "[379]\tvalid_0's l2: 0.00273125\n",
      "[380]\tvalid_0's l2: 0.00273319\n",
      "[381]\tvalid_0's l2: 0.00273273\n",
      "[382]\tvalid_0's l2: 0.00273207\n",
      "[383]\tvalid_0's l2: 0.00273382\n",
      "[384]\tvalid_0's l2: 0.00273322\n",
      "[385]\tvalid_0's l2: 0.00273258\n",
      "[386]\tvalid_0's l2: 0.0027319\n",
      "[387]\tvalid_0's l2: 0.0027311\n",
      "[388]\tvalid_0's l2: 0.00273\n",
      "[389]\tvalid_0's l2: 0.00273179\n",
      "[390]\tvalid_0's l2: 0.00273085\n",
      "[391]\tvalid_0's l2: 0.00272957\n",
      "[392]\tvalid_0's l2: 0.00272831\n",
      "[393]\tvalid_0's l2: 0.00272828\n",
      "[394]\tvalid_0's l2: 0.00272725\n",
      "[395]\tvalid_0's l2: 0.00272618\n",
      "[396]\tvalid_0's l2: 0.00272458\n",
      "[397]\tvalid_0's l2: 0.00272288\n",
      "[398]\tvalid_0's l2: 0.00272231\n",
      "[399]\tvalid_0's l2: 0.00272257\n",
      "[400]\tvalid_0's l2: 0.00272053\n",
      "[401]\tvalid_0's l2: 0.00271928\n",
      "[402]\tvalid_0's l2: 0.00271824\n",
      "[403]\tvalid_0's l2: 0.00271687\n",
      "[404]\tvalid_0's l2: 0.0027158\n",
      "[405]\tvalid_0's l2: 0.00271413\n",
      "[406]\tvalid_0's l2: 0.00271419\n",
      "[407]\tvalid_0's l2: 0.00271305\n",
      "[408]\tvalid_0's l2: 0.00271192\n",
      "[409]\tvalid_0's l2: 0.002711\n",
      "[410]\tvalid_0's l2: 0.00270972\n",
      "[411]\tvalid_0's l2: 0.00270884\n",
      "[412]\tvalid_0's l2: 0.0027093\n",
      "[413]\tvalid_0's l2: 0.00270841\n",
      "[414]\tvalid_0's l2: 0.00270933\n",
      "[415]\tvalid_0's l2: 0.0027099\n",
      "[416]\tvalid_0's l2: 0.00271006\n",
      "[417]\tvalid_0's l2: 0.00270994\n",
      "[418]\tvalid_0's l2: 0.00270894\n",
      "[419]\tvalid_0's l2: 0.00270828\n",
      "[420]\tvalid_0's l2: 0.00270751\n",
      "[421]\tvalid_0's l2: 0.00270707\n",
      "[422]\tvalid_0's l2: 0.00270669\n",
      "[423]\tvalid_0's l2: 0.00270593\n",
      "[424]\tvalid_0's l2: 0.00270499\n",
      "[425]\tvalid_0's l2: 0.00270421\n",
      "[426]\tvalid_0's l2: 0.0027047\n",
      "[427]\tvalid_0's l2: 0.00270389\n",
      "[428]\tvalid_0's l2: 0.00270368\n",
      "[429]\tvalid_0's l2: 0.00270221\n",
      "[430]\tvalid_0's l2: 0.00270157\n",
      "[431]\tvalid_0's l2: 0.00270117\n",
      "[432]\tvalid_0's l2: 0.00270072\n",
      "[433]\tvalid_0's l2: 0.00269969\n",
      "[434]\tvalid_0's l2: 0.00270186\n",
      "[435]\tvalid_0's l2: 0.00270126\n",
      "[436]\tvalid_0's l2: 0.00270033\n",
      "[437]\tvalid_0's l2: 0.00269948\n",
      "[438]\tvalid_0's l2: 0.00269924\n",
      "[439]\tvalid_0's l2: 0.00269816\n",
      "[440]\tvalid_0's l2: 0.00269745\n",
      "[441]\tvalid_0's l2: 0.00269913\n",
      "[442]\tvalid_0's l2: 0.00269878\n",
      "[443]\tvalid_0's l2: 0.00269779\n",
      "[444]\tvalid_0's l2: 0.00269697\n",
      "[445]\tvalid_0's l2: 0.00269694\n",
      "[446]\tvalid_0's l2: 0.00269619\n",
      "[447]\tvalid_0's l2: 0.00269545\n",
      "[448]\tvalid_0's l2: 0.00269552\n",
      "[449]\tvalid_0's l2: 0.00269426\n",
      "[450]\tvalid_0's l2: 0.00269463\n",
      "[451]\tvalid_0's l2: 0.00269494\n",
      "[452]\tvalid_0's l2: 0.0026947\n",
      "[453]\tvalid_0's l2: 0.00269372\n",
      "[454]\tvalid_0's l2: 0.00269272\n",
      "[455]\tvalid_0's l2: 0.00269078\n",
      "[456]\tvalid_0's l2: 0.00269092\n",
      "[457]\tvalid_0's l2: 0.00268996\n",
      "[458]\tvalid_0's l2: 0.00268949\n",
      "[459]\tvalid_0's l2: 0.0026885\n",
      "[460]\tvalid_0's l2: 0.00268762\n",
      "[461]\tvalid_0's l2: 0.00268766\n",
      "[462]\tvalid_0's l2: 0.00268681\n",
      "[463]\tvalid_0's l2: 0.00268598\n",
      "[464]\tvalid_0's l2: 0.00268537\n",
      "[465]\tvalid_0's l2: 0.0026844\n",
      "[466]\tvalid_0's l2: 0.00268382\n",
      "[467]\tvalid_0's l2: 0.00268323\n",
      "[468]\tvalid_0's l2: 0.00268338\n",
      "[469]\tvalid_0's l2: 0.0026827\n",
      "[470]\tvalid_0's l2: 0.00268208\n",
      "[471]\tvalid_0's l2: 0.00268115\n",
      "[472]\tvalid_0's l2: 0.0026808\n",
      "[473]\tvalid_0's l2: 0.00268089\n",
      "[474]\tvalid_0's l2: 0.00268046\n",
      "[475]\tvalid_0's l2: 0.00267995\n",
      "[476]\tvalid_0's l2: 0.00267948\n",
      "[477]\tvalid_0's l2: 0.00267895\n",
      "[478]\tvalid_0's l2: 0.00267827\n",
      "[479]\tvalid_0's l2: 0.0026777\n",
      "[480]\tvalid_0's l2: 0.00267719\n",
      "[481]\tvalid_0's l2: 0.00267669\n",
      "[482]\tvalid_0's l2: 0.00267685\n",
      "[483]\tvalid_0's l2: 0.00267595\n",
      "[484]\tvalid_0's l2: 0.00267687\n",
      "[485]\tvalid_0's l2: 0.00267632\n",
      "[486]\tvalid_0's l2: 0.0026759\n",
      "[487]\tvalid_0's l2: 0.00267528\n",
      "[488]\tvalid_0's l2: 0.00267458\n",
      "[489]\tvalid_0's l2: 0.00267445\n",
      "[490]\tvalid_0's l2: 0.00267386\n",
      "[491]\tvalid_0's l2: 0.00267459\n",
      "[492]\tvalid_0's l2: 0.00267465\n",
      "[493]\tvalid_0's l2: 0.00267407\n",
      "[494]\tvalid_0's l2: 0.00267321\n",
      "[495]\tvalid_0's l2: 0.00267418\n",
      "[496]\tvalid_0's l2: 0.0026735\n",
      "[497]\tvalid_0's l2: 0.00267315\n",
      "[498]\tvalid_0's l2: 0.00267257\n",
      "[499]\tvalid_0's l2: 0.00267238\n",
      "[500]\tvalid_0's l2: 0.00267091\n"
     ]
    },
    {
     "data": {
      "text/plain": [
       "LGBMRegressor(alpha=0.9, boosting_type='gbdt', class_weight=None,\n",
       "       colsample_bytree=1.0, learning_rate=0.05, max_depth=-10,\n",
       "       min_child_samples=20, min_child_weight=0.001, min_split_gain=0.0,\n",
       "       n_estimators=500, n_jobs=-1, num_leaves=31, objective='quantile',\n",
       "       random_state=None, reg_alpha=0.0, reg_lambda=0.0, reg_sqrt=True,\n",
       "       seed=0, silent=1, subsample=0.7, subsample_for_bin=200000,\n",
       "       subsample_freq=0)"
      ]
     },
     "execution_count": 1069,
     "metadata": {},
     "output_type": "execute_result"
    }
   ],
   "source": [
    "gbm = lgb.LGBMRegressor(alpha=0.9, objective='quantile', max_depth = -10, num_leaves=31, learning_rate=0.05, \n",
    "                        n_estimators=500, \n",
    "                        subsample=0.7,\n",
    "                        reg_sqrt = True,\n",
    "                        silent=1,\n",
    "                        seed=0 )\n",
    "\n",
    "gbm.fit(X_train, y_train.values.T[0], eval_set=(X_test, y_test.values.T[0])) "
   ]
  },
  {
   "cell_type": "code",
   "execution_count": 1070,
   "metadata": {
    "nbpresent": {
     "id": "be20090e-1a6d-40f0-a30b-01e1f854975e"
    }
   },
   "outputs": [],
   "source": [
    "gbm_pred=gbm.predict(X_test) "
   ]
  },
  {
   "cell_type": "code",
   "execution_count": 1071,
   "metadata": {
    "nbpresent": {
     "id": "e11119cf-c080-4422-be5b-1028d93e8fe1"
    }
   },
   "outputs": [],
   "source": [
    "gbm_pred = pd.DataFrame(y_scaler.inverse_transform(gbm_pred.reshape(-1, 1)), columns=['prediction']).fillna(0)\n",
    "# gbm_pred = pd.DataFrame(gbm_pred.reshape(-1, 1), columns=['prediction']).fillna(0)"
   ]
  },
  {
   "cell_type": "code",
   "execution_count": 1072,
   "metadata": {},
   "outputs": [
    {
     "data": {
      "image/png": "[encoded data removed]",
      "text/plain": [
       "<Figure size 432x288 with 1 Axes>"
      ]
     },
     "metadata": {},
     "output_type": "display_data"
    }
   ],
   "source": [
    "sns.distplot(gbm_pred['prediction'].clip(0,1000));\n",
    "sns.distplot(y_test_ns.clip(0,1000));"
   ]
  },
  {
   "cell_type": "code",
   "execution_count": null,
   "metadata": {},
   "outputs": [],
   "source": []
  },
  {
   "cell_type": "code",
   "execution_count": null,
   "metadata": {
    "nbpresent": {
     "id": "4a1fe4ef-4032-472a-8249-6573357a36e6"
    }
   },
   "outputs": [],
   "source": []
  },
  {
   "cell_type": "code",
   "execution_count": 1073,
   "metadata": {
    "nbpresent": {
     "id": "13da0871-e7a1-49c3-bc80-e1a69d59fb61"
    }
   },
   "outputs": [],
   "source": [
    "h = 1\n",
    "b = 9"
   ]
  },
  {
   "cell_type": "code",
   "execution_count": 1074,
   "metadata": {
    "nbpresent": {
     "id": "796df926-836c-48eb-ad71-1a30f31748a3"
    },
    "scrolled": true
   },
   "outputs": [],
   "source": [
    "o4 = df_test.copy()\n",
    "o4.reset_index(drop=True, inplace=True)"
   ]
  },
  {
   "cell_type": "code",
   "execution_count": 1075,
   "metadata": {
    "nbpresent": {
     "id": "3aac5064-50a3-4dc5-b42a-60ae8cfbc92f"
    },
    "scrolled": true
   },
   "outputs": [],
   "source": [
    "o4['demand_RV_list'] = o4.apply(lambda x: df_sl.loc[x['item_sku_id'], \\\n",
    "                                            x['create_tm'].date():x['next_complete_dt'].date()].values\\\n",
    "                            if x['item_sku_id'] in df_sl.index else [], axis=1)\n",
    "\n",
    "o4['demand_RV_list_acm'] = o4['demand_RV_list'].apply(lambda x: np.cumsum(x))"
   ]
  },
  {
   "cell_type": "code",
   "execution_count": 1076,
   "metadata": {
    "nbpresent": {
     "id": "159ddfd9-94ca-41c8-a3bf-0e4807c7c3b3"
    }
   },
   "outputs": [],
   "source": [
    "list_c = ['SKU_DC', 'create_tm', 'OPT', 'E2E_NN', 'E2E_GBM', 'EQ',  'Normal', 'Gamma', 'Hist', \n",
    "          'Ave_sales','Std_sales', \n",
    "#           'Ave_review', 'Std_review'\n",
    "         ]\n",
    "numberOfRows = len(o4)\n",
    "\n",
    "df_cost = pd.DataFrame(index=np.arange(0, numberOfRows), columns=list_c)\n",
    "df_holding = pd.DataFrame(index=np.arange(0, numberOfRows), columns=list_c)\n",
    "df_back = pd.DataFrame(index=np.arange(0, numberOfRows), columns=list_c)\n",
    "df_stockout = pd.DataFrame(index=np.arange(0, numberOfRows), columns=list_c)\n",
    "df_turnover = pd.DataFrame(index=np.arange(0, numberOfRows), columns=list_c)"
   ]
  },
  {
   "cell_type": "code",
   "execution_count": 1077,
   "metadata": {
    "nbpresent": {
     "id": "1a85c95c-b02f-4517-b8d0-9b3930890d71"
    }
   },
   "outputs": [],
   "source": [
    "df_cost['SKU_DC']=df_holding['SKU_DC']=df_back['SKU_DC']=df_stockout['SKU_DC']=df_turnover['SKU_DC']=o4['item_sku_id'].values\n",
    "df_cost['create_tm']=df_holding['create_tm']=df_back['create_tm']=df_stockout['create_tm']=df_turnover['create_tm']=o4['create_tm'].values\n",
    "df_cost['Ave_sales']=df_holding['Ave_sales']=df_back['Ave_sales']=df_stockout['Ave_sales']=df_turnover['Ave_sales']=o4['mean_112'].values\n",
    "df_cost['Std_sales']=df_holding['Std_sales']=df_back['Std_sales']=df_stockout['Std_sales']=df_turnover['Std_sales']=o4['std_140'].values"
   ]
  },
  {
   "cell_type": "code",
   "execution_count": 1078,
   "metadata": {
    "nbpresent": {
     "id": "168366be-7fe7-4569-9187-a1f8cd674714"
    },
    "scrolled": true
   },
   "outputs": [],
   "source": [
    "def get_inv(x, name):\n",
    "    inv1, inv2 = [], []\n",
    " \n",
    "    for t in range(len(x['demand_RV_list_acm'])):\n",
    "        if t < np.ceil(x['vlt_actual']):\n",
    "            inv1.append(x['initial_stock']-x['demand_RV_list_acm'][t])\n",
    "            continue\n",
    "        else:\n",
    "#             if inv[-1] <= 0:\n",
    "#                 inv.append(-x['demand_RV_list'][t])\n",
    "#             else:\n",
    "#                 inv.append(inv[-1] - x['demand_RV_list'][t])\n",
    "            inv_ = x[name]+x['initial_stock']-x['demand_RV_list_acm'][t]\n",
    "            inv1.append(inv_)\n",
    "            inv2.append(inv_)\n",
    "    return [inv1, inv2]\n",
    "    \n",
    "Z90 = 1.96\n",
    "o4['OPT_inv_f'], o4['OPT_inv'] = zip(*o4.apply(lambda x: get_inv(x, 'target_decision'), axis=1))\n",
    "\n",
    "o4['EQ_replen'] = pd.read_csv('EQ_replen_with_IS.csv')\n",
    "o4['EQ_replen'] = (o4['EQ_replen'] - o4['initial_stock']).clip(0)\n",
    "o4['EQ_inv_f'], o4['EQ_inv'] = zip(*o4.apply(get_inv, name='EQ_replen', axis=1))\n",
    "\n",
    "o4['Normal_replen'] = o4.apply(lambda x: int(x['mean_112']*(x['review_period']+x['vendor_vlt_mean'])\n",
    "                                       +Z90*np.sqrt((x['review_period']+x['vendor_vlt_mean'])*x['std_140']**2\n",
    "                                                    + x['std_140']**2 * x['vlt_std'])), axis=1)\n",
    "o4['Normal_replen'] = (o4['Normal_replen'] - o4['initial_stock']).clip(0)\n",
    "o4['Normal_inv_f'], o4['Normal_inv'] = zip(*o4.apply(get_inv, name='Normal_replen',  axis=1))\n",
    "\n",
    "def gamma_base(x):\n",
    "    mean = x['mean_112']\n",
    "    var = x['std_140']**2\n",
    "    theta = var/(mean+1e-5)\n",
    "    k = mean/(theta+1e-5)\n",
    "    k_sum = int(x['review_period']+x['vendor_vlt_mean'])*k\n",
    "    gamma_stock = gamma.ppf(0.9, a=k_sum, scale = theta)\n",
    "    if(np.isnan(gamma_stock)):\n",
    "        return 0\n",
    "    else:\n",
    "        return int(gamma_stock)\n",
    "\n",
    "o4['Gamma_replen'] = o4.apply(gamma_base, axis=1)\n",
    "o4['Gamma_replen'] = (o4['Gamma_replen'] - o4['initial_stock']).clip(0)\n",
    "o4['Gamma_inv_f'],o4['Gamma_inv'] = zip(*o4.apply(get_inv, name='Gamma_replen', axis=1))\n",
    "\n",
    "o4['Hist_inv_f'], o4['Hist_inv'] = zip(*o4.apply(get_inv, name='actual_pur_qtty', axis=1))\n"
   ]
  },
  {
   "cell_type": "code",
   "execution_count": 1079,
   "metadata": {
    "nbpresent": {
     "id": "e60d1357-599b-4bcb-8a48-44c08cde2d7e"
    }
   },
   "outputs": [],
   "source": [
    "# o4['demand_EQ_list'] = o4.apply(lambda x: df_sl.iloc[:,360:].loc[x['item_sku_id'], \\\n",
    "#                                             :x['create_tm'].date()].values\\\n",
    "#                             if x['item_sku_id'] in df_sl.index else [], axis=1)\n",
    "# o4['EQ_replen_with_IS'] = o4.apply(lambda x: np.percentile(\n",
    "#                             [np.sum(x['demand_EQ_list'][i:i+int(x['review_period']+x['vendor_vlt_mean'])])\n",
    "#                                      for i in range(int(len(x['demand_EQ_list'])-x['review_period']-x['vendor_vlt_mean']))\n",
    "#                             ], 90), axis=1)\n",
    "# o4['EQ_replen_with_IS'] = o4['EQ_replen_with_IS'] - o4['initial_stock_overall']\n",
    "# o4['EQ_replen_with_IS'].to_csv('EQ_replen_with_IS.csv', index=False)\n",
    "# o4['EQ_replen_with_IS'] = pd.read_csv('EQ_replen_with_IS.csv')\n"
   ]
  },
  {
   "cell_type": "code",
   "execution_count": 1080,
   "metadata": {
    "nbpresent": {
     "id": "adab284f-93eb-4609-8a11-2fc59f9107e4"
    }
   },
   "outputs": [],
   "source": [
    "o4['E2E_GBM_replen'] = (gbm_pred['prediction'] - o4['initial_stock']).clip(0)\n",
    "# o4['gbm_pred'] = gbm_pred['prediction'].clip(0)\n",
    "o4['E2E_GBM_inv_f'], o4['E2E_GBM_inv'] = zip(*o4.apply(get_inv, name='E2E_GBM_replen',  axis=1))\n",
    "\n",
    "o4['E2E_NN_replen'] = (pred['prediction'] - o4['initial_stock']).clip(0)\n",
    "# o4['nn_pred'] = pred['prediction'].clip(0)\n",
    "o4['E2E_NN_inv_f'], o4['E2E_NN_inv'] = zip(*o4.apply(get_inv, name='E2E_NN_replen', axis=1))"
   ]
  },
  {
   "cell_type": "code",
   "execution_count": 1081,
   "metadata": {
    "nbpresent": {
     "id": "fa6686c0-47fe-45d2-9764-ee090eb83b49"
    }
   },
   "outputs": [],
   "source": [
    "# str_list = ['OPT', 'E2E_NN', 'E2E_GBM', 'EQ', 'Normal', 'Gamma', 'Hist']\n",
    "# for str1 in str_list:\n",
    "#     str2 = str1 + '_inv'\n",
    "#     df_holding[str1] = o4[str2].apply(lambda x: h * sum([inv for inv in x if inv>0]) )\n",
    "#     df_back[str1] = o4[str2].apply(lambda x: b * (0 if  x==[] else max(0, -x[-1])))\n",
    "#     df_stockout[str1] = o4[str2].apply(lambda x: len([inv for inv in x if inv<0])/len(x) if len(x)>0 else 0 )\n",
    "#     df_turnover[str1] = o4.apply(lambda x: np.mean([max(i,0) for i in x[str2]]) / x['mean_112']\n",
    "#                                   if np.mean(x['mean_112']) >0 else np.mean(x[str2]), axis=1).fillna(7)\n",
    "#     df_cost[str1] = df_holding[str1] + df_back[str1]"
   ]
  },
  {
   "cell_type": "code",
   "execution_count": 1082,
   "metadata": {},
   "outputs": [],
   "source": [
    "str_list = ['OPT', 'E2E_NN', 'E2E_GBM', 'EQ', 'Normal', 'Gamma', 'Hist']\n",
    "o4['OPT_replen'] = o4['target_decision']\n",
    "o4['Hist_replen'] = o4['actual_pur_qtty']\n",
    "for str1 in str_list:\n",
    "    str_r = str1 + '_replen'\n",
    "    str2 = str1 + '_inv'\n",
    "    df_holding[str1] = (o4[str_r] - o4['target_decision']).clip(0) * h\n",
    "    df_back[str1] = (o4['target_decision'] - o4[str_r]).clip(0) * b\n",
    "    df_stockout[str1] = o4[str2].apply(lambda x: len([inv for inv in x if inv<0])/len(x) if len(x)>0 else 0 )\n",
    "    df_turnover[str1] = o4.apply(lambda x: np.mean([max(i,0) for i in x[str2]]) / x['mean_112']\n",
    "                                  if np.mean(x['mean_112']) >0 else np.mean(x[str2]), axis=1).fillna(7)\n",
    "    df_cost[str1] = df_holding[str1] + df_back[str1]"
   ]
  },
  {
   "cell_type": "code",
   "execution_count": 1083,
   "metadata": {
    "nbpresent": {
     "id": "e9b08461-6fd3-4aaf-b956-560b0c6fb607"
    },
    "scrolled": true
   },
   "outputs": [
    {
     "data": {
      "text/html": [
       "<div>\n",
       "<style scoped>\n",
       "    .dataframe tbody tr th:only-of-type {\n",
       "        vertical-align: middle;\n",
       "    }\n",
       "\n",
       "    .dataframe tbody tr th {\n",
       "        vertical-align: top;\n",
       "    }\n",
       "\n",
       "    .dataframe thead th {\n",
       "        text-align: right;\n",
       "    }\n",
       "</style>\n",
       "<table border=\"1\" class=\"dataframe\">\n",
       "  <thead>\n",
       "    <tr style=\"text-align: right;\">\n",
       "      <th></th>\n",
       "      <th>Hist</th>\n",
       "      <th>Gamma</th>\n",
       "      <th>E2E_GBM</th>\n",
       "      <th>E2E_NN</th>\n",
       "      <th>EQ</th>\n",
       "      <th>Normal</th>\n",
       "    </tr>\n",
       "  </thead>\n",
       "  <tbody>\n",
       "    <tr>\n",
       "      <th>Best</th>\n",
       "      <td>0.231822</td>\n",
       "      <td>0.222701</td>\n",
       "      <td>0.211259</td>\n",
       "      <td>0.14095</td>\n",
       "      <td>0.117652</td>\n",
       "      <td>0.075616</td>\n",
       "    </tr>\n",
       "  </tbody>\n",
       "</table>\n",
       "</div>"
      ],
      "text/plain": [
       "          Hist     Gamma   E2E_GBM   E2E_NN        EQ    Normal\n",
       "Best  0.231822  0.222701  0.211259  0.14095  0.117652  0.075616"
      ]
     },
     "execution_count": 1083,
     "metadata": {},
     "output_type": "execute_result"
    }
   ],
   "source": [
    "pd.DataFrame({'Best': df_cost.iloc[:,3:9].idxmin(axis=1).value_counts()/len(df_cost)}).T"
   ]
  },
  {
   "cell_type": "code",
   "execution_count": 1084,
   "metadata": {
    "nbpresent": {
     "id": "ccf73c3c-dd85-425c-8e5e-8d97141dd64a"
    },
    "scrolled": true
   },
   "outputs": [
    {
     "data": {
      "text/html": [
       "<div>\n",
       "<style scoped>\n",
       "    .dataframe tbody tr th:only-of-type {\n",
       "        vertical-align: middle;\n",
       "    }\n",
       "\n",
       "    .dataframe tbody tr th {\n",
       "        vertical-align: top;\n",
       "    }\n",
       "\n",
       "    .dataframe thead th {\n",
       "        text-align: right;\n",
       "    }\n",
       "</style>\n",
       "<table border=\"1\" class=\"dataframe\">\n",
       "  <thead>\n",
       "    <tr style=\"text-align: right;\">\n",
       "      <th></th>\n",
       "      <th>OPT</th>\n",
       "      <th>E2E_NN</th>\n",
       "      <th>E2E_GBM</th>\n",
       "      <th>EQ</th>\n",
       "      <th>Normal</th>\n",
       "      <th>Gamma</th>\n",
       "      <th>Hist</th>\n",
       "      <th>Ave_sales</th>\n",
       "    </tr>\n",
       "  </thead>\n",
       "  <tbody>\n",
       "    <tr>\n",
       "      <th>Total</th>\n",
       "      <td>0.000000</td>\n",
       "      <td>210.905296</td>\n",
       "      <td>205.716317</td>\n",
       "      <td>976.771089</td>\n",
       "      <td>259.790482</td>\n",
       "      <td>283.957715</td>\n",
       "      <td>486.454606</td>\n",
       "      <td>21.344102</td>\n",
       "    </tr>\n",
       "    <tr>\n",
       "      <th>Holding</th>\n",
       "      <td>0.000000</td>\n",
       "      <td>105.310366</td>\n",
       "      <td>67.846801</td>\n",
       "      <td>427.713631</td>\n",
       "      <td>122.799602</td>\n",
       "      <td>83.107205</td>\n",
       "      <td>88.251803</td>\n",
       "      <td>21.344102</td>\n",
       "    </tr>\n",
       "    <tr>\n",
       "      <th>Back</th>\n",
       "      <td>0.000000</td>\n",
       "      <td>105.594930</td>\n",
       "      <td>137.869516</td>\n",
       "      <td>549.057458</td>\n",
       "      <td>136.990880</td>\n",
       "      <td>200.850510</td>\n",
       "      <td>398.202802</td>\n",
       "      <td>21.344102</td>\n",
       "    </tr>\n",
       "    <tr>\n",
       "      <th>Stockout</th>\n",
       "      <td>0.000000</td>\n",
       "      <td>0.031706</td>\n",
       "      <td>0.052331</td>\n",
       "      <td>0.175182</td>\n",
       "      <td>0.058137</td>\n",
       "      <td>0.100990</td>\n",
       "      <td>0.234471</td>\n",
       "      <td>21.344102</td>\n",
       "    </tr>\n",
       "    <tr>\n",
       "      <th>Turnover</th>\n",
       "      <td>6.383452</td>\n",
       "      <td>17.789455</td>\n",
       "      <td>13.474792</td>\n",
       "      <td>201.062388</td>\n",
       "      <td>16.369389</td>\n",
       "      <td>12.754582</td>\n",
       "      <td>10.736846</td>\n",
       "      <td>21.344102</td>\n",
       "    </tr>\n",
       "  </tbody>\n",
       "</table>\n",
       "</div>"
      ],
      "text/plain": [
       "               OPT      E2E_NN     E2E_GBM          EQ      Normal  \\\n",
       "Total     0.000000  210.905296  205.716317  976.771089  259.790482   \n",
       "Holding   0.000000  105.310366   67.846801  427.713631  122.799602   \n",
       "Back      0.000000  105.594930  137.869516  549.057458  136.990880   \n",
       "Stockout  0.000000    0.031706    0.052331    0.175182    0.058137   \n",
       "Turnover  6.383452   17.789455   13.474792  201.062388   16.369389   \n",
       "\n",
       "               Gamma        Hist  Ave_sales  \n",
       "Total     283.957715  486.454606  21.344102  \n",
       "Holding    83.107205   88.251803  21.344102  \n",
       "Back      200.850510  398.202802  21.344102  \n",
       "Stockout    0.100990    0.234471  21.344102  \n",
       "Turnover   12.754582   10.736846  21.344102  "
      ]
     },
     "execution_count": 1084,
     "metadata": {},
     "output_type": "execute_result"
    }
   ],
   "source": [
    "pd.DataFrame({'Total': df_cost[['OPT','E2E_NN','E2E_GBM','EQ','Normal','Gamma','Hist','Ave_sales']].mean(),\n",
    "             'Holding': df_holding[['OPT','E2E_NN','E2E_GBM','EQ','Normal','Gamma','Hist','Ave_sales']].mean(),\n",
    "             'Back': df_back[['OPT','E2E_NN','E2E_GBM','EQ','Normal','Gamma','Hist','Ave_sales']].mean(),\n",
    "             'Stockout': df_stockout[['OPT','E2E_NN','E2E_GBM','EQ','Normal','Gamma','Hist','Ave_sales']].mean(),\n",
    "             'Turnover': df_turnover[['OPT','E2E_NN','E2E_GBM','EQ','Normal','Gamma','Hist','Ave_sales']].mean(),\n",
    "             }).T"
   ]
  },
  {
   "cell_type": "code",
   "execution_count": null,
   "metadata": {},
   "outputs": [],
   "source": []
  },
  {
   "cell_type": "code",
   "execution_count": null,
   "metadata": {},
   "outputs": [],
   "source": []
  },
  {
   "cell_type": "code",
   "execution_count": null,
   "metadata": {},
   "outputs": [],
   "source": []
  },
  {
   "cell_type": "code",
   "execution_count": null,
   "metadata": {
    "nbpresent": {
     "id": "487e9481-2713-42d3-8f8c-f37e8509a175"
    },
    "scrolled": true
   },
   "outputs": [],
   "source": [
    "tt = o4.iloc[25,:]\n",
    "fig, ax1 = plt.subplots(figsize=(8, 6))\n",
    "ax1.plot(tt['OPT_inv_f'], label = 'DP optimal')\n",
    "ax1.plot(tt['E2E_NN_inv_f'], label = 'E2E NN')\n",
    "ax1.plot(tt['E2E_GBM_inv_f'], label = 'E2E GBM')\n",
    "ax1.plot(tt['EQ_inv_f'], label = 'Emperical Quantile')\n",
    "ax1.plot(tt['Normal_inv_f'], label = 'Normal Basestock')\n",
    "ax1.plot(tt['Gamma_inv_f'], label = 'Gamma Basestock')\n",
    "ax1.plot(tt['Hist_inv_f'], label = 'Historical Decision')\n",
    "ax1.legend(loc='center left', bbox_to_anchor=(1.0, 0.5))\n",
    "ax1.grid(True)"
   ]
  },
  {
   "cell_type": "code",
   "execution_count": null,
   "metadata": {
    "nbpresent": {
     "id": "f468307e-99b3-4d0d-af2a-666ba691c804"
    }
   },
   "outputs": [],
   "source": []
  },
  {
   "cell_type": "code",
   "execution_count": null,
   "metadata": {
    "nbpresent": {
     "id": "cf6c6a76-7ba1-46bb-95c6-a99cec742422"
    }
   },
   "outputs": [],
   "source": [
    "co_qtl = df_cost.iloc[:,2:].quantile(np.linspace(0, 1, 11), numeric_only=False)\n",
    "hd_qtl = df_holding.iloc[:,2:].quantile(np.linspace(0, 1, 11), numeric_only=False)\n",
    "bk_qtl = df_back.iloc[:,2:].quantile(np.linspace(0, 1, 11), numeric_only=False)"
   ]
  },
  {
   "cell_type": "code",
   "execution_count": null,
   "metadata": {
    "nbpresent": {
     "id": "1917f71f-49c7-4efb-8cd3-3ae8aa1e42a2"
    }
   },
   "outputs": [],
   "source": [
    "fig, ax = plt.subplots(figsize=(8, 6))\n",
    "ax.plot(np.log(co_qtl.iloc[:,:-2].astype(float)).replace(-np.inf, 0));\n",
    "ax.legend(co_qtl.columns[:-2], loc=0)\n",
    "ax.set_title('total cost不同分位点下不同模型的表现');"
   ]
  },
  {
   "cell_type": "code",
   "execution_count": null,
   "metadata": {
    "nbpresent": {
     "id": "da0572e3-1a51-4530-9f44-a64330989685"
    }
   },
   "outputs": [],
   "source": [
    "fig, ax = plt.subplots(figsize=(8, 6))\n",
    "ax.plot(np.log(hd_qtl.iloc[:,:-2].astype(float)).replace(-np.inf, 0));\n",
    "ax.legend(hd_qtl.columns[:-2], loc=0)\n",
    "ax.set_title('holding cost不同分位点下不同模型的表现');"
   ]
  },
  {
   "cell_type": "code",
   "execution_count": null,
   "metadata": {
    "nbpresent": {
     "id": "f5769300-8fed-46ff-a755-a5e55fd62dab"
    }
   },
   "outputs": [],
   "source": [
    "fig, ax = plt.subplots(figsize=(8, 6))\n",
    "ax.plot(np.log(bk_qtl.iloc[:,:-2].astype(float)).replace(-np.inf, 0));\n",
    "ax.set_xlim(0, 1)\n",
    "ax.legend(bk_qtl.columns[:-2], loc=0)\n",
    "ax.set_title('backorder cost不同分位点下不同模型的表现');"
   ]
  },
  {
   "cell_type": "code",
   "execution_count": null,
   "metadata": {
    "nbpresent": {
     "id": "a99d58fe-ed5c-4ca2-abdf-6844849af19a"
    }
   },
   "outputs": [],
   "source": [
    "# sns.distplot(np.log(df_cost['Ave_sales']));\n",
    "sns.distplot(o4.groupby('item_sku_id').review_period.std().fillna(0))"
   ]
  },
  {
   "cell_type": "code",
   "execution_count": null,
   "metadata": {
    "nbpresent": {
     "id": "da44d0a9-878f-45af-ae21-8639071f1989"
    }
   },
   "outputs": [],
   "source": []
  },
  {
   "cell_type": "code",
   "execution_count": null,
   "metadata": {
    "nbpresent": {
     "id": "872b6578-a501-4bef-8872-611ece3043a4"
    }
   },
   "outputs": [],
   "source": [
    "# py_pp = df_cost\n",
    "# py_pp['SKU_DC'] = py_pp[['SKU_DC','create_tm']].apply(lambda x: '_'.join([str(i) for i in x]), axis=1)\n",
    "# py_pp.drop(columns=['create_tm','Ave_sales','Std_sales'], inplace=True)\n",
    "# py_pp_stack = py_pp.set_index('SKU_DC').stack().rename('method')\n",
    "# py_pp_stack = pd.DataFrame(py_pp_stack).reset_index()\n",
    "# taus, solver_vals, solvers, transformed_data = optperfprofpy.calc_perprof(py_pp_stack.iloc[0:770,:], ['SKU_DC'], ['method'], ['level_1'])\n",
    "# optperfprofpy.draw_simple_pp(taus, solver_vals, solvers)"
   ]
  },
  {
   "cell_type": "code",
   "execution_count": null,
   "metadata": {
    "nbpresent": {
     "id": "248a1984-524d-4ec5-93f6-3f017ec87699"
    }
   },
   "outputs": [],
   "source": [
    "# import shap\n",
    "# # print the JS visualization code to the notebook\n",
    "# shap.initjs()"
   ]
  },
  {
   "cell_type": "code",
   "execution_count": null,
   "metadata": {
    "nbpresent": {
     "id": "aad22aa7-3314-4a3a-9897-858f1a37d71a"
    }
   },
   "outputs": [],
   "source": [
    "# explainer = shap.TreeExplainer(gbm)\n",
    "# shap_values = explainer.shap_values(X_test)\n",
    "\n",
    "# shap.summary_plot(shap_values, X_test)\n",
    "\n",
    "# shap.summary_plot(shap_values, X_test, plot_type=\"bar\")"
   ]
  },
  {
   "cell_type": "code",
   "execution_count": null,
   "metadata": {},
   "outputs": [],
   "source": []
  },
  {
   "cell_type": "code",
   "execution_count": null,
   "metadata": {},
   "outputs": [],
   "source": []
  },
  {
   "cell_type": "code",
   "execution_count": null,
   "metadata": {
    "nbpresent": {
     "id": "3cf7da8c-ecb1-4bae-b26e-7b03b8899273"
    }
   },
   "outputs": [],
   "source": [
    "xx = np.arange(0, 200, 5)\n",
    "tt_is = X_test_ns.iloc[305:306,:]\n",
    "yy1, yy2 = [],[]\n",
    "for i in xx:\n",
    "#     tt_is['initial_stock'] = i\n",
    "    tt_ = pd.DataFrame(X_scaler.transform(tt_is), columns=tt_is.columns)\n",
    "\n",
    "    gbm_pred=gbm.predict(tt_) \n",
    "    nn_pred=sess.run(output, feed_dict={x_vlt: tt_[VLT_FEA].values, \n",
    "                                  x_sf: tt_[SF_FEA].values, \n",
    "                                  x_oth: tt_[MORE_FEA].values, \n",
    "                                  x_cat: tt_[CAT_FEA_HOT].values, \n",
    "                                  x_is: tt_[IS_FEA].values, \n",
    "                                  })\n",
    "    yy1.append( y_scaler.inverse_transform(gbm_pred.reshape(-1, 1))[0][0] )\n",
    "    yy2.append( y_scaler.inverse_transform(nn_pred.reshape(-1, 1))[0][0] )\n",
    "\n",
    "fig, ax1 = plt.subplots(figsize=(8, 6))\n",
    "plt.plot(xx, yy1, label='GBM');\n",
    "plt.plot(xx, yy2, label='NN');\n",
    "plt.plot(xx, 350-xx, label='ideally');\n",
    "\n",
    "# plt.plot(xx, 330-xx)\n",
    "plt.xlabel('initial stock')\n",
    "plt.ylabel('prediction')\n",
    "plt.legend(prop={'size': 12})"
   ]
  },
  {
   "cell_type": "code",
   "execution_count": null,
   "metadata": {},
   "outputs": [],
   "source": []
  },
  {
   "cell_type": "code",
   "execution_count": null,
   "metadata": {
    "nbpresent": {
     "id": "9eb6a2cb-fe6e-48e8-8e44-04471f39eb2d"
    }
   },
   "outputs": [],
   "source": [
    "sess.close()"
   ]
  },
  {
   "cell_type": "code",
   "execution_count": null,
   "metadata": {},
   "outputs": [],
   "source": []
  },
  {
   "cell_type": "code",
   "execution_count": null,
   "metadata": {},
   "outputs": [],
   "source": []
  },
  {
   "cell_type": "code",
   "execution_count": 1103,
   "metadata": {},
   "outputs": [],
   "source": [
    "import pickle, torch\n",
    "import importlib\n",
    "importlib.reload(sys)\n",
    "\n",
    "with open('../data/1320/dl_supplier_embed.pkl', 'rb') as f:\n",
    "    supp = pickle.load(f, encoding='bytes')"
   ]
  },
  {
   "cell_type": "code",
   "execution_count": 1114,
   "metadata": {},
   "outputs": [
    {
     "data": {
      "text/plain": [
       "torch.Size([3250, 50])"
      ]
     },
     "execution_count": 1114,
     "metadata": {},
     "output_type": "execute_result"
    }
   ],
   "source": [
    "supp.shape"
   ]
  },
  {
   "cell_type": "code",
   "execution_count": 1108,
   "metadata": {},
   "outputs": [],
   "source": [
    "with open('../data/1320/supp_id.pkl', 'rb') as f:\n",
    "    supp_dic = pickle.load(f)"
   ]
  },
  {
   "cell_type": "code",
   "execution_count": 1113,
   "metadata": {
    "scrolled": true
   },
   "outputs": [
    {
     "data": {
      "text/plain": [
       "3233"
      ]
     },
     "execution_count": 1113,
     "metadata": {},
     "output_type": "execute_result"
    }
   ],
   "source": [
    "len(supp_dic.major_supp_brevity_code.unique())"
   ]
  },
  {
   "cell_type": "code",
   "execution_count": null,
   "metadata": {},
   "outputs": [],
   "source": []
  },
  {
   "cell_type": "code",
   "execution_count": null,
   "metadata": {},
   "outputs": [],
   "source": []
  }
 ],
 "metadata": {
  "kernelspec": {
   "display_name": "Python [conda env:tf]",
   "language": "python",
   "name": "conda-env-tf-py"
  },
  "language_info": {
   "codemirror_mode": {
    "name": "ipython",
    "version": 3
   },
   "file_extension": ".py",
   "mimetype": "text/x-python",
   "name": "python",
   "nbconvert_exporter": "python",
   "pygments_lexer": "ipython3",
   "version": "3.6.6"
  }
 },
 "nbformat": 4,
 "nbformat_minor": 2
}
