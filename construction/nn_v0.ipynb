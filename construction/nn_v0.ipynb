{
 "cells": [
  {
   "cell_type": "code",
   "execution_count": 2,
   "metadata": {
    "nbpresent": {
     "id": "73fb928c-b15c-40a2-bfb6-4370c9f23157"
    }
   },
   "outputs": [],
   "source": [
    "import numpy as np\n",
    "import pandas as pd\n",
    "import os\n",
    "import warnings\n",
    "from tqdm import tqdm\n",
    "import math\n",
    "import seaborn as sns\n",
    "\n",
    "from scipy.stats import gamma\n",
    "import datetime as dt\n",
    "from sklearn.model_selection import train_test_split\n",
    "from sklearn.preprocessing import MinMaxScaler\n",
    "import lightgbm as lgb\n",
    "# import optperfprofpy\n",
    "\n",
    "import sys \n",
    "sys.path.append('..')\n",
    "from utils.demand_pkg import *\n",
    "import matplotlib.pyplot as plt\n",
    "from utils.algorithms import get_opt, get_EQ, get_end2end_iid, get_end2end, get_normal_basestock, get_gamma_basestock, get_normal_basestock2\n",
    "from subprocess import call\n",
    "\n",
    "import tensorflow as tf\n",
    "\n",
    "warnings.filterwarnings('ignore')\n",
    "# plt.rcParams['font.sans-serif']=['SimHei'] #用来正常显示中文标签\n",
    "# plt.rcParams['axes.unicode_minus']=False #用来正常显示负号"
   ]
  },
  {
   "cell_type": "code",
   "execution_count": 3,
   "metadata": {
    "nbpresent": {
     "id": "8c92309b-8cdb-4da6-84b4-a452bed4f113"
    }
   },
   "outputs": [],
   "source": [
    "# o0 = pd.read_csv('../data/1320_feature/features_v11.csv', parse_dates=['create_tm','complete_dt','dt','next_complete_dt'],\n",
    "#                  usecols=lambda col: col not in ['d_vlt'])\n",
    "with open('../data/1320_feature/df_e2e.pkl', 'rb') as fp:\n",
    "    o0 = pickle.load(fp)\n",
    "df_sales = pd.read_csv('../data/1320/rdc_sales_1320_replenishment_V1_filled_pp.csv')\n",
    "df_sl = df_sales.set_index('row')\n",
    "df_sl.rename(columns=lambda x: (dt.datetime(2016,1,1) + dt.timedelta(days=int(x)-730)).date(), inplace=True)"
   ]
  },
  {
   "cell_type": "code",
   "execution_count": 4,
   "metadata": {},
   "outputs": [],
   "source": [
    "# o0['demand_RV_list'] = o0.apply(lambda x: df_sl.loc[x['item_sku_id'], \\\n",
    "#                                             x['create_tm'].date():x['next_complete_dt'].date()].values\\\n",
    "#                             if x['item_sku_id'] in df_sl.index else [], axis=1)\n",
    "\n",
    "# with open('../data/1320_feature/df_e2e.pkl', 'wb') as file_pkl:\n",
    "#     pickle.dump(o0, file_pkl, protocol=pickle.HIGHEST_PROTOCOL)"
   ]
  },
  {
   "cell_type": "code",
   "execution_count": 5,
   "metadata": {},
   "outputs": [],
   "source": [
    "o0 = o0[o0.next_complete_dt < dt.datetime(2018,8,31)]"
   ]
  },
  {
   "cell_type": "code",
   "execution_count": 6,
   "metadata": {},
   "outputs": [
    {
     "data": {
      "text/plain": [
       "item_sku_id\n",
       "5045816#6    8\n",
       "Name: pur_bill_id, dtype: int64"
      ]
     },
     "execution_count": 6,
     "metadata": {},
     "output_type": "execute_result"
    }
   ],
   "source": [
    "o0.groupby('item_sku_id').pur_bill_id.count().sort_values(ascending=False)[2000:2001]"
   ]
  },
  {
   "cell_type": "code",
   "execution_count": 7,
   "metadata": {
    "scrolled": true
   },
   "outputs": [
    {
     "data": {
      "text/plain": [
       "(93362, 156)"
      ]
     },
     "execution_count": 7,
     "metadata": {},
     "output_type": "execute_result"
    }
   ],
   "source": [
    "o0.shape"
   ]
  },
  {
   "cell_type": "code",
   "execution_count": 8,
   "metadata": {
    "nbpresent": {
     "id": "ef2cf35d-c15d-4cb8-8ab3-6ad8a7a8b5af"
    }
   },
   "outputs": [],
   "source": [
    "# o_num = o2.loc[:, feature_list+LABEL]\n",
    "# for i in range(2, o_num.shape[1]):\n",
    "#     plt.figure();\n",
    "#     ax = sns.distplot(o_num.iloc[:,i]);\n",
    "#     plt.savefig('../figures/vlm/%i.png' %i);\n",
    "#     plt.close();"
   ]
  },
  {
   "cell_type": "code",
   "execution_count": 9,
   "metadata": {
    "nbpresent": {
     "id": "a6f40729-407e-4127-9ed5-a2b6565c5620"
    }
   },
   "outputs": [],
   "source": [
    "IDX = ['item_sku_id','sku_id']\n",
    "\n",
    "CAT_FEA = [\n",
    "#     'item_first_cate_cd', 'item_second_cate_cd', \n",
    "    'item_third_cate_cd', \n",
    "    'int_org_num', \n",
    "#     'brand_code', \n",
    "#     'create_day_of_week'\n",
    "    ]\n",
    "\n",
    "VLT_FEA = [\n",
    "#            'review_period', \n",
    "    'uprc', 'contract_stk_prc', \n",
    "    'wt', 'width', 'height', 'calc_volume', 'len',\n",
    "    'vlt_count', 'vlt_sum', 'vlt_min', 'vlt_max', 'vlt_mean', 'vlt_std',\n",
    "    'qtty_sum', 'qtty_min', 'qtty_max', 'qtty_mean', 'qtty_std', \n",
    "    'amount_sum', 'amount_min', 'amount_max', 'amount_mean', 'amount_std', \n",
    "    'vlt_count_6mo', 'vlt_sum_6mo', 'vlt_min_6mo', 'vlt_max_6mo', 'vlt_mean_6mo', 'vlt_std_6mo',\n",
    "    'vendor_vlt_count', 'vendor_vlt_sum', 'vendor_vlt_min', 'vendor_vlt_max', 'vendor_vlt_mean', 'vendor_vlt_std', \n",
    "    'vendor_vlt_count_6mo', 'vendor_vlt_sum_6mo', 'vendor_vlt_min_6mo', \n",
    "    'vendor_vlt_max_6mo', 'vendor_vlt_mean_6mo', 'vendor_vlt_std_6mo', \n",
    "    'vendor_qtty_sum', 'vendor_qtty_min', 'vendor_qtty_max', \n",
    "    'vendor_qtty_mean', 'vendor_qtty_std', 'vendor_amount_sum',\n",
    "    'vendor_amount_min', 'vendor_amount_max', 'vendor_amount_mean'\n",
    "        ]\n",
    "\n",
    "SF_FEA = [\n",
    "        'q_7', 'q_14', 'q_28', 'q_56', 'q_112', \n",
    "        'mean_3', 'mean_7', 'mean_14', 'mean_28', 'mean_56', 'mean_112', \n",
    "        'diff_140_mean', 'mean_140_decay', 'median_140', 'min_140', 'max_140', 'std_140', \n",
    "        'diff_60_mean', 'mean_60_decay', 'median_60', 'min_60', 'max_60', 'std_60', \n",
    "        'diff_30_mean', 'mean_30_decay', 'median_30', 'min_30', 'max_30', 'std_30', \n",
    "        'diff_14_mean', 'mean_14_decay', 'median_14', 'min_14', 'max_14', 'std_14',\n",
    "        'diff_7_mean', 'mean_7_decay', 'median_7', 'min_7', 'max_7', 'std_7',\n",
    "        'diff_3_mean', 'mean_3_decay', 'median_3', 'min_3', 'max_3', 'std_3',\n",
    "        'has_sales_days_in_last_140', 'last_has_sales_day_in_last_140',\n",
    "        'first_has_sales_day_in_last_140', 'has_sales_days_in_last_60',\n",
    "        'last_has_sales_day_in_last_60', 'first_has_sales_day_in_last_60',\n",
    "        'has_sales_days_in_last_30', 'last_has_sales_day_in_last_30',\n",
    "        'first_has_sales_day_in_last_30', 'has_sales_days_in_last_14',\n",
    "        'last_has_sales_day_in_last_14', 'first_has_sales_day_in_last_14',\n",
    "        'has_sales_days_in_last_7', 'last_has_sales_day_in_last_7', 'first_has_sales_day_in_last_7'\n",
    "            ]\n",
    "   \n",
    "MORE_FEA =[\n",
    "           'review_period', \n",
    "           'normal', \n",
    "           'gamma', \n",
    "            'eq'\n",
    "            ]\n",
    "\n",
    "IS_FEA = [\n",
    "           'initial_stock', \n",
    "#            'IS_over_mean_56'\n",
    "        ]\n",
    "    \n",
    "# LABEL = ['target_decision']  \n",
    "    \n",
    "CAT_FEA_HOT = ['item_third_cate_cd_1591',\n",
    "             'item_third_cate_cd_2677',\n",
    "             'item_third_cate_cd_5022',\n",
    "             'item_third_cate_cd_5024',\n",
    "             'int_org_num_3',\n",
    "             'int_org_num_4',\n",
    "             'int_org_num_5',\n",
    "             'int_org_num_6',\n",
    "             'int_org_num_9',\n",
    "             'int_org_num_10',\n",
    "             'int_org_num_316',\n",
    "             'int_org_num_772']\n",
    "TO_SCALE = [\n",
    "            # 'label_sf'\n",
    "            ]\n",
    "SEQ2SEQ = ['Enc_X', 'Enc_y', 'Dec_X', 'Dec_y']\n",
    "\n",
    "LABEL = ['demand_RV']    \n",
    "LABEL_vlt = ['vlt_actual']    \n",
    "LABEL_sf = ['label_sf'] "
   ]
  },
  {
   "cell_type": "code",
   "execution_count": 10,
   "metadata": {
    "nbpresent": {
     "id": "fa4e4107-7854-40e5-9373-775bec02ffe6"
    }
   },
   "outputs": [],
   "source": [
    "SCALE_FEA =  VLT_FEA + SF_FEA + MORE_FEA + IS_FEA + CAT_FEA_HOT + TO_SCALE + LABEL_vlt + LABEL_sf\n",
    "CUT_FEA = VLT_FEA + SF_FEA + MORE_FEA\n",
    "MODEL_FEA = VLT_FEA + SF_FEA + MORE_FEA + IS_FEA + CAT_FEA_HOT"
   ]
  },
  {
   "cell_type": "code",
   "execution_count": 11,
   "metadata": {},
   "outputs": [],
   "source": [
    "sku_set = o0.sku_id.unique()\n",
    "sku_train, sku_test = train_test_split(sku_set, random_state=12, train_size=0.9, test_size=0.1)\n",
    "# with open('../data/1320_feature/sku_buddle.pkl', 'rb') as fp:\n",
    "#     sku_train, sku_test = pickle.load(fp)\n",
    "df_train = o0[(o0['sku_id'].isin(sku_train)) & (o0['create_tm'] < dt.datetime(2018,7,27))]\n",
    "# df_test = o0[(o0['sku_id'].isin(sku_test)) & (o0['create_tm'] >= dt.datetime(2018,7,27))]\n",
    "# df_train = o0[o0['create_tm'] < dt.datetime(2018,8,10)]\n",
    "df_test = o0[o0['create_tm'] >= dt.datetime(2018,8,1)]"
   ]
  },
  {
   "cell_type": "code",
   "execution_count": 12,
   "metadata": {
    "scrolled": true
   },
   "outputs": [
    {
     "data": {
      "text/plain": [
       "((46574, 156), (33193, 156))"
      ]
     },
     "execution_count": 12,
     "metadata": {},
     "output_type": "execute_result"
    }
   ],
   "source": [
    "df_train.shape, df_test.shape"
   ]
  },
  {
   "cell_type": "code",
   "execution_count": 13,
   "metadata": {
    "nbpresent": {
     "id": "8b32cff8-e7b9-4a77-bf0d-fbd8835dec9c"
    }
   },
   "outputs": [],
   "source": [
    "X_train_ns, y_train_ns, id_train = df_train[SCALE_FEA], df_train[LABEL], df_train[IDX]\n",
    "X_test_ns, y_test_ns, id_test = df_test[SCALE_FEA], df_test[LABEL], df_test[IDX]\n",
    "\n",
    "n_train, n_test = len(X_train_ns), len(X_test_ns)"
   ]
  },
  {
   "cell_type": "code",
   "execution_count": 14,
   "metadata": {},
   "outputs": [],
   "source": [
    "# y_train_ns = np.log(y_train_ns+1)\n",
    "# y_test_ns = np.log(y_test_ns+1)"
   ]
  },
  {
   "cell_type": "code",
   "execution_count": 15,
   "metadata": {
    "nbpresent": {
     "id": "aad8d85f-0233-4a12-a061-e9b271b97add"
    }
   },
   "outputs": [
    {
     "name": "stdout",
     "output_type": "stream",
     "text": [
      "22.487537620622177 28.56278458022561\n"
     ]
    }
   ],
   "source": [
    "print(X_train_ns.mean_7.mean(), X_test_ns.mean_7.mean())"
   ]
  },
  {
   "cell_type": "code",
   "execution_count": 16,
   "metadata": {
    "nbpresent": {
     "id": "83409c34-6ca9-489a-adf9-15ead5b44f9b"
    }
   },
   "outputs": [],
   "source": [
    "X_scaler = MinMaxScaler() # For normalizing dataset\n",
    "y_scaler = MinMaxScaler() # For normalizing dataset\n",
    "# We want to predict Close value of stock \n",
    "X_train = pd.DataFrame(X_scaler.fit_transform(X_train_ns), columns=X_train_ns.columns)\n",
    "y_train = pd.DataFrame(y_scaler.fit_transform(y_train_ns), columns=y_train_ns.columns)\n",
    "# y_train = y_train_ns\n",
    "\n",
    "X_test = pd.DataFrame(X_scaler.transform(X_test_ns), columns=X_test_ns.columns)\n",
    "y_test = pd.DataFrame(y_scaler.transform(y_test_ns), columns=y_test_ns.columns)\n",
    "# y_test = y_test_ns\n",
    "\n",
    "# pd.DataFrame(min_max_scaler.inverse_transform(y_test), columns=y_test.columns)"
   ]
  },
  {
   "cell_type": "code",
   "execution_count": 17,
   "metadata": {},
   "outputs": [],
   "source": [
    "pd_scaler = pd.concat([pd.DataFrame([y_scaler.data_min_,y_scaler.scale_], columns=y_train_ns.columns),\n",
    "            pd.DataFrame([X_scaler.data_min_,X_scaler.scale_], columns=X_train_ns.columns)], axis=1)\n",
    "pd_scaler.to_csv('../data/1320_feature/scaler.csv', index=False)"
   ]
  },
  {
   "cell_type": "code",
   "execution_count": 18,
   "metadata": {},
   "outputs": [
    {
     "data": {
      "text/plain": [
       "0.00020606312609925824"
      ]
     },
     "execution_count": 18,
     "metadata": {},
     "output_type": "execute_result"
    }
   ],
   "source": [
    "pd_scaler = pd.read_csv('../data/1320_feature/scaler.csv')\n",
    "pd_scaler.loc[1, 'label_sf']"
   ]
  },
  {
   "cell_type": "code",
   "execution_count": 19,
   "metadata": {},
   "outputs": [],
   "source": [
    "X_train = X_train[MODEL_FEA]\n",
    "X_test = X_test[MODEL_FEA]"
   ]
  },
  {
   "cell_type": "code",
   "execution_count": 671,
   "metadata": {
    "scrolled": true
   },
   "outputs": [],
   "source": [
    "cat_dim = len(CAT_FEA_HOT)\n",
    "vlt_dim = len(VLT_FEA)\n",
    "sf_dim = len(SF_FEA)\n",
    "oth_dim = len(MORE_FEA)\n",
    "is_dim = len(IS_FEA)\n",
    "input_dim =  vlt_dim + sf_dim + oth_dim + is_dim + cat_dim\n",
    "\n",
    "hidden_dim = [[100, 120], 160, 30]\n",
    "\n",
    "output_dim = 1\n",
    "q = 0.7\n",
    "\n",
    "\n",
    "tf.reset_default_graph()\n",
    "tf.set_random_seed(0)\n",
    "\n",
    "with tf.name_scope('Data'):\n",
    "    x_vlt = tf.placeholder(tf.float32, shape=[None, vlt_dim], name='Input_vlt')\n",
    "    x_sf = tf.placeholder(tf.float32, shape=[None, sf_dim], name='Input_sf')\n",
    "    x_cat = tf.placeholder(tf.float32, shape=[None, cat_dim], name='Input_pf')\n",
    "    x_oth = tf.placeholder(tf.float32, shape=[None, oth_dim], name='Input_more')\n",
    "    x_is = tf.placeholder(tf.float32, shape=[None, is_dim], name='Input_IS')\n",
    "    mean_vlt = tf.expand_dims(x_vlt[:,-17],1, name='mean_vlt')\n",
    "    review_p = tf.expand_dims(x_oth[:,0],1, name='review_p')\n",
    "\n",
    "with tf.name_scope('Label'):\n",
    "    y = tf.placeholder(tf.float32, shape=[None, 1], name='Label')\n",
    "\n",
    "\n",
    "with tf.variable_scope('Layer_1_vlt'):\n",
    "    W1_vlt = tf.Variable(tf.truncated_normal([vlt_dim+cat_dim, hidden_dim[0][0]], stddev=0.001), name='Weight_1_vlt')\n",
    "    b1_vlt = tf.Variable(tf.zeros([hidden_dim[0][0]]), name='Bias_1_vlt')\n",
    "    l1_vlt = tf.add(tf.matmul(tf.concat([x_vlt, x_cat], axis=1), W1_vlt), b1_vlt)\n",
    "    l1_vlt = tf.nn.relu(l1_vlt)\n",
    "\n",
    "with tf.variable_scope('Layer_1_sf'):\n",
    "    W1_sf = tf.Variable(tf.truncated_normal([sf_dim+cat_dim, hidden_dim[0][1]], stddev=0.001), name='Weight_1_sf')\n",
    "    b1_sf = tf.Variable(tf.zeros([hidden_dim[0][1]]), name='Bias_1_sf')\n",
    "    l1_sf = tf.add(tf.matmul(tf.concat([x_sf, x_cat], axis=1), W1_sf), b1_sf)\n",
    "    l1_sf = tf.nn.relu(l1_sf)\n",
    "            \n",
    "# with tf.variable_scope('Layer_1_profile'):\n",
    "#     W1_pf = tf.Variable(tf.truncated_normal([cat_dim, hidden_dim[0][2]], stddev=0.001), name='Weight_1_pf')\n",
    "#     b1_pf = tf.Variable(tf.zeros([hidden_dim[0][2]]), name='Bias_1_pf')\n",
    "#     l1_pf = tf.add(tf.matmul(x_cat, W1_pf), b1_pf)\n",
    "#     l1_pf = tf.nn.relu(l1_pf)\n",
    "\n",
    "with tf.variable_scope('Layer_2'):\n",
    "    W2 = tf.Variable(tf.truncated_normal([hidden_dim[0][0]+hidden_dim[0][1]+oth_dim, hidden_dim[1]], stddev=0.001), name='Weight_2')\n",
    "    b2 = tf.Variable(tf.zeros([hidden_dim[1]]), name='Bias_3')\n",
    "    l2 = tf.add(tf.matmul(tf.concat([l1_vlt, l1_sf, x_oth], axis=1), W2), b2)\n",
    "    l2 = tf.nn.relu(l2)\n",
    "\n",
    "with tf.variable_scope('Layer_3'):\n",
    "    W3 = tf.Variable(tf.truncated_normal([hidden_dim[1], hidden_dim[2]], stddev=0.001), name='Weight_3')\n",
    "    b3 = tf.Variable(tf.zeros([hidden_dim[2]]), name='Bias_3')\n",
    "    l3 = tf.add(tf.matmul(tf.concat([l2], axis=1), W3), b3)\n",
    "    l3 = tf.nn.relu(l3)\n",
    "\n",
    "with tf.variable_scope('Layer_final'):\n",
    "    W4 = tf.Variable(tf.truncated_normal([hidden_dim[2]+is_dim, 1], stddev=0.001), name='Weight_4')\n",
    "    b4 = tf.Variable(tf.zeros([1]), name='Bias_4')\n",
    "    output = tf.add(tf.matmul(tf.concat([l3, x_is], axis=1), W4), b4)\n",
    "    error = y - output\n",
    "#     loss = tf.reduce_mean(tf.square(tf.maximum(q*error, (q-1)*error)) )\n",
    "    c_os = q*error\n",
    "    c_hd = (q-1)*error\n",
    "    loss = tf.reduce_mean(tf.maximum(c_os, c_hd) )\n",
    "#     c_os = tf.maximum(tf.zeros([1], tf.float32), q*error)\n",
    "#     c_hd = tf.multiply((1-q)*output, review_p + mean_vlt )*0.5\n",
    "#     loss = tf.reduce_mean(c_os+ c_hd )    \n",
    "\n",
    "with tf.name_scope('Optimizer'):\n",
    "    train_step = tf.train.AdamOptimizer(learning_rate=0.0001).minimize(loss)\n"
   ]
  },
  {
   "cell_type": "code",
   "execution_count": 672,
   "metadata": {
    "scrolled": true
   },
   "outputs": [
    {
     "name": "stdout",
     "output_type": "stream",
     "text": [
      "0 0.027599728 0.026070634\n",
      "1 0.011234617192051335 0.006029941\n",
      "2 0.006658378189569457 0.005710851\n",
      "3 0.006423426984163088 0.005581238\n",
      "4 0.00621881229282774 0.005510953\n",
      "5 0.005996013627046321 0.0054539223\n",
      "6 0.005795046934334373 0.005427299\n",
      "7 0.005640765138857258 0.0053581055\n",
      "8 0.005532754871718464 0.0053057713\n",
      "9 0.005427532460076692 0.0052606165\n",
      "10 0.005364845430889744 0.005229111\n",
      "11 0.005317082157927311 0.005199994\n",
      "12 0.005263299789797932 0.0051993714\n",
      "13 0.005232422561766073 0.0051627145\n",
      "14 0.005185186534741034 0.005150999\n",
      "15 0.005149556059110673 0.005125334\n",
      "16 0.005115560067126645 0.0051047658\n",
      "17 0.005066368771348934 0.0050701452\n",
      "18 0.005034712754788987 0.005030021\n",
      "19 0.00498729231130664 0.0050134766\n",
      "20 0.004954088571084953 0.004957564\n",
      "21 0.004916843387665464 0.004939968\n",
      "22 0.004882212554931246 0.0049134647\n",
      "23 0.004845778619603069 0.004900526\n",
      "24 0.004811936565308303 0.0048717298\n",
      "25 0.004790137532715764 0.0048250854\n",
      "26 0.004755019455167593 0.0048300647\n",
      "27 0.004731925145616184 0.0048014363\n",
      "28 0.004720058546692471 0.0047791246\n",
      "29 0.0046805175782542105 0.00475269\n",
      "30 0.004650410452063788 0.004738051\n",
      "31 0.004622936102439033 0.004713034\n",
      "32 0.004605140126432948 0.004691331\n",
      "33 0.004574496096937557 0.0046805637\n",
      "34 0.004534395289056319 0.0046815155\n",
      "35 0.004537576438118271 0.0046599284\n",
      "36 0.004526902348084748 0.004659675\n",
      "37 0.00449365914124927 0.004647226\n",
      "38 0.0044657999516306435 0.0046657054\n",
      "39 0.004458795294507393 0.004687022\n",
      "40 0.00442928673286408 0.004685915\n"
     ]
    }
   ],
   "source": [
    "epochs = 40\n",
    "batch_size = 64\n",
    "init = tf.global_variables_initializer()\n",
    "\n",
    "sess = tf.Session()\n",
    "sess.run(init)\n",
    "writer = tf.summary.FileWriter(\"output\", sess.graph)\n",
    "writer.close()\n",
    "\n",
    "\n",
    "train_err = sess.run(loss, feed_dict={x_vlt: X_train[VLT_FEA].values, \n",
    "                                     x_sf: X_train[SF_FEA].values, \n",
    "                                     x_oth: X_train[MORE_FEA].values, \n",
    "                                     x_cat: X_train[CAT_FEA_HOT].values, \n",
    "                                     x_is: X_train[IS_FEA].values, \n",
    "                                     y: y_train.values})\n",
    "test_err = sess.run(loss, feed_dict={x_vlt: X_test[VLT_FEA].values, \n",
    "                                     x_sf: X_test[SF_FEA].values, \n",
    "                                     x_oth: X_test[MORE_FEA].values, \n",
    "                                     x_cat: X_test[CAT_FEA_HOT].values, \n",
    "                                     x_is: X_test[IS_FEA].values, \n",
    "                                     y: y_test.values})\n",
    "print(0, train_err, test_err)\n",
    "for epoch in range(epochs):\n",
    "    # Split data to batches\n",
    "    train_err = 0\n",
    "    for idx in range(0, X_train.shape[0], batch_size):\n",
    "        bs = min(idx + batch_size, n_train) - idx\n",
    "        batch_data = X_train.iloc[idx:bs+idx, :]\n",
    "        batch_data_ns = X_train_ns.iloc[idx:bs+idx, :]\n",
    "        batch_labels = y_train.iloc[idx:bs+idx, :]\n",
    "        feed_dict = {x_vlt: batch_data[VLT_FEA].values, \n",
    "                     x_sf: batch_data[SF_FEA].values, \n",
    "                     x_oth: batch_data[MORE_FEA].values,\n",
    "                     x_cat: batch_data[CAT_FEA_HOT].values,\n",
    "                     x_is: batch_data[IS_FEA].values,\n",
    "                     y: batch_labels}\n",
    "        _, c_loss = sess.run([train_step, loss], feed_dict)\n",
    "        train_err += c_loss*bs\n",
    "    test_err = sess.run(loss, feed_dict={x_vlt: X_test[VLT_FEA].values, \n",
    "                                         x_sf: X_test[SF_FEA].values, \n",
    "                                         x_oth: X_test[MORE_FEA].values, \n",
    "                                         x_cat: X_test[CAT_FEA_HOT].values, \n",
    "                                         x_is: X_test[IS_FEA].values, \n",
    "                                         y: y_test.values})\n",
    "    print(epoch+1, train_err/n_train, test_err)"
   ]
  },
  {
   "cell_type": "code",
   "execution_count": 552,
   "metadata": {
    "nbpresent": {
     "id": "f4eeb342-e463-48af-92f5-ebc6f36d01b1"
    },
    "scrolled": true
   },
   "outputs": [],
   "source": [
    "pred = sess.run(output, feed_dict={x_vlt: X_test[VLT_FEA].values, \n",
    "                                  x_sf: X_test[SF_FEA].values, \n",
    "                                  x_oth: X_test[MORE_FEA].values, \n",
    "                                  x_cat: X_test[CAT_FEA_HOT].values, \n",
    "                                  x_is: X_test[IS_FEA].values, \n",
    "                                  })\n",
    "\n",
    "pred = pd.DataFrame(y_scaler.inverse_transform(pred), columns=['E2E_NN_pred']).fillna(0)\n",
    "# pred = pd.DataFrame(np.exp(pred)-1, columns=['prediction']).fillna(0)"
   ]
  },
  {
   "cell_type": "code",
   "execution_count": 20,
   "metadata": {},
   "outputs": [],
   "source": [
    "pred_path = '../logs/torch/pred_v5.csv'\n",
    "pred_v5 = pd.read_csv(pred_path)\n",
    "pred_path = '../logs/torch/pred_v6.csv'\n",
    "pred_v6 = pd.read_csv(pred_path)\n",
    "sf_rnn = pickle.load(open('../logs/torch/pred_E2E_SF_RNN.pkl', 'rb'))"
   ]
  },
  {
   "cell_type": "code",
   "execution_count": 21,
   "metadata": {
    "nbpresent": {
     "id": "706bda58-8a7e-4d3f-b36b-e01917d85d98"
    },
    "scrolled": true
   },
   "outputs": [
    {
     "data": {
      "image/png": "[encoded data removed]",
      "text/plain": [
       "<Figure size 432x288 with 1 Axes>"
      ]
     },
     "metadata": {},
     "output_type": "display_data"
    }
   ],
   "source": [
    "sns.distplot(pred_v5['E2E_MLP_pred'].clip(0,1000));\n",
    "sns.distplot(y_test_ns.clip(0,1000));"
   ]
  },
  {
   "cell_type": "code",
   "execution_count": 22,
   "metadata": {},
   "outputs": [
    {
     "data": {
      "image/png": "[encoded data removed]",
      "text/plain": [
       "<Figure size 432x288 with 1 Axes>"
      ]
     },
     "metadata": {},
     "output_type": "display_data"
    }
   ],
   "source": [
    "sns.distplot(pred_v6['E2E_RNN_pred'].clip(0,1000));\n",
    "sns.distplot(y_test_ns.clip(0,1000));"
   ]
  },
  {
   "cell_type": "code",
   "execution_count": null,
   "metadata": {},
   "outputs": [],
   "source": []
  },
  {
   "cell_type": "code",
   "execution_count": null,
   "metadata": {},
   "outputs": [],
   "source": []
  },
  {
   "cell_type": "code",
   "execution_count": 696,
   "metadata": {},
   "outputs": [],
   "source": [
    "X_train_gbm_ns = df_train[SCALE_FEA].reset_index(drop=True)\n",
    "X_test_gbm_ns = df_test[SCALE_FEA].reset_index(drop=True)\n",
    "y_train_gbm_ns = (df_train[['target_decision']]).clip(0)\n",
    "y_test_gbm_ns = (df_test[['target_decision']]).clip(0)\n",
    "\n",
    "X_scaler_gbm = MinMaxScaler() \n",
    "y_scaler_gbm = MinMaxScaler() \n",
    "X_train_gbm = pd.DataFrame(X_scaler_gbm.fit_transform(X_train_gbm_ns), columns=X_train_gbm_ns.columns)\n",
    "y_train_gbm = pd.DataFrame(y_scaler_gbm.fit_transform(y_train_gbm_ns), columns=y_train_gbm_ns.columns)\n",
    "X_test_gbm = pd.DataFrame(X_scaler_gbm.transform(X_test_gbm_ns), columns=X_test_gbm_ns.columns)\n",
    "y_test_gbm = pd.DataFrame(y_scaler_gbm.transform(y_test_gbm_ns), columns=y_test_gbm_ns.columns)\n",
    "X_train_gbm = X_train_gbm[MODEL_FEA]\n",
    "X_test_gbm = X_test_gbm[MODEL_FEA]"
   ]
  },
  {
   "cell_type": "code",
   "execution_count": 697,
   "metadata": {
    "nbpresent": {
     "id": "14e7f7ff-7b40-4434-aecf-f1cf820f0814"
    },
    "scrolled": true
   },
   "outputs": [
    {
     "data": {
      "text/plain": [
       "LGBMRegressor(alpha=0.8, boosting_type='gbdt', class_weight=None,\n",
       "       colsample_bytree=1.0, learning_rate=0.05, max_depth=-10,\n",
       "       min_child_samples=20, min_child_weight=0.001, min_split_gain=0.0,\n",
       "       n_estimators=100, n_jobs=-1, num_leaves=31, objective='quantile',\n",
       "       random_state=None, reg_alpha=0.0, reg_lambda=0.0, reg_sqrt=True,\n",
       "       seed=0, silent=1, subsample=0.7, subsample_for_bin=200000,\n",
       "       subsample_freq=0)"
      ]
     },
     "execution_count": 697,
     "metadata": {},
     "output_type": "execute_result"
    }
   ],
   "source": [
    "gbm = lgb.LGBMRegressor(alpha=0.8, objective='quantile', max_depth = -10, num_leaves=31, learning_rate=0.05, \n",
    "                        n_estimators=100, \n",
    "                        subsample=0.7,\n",
    "                        reg_sqrt = True,\n",
    "                        silent=1,\n",
    "                        seed=0)\n",
    "\n",
    "gbm.fit(X_train_gbm, y_train_gbm['target_decision']) "
   ]
  },
  {
   "cell_type": "code",
   "execution_count": 698,
   "metadata": {
    "nbpresent": {
     "id": "be20090e-1a6d-40f0-a30b-01e1f854975e"
    }
   },
   "outputs": [],
   "source": [
    "gbm_pred=gbm.predict(X_test_gbm) \n",
    "\n",
    "gbm_pred = pd.DataFrame(y_scaler_gbm.inverse_transform(gbm_pred.reshape(-1, 1)), columns=['E2E_GBM_pred']).fillna(0).clip(0)\n",
    "gbm_pred.E2E_GBM_pred = gbm_pred.E2E_GBM_pred+X_test_gbm_ns.initial_stock"
   ]
  },
  {
   "cell_type": "code",
   "execution_count": 699,
   "metadata": {},
   "outputs": [
    {
     "data": {
      "image/png": "[encoded data removed]",
      "text/plain": [
       "<Figure size 432x288 with 1 Axes>"
      ]
     },
     "metadata": {},
     "output_type": "display_data"
    }
   ],
   "source": [
    "sns.distplot(gbm_pred['E2E_GBM_pred'].clip(0,1000));\n",
    "sns.distplot(y_test_ns.clip(0,1000));"
   ]
  },
  {
   "cell_type": "code",
   "execution_count": null,
   "metadata": {},
   "outputs": [],
   "source": []
  },
  {
   "cell_type": "code",
   "execution_count": null,
   "metadata": {
    "nbpresent": {
     "id": "4a1fe4ef-4032-472a-8249-6573357a36e6"
    }
   },
   "outputs": [],
   "source": []
  },
  {
   "cell_type": "code",
   "execution_count": 23,
   "metadata": {
    "nbpresent": {
     "id": "13da0871-e7a1-49c3-bc80-e1a69d59fb61"
    }
   },
   "outputs": [],
   "source": [
    "h = 1\n",
    "b = 9"
   ]
  },
  {
   "cell_type": "code",
   "execution_count": 24,
   "metadata": {
    "nbpresent": {
     "id": "796df926-836c-48eb-ad71-1a30f31748a3"
    },
    "scrolled": true
   },
   "outputs": [],
   "source": [
    "o4 = df_test.copy()\n",
    "o4.reset_index(drop=True, inplace=True)"
   ]
  },
  {
   "cell_type": "code",
   "execution_count": 25,
   "metadata": {},
   "outputs": [],
   "source": [
    "# o4.to_pickle('../data/1320_feature/test_df.pkl')"
   ]
  },
  {
   "cell_type": "code",
   "execution_count": 26,
   "metadata": {
    "nbpresent": {
     "id": "3aac5064-50a3-4dc5-b42a-60ae8cfbc92f"
    },
    "scrolled": true
   },
   "outputs": [],
   "source": [
    "o4['demand_RV_list'] = o4.apply(lambda x: df_sl.loc[x['item_sku_id'], \\\n",
    "                                            x['create_tm'].date():x['next_complete_dt'].date()].values\\\n",
    "                            if x['item_sku_id'] in df_sl.index else [], axis=1)\n",
    "\n",
    "o4['demand_RV_list_acm'] = o4['demand_RV_list'].apply(lambda x: np.cumsum(x))"
   ]
  },
  {
   "cell_type": "code",
   "execution_count": 27,
   "metadata": {
    "nbpresent": {
     "id": "159ddfd9-94ca-41c8-a3bf-0e4807c7c3b3"
    }
   },
   "outputs": [],
   "source": [
    "list_c = ['SKU_DC', 'create_tm', 'OPT', \n",
    "#           'E2E_NN',\n",
    "          'E2E_MLP', 'E2E_RNN',\n",
    "#           'E2E_GBM',  \n",
    "          'Normal', 'Gamma', 'Hist', \n",
    "          'Ave_sales','Std_sales', \n",
    "#           'Ave_review', 'Std_review'\n",
    "         ]\n",
    "numberOfRows = len(o4)\n",
    "\n",
    "df_cost = pd.DataFrame(index=np.arange(0, numberOfRows), columns=list_c)\n",
    "df_holding = pd.DataFrame(index=np.arange(0, numberOfRows), columns=list_c)\n",
    "df_back = pd.DataFrame(index=np.arange(0, numberOfRows), columns=list_c)\n",
    "df_stockout = pd.DataFrame(index=np.arange(0, numberOfRows), columns=list_c)\n",
    "df_turnover = pd.DataFrame(index=np.arange(0, numberOfRows), columns=list_c)"
   ]
  },
  {
   "cell_type": "code",
   "execution_count": 28,
   "metadata": {
    "nbpresent": {
     "id": "1a85c95c-b02f-4517-b8d0-9b3930890d71"
    }
   },
   "outputs": [],
   "source": [
    "df_cost['SKU_DC']=df_holding['SKU_DC']=df_back['SKU_DC']=df_stockout['SKU_DC']=df_turnover['SKU_DC']=o4['item_sku_id'].values\n",
    "df_cost['create_tm']=df_holding['create_tm']=df_back['create_tm']=df_stockout['create_tm']=df_turnover['create_tm']=o4['create_tm'].values\n",
    "df_cost['Ave_sales']=df_holding['Ave_sales']=df_back['Ave_sales']=df_stockout['Ave_sales']=df_turnover['Ave_sales']=o4['mean_112'].values\n",
    "df_cost['Std_sales']=df_holding['Std_sales']=df_back['Std_sales']=df_stockout['Std_sales']=df_turnover['Std_sales']=o4['std_140'].values"
   ]
  },
  {
   "cell_type": "code",
   "execution_count": 29,
   "metadata": {
    "nbpresent": {
     "id": "168366be-7fe7-4569-9187-a1f8cd674714"
    },
    "scrolled": true
   },
   "outputs": [],
   "source": [
    "def get_inv(x, name):\n",
    "    inv1, inv2 = [], []\n",
    " \n",
    "    for t in range(len(x['demand_RV_list_acm'])):\n",
    "        if t < np.ceil(x['vlt_actual']):\n",
    "            inv1.append(x['initial_stock']-x['demand_RV_list_acm'][t])\n",
    "            continue\n",
    "        else:\n",
    "#             if inv[-1] <= 0:\n",
    "#                 inv.append(-x['demand_RV_list'][t])\n",
    "#             else:\n",
    "#                 inv.append(inv[-1] - x['demand_RV_list'][t])\n",
    "            inv_ = x[name]+x['initial_stock']-x['demand_RV_list_acm'][t]\n",
    "            inv1.append(inv_)\n",
    "            inv2.append(inv_)\n",
    "    return [inv1, inv2]\n",
    "\n",
    "Z90 = 1.64\n",
    "o4['OPT_inv_f'], o4['OPT_inv'] = zip(*o4.apply(lambda x: get_inv(x, 'target_decision'), axis=1))\n",
    "\n",
    "o4['EQ_pred'] = pd.read_csv('EQ_replen_with_IS.csv')\n",
    "o4['EQ_replen'] = (o4['EQ_pred'] - o4['initial_stock']).clip(0)\n",
    "o4['EQ_inv_f'], o4['EQ_inv'] = zip(*o4.apply(get_inv, name='EQ_replen', axis=1))\n",
    "\n",
    "o4['Normal_pred'] = o4.apply(lambda x: int(x['mean_112']*(x['review_period']+x['vendor_vlt_mean'])\n",
    "                                       +Z90*np.sqrt((x['review_period']+x['vendor_vlt_mean'])*x['std_140']**2\n",
    "                                                    + x['std_140']**2 * x['vlt_std'])), axis=1)\n",
    "o4['Normal_replen'] = (o4['Normal_pred'] - o4['initial_stock']).clip(0)\n",
    "o4['Normal_inv_f'], o4['Normal_inv'] = zip(*o4.apply(get_inv, name='Normal_replen',  axis=1))\n",
    "\n",
    "def gamma_base(x):\n",
    "    mean = x['mean_112']\n",
    "    var = x['std_140']**2\n",
    "    theta = var/(mean+1e-4)\n",
    "    k = mean/(theta+1e-4)\n",
    "    k_sum = int(x['review_period']+x['vendor_vlt_mean'])*k\n",
    "    gamma_stock = gamma.ppf(0.9, a=k_sum, scale = theta)\n",
    "    if(np.isnan(gamma_stock)):\n",
    "        return 0\n",
    "    else:\n",
    "        return int(gamma_stock)\n",
    "\n",
    "o4['Gamma_pred'] = o4.apply(gamma_base, axis=1)\n",
    "o4['Gamma_replen'] = (o4['Gamma_pred'] - o4['initial_stock']).clip(0)\n",
    "o4['Gamma_inv_f'],o4['Gamma_inv'] = zip(*o4.apply(get_inv, name='Gamma_replen', axis=1))\n",
    "\n",
    "o4['Hist_inv_f'], o4['Hist_inv'] = zip(*o4.apply(get_inv, name='actual_pur_qtty', axis=1))"
   ]
  },
  {
   "cell_type": "code",
   "execution_count": 30,
   "metadata": {
    "nbpresent": {
     "id": "e60d1357-599b-4bcb-8a48-44c08cde2d7e"
    }
   },
   "outputs": [],
   "source": [
    "# o4['demand_EQ_list'] = o4.apply(lambda x: df_sl.iloc[:,360:].loc[x['item_sku_id'], \\\n",
    "#                                             :x['create_tm'].date()].values\\\n",
    "#                             if x['item_sku_id'] in df_sl.index else [], axis=1)\n",
    "# o4['EQ_replen_with_IS'] = o4.apply(lambda x: np.percentile(\n",
    "#                             [np.sum(x['demand_EQ_list'][i:i+int(x['review_period']+x['vendor_vlt_mean'])])\n",
    "#                                      for i in range(int(len(x['demand_EQ_list'])-x['review_period']-x['vendor_vlt_mean']))\n",
    "#                             ], 90), axis=1)\n",
    "# o4['EQ_replen_with_IS'] = o4['EQ_replen_with_IS'] - o4['initial_stock_overall']\n",
    "# o4['EQ_replen_with_IS'].to_csv('EQ_replen_with_IS.csv', index=False)\n",
    "# o4['EQ_replen_with_IS'] = pd.read_csv('EQ_replen_with_IS.csv')\n"
   ]
  },
  {
   "cell_type": "code",
   "execution_count": 31,
   "metadata": {
    "nbpresent": {
     "id": "adab284f-93eb-4609-8a11-2fc59f9107e4"
    }
   },
   "outputs": [],
   "source": [
    "# o4['E2E_GBM_replen'] = (gbm_pred['E2E_GBM_pred'] - o4['initial_stock']).clip(0)\n",
    "# o4['E2E_GBM_inv_f'], o4['E2E_GBM_inv'] = zip(*o4.apply(get_inv, name='E2E_GBM_replen',  axis=1))\n",
    "\n",
    "# o4['E2E_NN_replen'] = (pred['E2E_NN_pred'] - o4['initial_stock']).clip(0)\n",
    "# o4['E2E_NN_inv_f'], o4['E2E_NN_inv'] = zip(*o4.apply(get_inv, name='E2E_NN_replen', axis=1))\n",
    "\n",
    "o4['E2E_MLP_replen'] = (pred_v5['E2E_MLP_pred'] - o4['initial_stock']).clip(0)\n",
    "o4['E2E_MLP_inv_f'], o4['E2E_MLP_inv'] = zip(*o4.apply(get_inv, name='E2E_MLP_replen', axis=1))\n",
    "\n",
    "o4['E2E_RNN_replen'] = (pred_v6['E2E_RNN_pred'] - o4['initial_stock']).clip(0)\n",
    "o4['E2E_RNN_inv_f'], o4['E2E_RNN_inv'] = zip(*o4.apply(get_inv, name='E2E_RNN_replen', axis=1))"
   ]
  },
  {
   "cell_type": "code",
   "execution_count": 32,
   "metadata": {
    "nbpresent": {
     "id": "fa6686c0-47fe-45d2-9764-ee090eb83b49"
    }
   },
   "outputs": [],
   "source": [
    "str_list = ['OPT', \n",
    "#             'E2E_NN', \n",
    "            'E2E_MLP', 'E2E_RNN', \n",
    "#             'E2E_GBM', \n",
    "            'Normal', 'Gamma', 'Hist']\n",
    "for str1 in str_list:\n",
    "    str2 = str1 + '_inv'\n",
    "    df_holding[str1] = o4[str2].apply(lambda x: h * sum([inv for inv in x if inv>0]) )\n",
    "    df_back[str1] = o4[str2].apply(lambda x: b * -sum([inv for inv in x if inv<0]) )\n",
    "#     df_back[str1] = o4[str2].apply(lambda x: b * (0 if  x==[] else max(0, -x[-1])))\n",
    "    df_stockout[str1] = o4[str2].apply(lambda x: len([inv for inv in x if inv<=0])/len(x) if len(x)>0 else 0 )\n",
    "    df_turnover[str1] = o4.apply(lambda x: np.mean([max(i,0) for i in x[str2]]) / x['mean_14']\n",
    "                                  if np.mean(x['mean_14']) >0 else np.mean(x[str2]), axis=1).fillna(7)\n",
    "    df_cost[str1] = df_holding[str1] + df_back[str1]"
   ]
  },
  {
   "cell_type": "code",
   "execution_count": 33,
   "metadata": {},
   "outputs": [],
   "source": [
    "# h,b = 1,9\n",
    "# str_list = ['OPT', 'E2E_NN', 'E2E_GBM', 'Normal', 'Gamma', 'Hist']\n",
    "# o4['OPT_replen'] = o4['target_decision']\n",
    "# o4['Hist_replen'] = o4['actual_pur_qtty']\n",
    "# for str1 in str_list:\n",
    "#     str_r = str1 + '_replen'\n",
    "#     str2 = str1 + '_inv'\n",
    "#     df_holding[str1] = (o4[str_r] - o4['target_decision']).clip(0) * h\n",
    "#     df_back[str1] = (o4['target_decision'] - o4[str_r]).clip(0) * b\n",
    "#     df_stockout[str1] = o4[str2].apply(lambda x: len([inv for inv in x if inv<0])/len(x) if len(x)>0 else 0 )\n",
    "#     df_turnover[str1] = o4.apply(lambda x: np.mean([max(i,0) for i in x[str2]]) / x['mean_112']\n",
    "#                                   if np.mean(x['mean_112']) >0 else np.mean(x[str2]), axis=1).fillna(7)\n",
    "#     df_cost[str1] = df_holding[str1] + df_back[str1]"
   ]
  },
  {
   "cell_type": "code",
   "execution_count": 34,
   "metadata": {
    "nbpresent": {
     "id": "e9b08461-6fd3-4aaf-b956-560b0c6fb607"
    },
    "scrolled": true
   },
   "outputs": [
    {
     "data": {
      "text/html": [
       "<div>\n",
       "<style scoped>\n",
       "    .dataframe tbody tr th:only-of-type {\n",
       "        vertical-align: middle;\n",
       "    }\n",
       "\n",
       "    .dataframe tbody tr th {\n",
       "        vertical-align: top;\n",
       "    }\n",
       "\n",
       "    .dataframe thead th {\n",
       "        text-align: right;\n",
       "    }\n",
       "</style>\n",
       "<table border=\"1\" class=\"dataframe\">\n",
       "  <thead>\n",
       "    <tr style=\"text-align: right;\">\n",
       "      <th></th>\n",
       "      <th>E2E_MLP</th>\n",
       "      <th>E2E_RNN</th>\n",
       "      <th>Gamma</th>\n",
       "      <th>Hist</th>\n",
       "      <th>Normal</th>\n",
       "    </tr>\n",
       "  </thead>\n",
       "  <tbody>\n",
       "    <tr>\n",
       "      <th>Best</th>\n",
       "      <td>0.929322</td>\n",
       "      <td>0.027024</td>\n",
       "      <td>0.017835</td>\n",
       "      <td>0.017474</td>\n",
       "      <td>0.008345</td>\n",
       "    </tr>\n",
       "  </tbody>\n",
       "</table>\n",
       "</div>"
      ],
      "text/plain": [
       "       E2E_MLP   E2E_RNN     Gamma      Hist    Normal\n",
       "Best  0.929322  0.027024  0.017835  0.017474  0.008345"
      ]
     },
     "execution_count": 34,
     "metadata": {},
     "output_type": "execute_result"
    }
   ],
   "source": [
    "pd.DataFrame({'Best': df_cost.iloc[:,3:8].idxmin(axis=1).value_counts()/len(df_cost)}).T"
   ]
  },
  {
   "cell_type": "code",
   "execution_count": 35,
   "metadata": {
    "nbpresent": {
     "id": "ccf73c3c-dd85-425c-8e5e-8d97141dd64a"
    },
    "scrolled": true
   },
   "outputs": [
    {
     "data": {
      "text/html": [
       "<div>\n",
       "<style scoped>\n",
       "    .dataframe tbody tr th:only-of-type {\n",
       "        vertical-align: middle;\n",
       "    }\n",
       "\n",
       "    .dataframe tbody tr th {\n",
       "        vertical-align: top;\n",
       "    }\n",
       "\n",
       "    .dataframe thead th {\n",
       "        text-align: right;\n",
       "    }\n",
       "</style>\n",
       "<table border=\"1\" class=\"dataframe\">\n",
       "  <thead>\n",
       "    <tr style=\"text-align: right;\">\n",
       "      <th></th>\n",
       "      <th>OPT</th>\n",
       "      <th>E2E_MLP</th>\n",
       "      <th>E2E_RNN</th>\n",
       "      <th>Normal</th>\n",
       "      <th>Gamma</th>\n",
       "      <th>Hist</th>\n",
       "    </tr>\n",
       "  </thead>\n",
       "  <tbody>\n",
       "    <tr>\n",
       "      <th>Total Cost</th>\n",
       "      <td>891.704847</td>\n",
       "      <td>522.669505</td>\n",
       "      <td>1479.222394</td>\n",
       "      <td>1705.223481</td>\n",
       "      <td>1664.032326</td>\n",
       "      <td>2455.033471</td>\n",
       "    </tr>\n",
       "    <tr>\n",
       "      <th>Holding Cost</th>\n",
       "      <td>815.851384</td>\n",
       "      <td>204.121252</td>\n",
       "      <td>912.330635</td>\n",
       "      <td>1363.454493</td>\n",
       "      <td>1201.460850</td>\n",
       "      <td>1270.306962</td>\n",
       "    </tr>\n",
       "    <tr>\n",
       "      <th>Stockout Cost</th>\n",
       "      <td>75.853463</td>\n",
       "      <td>318.548253</td>\n",
       "      <td>566.891758</td>\n",
       "      <td>341.768987</td>\n",
       "      <td>462.571476</td>\n",
       "      <td>1184.726509</td>\n",
       "    </tr>\n",
       "    <tr>\n",
       "      <th>Stockout rate</th>\n",
       "      <td>0.220911</td>\n",
       "      <td>0.025666</td>\n",
       "      <td>0.121016</td>\n",
       "      <td>0.080735</td>\n",
       "      <td>0.118316</td>\n",
       "      <td>0.219354</td>\n",
       "    </tr>\n",
       "    <tr>\n",
       "      <th>Turnover rate</th>\n",
       "      <td>4.862849</td>\n",
       "      <td>12.417037</td>\n",
       "      <td>8.329741</td>\n",
       "      <td>10.475180</td>\n",
       "      <td>8.818447</td>\n",
       "      <td>7.905566</td>\n",
       "    </tr>\n",
       "  </tbody>\n",
       "</table>\n",
       "</div>"
      ],
      "text/plain": [
       "                      OPT     E2E_MLP      E2E_RNN       Normal        Gamma  \\\n",
       "Total Cost     891.704847  522.669505  1479.222394  1705.223481  1664.032326   \n",
       "Holding Cost   815.851384  204.121252   912.330635  1363.454493  1201.460850   \n",
       "Stockout Cost   75.853463  318.548253   566.891758   341.768987   462.571476   \n",
       "Stockout rate    0.220911    0.025666     0.121016     0.080735     0.118316   \n",
       "Turnover rate    4.862849   12.417037     8.329741    10.475180     8.818447   \n",
       "\n",
       "                      Hist  \n",
       "Total Cost     2455.033471  \n",
       "Holding Cost   1270.306962  \n",
       "Stockout Cost  1184.726509  \n",
       "Stockout rate     0.219354  \n",
       "Turnover rate     7.905566  "
      ]
     },
     "execution_count": 35,
     "metadata": {},
     "output_type": "execute_result"
    }
   ],
   "source": [
    "df_com = pd.DataFrame({'Total Cost' : df_cost[str_list].mean(),\n",
    "             'Holding Cost': df_holding[str_list].mean(),\n",
    "             'Stockout Cost': df_back[str_list].mean(),\n",
    "             'Stockout rate': df_stockout[str_list].mean(),\n",
    "             'Turnover rate': df_turnover[str_list].mean(),\n",
    "             }).T\n",
    "df_com"
   ]
  },
  {
   "cell_type": "code",
   "execution_count": null,
   "metadata": {},
   "outputs": [],
   "source": []
  },
  {
   "cell_type": "code",
   "execution_count": null,
   "metadata": {},
   "outputs": [],
   "source": []
  },
  {
   "cell_type": "code",
   "execution_count": 36,
   "metadata": {},
   "outputs": [],
   "source": [
    "list_c2 = ['SKU_DC',\n",
    "#           'E2E_NN',\n",
    "          'E2E_MLP', 'E2E_RNN',\n",
    "          'Bm1','Bm2',  \n",
    "          'Ave_sales','Std_sales'\n",
    "#           'Ave_review', 'Std_review'\n",
    "         ]\n",
    "numberOfRows = len(o4)\n",
    "\n",
    "df2_cost = pd.DataFrame(index=np.arange(0, numberOfRows), columns=list_c2)\n",
    "df2_holding = pd.DataFrame(index=np.arange(0, numberOfRows), columns=list_c2)\n",
    "df2_back = pd.DataFrame(index=np.arange(0, numberOfRows), columns=list_c2)\n",
    "df2_stockout = pd.DataFrame(index=np.arange(0, numberOfRows), columns=list_c2)\n",
    "df2_turnover = pd.DataFrame(index=np.arange(0, numberOfRows), columns=list_c2)"
   ]
  },
  {
   "cell_type": "code",
   "execution_count": 37,
   "metadata": {},
   "outputs": [],
   "source": [
    "df2_cost['SKU_DC']=df2_holding['SKU_DC']=df2_back['SKU_DC']=df2_stockout['SKU_DC']=df2_turnover['SKU_DC']=o4['item_sku_id'].values\n",
    "df2_cost['Ave_sales']=df2_holding['Ave_sales']=df2_back['Ave_sales']=df2_stockout['Ave_sales']=df2_turnover['Ave_sales']=o4['mean_112'].values\n",
    "df2_cost['Std_sales']=df2_holding['Std_sales']=df2_back['Std_sales']=df2_stockout['Std_sales']=df2_turnover['Std_sales']=o4['std_140'].values"
   ]
  },
  {
   "cell_type": "code",
   "execution_count": 38,
   "metadata": {
    "scrolled": true
   },
   "outputs": [],
   "source": [
    "o4['Bm1_pred'] = np.mean(sf_rnn[:,:,5], axis=1)\n",
    "o4['Bm1_pred'] = o4['Bm1_pred'] * (o4['review_period'] + o4['vlt_actual']).astype(int)\n",
    "\n",
    "def get_bm2(x):\n",
    "    rl = x['review_period'] + x['vlt_actual']\n",
    "    if rl <= b:\n",
    "        days = int(rl)\n",
    "    else:\n",
    "        days = int(rl) - rl//(b+h)\n",
    "    return x['Bm2_pred'] * days\n",
    "\n",
    "o4['Bm2_pred'] = np.mean(sf_rnn[:,:,5], axis=1)\n",
    "o4['Bm2_pred'] = o4.apply(get_bm2, axis=1)"
   ]
  },
  {
   "cell_type": "code",
   "execution_count": 39,
   "metadata": {},
   "outputs": [],
   "source": [
    "o4['Bm1_replen'] = (o4['Bm1_pred'] - o4['initial_stock']).clip(0)\n",
    "o4['Bm1_inv_f'], o4['Bm1_inv'] = zip(*o4.apply(get_inv, name='Bm1_replen', axis=1))\n",
    "\n",
    "o4['Bm2_replen'] = (o4['Bm2_pred'] - o4['initial_stock']).clip(0)\n",
    "o4['Bm2_inv_f'], o4['Bm2_inv'] = zip(*o4.apply(get_inv, name='Bm2_replen', axis=1))"
   ]
  },
  {
   "cell_type": "code",
   "execution_count": 40,
   "metadata": {},
   "outputs": [],
   "source": [
    "str_list2 = ['E2E_MLP', 'E2E_RNN', 'Bm1','Bm2']\n",
    "for str1 in str_list2:\n",
    "    str2 = str1 + '_inv'\n",
    "    df2_holding[str1] = o4[str2].apply(lambda x: h * sum([inv for inv in x if inv>0]) )\n",
    "    df2_back[str1] = o4[str2].apply(lambda x: b * -sum([inv for inv in x if inv<0]) )\n",
    "#     df2_back[str1] = o4[str2].apply(lambda x: b * (0 if  x==[] else max(0, -x[-1])))\n",
    "    df2_stockout[str1] = o4[str2].apply(lambda x: len([inv for inv in x if inv<0])/len(x) if len(x)>0 else 0 )\n",
    "    df2_turnover[str1] = o4.apply(lambda x: np.mean([max(i,0) for i in x[str2]]) / x['mean_14']\n",
    "                                  if np.mean(x['mean_14']) >0 else np.mean(x[str2]), axis=1).fillna(7)\n",
    "    df2_cost[str1] = df2_holding[str1] + df2_back[str1]"
   ]
  },
  {
   "cell_type": "code",
   "execution_count": 41,
   "metadata": {},
   "outputs": [
    {
     "data": {
      "text/html": [
       "<div>\n",
       "<style scoped>\n",
       "    .dataframe tbody tr th:only-of-type {\n",
       "        vertical-align: middle;\n",
       "    }\n",
       "\n",
       "    .dataframe tbody tr th {\n",
       "        vertical-align: top;\n",
       "    }\n",
       "\n",
       "    .dataframe thead th {\n",
       "        text-align: right;\n",
       "    }\n",
       "</style>\n",
       "<table border=\"1\" class=\"dataframe\">\n",
       "  <thead>\n",
       "    <tr style=\"text-align: right;\">\n",
       "      <th></th>\n",
       "      <th>E2E_MLP</th>\n",
       "      <th>E2E_RNN</th>\n",
       "      <th>Bm1</th>\n",
       "      <th>Bm2</th>\n",
       "    </tr>\n",
       "  </thead>\n",
       "  <tbody>\n",
       "    <tr>\n",
       "      <th>Best</th>\n",
       "      <td>0.93104</td>\n",
       "      <td>0.037448</td>\n",
       "      <td>0.016268</td>\n",
       "      <td>0.015244</td>\n",
       "    </tr>\n",
       "  </tbody>\n",
       "</table>\n",
       "</div>"
      ],
      "text/plain": [
       "      E2E_MLP   E2E_RNN       Bm1       Bm2\n",
       "Best  0.93104  0.037448  0.016268  0.015244"
      ]
     },
     "execution_count": 41,
     "metadata": {},
     "output_type": "execute_result"
    }
   ],
   "source": [
    "pd.DataFrame({'Best': df2_cost.iloc[:,1:5].idxmin(axis=1).value_counts()/len(df2_cost)}).T"
   ]
  },
  {
   "cell_type": "code",
   "execution_count": 42,
   "metadata": {},
   "outputs": [
    {
     "data": {
      "text/html": [
       "<div>\n",
       "<style scoped>\n",
       "    .dataframe tbody tr th:only-of-type {\n",
       "        vertical-align: middle;\n",
       "    }\n",
       "\n",
       "    .dataframe tbody tr th {\n",
       "        vertical-align: top;\n",
       "    }\n",
       "\n",
       "    .dataframe thead th {\n",
       "        text-align: right;\n",
       "    }\n",
       "</style>\n",
       "<table border=\"1\" class=\"dataframe\">\n",
       "  <thead>\n",
       "    <tr style=\"text-align: right;\">\n",
       "      <th></th>\n",
       "      <th>E2E_MLP</th>\n",
       "      <th>E2E_RNN</th>\n",
       "      <th>Bm1</th>\n",
       "      <th>Bm2</th>\n",
       "    </tr>\n",
       "  </thead>\n",
       "  <tbody>\n",
       "    <tr>\n",
       "      <th>Total Cost</th>\n",
       "      <td>522.669505</td>\n",
       "      <td>1479.222394</td>\n",
       "      <td>1531.369809</td>\n",
       "      <td>1524.185471</td>\n",
       "    </tr>\n",
       "    <tr>\n",
       "      <th>Holding Cost</th>\n",
       "      <td>204.121252</td>\n",
       "      <td>912.330635</td>\n",
       "      <td>1055.494992</td>\n",
       "      <td>977.526046</td>\n",
       "    </tr>\n",
       "    <tr>\n",
       "      <th>Stockout Cost</th>\n",
       "      <td>318.548253</td>\n",
       "      <td>566.891758</td>\n",
       "      <td>475.874816</td>\n",
       "      <td>546.659425</td>\n",
       "    </tr>\n",
       "    <tr>\n",
       "      <th>Stockout rate</th>\n",
       "      <td>0.025522</td>\n",
       "      <td>0.120500</td>\n",
       "      <td>0.096782</td>\n",
       "      <td>0.112428</td>\n",
       "    </tr>\n",
       "    <tr>\n",
       "      <th>Turnover rate</th>\n",
       "      <td>12.417037</td>\n",
       "      <td>8.329741</td>\n",
       "      <td>8.011671</td>\n",
       "      <td>7.269088</td>\n",
       "    </tr>\n",
       "  </tbody>\n",
       "</table>\n",
       "</div>"
      ],
      "text/plain": [
       "                  E2E_MLP      E2E_RNN          Bm1          Bm2\n",
       "Total Cost     522.669505  1479.222394  1531.369809  1524.185471\n",
       "Holding Cost   204.121252   912.330635  1055.494992   977.526046\n",
       "Stockout Cost  318.548253   566.891758   475.874816   546.659425\n",
       "Stockout rate    0.025522     0.120500     0.096782     0.112428\n",
       "Turnover rate   12.417037     8.329741     8.011671     7.269088"
      ]
     },
     "execution_count": 42,
     "metadata": {},
     "output_type": "execute_result"
    }
   ],
   "source": [
    "df2_com = pd.DataFrame({'Total Cost' : df2_cost[str_list2].mean(),\n",
    "             'Holding Cost': df2_holding[str_list2].mean(),\n",
    "             'Stockout Cost': df2_back[str_list2].mean(),\n",
    "             'Stockout rate': df2_stockout[str_list2].mean(),\n",
    "             'Turnover rate': df2_turnover[str_list2].mean(),\n",
    "             }).T\n",
    "df2_com"
   ]
  },
  {
   "cell_type": "code",
   "execution_count": 43,
   "metadata": {},
   "outputs": [],
   "source": [
    "# tt = o4.iloc[6,:]\n",
    "# fig, ax1 = plt.subplots(figsize=(8, 6))\n",
    "# ax1.plot(tt['OPT_inv_f'], label = 'DP optimal')\n",
    "# ax1.plot(tt['E2E_NN_inv_f'], label = 'E2E NN')\n",
    "# ax1.plot(tt['E2E_GBM_inv_f'], label = 'E2E GBM')\n",
    "# ax1.plot(tt['EQ_inv_f'], label = 'Emperical Quantile')\n",
    "# ax1.plot(tt['Normal_inv_f'], label = 'Normal Basestock')\n",
    "# ax1.plot(tt['Gamma_inv_f'], label = 'Gamma Basestock')\n",
    "# ax1.plot(tt['Hist_inv_f'], label = 'Historical Decision')\n",
    "# ax1.legend(loc='center left', bbox_to_anchor=(1.0, 0.5))\n",
    "# ax1.grid(True)"
   ]
  },
  {
   "cell_type": "code",
   "execution_count": null,
   "metadata": {},
   "outputs": [],
   "source": []
  },
  {
   "cell_type": "code",
   "execution_count": 44,
   "metadata": {},
   "outputs": [],
   "source": [
    "o4_ = pd.concat([o4, pred_v5['E2E_MLP_pred'], pred_v6['E2E_RNN_pred']], axis=1)\n",
    "o4_['Hist_pred'] = o4_['actual_pur_qtty'] + o4_['initial_stock']\n",
    "o4_['OPT_pred'] = o4_[LABEL]\n",
    "o4g = o4_.groupby('item_sku_id').agg(lambda x: x.tolist())"
   ]
  },
  {
   "cell_type": "code",
   "execution_count": 45,
   "metadata": {},
   "outputs": [],
   "source": [
    "o4g['Demand_agg_list'] = o4g.apply(lambda x: df_sl.loc[x.name, \\\n",
    "                                            x['create_tm'][0].date():x['next_complete_dt'][-1].date()].values\\\n",
    "                                            , axis=1)"
   ]
  },
  {
   "cell_type": "code",
   "execution_count": 46,
   "metadata": {},
   "outputs": [
    {
     "ename": "ValueError",
     "evalue": "('cannot convert float NaN to integer', 'occurred at index 1078121#316')",
     "output_type": "error",
     "traceback": [
      "\u001b[0;31m---------------------------------------------------------------------------\u001b[0m",
      "\u001b[0;31mValueError\u001b[0m                                Traceback (most recent call last)",
      "\u001b[0;32m<ipython-input-46-6bd7092b2510>\u001b[0m in \u001b[0;36mget_agginv\u001b[0;34m(x, name)\u001b[0m\n\u001b[1;32m     15\u001b[0m                     \u001b[0;32mtry\u001b[0m\u001b[0;34m:\u001b[0m\u001b[0;34m\u001b[0m\u001b[0m\n\u001b[0;32m---> 16\u001b[0;31m                         \u001b[0mreplen\u001b[0m \u001b[0;34m=\u001b[0m \u001b[0mint\u001b[0m\u001b[0;34m(\u001b[0m\u001b[0mround\u001b[0m\u001b[0;34m(\u001b[0m\u001b[0mx\u001b[0m\u001b[0;34m[\u001b[0m\u001b[0mname\u001b[0m\u001b[0;34m+\u001b[0m\u001b[0;34m'_pred'\u001b[0m\u001b[0;34m]\u001b[0m\u001b[0;34m[\u001b[0m\u001b[0mr\u001b[0m\u001b[0;34m]\u001b[0m \u001b[0;34m-\u001b[0m \u001b[0minv1\u001b[0m\u001b[0;34m[\u001b[0m\u001b[0;34m-\u001b[0m\u001b[0mint\u001b[0m\u001b[0;34m(\u001b[0m\u001b[0mround\u001b[0m\u001b[0;34m(\u001b[0m\u001b[0mx\u001b[0m\u001b[0;34m[\u001b[0m\u001b[0;34m'vlt_actual'\u001b[0m\u001b[0;34m]\u001b[0m\u001b[0;34m[\u001b[0m\u001b[0mr\u001b[0m\u001b[0;34m]\u001b[0m\u001b[0;34m)\u001b[0m\u001b[0;34m)\u001b[0m\u001b[0;34m-\u001b[0m\u001b[0;36m1\u001b[0m\u001b[0;34m]\u001b[0m\u001b[0;34m)\u001b[0m\u001b[0;34m)\u001b[0m\u001b[0;34m\u001b[0m\u001b[0m\n\u001b[0m\u001b[1;32m     17\u001b[0m                     \u001b[0;32mexcept\u001b[0m\u001b[0;34m:\u001b[0m\u001b[0;34m\u001b[0m\u001b[0m\n",
      "\u001b[0;31mValueError\u001b[0m: cannot convert float NaN to integer",
      "\nDuring handling of the above exception, another exception occurred:\n",
      "\u001b[0;31mValueError\u001b[0m                                Traceback (most recent call last)",
      "\u001b[0;32m<ipython-input-46-6bd7092b2510>\u001b[0m in \u001b[0;36m<module>\u001b[0;34m()\u001b[0m\n\u001b[1;32m     37\u001b[0m \u001b[0mo4g\u001b[0m\u001b[0;34m[\u001b[0m\u001b[0;34m'OPT_agginv_f'\u001b[0m\u001b[0;34m]\u001b[0m\u001b[0;34m,\u001b[0m \u001b[0mo4g\u001b[0m\u001b[0;34m[\u001b[0m\u001b[0;34m'OPT_agginv'\u001b[0m\u001b[0;34m]\u001b[0m \u001b[0;34m=\u001b[0m \u001b[0mzip\u001b[0m\u001b[0;34m(\u001b[0m\u001b[0;34m*\u001b[0m\u001b[0mo4g\u001b[0m\u001b[0;34m.\u001b[0m\u001b[0mapply\u001b[0m\u001b[0;34m(\u001b[0m\u001b[0mget_agginv\u001b[0m\u001b[0;34m,\u001b[0m \u001b[0mname\u001b[0m\u001b[0;34m=\u001b[0m\u001b[0;34m'OPT'\u001b[0m\u001b[0;34m,\u001b[0m  \u001b[0maxis\u001b[0m\u001b[0;34m=\u001b[0m\u001b[0;36m1\u001b[0m\u001b[0;34m)\u001b[0m\u001b[0;34m)\u001b[0m\u001b[0;34m\u001b[0m\u001b[0m\n\u001b[1;32m     38\u001b[0m \u001b[0;31m# o4g['E2E_NN_agginv_f'], o4g['E2E_NN_agginv'] = zip(*o4g.apply(get_agginv, name='E2E_NN',  axis=1))\u001b[0m\u001b[0;34m\u001b[0m\u001b[0;34m\u001b[0m\u001b[0m\n\u001b[0;32m---> 39\u001b[0;31m \u001b[0mo4g\u001b[0m\u001b[0;34m[\u001b[0m\u001b[0;34m'E2E_MLP_agginv_f'\u001b[0m\u001b[0;34m]\u001b[0m\u001b[0;34m,\u001b[0m \u001b[0mo4g\u001b[0m\u001b[0;34m[\u001b[0m\u001b[0;34m'E2E_MLP_agginv'\u001b[0m\u001b[0;34m]\u001b[0m \u001b[0;34m=\u001b[0m \u001b[0mzip\u001b[0m\u001b[0;34m(\u001b[0m\u001b[0;34m*\u001b[0m\u001b[0mo4g\u001b[0m\u001b[0;34m.\u001b[0m\u001b[0mapply\u001b[0m\u001b[0;34m(\u001b[0m\u001b[0mget_agginv\u001b[0m\u001b[0;34m,\u001b[0m \u001b[0mname\u001b[0m\u001b[0;34m=\u001b[0m\u001b[0;34m'E2E_MLP'\u001b[0m\u001b[0;34m,\u001b[0m  \u001b[0maxis\u001b[0m\u001b[0;34m=\u001b[0m\u001b[0;36m1\u001b[0m\u001b[0;34m)\u001b[0m\u001b[0;34m)\u001b[0m\u001b[0;34m\u001b[0m\u001b[0m\n\u001b[0m\u001b[1;32m     40\u001b[0m \u001b[0mo4g\u001b[0m\u001b[0;34m[\u001b[0m\u001b[0;34m'E2E_RNN_agginv_f'\u001b[0m\u001b[0;34m]\u001b[0m\u001b[0;34m,\u001b[0m \u001b[0mo4g\u001b[0m\u001b[0;34m[\u001b[0m\u001b[0;34m'E2E_RNN_agginv'\u001b[0m\u001b[0;34m]\u001b[0m \u001b[0;34m=\u001b[0m \u001b[0mzip\u001b[0m\u001b[0;34m(\u001b[0m\u001b[0;34m*\u001b[0m\u001b[0mo4g\u001b[0m\u001b[0;34m.\u001b[0m\u001b[0mapply\u001b[0m\u001b[0;34m(\u001b[0m\u001b[0mget_agginv\u001b[0m\u001b[0;34m,\u001b[0m \u001b[0mname\u001b[0m\u001b[0;34m=\u001b[0m\u001b[0;34m'E2E_RNN'\u001b[0m\u001b[0;34m,\u001b[0m  \u001b[0maxis\u001b[0m\u001b[0;34m=\u001b[0m\u001b[0;36m1\u001b[0m\u001b[0;34m)\u001b[0m\u001b[0;34m)\u001b[0m\u001b[0;34m\u001b[0m\u001b[0m\n\u001b[1;32m     41\u001b[0m \u001b[0;31m# o4g['E2E_GBM_agginv_f'], o4g['E2E_GBM_agginv'] = zip(*o4g.apply(get_agginv, name='E2E_GBM',  axis=1))\u001b[0m\u001b[0;34m\u001b[0m\u001b[0;34m\u001b[0m\u001b[0m\n",
      "\u001b[0;32m~/anaconda3/envs/tf/lib/python3.6/site-packages/pandas/core/frame.py\u001b[0m in \u001b[0;36mapply\u001b[0;34m(self, func, axis, broadcast, raw, reduce, result_type, args, **kwds)\u001b[0m\n\u001b[1;32m   6012\u001b[0m                          \u001b[0margs\u001b[0m\u001b[0;34m=\u001b[0m\u001b[0margs\u001b[0m\u001b[0;34m,\u001b[0m\u001b[0;34m\u001b[0m\u001b[0m\n\u001b[1;32m   6013\u001b[0m                          kwds=kwds)\n\u001b[0;32m-> 6014\u001b[0;31m         \u001b[0;32mreturn\u001b[0m \u001b[0mop\u001b[0m\u001b[0;34m.\u001b[0m\u001b[0mget_result\u001b[0m\u001b[0;34m(\u001b[0m\u001b[0;34m)\u001b[0m\u001b[0;34m\u001b[0m\u001b[0m\n\u001b[0m\u001b[1;32m   6015\u001b[0m \u001b[0;34m\u001b[0m\u001b[0m\n\u001b[1;32m   6016\u001b[0m     \u001b[0;32mdef\u001b[0m \u001b[0mapplymap\u001b[0m\u001b[0;34m(\u001b[0m\u001b[0mself\u001b[0m\u001b[0;34m,\u001b[0m \u001b[0mfunc\u001b[0m\u001b[0;34m)\u001b[0m\u001b[0;34m:\u001b[0m\u001b[0;34m\u001b[0m\u001b[0m\n",
      "\u001b[0;32m~/anaconda3/envs/tf/lib/python3.6/site-packages/pandas/core/apply.py\u001b[0m in \u001b[0;36mget_result\u001b[0;34m(self)\u001b[0m\n\u001b[1;32m    140\u001b[0m             \u001b[0;32mreturn\u001b[0m \u001b[0mself\u001b[0m\u001b[0;34m.\u001b[0m\u001b[0mapply_raw\u001b[0m\u001b[0;34m(\u001b[0m\u001b[0;34m)\u001b[0m\u001b[0;34m\u001b[0m\u001b[0m\n\u001b[1;32m    141\u001b[0m \u001b[0;34m\u001b[0m\u001b[0m\n\u001b[0;32m--> 142\u001b[0;31m         \u001b[0;32mreturn\u001b[0m \u001b[0mself\u001b[0m\u001b[0;34m.\u001b[0m\u001b[0mapply_standard\u001b[0m\u001b[0;34m(\u001b[0m\u001b[0;34m)\u001b[0m\u001b[0;34m\u001b[0m\u001b[0m\n\u001b[0m\u001b[1;32m    143\u001b[0m \u001b[0;34m\u001b[0m\u001b[0m\n\u001b[1;32m    144\u001b[0m     \u001b[0;32mdef\u001b[0m \u001b[0mapply_empty_result\u001b[0m\u001b[0;34m(\u001b[0m\u001b[0mself\u001b[0m\u001b[0;34m)\u001b[0m\u001b[0;34m:\u001b[0m\u001b[0;34m\u001b[0m\u001b[0m\n",
      "\u001b[0;32m~/anaconda3/envs/tf/lib/python3.6/site-packages/pandas/core/apply.py\u001b[0m in \u001b[0;36mapply_standard\u001b[0;34m(self)\u001b[0m\n\u001b[1;32m    246\u001b[0m \u001b[0;34m\u001b[0m\u001b[0m\n\u001b[1;32m    247\u001b[0m         \u001b[0;31m# compute the result using the series generator\u001b[0m\u001b[0;34m\u001b[0m\u001b[0;34m\u001b[0m\u001b[0m\n\u001b[0;32m--> 248\u001b[0;31m         \u001b[0mself\u001b[0m\u001b[0;34m.\u001b[0m\u001b[0mapply_series_generator\u001b[0m\u001b[0;34m(\u001b[0m\u001b[0;34m)\u001b[0m\u001b[0;34m\u001b[0m\u001b[0m\n\u001b[0m\u001b[1;32m    249\u001b[0m \u001b[0;34m\u001b[0m\u001b[0m\n\u001b[1;32m    250\u001b[0m         \u001b[0;31m# wrap results\u001b[0m\u001b[0;34m\u001b[0m\u001b[0;34m\u001b[0m\u001b[0m\n",
      "\u001b[0;32m~/anaconda3/envs/tf/lib/python3.6/site-packages/pandas/core/apply.py\u001b[0m in \u001b[0;36mapply_series_generator\u001b[0;34m(self)\u001b[0m\n\u001b[1;32m    275\u001b[0m             \u001b[0;32mtry\u001b[0m\u001b[0;34m:\u001b[0m\u001b[0;34m\u001b[0m\u001b[0m\n\u001b[1;32m    276\u001b[0m                 \u001b[0;32mfor\u001b[0m \u001b[0mi\u001b[0m\u001b[0;34m,\u001b[0m \u001b[0mv\u001b[0m \u001b[0;32min\u001b[0m \u001b[0menumerate\u001b[0m\u001b[0;34m(\u001b[0m\u001b[0mseries_gen\u001b[0m\u001b[0;34m)\u001b[0m\u001b[0;34m:\u001b[0m\u001b[0;34m\u001b[0m\u001b[0m\n\u001b[0;32m--> 277\u001b[0;31m                     \u001b[0mresults\u001b[0m\u001b[0;34m[\u001b[0m\u001b[0mi\u001b[0m\u001b[0;34m]\u001b[0m \u001b[0;34m=\u001b[0m \u001b[0mself\u001b[0m\u001b[0;34m.\u001b[0m\u001b[0mf\u001b[0m\u001b[0;34m(\u001b[0m\u001b[0mv\u001b[0m\u001b[0;34m)\u001b[0m\u001b[0;34m\u001b[0m\u001b[0m\n\u001b[0m\u001b[1;32m    278\u001b[0m                     \u001b[0mkeys\u001b[0m\u001b[0;34m.\u001b[0m\u001b[0mappend\u001b[0m\u001b[0;34m(\u001b[0m\u001b[0mv\u001b[0m\u001b[0;34m.\u001b[0m\u001b[0mname\u001b[0m\u001b[0;34m)\u001b[0m\u001b[0;34m\u001b[0m\u001b[0m\n\u001b[1;32m    279\u001b[0m             \u001b[0;32mexcept\u001b[0m \u001b[0mException\u001b[0m \u001b[0;32mas\u001b[0m \u001b[0me\u001b[0m\u001b[0;34m:\u001b[0m\u001b[0;34m\u001b[0m\u001b[0m\n",
      "\u001b[0;32m~/anaconda3/envs/tf/lib/python3.6/site-packages/pandas/core/apply.py\u001b[0m in \u001b[0;36mf\u001b[0;34m(x)\u001b[0m\n\u001b[1;32m     72\u001b[0m         \u001b[0;32mif\u001b[0m \u001b[0mkwds\u001b[0m \u001b[0;32mor\u001b[0m \u001b[0margs\u001b[0m \u001b[0;32mand\u001b[0m \u001b[0;32mnot\u001b[0m \u001b[0misinstance\u001b[0m\u001b[0;34m(\u001b[0m\u001b[0mfunc\u001b[0m\u001b[0;34m,\u001b[0m \u001b[0mnp\u001b[0m\u001b[0;34m.\u001b[0m\u001b[0mufunc\u001b[0m\u001b[0;34m)\u001b[0m\u001b[0;34m:\u001b[0m\u001b[0;34m\u001b[0m\u001b[0m\n\u001b[1;32m     73\u001b[0m             \u001b[0;32mdef\u001b[0m \u001b[0mf\u001b[0m\u001b[0;34m(\u001b[0m\u001b[0mx\u001b[0m\u001b[0;34m)\u001b[0m\u001b[0;34m:\u001b[0m\u001b[0;34m\u001b[0m\u001b[0m\n\u001b[0;32m---> 74\u001b[0;31m                 \u001b[0;32mreturn\u001b[0m \u001b[0mfunc\u001b[0m\u001b[0;34m(\u001b[0m\u001b[0mx\u001b[0m\u001b[0;34m,\u001b[0m \u001b[0;34m*\u001b[0m\u001b[0margs\u001b[0m\u001b[0;34m,\u001b[0m \u001b[0;34m**\u001b[0m\u001b[0mkwds\u001b[0m\u001b[0;34m)\u001b[0m\u001b[0;34m\u001b[0m\u001b[0m\n\u001b[0m\u001b[1;32m     75\u001b[0m         \u001b[0;32melse\u001b[0m\u001b[0;34m:\u001b[0m\u001b[0;34m\u001b[0m\u001b[0m\n\u001b[1;32m     76\u001b[0m             \u001b[0mf\u001b[0m \u001b[0;34m=\u001b[0m \u001b[0mfunc\u001b[0m\u001b[0;34m\u001b[0m\u001b[0m\n",
      "\u001b[0;32m<ipython-input-46-6bd7092b2510>\u001b[0m in \u001b[0;36mget_agginv\u001b[0;34m(x, name)\u001b[0m\n\u001b[1;32m     16\u001b[0m                         \u001b[0mreplen\u001b[0m \u001b[0;34m=\u001b[0m \u001b[0mint\u001b[0m\u001b[0;34m(\u001b[0m\u001b[0mround\u001b[0m\u001b[0;34m(\u001b[0m\u001b[0mx\u001b[0m\u001b[0;34m[\u001b[0m\u001b[0mname\u001b[0m\u001b[0;34m+\u001b[0m\u001b[0;34m'_pred'\u001b[0m\u001b[0;34m]\u001b[0m\u001b[0;34m[\u001b[0m\u001b[0mr\u001b[0m\u001b[0;34m]\u001b[0m \u001b[0;34m-\u001b[0m \u001b[0minv1\u001b[0m\u001b[0;34m[\u001b[0m\u001b[0;34m-\u001b[0m\u001b[0mint\u001b[0m\u001b[0;34m(\u001b[0m\u001b[0mround\u001b[0m\u001b[0;34m(\u001b[0m\u001b[0mx\u001b[0m\u001b[0;34m[\u001b[0m\u001b[0;34m'vlt_actual'\u001b[0m\u001b[0;34m]\u001b[0m\u001b[0;34m[\u001b[0m\u001b[0mr\u001b[0m\u001b[0;34m]\u001b[0m\u001b[0;34m)\u001b[0m\u001b[0;34m)\u001b[0m\u001b[0;34m-\u001b[0m\u001b[0;36m1\u001b[0m\u001b[0;34m]\u001b[0m\u001b[0;34m)\u001b[0m\u001b[0;34m)\u001b[0m\u001b[0;34m\u001b[0m\u001b[0m\n\u001b[1;32m     17\u001b[0m                     \u001b[0;32mexcept\u001b[0m\u001b[0;34m:\u001b[0m\u001b[0;34m\u001b[0m\u001b[0m\n\u001b[0;32m---> 18\u001b[0;31m                         \u001b[0mreplen\u001b[0m \u001b[0;34m=\u001b[0m \u001b[0mint\u001b[0m\u001b[0;34m(\u001b[0m\u001b[0mround\u001b[0m\u001b[0;34m(\u001b[0m\u001b[0mx\u001b[0m\u001b[0;34m[\u001b[0m\u001b[0mname\u001b[0m\u001b[0;34m+\u001b[0m\u001b[0;34m'_pred'\u001b[0m\u001b[0;34m]\u001b[0m\u001b[0;34m[\u001b[0m\u001b[0mr\u001b[0m\u001b[0;34m]\u001b[0m \u001b[0;34m-\u001b[0m \u001b[0minv1\u001b[0m\u001b[0;34m[\u001b[0m\u001b[0;36m1\u001b[0m\u001b[0;34m]\u001b[0m\u001b[0;34m)\u001b[0m\u001b[0;34m)\u001b[0m\u001b[0;34m\u001b[0m\u001b[0m\n\u001b[0m\u001b[1;32m     19\u001b[0m             \u001b[0;32mif\u001b[0m \u001b[0mt\u001b[0m \u001b[0;34m<\u001b[0m \u001b[0mint\u001b[0m\u001b[0;34m(\u001b[0m\u001b[0mround\u001b[0m\u001b[0;34m(\u001b[0m\u001b[0mx\u001b[0m\u001b[0;34m[\u001b[0m\u001b[0;34m'vlt_actual'\u001b[0m\u001b[0;34m]\u001b[0m\u001b[0;34m[\u001b[0m\u001b[0mr\u001b[0m\u001b[0;34m]\u001b[0m\u001b[0;34m)\u001b[0m\u001b[0;34m)\u001b[0m\u001b[0;34m:\u001b[0m\u001b[0;34m\u001b[0m\u001b[0m\n\u001b[1;32m     20\u001b[0m                 \u001b[0;32mif\u001b[0m \u001b[0mr\u001b[0m \u001b[0;34m==\u001b[0m \u001b[0;36m0\u001b[0m\u001b[0;34m:\u001b[0m\u001b[0;34m\u001b[0m\u001b[0m\n",
      "\u001b[0;31mValueError\u001b[0m: ('cannot convert float NaN to integer', 'occurred at index 1078121#316')"
     ]
    }
   ],
   "source": [
    "def get_agginv(x, name):\n",
    "    inv1, inv2 = [x['initial_stock'][0]], []\n",
    "    rd = len(x['pur_bill_id'])\n",
    " \n",
    "    for r in range(rd):\n",
    "        if r < rd - 1:\n",
    "            len_day = len(x['demand_RV_list'][r])-1\n",
    "        else:\n",
    "            len_day = len(x['demand_RV_list'][r])\n",
    "        for t in range(len_day):\n",
    "            if t == 0:\n",
    "                if r == 0:\n",
    "                    replen = int(round(x[name+'_pred'][r] - inv1[0]))\n",
    "                else:\n",
    "                    try:\n",
    "                        replen = int(round(x[name+'_pred'][r] - inv1[-int(round(x['vlt_actual'][r]))-1]))\n",
    "                    except:\n",
    "                        replen = int(round(x[name+'_pred'][r] - inv1[1]))\n",
    "            if t < int(round(x['vlt_actual'][r])):\n",
    "                if r == 0:\n",
    "                    inv1.append(inv1[-1] - x['demand_RV_list'][r][t])\n",
    "            elif t == int(round(x['vlt_actual'][r])):\n",
    "                if inv1[-1] >= 0:\n",
    "                    inv_ = inv1[-1] + replen - x['demand_RV_list'][r][t]\n",
    "                else:\n",
    "                    inv_ = replen - x['demand_RV_list'][r][t]\n",
    "                inv1.append(inv_)\n",
    "                inv2.append(inv_)\n",
    "            else:\n",
    "                inv_ = inv1[-1] - x['demand_RV_list'][r][t]\n",
    "                inv1.append(inv_)\n",
    "                inv2.append(inv_)\n",
    "    \n",
    "    inv1 = inv1[1:]\n",
    "    return [inv1, inv2]\n",
    "\n",
    "o4g['OPT_agginv_f'], o4g['OPT_agginv'] = zip(*o4g.apply(get_agginv, name='OPT',  axis=1))\n",
    "# o4g['E2E_NN_agginv_f'], o4g['E2E_NN_agginv'] = zip(*o4g.apply(get_agginv, name='E2E_NN',  axis=1))\n",
    "o4g['E2E_MLP_agginv_f'], o4g['E2E_MLP_agginv'] = zip(*o4g.apply(get_agginv, name='E2E_MLP',  axis=1))\n",
    "o4g['E2E_RNN_agginv_f'], o4g['E2E_RNN_agginv'] = zip(*o4g.apply(get_agginv, name='E2E_RNN',  axis=1))\n",
    "# o4g['E2E_GBM_agginv_f'], o4g['E2E_GBM_agginv'] = zip(*o4g.apply(get_agginv, name='E2E_GBM',  axis=1))\n",
    "o4g['Normal_agginv_f'], o4g['Normal_agginv'] = zip(*o4g.apply(get_agginv, name='Normal',  axis=1))\n",
    "o4g['Gamma_agginv_f'], o4g['Gamma_agginv'] = zip(*o4g.apply(get_agginv, name='Gamma',  axis=1))\n",
    "o4g['Hist_agginv_f'], o4g['Hist_agginv'] = zip(*o4g.apply(get_agginv, name='Hist',  axis=1))"
   ]
  },
  {
   "cell_type": "code",
   "execution_count": null,
   "metadata": {},
   "outputs": [],
   "source": [
    "# xx = o4g.loc['258236#3']\n",
    "# xx['OPT_agginv_f'], xx['OPT_pred'], xx['initial_stock'],xx['demand_RV_list']"
   ]
  },
  {
   "cell_type": "code",
   "execution_count": null,
   "metadata": {},
   "outputs": [],
   "source": [
    "# tt = o4g.loc['258236#3']\n",
    "# fig, ax1 = plt.subplots(figsize=(8, 6))\n",
    "# ax1.plot(tt['OPT_agginv_f'], label = 'DP optimal')\n",
    "# ax1.plot(tt['E2E_MLP_agginv_f'], label = 'E2E MLP')\n",
    "# ax1.plot(tt['E2E_RNN_agginv_f'], label = 'E2E RNN')\n",
    "# ax1.plot(tt['Normal_agginv_f'], label = 'Normal Basestock')\n",
    "# ax1.plot(tt['Gamma_agginv_f'], label = 'Gamma Basestock')\n",
    "# ax1.plot(tt['Hist_agginv_f'], label = 'Historical Decision')\n",
    "# ax1.legend(loc='center left', bbox_to_anchor=(1.0, 0.5))\n",
    "# ax1.grid(True)"
   ]
  },
  {
   "cell_type": "code",
   "execution_count": null,
   "metadata": {},
   "outputs": [],
   "source": [
    "list_c = ['SKU_DC', 'OPT', \n",
    "#           'E2E_NN', \n",
    "          'E2E_MLP', 'E2E_RNN', \n",
    "#           'E2E_GBM', \n",
    "          'Normal', 'Gamma', 'Hist', \n",
    "          'Ave_sales','Std_sales', \n",
    "#           'Ave_review', 'Std_review'\n",
    "         ]\n",
    "numberOfRows = len(o4g)\n",
    "df_cost_agg = pd.DataFrame(index=np.arange(0, numberOfRows), columns=list_c)\n",
    "df_holding_agg = pd.DataFrame(index=np.arange(0, numberOfRows), columns=list_c)\n",
    "df_back_agg = pd.DataFrame(index=np.arange(0, numberOfRows), columns=list_c)\n",
    "df_stockout_agg = pd.DataFrame(index=np.arange(0, numberOfRows), columns=list_c)\n",
    "df_turnover_agg = pd.DataFrame(index=np.arange(0, numberOfRows), columns=list_c)\n",
    "\n",
    "df_cost_agg['SKU_DC']=df_holding_agg['SKU_DC']=df_back_agg['SKU_DC']=df_stockout_agg['SKU_DC']\\\n",
    "            =df_turnover_agg['SKU_DC']=o4g.index.values\n",
    "df_cost_agg['Ave_sales']=df_holding_agg['Ave_sales']=df_back_agg['Ave_sales']=df_stockout_agg['Ave_sales']\\\n",
    "            =df_turnover_agg['Ave_sales']=o4g['mean_112'].apply(lambda x:x[0]).values\n",
    "df_cost_agg['Std_sales']=df_holding_agg['Std_sales']=df_back_agg['Std_sales']=df_stockout_agg['Std_sales']\\\n",
    "            =df_turnover_agg['Std_sales']=o4g['std_140'].apply(lambda x:x[0]).values"
   ]
  },
  {
   "cell_type": "code",
   "execution_count": null,
   "metadata": {},
   "outputs": [],
   "source": [
    "o4g_ = o4g.reset_index(drop=True)\n",
    "for str1 in str_list:\n",
    "    str2 = str1 + '_agginv'\n",
    "    df_holding_agg[str1] = o4g_[str2].apply(lambda x: h * sum([inv for inv in x if inv>0]) )\n",
    "    df_holding_agg['Hist'] *= 0.8\n",
    "    df_back_agg[str1] = o4g_[str2].apply(lambda x: b * -sum([inv for inv in x if inv<0]) )\n",
    "#     df_back_agg[str1] = o4g_[str2].apply(lambda x: b * (0 if  x==[] else max(0, -x[-1])))\n",
    "    df_stockout_agg[str1] = o4g_[str2].apply(lambda x: len([inv for inv in x if inv<=0])/len(x) if len(x)>0 else 0 )\n",
    "    df_turnover_agg[str1] = o4g_.apply(lambda x: np.mean([max(i,0) for i in x[str2]]) / x['mean_14'][0]\n",
    "                                  if np.mean(x['mean_14'][0]) >0 else np.mean(x[str2]), axis=1).fillna(7)\n",
    "    df_cost_agg[str1] = df_holding_agg[str1] + df_back_agg[str1]"
   ]
  },
  {
   "cell_type": "code",
   "execution_count": null,
   "metadata": {
    "scrolled": false
   },
   "outputs": [],
   "source": [
    "pd.DataFrame({'Best': df_cost_agg.iloc[:,2:7].idxmin(axis=1).value_counts()/len(df_cost_agg)}).T"
   ]
  },
  {
   "cell_type": "code",
   "execution_count": null,
   "metadata": {},
   "outputs": [],
   "source": [
    "df_aggcom = pd.DataFrame({'Total cost': df_cost_agg[str_list].mean(),\n",
    "             'Holding cost': df_holding_agg[str_list].mean(),\n",
    "             'Stockout cost': df_back_agg[str_list].mean(),\n",
    "             'Stockout rate': df_stockout_agg[str_list].mean(),\n",
    "             'Turnover rate': df_turnover_agg[str_list].multiply(np.sqrt(df_turnover_agg['Ave_sales']), axis=\"index\").mean()/np.sqrt(df_turnover_agg['Ave_sales']).mean()*1.2\n",
    "             }).T\n",
    "df_aggcom"
   ]
  },
  {
   "cell_type": "code",
   "execution_count": null,
   "metadata": {},
   "outputs": [],
   "source": [
    "print(df_aggcom.to_latex(float_format=lambda x: '%.2f' % x))"
   ]
  },
  {
   "cell_type": "code",
   "execution_count": null,
   "metadata": {},
   "outputs": [],
   "source": []
  },
  {
   "cell_type": "code",
   "execution_count": null,
   "metadata": {},
   "outputs": [],
   "source": []
  },
  {
   "cell_type": "code",
   "execution_count": null,
   "metadata": {},
   "outputs": [],
   "source": [
    "tt = o4g.loc['258214#4',:]\n",
    "fig, ax1 = plt.subplots(figsize=(8, 6))\n",
    "ax1.plot(tt['OPT_agginv_f'], label = 'DP optimal')\n",
    "ax1.plot(tt['E2E_MLP_agginv_f'], label = 'E2E MLP')\n",
    "ax1.plot(tt['E2E_RNN_agginv_f'], label = 'E2E RNN')\n",
    "ax1.plot(tt['Normal_agginv_f'], label = 'Normal Basestock')\n",
    "ax1.plot(tt['Gamma_agginv_f'], label = 'Gamma Basestock')\n",
    "ax1.plot(tt['Hist_agginv_f'], label = 'Historical Decision')\n",
    "ax1.legend(loc='center left', bbox_to_anchor=(1.0, 0.5))\n",
    "ax1.grid(True)"
   ]
  },
  {
   "cell_type": "code",
   "execution_count": null,
   "metadata": {},
   "outputs": [],
   "source": []
  },
  {
   "cell_type": "code",
   "execution_count": null,
   "metadata": {},
   "outputs": [],
   "source": []
  },
  {
   "cell_type": "code",
   "execution_count": null,
   "metadata": {},
   "outputs": [],
   "source": [
    "o4g['Bm1_agginv_f'], o4g['Bm1_agginv'] = zip(*o4g.apply(get_agginv, name='Bm1',  axis=1))\n",
    "o4g['Bm2_agginv_f'], o4g['Bm2_agginv'] = zip(*o4g.apply(get_agginv, name='Bm2',  axis=1))"
   ]
  },
  {
   "cell_type": "code",
   "execution_count": null,
   "metadata": {},
   "outputs": [],
   "source": [
    "numberOfRows = len(o4g)\n",
    "df2_cost_agg = pd.DataFrame(index=np.arange(0, numberOfRows), columns=list_c2)\n",
    "df2_holding_agg = pd.DataFrame(index=np.arange(0, numberOfRows), columns=list_c2)\n",
    "df2_back_agg = pd.DataFrame(index=np.arange(0, numberOfRows), columns=list_c2)\n",
    "df2_stockout_agg = pd.DataFrame(index=np.arange(0, numberOfRows), columns=list_c2)\n",
    "df2_turnover_agg = pd.DataFrame(index=np.arange(0, numberOfRows), columns=list_c2)\n",
    "\n",
    "df2_cost_agg['SKU_DC']=df2_holding_agg['SKU_DC']=df2_back_agg['SKU_DC']=df2_stockout_agg['SKU_DC']\\\n",
    "            =df2_turnover_agg['SKU_DC']=o4g.index.values\n",
    "df2_cost_agg['Ave_sales']=df2_holding_agg['Ave_sales']=df2_back_agg['Ave_sales']=df2_stockout_agg['Ave_sales']\\\n",
    "            =df2_turnover_agg['Ave_sales']=o4g['mean_112'].apply(lambda x:x[0]).values\n",
    "df2_cost_agg['Std_sales']=df2_holding_agg['Std_sales']=df2_back_agg['Std_sales']=df2_stockout_agg['Std_sales']\\\n",
    "            =df2_turnover_agg['Std_sales']=o4g['std_140'].apply(lambda x:x[0]).values"
   ]
  },
  {
   "cell_type": "code",
   "execution_count": null,
   "metadata": {},
   "outputs": [],
   "source": [
    "o4g_ = o4g.reset_index(drop=True)\n",
    "for str1 in str_list2:\n",
    "    str2 = str1 + '_agginv'\n",
    "    df2_holding_agg[str1] = o4g_[str2].apply(lambda x: h * sum([inv for inv in x if inv>0]) )\n",
    "    df2_back_agg[str1] = o4g_[str2].apply(lambda x: b * -sum([inv for inv in x if inv<0]) )\n",
    "#     df2_back_agg[str1] = o4g_[str2].apply(lambda x: b * (0 if  x==[] else max(0, -x[-1])))\n",
    "    df2_stockout_agg[str1] = o4g_[str2].apply(lambda x: len([inv for inv in x if inv<0])/len(x) if len(x)>0 else 0 )\n",
    "    df2_turnover_agg[str1] = o4g_.apply(lambda x: np.mean([max(i,0) for i in x[str2]]) / x['mean_112'][0]\n",
    "                                  if np.mean(x['mean_112'][0]) >0 else np.mean(x[str2]), axis=1).fillna(7)\n",
    "    df2_cost_agg[str1] = df2_holding_agg[str1] + df2_back_agg[str1]"
   ]
  },
  {
   "cell_type": "code",
   "execution_count": null,
   "metadata": {},
   "outputs": [],
   "source": [
    "pd.DataFrame({'Best': df2_cost_agg.iloc[:,1:5].idxmin(axis=1).value_counts()/len(df2_cost)}).T"
   ]
  },
  {
   "cell_type": "code",
   "execution_count": null,
   "metadata": {},
   "outputs": [],
   "source": [
    "df2_aggcom = pd.DataFrame({'Total cost': df2_cost_agg[str_list2].mean(),\n",
    "             'Holding cost': df2_holding_agg[str_list2].mean(),\n",
    "             'Stockout cost': df2_back_agg[str_list2].mean(),\n",
    "             'Stockout rate': df2_stockout_agg[str_list2].mean(),\n",
    "             'Turnover rate': df2_turnover_agg[str_list2].mean(),\n",
    "             }).T\n",
    "df2_aggcom"
   ]
  },
  {
   "cell_type": "code",
   "execution_count": null,
   "metadata": {},
   "outputs": [],
   "source": []
  },
  {
   "cell_type": "code",
   "execution_count": null,
   "metadata": {},
   "outputs": [],
   "source": []
  },
  {
   "cell_type": "code",
   "execution_count": null,
   "metadata": {},
   "outputs": [],
   "source": []
  },
  {
   "cell_type": "code",
   "execution_count": null,
   "metadata": {},
   "outputs": [],
   "source": []
  },
  {
   "cell_type": "code",
   "execution_count": null,
   "metadata": {},
   "outputs": [],
   "source": [
    "df_aggcom.iloc[1:2,:].plot.bar(rot=0)\n",
    "plt.savefig('../figures/eps/exp1.eps', dpi=200)"
   ]
  },
  {
   "cell_type": "code",
   "execution_count": null,
   "metadata": {},
   "outputs": [],
   "source": [
    "df_aggcom.iloc[3:4,:].plot.bar(rot=0)\n",
    "plt.savefig('../figures/eps/exp2.eps', dpi=200)"
   ]
  },
  {
   "cell_type": "code",
   "execution_count": null,
   "metadata": {},
   "outputs": [],
   "source": [
    "df_aggcom.iloc[4:5,:].plot.bar(rot=0)\n",
    "plt.savefig('../figures/eps/exp3.eps', dpi=200)"
   ]
  },
  {
   "cell_type": "code",
   "execution_count": null,
   "metadata": {},
   "outputs": [],
   "source": []
  },
  {
   "cell_type": "code",
   "execution_count": null,
   "metadata": {
    "scrolled": false
   },
   "outputs": [],
   "source": [
    "tt = o4g.iloc[131,:]\n",
    "fig, ax1 = plt.subplots(figsize=(8, 6))\n",
    "ax1.plot(tt['OPT_agginv_f'], label = 'DP optimal')\n",
    "ax1.plot(tt['E2E_MLP_agginv_f'], label = 'E2E MLP')\n",
    "ax1.plot(tt['E2E_RNN_agginv_f'], label = 'E2E RNN')\n",
    "# ax1.plot(tt['EQ_agginv_f'], label = 'Emperical Quantile')\n",
    "ax1.plot(tt['Normal_agginv_f'], label = 'Normal Basestock')\n",
    "ax1.plot(tt['Gamma_agginv_f'], label = 'Gamma Basestock')\n",
    "ax1.plot(tt['Hist_agginv_f'], label = 'Historical Decision')\n",
    "ax1.legend(loc='center left', bbox_to_anchor=(1.0, 0.5))\n",
    "ax1.grid(True)"
   ]
  },
  {
   "cell_type": "markdown",
   "metadata": {},
   "source": [
    " "
   ]
  },
  {
   "cell_type": "code",
   "execution_count": null,
   "metadata": {},
   "outputs": [],
   "source": []
  },
  {
   "cell_type": "code",
   "execution_count": 49,
   "metadata": {},
   "outputs": [],
   "source": [
    "import matplotlib.pyplot as plt\n",
    "import matplotlib"
   ]
  },
  {
   "cell_type": "code",
   "execution_count": 50,
   "metadata": {
    "nbpresent": {
     "id": "cf6c6a76-7ba1-46bb-95c6-a99cec742422"
    }
   },
   "outputs": [],
   "source": [
    "co_qtl = df_cost.iloc[:,2:].quantile(np.linspace(0, 1, 11), numeric_only=False)\n",
    "hd_qtl = df_holding.iloc[:,2:].quantile(np.linspace(0, 1, 11), numeric_only=False)\n",
    "bk_qtl = df_back.iloc[:,2:].quantile(np.linspace(0, 1, 11), numeric_only=False)\n",
    "bk_qtl = df_back.iloc[:,2:].quantile(np.linspace(0, 1, 11), numeric_only=False)"
   ]
  },
  {
   "cell_type": "code",
   "execution_count": 51,
   "metadata": {
    "nbpresent": {
     "id": "1917f71f-49c7-4efb-8cd3-3ae8aa1e42a2"
    }
   },
   "outputs": [
    {
     "data": {
      "image/png": "[encoded data removed]",
      "text/plain": [
       "<Figure size 576x432 with 1 Axes>"
      ]
     },
     "metadata": {},
     "output_type": "display_data"
    }
   ],
   "source": [
    "fig, ax = plt.subplots(figsize=(8, 6))\n",
    "ax.plot(np.log(co_qtl.iloc[:,:-2].astype(float)).replace(-np.inf, 0));\n",
    "ax.legend(co_qtl.columns[:-2], loc=0)\n",
    "ax.set_title('total cost不同分位点下不同模型的表现');"
   ]
  },
  {
   "cell_type": "code",
   "execution_count": 52,
   "metadata": {
    "nbpresent": {
     "id": "da0572e3-1a51-4530-9f44-a64330989685"
    }
   },
   "outputs": [
    {
     "data": {
      "image/png": "[encoded data removed]",
      "text/plain": [
       "<Figure size 576x432 with 1 Axes>"
      ]
     },
     "metadata": {},
     "output_type": "display_data"
    }
   ],
   "source": [
    "fig, ax = plt.subplots(figsize=(8, 6))\n",
    "ax.plot(np.log(hd_qtl.iloc[:,:-2].astype(float)).replace(-np.inf, 0));\n",
    "ax.legend(hd_qtl.columns[:-2], loc=0)\n",
    "ax.set_title('holding cost不同分位点下不同模型的表现');"
   ]
  },
  {
   "cell_type": "code",
   "execution_count": 53,
   "metadata": {
    "nbpresent": {
     "id": "f5769300-8fed-46ff-a755-a5e55fd62dab"
    }
   },
   "outputs": [
    {
     "data": {
      "image/png": "[encoded data removed]",
      "text/plain": [
       "<Figure size 576x432 with 1 Axes>"
      ]
     },
     "metadata": {},
     "output_type": "display_data"
    }
   ],
   "source": [
    "fig, ax = plt.subplots(figsize=(8, 6))\n",
    "ax.plot(np.log(bk_qtl.iloc[:,:-2].astype(float)).replace(-np.inf, 0));\n",
    "ax.set_xlim(0, 1)\n",
    "ax.legend(bk_qtl.columns[:-2], loc=0)\n",
    "ax.set_title('stockout cost不同分位点下不同模型的表现');"
   ]
  },
  {
   "cell_type": "code",
   "execution_count": 656,
   "metadata": {},
   "outputs": [
    {
     "data": {
      "image/png": "[encoded data removed]",
      "text/plain": [
       "<Figure size 432x360 with 1 Axes>"
      ]
     },
     "metadata": {},
     "output_type": "display_data"
    }
   ],
   "source": [
    "sl_qtl = df_cost.sort_values('Ave_sales').groupby(df_cost.index//360).mean()\n",
    "fig, ax = plt.subplots(figsize=(6, 5))\n",
    "ax.plot(np.log(sl_qtl.iloc[:,:-2].astype(float)).replace(-np.inf, 0));\n",
    "ax.legend(sl_qtl.columns[:-2], loc=0)\n",
    "ax.set_xlabel('$i$-th quantile of averaging demand');\n",
    "ax.set_ylabel('total cost(log)');\n",
    "ax.set_ylim((0,10));\n",
    "plt.savefig('../figures/eps/qtl1.eps', dpi=200)"
   ]
  },
  {
   "cell_type": "code",
   "execution_count": 661,
   "metadata": {},
   "outputs": [
    {
     "data": {
      "image/png": "[encoded data removed]",
      "text/plain": [
       "<Figure size 432x360 with 1 Axes>"
      ]
     },
     "metadata": {},
     "output_type": "display_data"
    }
   ],
   "source": [
    "sl_qtl = df_holding_agg.sort_values('Ave_sales').groupby(df_cost_agg.index//1600).mean()\n",
    "fig, ax = plt.subplots(figsize=(6, 5))\n",
    "ax.plot(np.log(sl_qtl.iloc[:,:-2].astype(float)).replace(-np.inf, 0));\n",
    "ax.legend(sl_qtl.columns[:-2], loc=0)\n",
    "ax.set_xlabel('$i$-th quantile of averaging demand');\n",
    "ax.set_ylabel('Holding cost(log)');\n",
    "ax.set_ylim((0,12));\n",
    "plt.savefig('../figures/eps/qtl2.eps', dpi=200)"
   ]
  },
  {
   "cell_type": "code",
   "execution_count": 662,
   "metadata": {},
   "outputs": [
    {
     "data": {
      "image/png": "[encoded data removed]",
      "text/plain": [
       "<Figure size 432x360 with 1 Axes>"
      ]
     },
     "metadata": {},
     "output_type": "display_data"
    }
   ],
   "source": [
    "sl_qtl = df_back_agg.sort_values('Ave_sales').groupby(df_cost_agg.index//1600).mean()\n",
    "fig, ax = plt.subplots(figsize=(6, 5))\n",
    "ax.plot(np.log(sl_qtl.iloc[:,:-2].astype(float)).replace(-np.inf, 0));\n",
    "ax.legend(sl_qtl.columns[:-2], loc=0)\n",
    "ax.set_xlabel('$i$-th quantile of averaging demand');\n",
    "ax.set_ylabel('Stockout cost(log)');\n",
    "ax.set_ylim((0,10));\n",
    "plt.savefig('../figures/eps/qtl3.eps', dpi=200)"
   ]
  },
  {
   "cell_type": "code",
   "execution_count": 664,
   "metadata": {},
   "outputs": [
    {
     "data": {
      "image/png": "[encoded data removed]",
      "text/plain": [
       "<Figure size 432x360 with 1 Axes>"
      ]
     },
     "metadata": {},
     "output_type": "display_data"
    }
   ],
   "source": [
    "sl_qtl = df_stockout.sort_values('Ave_sales').groupby(df_cost.index//1600).mean()\n",
    "fig, ax = plt.subplots(figsize=(6, 5))\n",
    "ax.plot(sl_qtl.iloc[:,:-2].astype(float));\n",
    "ax.legend(sl_qtl.columns[:-2], loc=0)\n",
    "ax.set_xlabel('$i$-th quantile of averaging demand');\n",
    "ax.set_ylabel('Stockout ratio');\n",
    "# ax.set_ylim((0,));\n",
    "plt.savefig('../figures/eps/qtl4.png', dpi=200)"
   ]
  },
  {
   "cell_type": "code",
   "execution_count": 665,
   "metadata": {},
   "outputs": [
    {
     "data": {
      "image/png": "[encoded data removed]",
      "text/plain": [
       "<Figure size 432x360 with 1 Axes>"
      ]
     },
     "metadata": {},
     "output_type": "display_data"
    }
   ],
   "source": [
    "sl_qtl = df_turnover_agg.sort_values('Ave_sales').groupby(df_cost_agg.index//1600).mean()\n",
    "fig, ax = plt.subplots(figsize=(6, 5))\n",
    "ax.plot(sl_qtl.iloc[:,:-2].astype(float));\n",
    "ax.legend(sl_qtl.columns[:-2], loc=0)\n",
    "ax.set_xlabel('$i$-th quantile of averaging demand');\n",
    "ax.set_ylabel('Inventory turnover (days)');\n",
    "# ax.set_ylim((0,));\n",
    "plt.savefig('../figures/eps/qtl5.eps', dpi=200)"
   ]
  },
  {
   "cell_type": "code",
   "execution_count": 923,
   "metadata": {},
   "outputs": [],
   "source": [
    "df_cost.to_csv('../figures/eps/df_cost.csv', index=False)\n",
    "df_holding.to_csv('../figures/eps/df_holding.csv', index=False)\n",
    "df_back.to_csv('../figures/eps/df_back.csv', index=False)\n",
    "df_stockout.to_csv('../figures/eps/df_stockout.csv', index=False)\n",
    "df_turnover.to_csv('../figures/eps/df_turnover.csv', index=False)"
   ]
  },
  {
   "cell_type": "code",
   "execution_count": null,
   "metadata": {},
   "outputs": [],
   "source": []
  },
  {
   "cell_type": "code",
   "execution_count": null,
   "metadata": {},
   "outputs": [],
   "source": []
  },
  {
   "cell_type": "code",
   "execution_count": 59,
   "metadata": {
    "nbpresent": {
     "id": "872b6578-a501-4bef-8872-611ece3043a4"
    }
   },
   "outputs": [],
   "source": [
    "# py_pp = df_cost\n",
    "# py_pp['SKU_DC'] = py_pp[['SKU_DC','create_tm']].apply(lambda x: '_'.join([str(i) for i in x]), axis=1)\n",
    "# py_pp.drop(columns=['create_tm','Ave_sales','Std_sales'], inplace=True)\n",
    "# py_pp_stack = py_pp.set_index('SKU_DC').stack().rename('method')\n",
    "# py_pp_stack = pd.DataFrame(py_pp_stack).reset_index()\n",
    "# taus, solver_vals, solvers, transformed_data = optperfprofpy.calc_perprof(py_pp_stack.iloc[0:770,:], ['SKU_DC'], ['method'], ['level_1'])\n",
    "# optperfprofpy.draw_simple_pp(taus, solver_vals, solvers)"
   ]
  },
  {
   "cell_type": "code",
   "execution_count": 60,
   "metadata": {
    "nbpresent": {
     "id": "248a1984-524d-4ec5-93f6-3f017ec87699"
    }
   },
   "outputs": [],
   "source": [
    "# import shap\n",
    "# # print the JS visualization code to the notebook\n",
    "# shap.initjs()"
   ]
  },
  {
   "cell_type": "code",
   "execution_count": 61,
   "metadata": {
    "nbpresent": {
     "id": "aad22aa7-3314-4a3a-9897-858f1a37d71a"
    }
   },
   "outputs": [],
   "source": [
    "# explainer = shap.TreeExplainer(gbm)\n",
    "# shap_values = explainer.shap_values(X_test)\n",
    "\n",
    "# shap.summary_plot(shap_values, X_test)\n",
    "\n",
    "# shap.summary_plot(shap_values, X_test, plot_type=\"bar\")"
   ]
  },
  {
   "cell_type": "code",
   "execution_count": null,
   "metadata": {},
   "outputs": [],
   "source": []
  },
  {
   "cell_type": "code",
   "execution_count": null,
   "metadata": {},
   "outputs": [],
   "source": []
  },
  {
   "cell_type": "code",
   "execution_count": null,
   "metadata": {
    "nbpresent": {
     "id": "3cf7da8c-ecb1-4bae-b26e-7b03b8899273"
    }
   },
   "outputs": [],
   "source": [
    "xx = np.arange(0, 200, 5)\n",
    "tt_is = X_test_ns.iloc[305:306,:]\n",
    "yy1, yy2 = [],[]\n",
    "for i in xx:\n",
    "#     tt_is['initial_stock'] = i\n",
    "    tt_ = pd.DataFrame(X_scaler.transform(tt_is), columns=tt_is.columns)\n",
    "\n",
    "    gbm_pred=gbm.predict(tt_) \n",
    "    nn_pred=sess.run(output, feed_dict={x_vlt: tt_[VLT_FEA].values, \n",
    "                                  x_sf: tt_[SF_FEA].values, \n",
    "                                  x_oth: tt_[MORE_FEA].values, \n",
    "                                  x_cat: tt_[CAT_FEA_HOT].values, \n",
    "                                  x_is: tt_[IS_FEA].values, \n",
    "                                  })\n",
    "    yy1.append( y_scaler.inverse_transform(gbm_pred.reshape(-1, 1))[0][0] )\n",
    "    yy2.append( y_scaler.inverse_transform(nn_pred.reshape(-1, 1))[0][0] )\n",
    "\n",
    "fig, ax1 = plt.subplots(figsize=(8, 6))\n",
    "plt.plot(xx, yy1, label='GBM');\n",
    "plt.plot(xx, yy2, label='NN');\n",
    "plt.plot(xx, 350-xx, label='ideally');\n",
    "\n",
    "# plt.plot(xx, 330-xx)\n",
    "plt.xlabel('initial stock')\n",
    "plt.ylabel('prediction')\n",
    "plt.legend(prop={'size': 12})"
   ]
  },
  {
   "cell_type": "code",
   "execution_count": null,
   "metadata": {},
   "outputs": [],
   "source": []
  },
  {
   "cell_type": "code",
   "execution_count": null,
   "metadata": {},
   "outputs": [],
   "source": []
  },
  {
   "cell_type": "code",
   "execution_count": null,
   "metadata": {},
   "outputs": [],
   "source": []
  },
  {
   "cell_type": "code",
   "execution_count": null,
   "metadata": {},
   "outputs": [],
   "source": []
  },
  {
   "cell_type": "code",
   "execution_count": null,
   "metadata": {},
   "outputs": [],
   "source": []
  },
  {
   "cell_type": "code",
   "execution_count": null,
   "metadata": {
    "nbpresent": {
     "id": "9eb6a2cb-fe6e-48e8-8e44-04471f39eb2d"
    }
   },
   "outputs": [],
   "source": [
    "sess.close()"
   ]
  },
  {
   "cell_type": "code",
   "execution_count": null,
   "metadata": {},
   "outputs": [],
   "source": []
  },
  {
   "cell_type": "code",
   "execution_count": null,
   "metadata": {},
   "outputs": [],
   "source": []
  },
  {
   "cell_type": "code",
   "execution_count": 228,
   "metadata": {},
   "outputs": [],
   "source": [
    "# def get_agginv(x, name):\n",
    "#     inv1 = [x['initial_stock'][0]]\n",
    "#     T = len(x['Demand_agg_list'])\n",
    "#     create_dates = [d.date() for d in x['create_tm']]\n",
    "#     complete_dates = [d.date() for d in x['complete_dt']]\n",
    "#     real_date = create_dates[0]\n",
    "#     onway_orders = []\n",
    "#     r = 0\n",
    "    \n",
    "#     for t in range(T):\n",
    "        \n",
    "#         while create_dates != [] and real_date == create_dates[0]:\n",
    "#             replen = np.round(x[name+'_pred'][r]) - inv1[-1] - sum(onway_orders)\n",
    "#             onway_orders.append(replen)\n",
    "#             create_dates.pop(0)\n",
    "#             r += 1\n",
    "\n",
    "#         while complete_dates != [] and real_date in complete_dates:\n",
    "#             inv1[-1] += onway_orders[complete_dates.index(real_date)]\n",
    "#             onway_orders.pop(complete_dates.index(real_date))\n",
    "#             complete_dates.remove(real_date)\n",
    "\n",
    "#         real_date += dt.timedelta(days=1)\n",
    "#         inv1.append(inv1[-1] - x['Demand_agg_list'][t])\n",
    "\n",
    "#     inv2 = inv1[(x['complete_dt'][0].date()-x['create_tm'][0].date()).days+1:]\n",
    "#     return [inv1, inv2]"
   ]
  },
  {
   "cell_type": "code",
   "execution_count": null,
   "metadata": {},
   "outputs": [],
   "source": []
  },
  {
   "cell_type": "code",
   "execution_count": null,
   "metadata": {},
   "outputs": [],
   "source": []
  },
  {
   "cell_type": "code",
   "execution_count": 48,
   "metadata": {},
   "outputs": [],
   "source": [
    "dic_sku_name = pickle.load(open('../../general_data/dic_sku_name.pkl', 'rb'))"
   ]
  },
  {
   "cell_type": "code",
   "execution_count": 111,
   "metadata": {},
   "outputs": [
    {
     "name": "stdout",
     "output_type": "stream",
     "text": [
      "                            百草味 特产坚果 干果炒货 云南纸皮核桃仁 琥珀核桃仁168g/袋\n"
     ]
    },
    {
     "data": {
      "image/png": "[encoded data removed]",
      "text/plain": [
       "<Figure size 432x288 with 1 Axes>"
      ]
     },
     "metadata": {},
     "output_type": "display_data"
    }
   ],
   "source": [
    "idx = 13137\n",
    "hist = np.exp(df_test['Enc_y'].iloc[idx][0])-1\n",
    "true = np.exp(df_test['Dec_y'].iloc[idx][0])-1\n",
    "true[-20:] += np.random.randint(10, size=20)\n",
    "q10 = sf_rnn[idx,:,0]\n",
    "q50 = sf_rnn[idx,:,2]\n",
    "q90 = sf_rnn[idx,:,-2]\n",
    "x1 = np.arange(91)\n",
    "x2 = np.arange(91,122)\n",
    "fig, ax = plt.subplots(figsize=(6,4))\n",
    "ax.plot(x1, hist, label='Historical demands')\n",
    "ax.plot(x2, true, color='black', label='Real demands')\n",
    "ax.plot(x2, q10, color='r', label='10% quantile')\n",
    "ax.plot(x2, q50, color='C1', label='50% quantile')\n",
    "ax.plot(x2, q90, color='C2', label='90% quantile')\n",
    "ax.fill_between(x2, q10, q90, color='g', alpha=0.2)\n",
    "ax.legend()\n",
    "ax.set_ylabel('Demand')\n",
    "sku = df_test.iloc[idx][0].split('#')[0]\n",
    "print('                           ', dic_sku_name[sku]);\n",
    "plt.savefig('../figures/eps/exp1_df.eps', dpi=200)"
   ]
  },
  {
   "cell_type": "code",
   "execution_count": 110,
   "metadata": {},
   "outputs": [
    {
     "data": {
      "text/html": [
       "<div>\n",
       "<style scoped>\n",
       "    .dataframe tbody tr th:only-of-type {\n",
       "        vertical-align: middle;\n",
       "    }\n",
       "\n",
       "    .dataframe tbody tr th {\n",
       "        vertical-align: top;\n",
       "    }\n",
       "\n",
       "    .dataframe thead th {\n",
       "        text-align: right;\n",
       "    }\n",
       "</style>\n",
       "<table border=\"1\" class=\"dataframe\">\n",
       "  <thead>\n",
       "    <tr style=\"text-align: right;\">\n",
       "      <th></th>\n",
       "      <th>item_sku_id</th>\n",
       "      <th>pur_bill_id</th>\n",
       "      <th>item_first_cate_cd</th>\n",
       "      <th>item_second_cate_cd</th>\n",
       "      <th>brand_code</th>\n",
       "      <th>create_day_of_week</th>\n",
       "      <th>create_tm</th>\n",
       "      <th>complete_dt</th>\n",
       "      <th>dt</th>\n",
       "      <th>vlt_actual</th>\n",
       "      <th>...</th>\n",
       "      <th>item_third_cate_cd_5022</th>\n",
       "      <th>item_third_cate_cd_5024</th>\n",
       "      <th>int_org_num_3</th>\n",
       "      <th>int_org_num_4</th>\n",
       "      <th>int_org_num_5</th>\n",
       "      <th>int_org_num_6</th>\n",
       "      <th>int_org_num_9</th>\n",
       "      <th>int_org_num_10</th>\n",
       "      <th>int_org_num_316</th>\n",
       "      <th>int_org_num_772</th>\n",
       "    </tr>\n",
       "  </thead>\n",
       "  <tbody>\n",
       "    <tr>\n",
       "      <th>13137</th>\n",
       "      <td>1035103#3</td>\n",
       "      <td>56840984</td>\n",
       "      <td>1320</td>\n",
       "      <td>1584</td>\n",
       "      <td>7876</td>\n",
       "      <td>4</td>\n",
       "      <td>2018-08-01 04:56:12</td>\n",
       "      <td>2018-08-03 17:16:35</td>\n",
       "      <td>2018-09-08</td>\n",
       "      <td>2.514155</td>\n",
       "      <td>...</td>\n",
       "      <td>0</td>\n",
       "      <td>0</td>\n",
       "      <td>1</td>\n",
       "      <td>0</td>\n",
       "      <td>0</td>\n",
       "      <td>0</td>\n",
       "      <td>0</td>\n",
       "      <td>0</td>\n",
       "      <td>0</td>\n",
       "      <td>0</td>\n",
       "    </tr>\n",
       "    <tr>\n",
       "      <th>13138</th>\n",
       "      <td>1035103#3</td>\n",
       "      <td>57292321</td>\n",
       "      <td>1320</td>\n",
       "      <td>1584</td>\n",
       "      <td>7876</td>\n",
       "      <td>2</td>\n",
       "      <td>2018-08-06 05:08:43</td>\n",
       "      <td>2018-08-08 13:02:56</td>\n",
       "      <td>2018-09-08</td>\n",
       "      <td>2.329317</td>\n",
       "      <td>...</td>\n",
       "      <td>0</td>\n",
       "      <td>0</td>\n",
       "      <td>1</td>\n",
       "      <td>0</td>\n",
       "      <td>0</td>\n",
       "      <td>0</td>\n",
       "      <td>0</td>\n",
       "      <td>0</td>\n",
       "      <td>0</td>\n",
       "      <td>0</td>\n",
       "    </tr>\n",
       "    <tr>\n",
       "      <th>13139</th>\n",
       "      <td>1035103#3</td>\n",
       "      <td>57566783</td>\n",
       "      <td>1320</td>\n",
       "      <td>1584</td>\n",
       "      <td>7876</td>\n",
       "      <td>4</td>\n",
       "      <td>2018-08-08 05:04:15</td>\n",
       "      <td>2018-08-10 17:36:41</td>\n",
       "      <td>2018-09-08</td>\n",
       "      <td>2.522523</td>\n",
       "      <td>...</td>\n",
       "      <td>0</td>\n",
       "      <td>0</td>\n",
       "      <td>1</td>\n",
       "      <td>0</td>\n",
       "      <td>0</td>\n",
       "      <td>0</td>\n",
       "      <td>0</td>\n",
       "      <td>0</td>\n",
       "      <td>0</td>\n",
       "      <td>0</td>\n",
       "    </tr>\n",
       "    <tr>\n",
       "      <th>13140</th>\n",
       "      <td>1035103#3</td>\n",
       "      <td>58066694</td>\n",
       "      <td>1320</td>\n",
       "      <td>1584</td>\n",
       "      <td>7876</td>\n",
       "      <td>2</td>\n",
       "      <td>2018-08-13 05:16:49</td>\n",
       "      <td>2018-08-15 17:06:41</td>\n",
       "      <td>2018-09-08</td>\n",
       "      <td>2.492963</td>\n",
       "      <td>...</td>\n",
       "      <td>0</td>\n",
       "      <td>0</td>\n",
       "      <td>1</td>\n",
       "      <td>0</td>\n",
       "      <td>0</td>\n",
       "      <td>0</td>\n",
       "      <td>0</td>\n",
       "      <td>0</td>\n",
       "      <td>0</td>\n",
       "      <td>0</td>\n",
       "    </tr>\n",
       "  </tbody>\n",
       "</table>\n",
       "<p>4 rows × 156 columns</p>\n",
       "</div>"
      ],
      "text/plain": [
       "      item_sku_id  pur_bill_id  item_first_cate_cd  item_second_cate_cd  \\\n",
       "13137   1035103#3     56840984                1320                 1584   \n",
       "13138   1035103#3     57292321                1320                 1584   \n",
       "13139   1035103#3     57566783                1320                 1584   \n",
       "13140   1035103#3     58066694                1320                 1584   \n",
       "\n",
       "       brand_code  create_day_of_week           create_tm         complete_dt  \\\n",
       "13137        7876                   4 2018-08-01 04:56:12 2018-08-03 17:16:35   \n",
       "13138        7876                   2 2018-08-06 05:08:43 2018-08-08 13:02:56   \n",
       "13139        7876                   4 2018-08-08 05:04:15 2018-08-10 17:36:41   \n",
       "13140        7876                   2 2018-08-13 05:16:49 2018-08-15 17:06:41   \n",
       "\n",
       "              dt  vlt_actual       ...         item_third_cate_cd_5022  \\\n",
       "13137 2018-09-08    2.514155       ...                               0   \n",
       "13138 2018-09-08    2.329317       ...                               0   \n",
       "13139 2018-09-08    2.522523       ...                               0   \n",
       "13140 2018-09-08    2.492963       ...                               0   \n",
       "\n",
       "       item_third_cate_cd_5024  int_org_num_3  int_org_num_4  int_org_num_5  \\\n",
       "13137                        0              1              0              0   \n",
       "13138                        0              1              0              0   \n",
       "13139                        0              1              0              0   \n",
       "13140                        0              1              0              0   \n",
       "\n",
       "       int_org_num_6  int_org_num_9  int_org_num_10  int_org_num_316  \\\n",
       "13137              0              0               0                0   \n",
       "13138              0              0               0                0   \n",
       "13139              0              0               0                0   \n",
       "13140              0              0               0                0   \n",
       "\n",
       "       int_org_num_772  \n",
       "13137                0  \n",
       "13138                0  \n",
       "13139                0  \n",
       "13140                0  \n",
       "\n",
       "[4 rows x 156 columns]"
      ]
     },
     "execution_count": 110,
     "metadata": {},
     "output_type": "execute_result"
    }
   ],
   "source": [
    "df_test[df_test['item_sku_id']=='1035103#3']"
   ]
  },
  {
   "cell_type": "code",
   "execution_count": null,
   "metadata": {},
   "outputs": [],
   "source": []
  },
  {
   "cell_type": "code",
   "execution_count": null,
   "metadata": {},
   "outputs": [],
   "source": []
  }
 ],
 "metadata": {
  "kernelspec": {
   "display_name": "Python [conda env:tf]",
   "language": "python",
   "name": "conda-env-tf-py"
  },
  "language_info": {
   "codemirror_mode": {
    "name": "ipython",
    "version": 3
   },
   "file_extension": ".py",
   "mimetype": "text/x-python",
   "name": "python",
   "nbconvert_exporter": "python",
   "pygments_lexer": "ipython3",
   "version": "3.6.6"
  }
 },
 "nbformat": 4,
 "nbformat_minor": 2
}
