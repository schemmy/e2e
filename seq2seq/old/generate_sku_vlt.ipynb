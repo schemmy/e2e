{
 "cells": [
  {
   "cell_type": "code",
   "execution_count": 6,
   "metadata": {},
   "outputs": [],
   "source": [
    "import numpy as np\n",
    "import pandas as pd\n",
    "import os\n",
    "import warnings\n",
    "from tqdm import tqdm\n",
    "import math,pickle\n",
    "import seaborn as sns\n",
    "import datetime as dt"
   ]
  },
  {
   "cell_type": "code",
   "execution_count": 7,
   "metadata": {},
   "outputs": [],
   "source": [
    "with open('../data/1320_feature/df_e2e.pkl', 'rb') as fp:\n",
    "    o0 = pickle.load(fp)"
   ]
  },
  {
   "cell_type": "code",
   "execution_count": 61,
   "metadata": {},
   "outputs": [],
   "source": [
    "sku_set = ['6450270#10', '1552841#3', '2615317#6']"
   ]
  },
  {
   "cell_type": "code",
   "execution_count": 62,
   "metadata": {},
   "outputs": [],
   "source": [
    "o0 = o0[(o0.next_complete_dt < dt.datetime(2018,8,31)) & (o0['create_tm'] >= dt.datetime(2018,8,1))]"
   ]
  },
  {
   "cell_type": "code",
   "execution_count": 63,
   "metadata": {},
   "outputs": [],
   "source": [
    "df = o0[o0['item_sku_id'].isin(sku_set)].set_index('item_sku_id')"
   ]
  },
  {
   "cell_type": "code",
   "execution_count": 64,
   "metadata": {},
   "outputs": [],
   "source": [
    "cr = df['create_tm'].dt.date\n",
    "cm = df['complete_dt'].dt.date\n",
    "vlt = (df['complete_dt']-df['create_tm']).dt.days.rename('actual_vlt')\n",
    "skus = pd.concat([cr, cm, vlt], axis=1)"
   ]
  },
  {
   "cell_type": "code",
   "execution_count": 65,
   "metadata": {},
   "outputs": [],
   "source": [
    "skus.to_csv('sku_sythetic.csv')"
   ]
  },
  {
   "cell_type": "code",
   "execution_count": null,
   "metadata": {},
   "outputs": [],
   "source": []
  },
  {
   "cell_type": "code",
   "execution_count": 79,
   "metadata": {},
   "outputs": [],
   "source": [
    "with open('../logs/torch/pred_E2E_NN_RNN_2615317#6.pkl', 'rb') as fp:\n",
    "    sf = pickle.load(fp)"
   ]
  },
  {
   "cell_type": "code",
   "execution_count": 95,
   "metadata": {},
   "outputs": [
    {
     "data": {
      "text/plain": [
       "array([38.799908, 37.01379 , 37.79188 , 37.532116, 37.100033, 38.65262 ,\n",
       "       39.192158, 38.79296 , 41.59758 , 41.34293 , 40.84081 , 42.12816 ,\n",
       "       41.805737, 41.373974, 43.313225, 43.409077, 42.190422, 43.827206,\n",
       "       45.38931 , 44.696033, 43.99834 , 45.315002, 44.500313, 43.17332 ,\n",
       "       45.110046, 45.520355, 44.962696, 43.498043, 44.670795, 45.375687,\n",
       "       45.834118], dtype=float32)"
      ]
     },
     "execution_count": 95,
     "metadata": {},
     "output_type": "execute_result"
    }
   ],
   "source": [
    "sf[0,:,7]"
   ]
  },
  {
   "cell_type": "code",
   "execution_count": null,
   "metadata": {},
   "outputs": [],
   "source": []
  }
 ],
 "metadata": {
  "kernelspec": {
   "display_name": "Python [conda env:tf]",
   "language": "python",
   "name": "conda-env-tf-py"
  },
  "language_info": {
   "codemirror_mode": {
    "name": "ipython",
    "version": 3
   },
   "file_extension": ".py",
   "mimetype": "text/x-python",
   "name": "python",
   "nbconvert_exporter": "python",
   "pygments_lexer": "ipython3",
   "version": "3.6.6"
  }
 },
 "nbformat": 4,
 "nbformat_minor": 2
}
