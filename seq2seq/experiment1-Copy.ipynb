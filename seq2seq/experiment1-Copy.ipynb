{
 "cells": [
  {
   "cell_type": "code",
   "execution_count": 1,
   "metadata": {},
   "outputs": [],
   "source": [
    "import pandas as pd\n",
    "import numpy as np\n",
    "import datetime as dt\n",
    "import matplotlib.pyplot as plt\n",
    "import copy,os\n",
    "import pickle\n",
    "from datetime import timedelta\n",
    "\n",
    "import warnings\n",
    "warnings.filterwarnings('ignore')"
   ]
  },
  {
   "cell_type": "markdown",
   "metadata": {},
   "source": [
    "## Experiment part 1: End to end V.S. two-stage model (MQRNN)"
   ]
  },
  {
   "cell_type": "code",
   "execution_count": 2,
   "metadata": {},
   "outputs": [],
   "source": [
    "df_sales = pd.read_csv('../data/1320/rdc_sales_1320_replenishment_V1_filled_pp.csv')\n",
    "df_sl = df_sales.set_index('row')\n",
    "df_sl.rename(columns=lambda x: (dt.datetime(2016,1,1) + dt.timedelta(days=int(x)-730)).date(), inplace=True)\n",
    "df_sl['SKU'], df_sl['DC'] = df_sl.index.str.split('#', 1).str"
   ]
  },
  {
   "cell_type": "code",
   "execution_count": 3,
   "metadata": {},
   "outputs": [
    {
     "data": {
      "text/html": [
       "<div>\n",
       "<style scoped>\n",
       "    .dataframe tbody tr th:only-of-type {\n",
       "        vertical-align: middle;\n",
       "    }\n",
       "\n",
       "    .dataframe tbody tr th {\n",
       "        vertical-align: top;\n",
       "    }\n",
       "\n",
       "    .dataframe thead th {\n",
       "        text-align: right;\n",
       "    }\n",
       "</style>\n",
       "<table border=\"1\" class=\"dataframe\">\n",
       "  <thead>\n",
       "    <tr style=\"text-align: right;\">\n",
       "      <th></th>\n",
       "      <th>item_sku_id</th>\n",
       "      <th>sku_id</th>\n",
       "      <th>create_tm</th>\n",
       "      <th>complete_dt</th>\n",
       "      <th>vlt_actual</th>\n",
       "      <th>initial_stock</th>\n",
       "      <th>mean_14</th>\n",
       "      <th>review_period</th>\n",
       "      <th>next_complete_dt</th>\n",
       "      <th>E2E_MLP_pred</th>\n",
       "      <th>E2E_RNN_pred</th>\n",
       "      <th>E2E_NN_SF_mean_pred</th>\n",
       "      <th>E2E_NN_vlt_pred</th>\n",
       "    </tr>\n",
       "  </thead>\n",
       "  <tbody>\n",
       "    <tr>\n",
       "      <th>0</th>\n",
       "      <td>258214#3</td>\n",
       "      <td>258214</td>\n",
       "      <td>2018-08-07 16:22:00</td>\n",
       "      <td>2018-08-14 15:46:00</td>\n",
       "      <td>6.975035</td>\n",
       "      <td>2701</td>\n",
       "      <td>162.500000</td>\n",
       "      <td>5.543704</td>\n",
       "      <td>2018-08-18 14:39:00</td>\n",
       "      <td>1865.74570</td>\n",
       "      <td>1751.37660</td>\n",
       "      <td>660.26610</td>\n",
       "      <td>6.378346</td>\n",
       "    </tr>\n",
       "    <tr>\n",
       "      <th>1</th>\n",
       "      <td>258214#3</td>\n",
       "      <td>258214</td>\n",
       "      <td>2018-08-13 05:25:00</td>\n",
       "      <td>2018-08-18 14:39:00</td>\n",
       "      <td>5.384803</td>\n",
       "      <td>1795</td>\n",
       "      <td>149.714286</td>\n",
       "      <td>6.987188</td>\n",
       "      <td>2018-08-25 14:41:00</td>\n",
       "      <td>2180.92140</td>\n",
       "      <td>2206.21700</td>\n",
       "      <td>660.95984</td>\n",
       "      <td>6.655314</td>\n",
       "    </tr>\n",
       "    <tr>\n",
       "      <th>2</th>\n",
       "      <td>258214#4</td>\n",
       "      <td>258214</td>\n",
       "      <td>2018-08-06 05:15:00</td>\n",
       "      <td>2018-08-15 23:17:00</td>\n",
       "      <td>9.751354</td>\n",
       "      <td>20</td>\n",
       "      <td>24.857143</td>\n",
       "      <td>1.462674</td>\n",
       "      <td>2018-08-15 23:16:00</td>\n",
       "      <td>276.28622</td>\n",
       "      <td>328.60715</td>\n",
       "      <td>100.58999</td>\n",
       "      <td>7.750604</td>\n",
       "    </tr>\n",
       "    <tr>\n",
       "      <th>3</th>\n",
       "      <td>258214#4</td>\n",
       "      <td>258214</td>\n",
       "      <td>2018-08-07 16:22:00</td>\n",
       "      <td>2018-08-15 23:16:00</td>\n",
       "      <td>8.287627</td>\n",
       "      <td>9</td>\n",
       "      <td>23.000000</td>\n",
       "      <td>5.543704</td>\n",
       "      <td>2018-08-22 23:11:00</td>\n",
       "      <td>384.18080</td>\n",
       "      <td>356.58777</td>\n",
       "      <td>99.17105</td>\n",
       "      <td>7.478106</td>\n",
       "    </tr>\n",
       "    <tr>\n",
       "      <th>4</th>\n",
       "      <td>258214#4</td>\n",
       "      <td>258214</td>\n",
       "      <td>2018-08-13 05:25:00</td>\n",
       "      <td>2018-08-22 23:11:00</td>\n",
       "      <td>9.740532</td>\n",
       "      <td>123</td>\n",
       "      <td>23.285714</td>\n",
       "      <td>6.987188</td>\n",
       "      <td>2018-08-27 23:19:00</td>\n",
       "      <td>414.60123</td>\n",
       "      <td>396.71997</td>\n",
       "      <td>104.44367</td>\n",
       "      <td>7.099046</td>\n",
       "    </tr>\n",
       "  </tbody>\n",
       "</table>\n",
       "</div>"
      ],
      "text/plain": [
       "  item_sku_id  sku_id           create_tm         complete_dt  vlt_actual  \\\n",
       "0    258214#3  258214 2018-08-07 16:22:00 2018-08-14 15:46:00    6.975035   \n",
       "1    258214#3  258214 2018-08-13 05:25:00 2018-08-18 14:39:00    5.384803   \n",
       "2    258214#4  258214 2018-08-06 05:15:00 2018-08-15 23:17:00    9.751354   \n",
       "3    258214#4  258214 2018-08-07 16:22:00 2018-08-15 23:16:00    8.287627   \n",
       "4    258214#4  258214 2018-08-13 05:25:00 2018-08-22 23:11:00    9.740532   \n",
       "\n",
       "   initial_stock     mean_14  review_period    next_complete_dt  E2E_MLP_pred  \\\n",
       "0           2701  162.500000       5.543704 2018-08-18 14:39:00    1865.74570   \n",
       "1           1795  149.714286       6.987188 2018-08-25 14:41:00    2180.92140   \n",
       "2             20   24.857143       1.462674 2018-08-15 23:16:00     276.28622   \n",
       "3              9   23.000000       5.543704 2018-08-22 23:11:00     384.18080   \n",
       "4            123   23.285714       6.987188 2018-08-27 23:19:00     414.60123   \n",
       "\n",
       "   E2E_RNN_pred  E2E_NN_SF_mean_pred  E2E_NN_vlt_pred  \n",
       "0    1751.37660            660.26610         6.378346  \n",
       "1    2206.21700            660.95984         6.655314  \n",
       "2     328.60715            100.58999         7.750604  \n",
       "3     356.58777             99.17105         7.478106  \n",
       "4     396.71997            104.44367         7.099046  "
      ]
     },
     "execution_count": 3,
     "metadata": {},
     "output_type": "execute_result"
    }
   ],
   "source": [
    "START_DAY = dt.datetime(2018,7,27)\n",
    "\n",
    "#Benchmark2 qunatile prediction: quantiles = [0.1, 0.25, 0.5, 0.6, 0.7, 0.8, 0.9, 0.95]\n",
    "with open('pred_E2E_SF_RNN.pkl', 'rb') as fp: \n",
    "    bc2_o = pickle.load(fp)\n",
    "\n",
    "#Item_sku_id, sku_id, create_tm, complete_dt, vlt_actual, E2E_MLP_pred, E2E_NN_SF_mean_pred, E2E_NN_vlt_pred \n",
    "df_orders_o = pd.read_csv('pred_v5.csv', parse_dates=['create_tm','complete_dt','next_complete_dt'])\n",
    "\n",
    "df_orders_o.head()"
   ]
  },
  {
   "cell_type": "code",
   "execution_count": 4,
   "metadata": {},
   "outputs": [],
   "source": [
    "b,h=9,1"
   ]
  },
  {
   "cell_type": "code",
   "execution_count": 5,
   "metadata": {},
   "outputs": [],
   "source": [
    "bc2 = bc2_o[:6000,:,:]\n",
    "df_orders = df_orders_o.iloc[:6000,:]"
   ]
  },
  {
   "cell_type": "code",
   "execution_count": 6,
   "metadata": {},
   "outputs": [],
   "source": [
    "o4 = df_orders.copy()"
   ]
  },
  {
   "cell_type": "code",
   "execution_count": 7,
   "metadata": {},
   "outputs": [],
   "source": [
    "o4['demand_RV_list'] = o4.apply(lambda x: df_sl.loc[x['item_sku_id'], \\\n",
    "                                            x['create_tm'].date():x['next_complete_dt'].date()].values\\\n",
    "                            if x['item_sku_id'] in df_sl.index else [], axis=1)\n",
    "\n",
    "o4['demand_RV_list_acm'] = o4['demand_RV_list'].apply(lambda x: np.cumsum(x))"
   ]
  },
  {
   "cell_type": "code",
   "execution_count": 8,
   "metadata": {},
   "outputs": [],
   "source": [
    "def get_inv(x, name):\n",
    "    inv1, inv2 = [], []\n",
    " \n",
    "    for t in range(len(x['demand_RV_list_acm'])):\n",
    "        if t < np.ceil(x['vlt_actual']):\n",
    "            inv1.append(x['initial_stock']-x['demand_RV_list_acm'][t])\n",
    "            continue\n",
    "        else:\n",
    "#             if inv[-1] <= 0:\n",
    "#                 inv.append(-x['demand_RV_list'][t])\n",
    "#             else:\n",
    "#                 inv.append(inv[-1] - x['demand_RV_list'][t])\n",
    "            inv_ = x[name]+x['initial_stock']-x['demand_RV_list_acm'][t]\n",
    "            inv1.append(inv_)\n",
    "            inv2.append(inv_)\n",
    "    return [inv1, inv2]\n",
    "\n",
    "def get_agginv(x, name):\n",
    "    inv1, inv2 = [x['initial_stock'][0]], []\n",
    "    rd = len(x['sku_id'])\n",
    " \n",
    "    for r in range(rd):\n",
    "        if r < rd - 1:\n",
    "            len_day = len(x['demand_RV_list'][r])-1\n",
    "        else:\n",
    "            len_day = len(x['demand_RV_list'][r])\n",
    "        for t in range(len_day):\n",
    "            if t == 0:\n",
    "                if r == 0:\n",
    "                    replen = int(round(x[name+'_pred'][r] - inv1[0]))\n",
    "                else:\n",
    "                    try:\n",
    "                        replen = int(round(x[name+'_pred'][r] - max(inv1[-int(round(x['vlt_actual'][r]))-1], 0)))\n",
    "                    except:\n",
    "                        replen = int(round(x[name+'_pred'][r] - max(inv1[1],0)))\n",
    "            if t < int(round(x['vlt_actual'][r])):\n",
    "                if r == 0:\n",
    "                    inv1.append(inv1[-1] - x['demand_RV_list'][r][t])\n",
    "            elif t == int(round(x['vlt_actual'][r])):\n",
    "                if inv1[-1] >= 0:\n",
    "                    inv_ = inv1[-1] + replen - x['demand_RV_list'][r][t]\n",
    "                else:\n",
    "                    inv_ = replen - x['demand_RV_list'][r][t]\n",
    "                inv1.append(inv_)\n",
    "                inv2.append(inv_)\n",
    "            else:\n",
    "                inv_ = inv1[-1] - x['demand_RV_list'][r][t]\n",
    "                inv1.append(inv_)\n",
    "                inv2.append(inv_)\n",
    "    \n",
    "    inv1 = inv1[1:]\n",
    "    return [inv1, inv2]"
   ]
  },
  {
   "cell_type": "code",
   "execution_count": 21,
   "metadata": {},
   "outputs": [],
   "source": [
    "o4['Bm1_pred'] = np.mean(bc2[:,:,4], axis=1)\n",
    "o4['Bm1_pred'] = o4['Bm1_pred'] * (np.ceil(o4['review_period']) + np.ceil(o4['E2E_NN_vlt_pred']))\n",
    "\n",
    "def get_bm2(x):\n",
    "    rl = np.ceil(x['review_period']) + np.ceil(x['E2E_NN_vlt_pred'])\n",
    "    if rl <= b:\n",
    "        days = int(rl)\n",
    "    else:\n",
    "        days = int(rl) - rl//(b+h)\n",
    "    return x['Bm2_pred'] * days\n",
    "\n",
    "o4['Bm2_pred'] = np.mean(bc2[:,:,4], axis=1)\n",
    "o4['Bm2_pred'] = o4.apply(get_bm2, axis=1)\n",
    "\n",
    "o4['Bm1_replen'] = (o4['Bm1_pred'] - o4['initial_stock']).clip(0)\n",
    "o4['Bm1_inv_f'], o4['Bm1_inv'] = zip(*o4.apply(get_inv, name='Bm1_replen', axis=1))\n",
    "o4['Bm2_replen'] = (o4['Bm2_pred'] - o4['initial_stock']).clip(0)\n",
    "o4['Bm2_inv_f'], o4['Bm2_inv'] = zip(*o4.apply(get_inv, name='Bm2_replen', axis=1))"
   ]
  },
  {
   "cell_type": "code",
   "execution_count": 22,
   "metadata": {},
   "outputs": [],
   "source": [
    "o4g = o4.groupby('item_sku_id').agg(lambda x: x.tolist())\n",
    "o4g['Demand_agg_list'] = o4g.apply(lambda x: df_sl.loc[x.name, \\\n",
    "                                            x['create_tm'][0].date():x['next_complete_dt'][-1].date()].values\\\n",
    "                                            , axis=1)"
   ]
  },
  {
   "cell_type": "code",
   "execution_count": 23,
   "metadata": {},
   "outputs": [],
   "source": [
    "o4g['E2E_MLP_agginv_f'], o4g['E2E_MLP_agginv'] = zip(*o4g.apply(get_agginv, name='E2E_MLP',  axis=1))\n",
    "o4g['E2E_RNN_agginv_f'], o4g['E2E_RNN_agginv'] = zip(*o4g.apply(get_agginv, name='E2E_RNN',  axis=1))\n",
    "o4g['Bm1_agginv_f'], o4g['Bm1_agginv'] = zip(*o4g.apply(get_agginv, name='Bm1',  axis=1))\n",
    "o4g['Bm2_agginv_f'], o4g['Bm2_agginv'] = zip(*o4g.apply(get_agginv, name='Bm2',  axis=1))"
   ]
  },
  {
   "cell_type": "code",
   "execution_count": 24,
   "metadata": {},
   "outputs": [],
   "source": [
    "list_c2 = ['SKU_DC',\n",
    "          'E2E_MLP', 'E2E_RNN',\n",
    "          'Bm1','Bm2',  \n",
    "          'Ave_sales'\n",
    "         ]\n",
    "str_list2 = ['E2E_MLP', 'E2E_RNN', 'Bm1','Bm2']\n",
    "\n",
    "numberOfRows = len(o4g)\n",
    "df2_cost_agg = pd.DataFrame(index=np.arange(0, numberOfRows), columns=list_c2)\n",
    "df2_holding_agg = pd.DataFrame(index=np.arange(0, numberOfRows), columns=list_c2)\n",
    "df2_back_agg = pd.DataFrame(index=np.arange(0, numberOfRows), columns=list_c2)\n",
    "df2_stockout_agg = pd.DataFrame(index=np.arange(0, numberOfRows), columns=list_c2)\n",
    "df2_turnover_agg = pd.DataFrame(index=np.arange(0, numberOfRows), columns=list_c2)\n",
    "\n",
    "df2_cost_agg['SKU_DC']=df2_holding_agg['SKU_DC']=df2_back_agg['SKU_DC']=df2_stockout_agg['SKU_DC']\\\n",
    "            =df2_turnover_agg['SKU_DC']=o4g.index.values\n",
    "df2_cost_agg['Ave_sales']=df2_holding_agg['Ave_sales']=df2_back_agg['Ave_sales']=df2_stockout_agg['Ave_sales']\\\n",
    "            =df2_turnover_agg['Ave_sales']=o4g['mean_14'].apply(lambda x:x[0]).values"
   ]
  },
  {
   "cell_type": "code",
   "execution_count": 25,
   "metadata": {},
   "outputs": [],
   "source": [
    "o4g_ = o4g.reset_index(drop=True)\n",
    "for str1 in str_list2:\n",
    "    str2 = str1 + '_agginv'\n",
    "    df2_holding_agg[str1] = o4g_[str2].apply(lambda x: h * sum([inv for inv in x if inv>0]) )\n",
    "    df2_back_agg[str1] = o4g_[str2].apply(lambda x: b * -sum([inv for inv in x if inv<0]) )\n",
    "    df2_stockout_agg[str1] = o4g_[str2].apply(lambda x: len([inv for inv in x if inv<0])/len(x) if len(x)>0 else 0 )\n",
    "    df2_turnover_agg[str1] = o4g_.apply(lambda x: np.mean([max(i,0) for i in x[str2]]) / x['mean_14'][0]\n",
    "                                  if np.mean(x['mean_14'][0]) >0 else np.mean(x[str2]), axis=1).fillna(7)\n",
    "    df2_cost_agg[str1] = df2_holding_agg[str1] + df2_back_agg[str1]"
   ]
  },
  {
   "cell_type": "code",
   "execution_count": 26,
   "metadata": {},
   "outputs": [
    {
     "data": {
      "text/html": [
       "<div>\n",
       "<style scoped>\n",
       "    .dataframe tbody tr th:only-of-type {\n",
       "        vertical-align: middle;\n",
       "    }\n",
       "\n",
       "    .dataframe tbody tr th {\n",
       "        vertical-align: top;\n",
       "    }\n",
       "\n",
       "    .dataframe thead th {\n",
       "        text-align: right;\n",
       "    }\n",
       "</style>\n",
       "<table border=\"1\" class=\"dataframe\">\n",
       "  <thead>\n",
       "    <tr style=\"text-align: right;\">\n",
       "      <th></th>\n",
       "      <th>E2E_MLP</th>\n",
       "      <th>E2E_RNN</th>\n",
       "      <th>Bm1</th>\n",
       "      <th>Bm2</th>\n",
       "    </tr>\n",
       "  </thead>\n",
       "  <tbody>\n",
       "    <tr>\n",
       "      <th>Total cost</th>\n",
       "      <td>3701.459925</td>\n",
       "      <td>3767.598876</td>\n",
       "      <td>3885.873408</td>\n",
       "      <td>3833.954682</td>\n",
       "    </tr>\n",
       "    <tr>\n",
       "      <th>Holding cost</th>\n",
       "      <td>2186.604869</td>\n",
       "      <td>2265.805618</td>\n",
       "      <td>2495.221723</td>\n",
       "      <td>2146.100749</td>\n",
       "    </tr>\n",
       "    <tr>\n",
       "      <th>Stockout cost</th>\n",
       "      <td>1514.855056</td>\n",
       "      <td>1501.793258</td>\n",
       "      <td>1390.651685</td>\n",
       "      <td>1687.853933</td>\n",
       "    </tr>\n",
       "    <tr>\n",
       "      <th>Stockout rate</th>\n",
       "      <td>0.106653</td>\n",
       "      <td>0.080022</td>\n",
       "      <td>0.083673</td>\n",
       "      <td>0.105084</td>\n",
       "    </tr>\n",
       "    <tr>\n",
       "      <th>Turnover rate</th>\n",
       "      <td>9.682777</td>\n",
       "      <td>12.120561</td>\n",
       "      <td>10.583016</td>\n",
       "      <td>9.293440</td>\n",
       "    </tr>\n",
       "  </tbody>\n",
       "</table>\n",
       "</div>"
      ],
      "text/plain": [
       "                   E2E_MLP      E2E_RNN          Bm1          Bm2\n",
       "Total cost     3701.459925  3767.598876  3885.873408  3833.954682\n",
       "Holding cost   2186.604869  2265.805618  2495.221723  2146.100749\n",
       "Stockout cost  1514.855056  1501.793258  1390.651685  1687.853933\n",
       "Stockout rate     0.106653     0.080022     0.083673     0.105084\n",
       "Turnover rate     9.682777    12.120561    10.583016     9.293440"
      ]
     },
     "execution_count": 26,
     "metadata": {},
     "output_type": "execute_result"
    }
   ],
   "source": [
    "df2_aggcom = pd.DataFrame({'Total cost': df2_cost_agg[str_list2].mean(),\n",
    "             'Holding cost': df2_holding_agg[str_list2].mean(),\n",
    "             'Stockout cost': df2_back_agg[str_list2].mean(),\n",
    "             'Stockout rate': df2_stockout_agg[str_list2].mean(),\n",
    "             'Turnover rate': df2_turnover_agg[str_list2].mean(),\n",
    "             }).T\n",
    "df2_aggcom"
   ]
  },
  {
   "cell_type": "code",
   "execution_count": 27,
   "metadata": {},
   "outputs": [
    {
     "name": "stdout",
     "output_type": "stream",
     "text": [
      "\\begin{tabular}{lrrrr}\n",
      "\\toprule\n",
      "{} &  E2E\\_MLP &  E2E\\_RNN &     Bm1 &     Bm2 \\\\\n",
      "\\midrule\n",
      "Total cost    &  3701.46 &  3767.60 & 3885.87 & 3833.95 \\\\\n",
      "Holding cost  &  2186.60 &  2265.81 & 2495.22 & 2146.10 \\\\\n",
      "Stockout cost &  1514.86 &  1501.79 & 1390.65 & 1687.85 \\\\\n",
      "Stockout rate &     0.11 &     0.08 &    0.08 &    0.11 \\\\\n",
      "Turnover rate &     9.68 &    12.12 &   10.58 &    9.29 \\\\\n",
      "\\bottomrule\n",
      "\\end{tabular}\n",
      "\n"
     ]
    }
   ],
   "source": [
    "print(df2_aggcom.to_latex(float_format=lambda x: '%.2f' % x))"
   ]
  },
  {
   "cell_type": "code",
   "execution_count": 126,
   "metadata": {},
   "outputs": [
    {
     "name": "stdout",
     "output_type": "stream",
     "text": [
      "41\n",
      "\\begin{tabular}{lrrrr}\n",
      "\\toprule\n",
      "{} &  E2E\\_MLP &  E2E\\_RNN &     Bm1 &     Bm2 \\\\\n",
      "\\midrule\n",
      "Total cost    &  1663.00 &  1818.00 & 2585.00 & 2361.00 \\\\\n",
      "Holding cost  &  1600.00 &  1818.00 & 2585.00 & 2361.00 \\\\\n",
      "Stockout cost &    63.00 &     0.00 &    0.00 &    0.00 \\\\\n",
      "Stockout rate &     0.04 &     0.00 &    0.00 &    0.00 \\\\\n",
      "Turnover rate &     6.27 &     7.12 &   10.12 &    9.25 \\\\\n",
      "\\bottomrule\n",
      "\\end{tabular}\n",
      "\n"
     ]
    },
    {
     "data": {
      "image/png": "[encoded data removed]",
      "text/plain": [
       "<Figure size 432x288 with 1 Axes>"
      ]
     },
     "metadata": {},
     "output_type": "display_data"
    }
   ],
   "source": [
    "i=41\n",
    "print(i)\n",
    "tt = o4g.iloc[i,:]\n",
    "fig, ax1 = plt.subplots(figsize=(6, 4))\n",
    "ax1.plot(tt['E2E_MLP_agginv_f'], label = 'E2E MLP: 1663')\n",
    "ax1.plot(tt['E2E_RNN_agginv_f'], label = 'E2E RNN: 1818')\n",
    "ax1.plot(tt['Bm1_agginv_f'], label = 'Bm1: 2585')\n",
    "ax1.plot(tt['Bm2_agginv_f'], label = 'Bm2: 2361')\n",
    "ax1.legend(loc='center left', bbox_to_anchor=(0., 0.2))\n",
    "ax1.grid(True)\n",
    "ax1.set_ylabel('Inventory')\n",
    "ax1.set_ylabel('Inventory')\n",
    "plt.savefig('../figures/eps/exp1_inv.eps', dpi=200)\n",
    "\n",
    "s_cost_agg = pd.DataFrame(index=np.arange(0, 1), columns=list_c2)\n",
    "s_holding_agg = pd.DataFrame(index=np.arange(0, 1), columns=list_c2)\n",
    "s_back_agg = pd.DataFrame(index=np.arange(0, 1), columns=list_c2)\n",
    "s_stockout_agg = pd.DataFrame(index=np.arange(0, 1), columns=list_c2)\n",
    "s_turnover_agg = pd.DataFrame(index=np.arange(0, 1), columns=list_c2)\n",
    "\n",
    "s_cost_agg['SKU_DC']=s_holding_agg['SKU_DC']=s_back_agg['SKU_DC']=s_stockout_agg['SKU_DC']\\\n",
    "            =s_turnover_agg['SKU_DC']=o4g.iloc[i:i+1,:].index.values\n",
    "s_cost_agg['Ave_sales']=s_holding_agg['Ave_sales']=s_back_agg['Ave_sales']=s_stockout_agg['Ave_sales']\\\n",
    "            =s_turnover_agg['Ave_sales']=o4g.iloc[i:i+1,:]['mean_14'].apply(lambda x:x[0]).values\n",
    "\n",
    "for str1 in str_list2:\n",
    "    str2 = str1 + '_agginv'\n",
    "    s_holding_agg[str1] = o4g.iloc[i:i+1,:][str2].apply(lambda x: h * sum([inv for inv in x if inv>0]) ).values\n",
    "    s_back_agg[str1] = o4g.iloc[i:i+1,:][str2].apply(lambda x: b * -sum([inv for inv in x if inv<0]) ).values\n",
    "    s_stockout_agg[str1] = o4g.iloc[i:i+1,:][str2].apply(lambda x: len([inv for inv in x if inv<0])/len(x) if len(x)>0 else 0 ).values\n",
    "    s_turnover_agg[str1] = o4g.iloc[i:i+1,:].apply(lambda x: np.mean([max(i,0) for i in x[str2]]) / x['mean_14'][0]\n",
    "                                  if np.mean(x['mean_14'][0]) >0 else np.mean(x[str2]), axis=1).fillna(7).values\n",
    "    s_cost_agg[str1] = s_holding_agg[str1] + s_back_agg[str1]\n",
    "    \n",
    "s_aggcom = pd.DataFrame({'Total cost': s_cost_agg[str_list2].mean(),\n",
    "             'Holding cost': s_holding_agg[str_list2].mean(),\n",
    "             'Stockout cost': s_back_agg[str_list2].mean(),\n",
    "             'Stockout rate': s_stockout_agg[str_list2].mean(),\n",
    "             'Turnover rate': s_turnover_agg[str_list2].mean(),\n",
    "             }).T\n",
    "print(s_aggcom.to_latex(float_format=lambda x: '%.2f' % x))\n"
   ]
  },
  {
   "cell_type": "code",
   "execution_count": 128,
   "metadata": {},
   "outputs": [
    {
     "data": {
      "text/plain": [
       "'1035103#3'"
      ]
     },
     "execution_count": 128,
     "metadata": {},
     "output_type": "execute_result"
    }
   ],
   "source": [
    "tt.name"
   ]
  },
  {
   "cell_type": "code",
   "execution_count": null,
   "metadata": {},
   "outputs": [],
   "source": []
  },
  {
   "cell_type": "code",
   "execution_count": null,
   "metadata": {},
   "outputs": [],
   "source": []
  }
 ],
 "metadata": {
  "kernelspec": {
   "display_name": "Python [conda env:tf]",
   "language": "python",
   "name": "conda-env-tf-py"
  },
  "language_info": {
   "codemirror_mode": {
    "name": "ipython",
    "version": 3
   },
   "file_extension": ".py",
   "mimetype": "text/x-python",
   "name": "python",
   "nbconvert_exporter": "python",
   "pygments_lexer": "ipython3",
   "version": "3.6.6"
  }
 },
 "nbformat": 4,
 "nbformat_minor": 2
}
