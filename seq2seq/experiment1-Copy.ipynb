{
 "cells": [
  {
   "cell_type": "code",
   "execution_count": 133,
   "metadata": {},
   "outputs": [],
   "source": [
    "import pandas as pd\n",
    "import numpy as np\n",
    "import datetime as dt\n",
    "import matplotlib.pyplot as plt\n",
    "%matplotlib inline\n",
    "import tensorflow as tf\n",
    "from tensorflow.contrib import rnn\n",
    "from tensorflow.python.ops import variable_scope\n",
    "from tensorflow.python.framework import dtypes\n",
    "import copy,os\n",
    "import pickle\n",
    "from datetime import timedelta\n",
    "\n",
    "plt.rcParams['font.sans-serif'] = ['SimHei'] #用来正常显示中文标签\n",
    "plt.rcParams['axes.unicode_minus'] = False #用来正常显示负号\n",
    "import warnings\n",
    "warnings.filterwarnings('ignore')\n",
    "\n",
    "import seaborn as sns\n",
    "sns.set()"
   ]
  },
  {
   "cell_type": "markdown",
   "metadata": {},
   "source": [
    "## Experiment part 1: End to end V.S. two-stage model (MQRNN)"
   ]
  },
  {
   "cell_type": "code",
   "execution_count": 93,
   "metadata": {},
   "outputs": [],
   "source": [
    "df_sales = pd.read_csv('../data/1320/rdc_sales_1320_replenishment_V1_filled_pp.csv')\n",
    "df_sl = df_sales.set_index('row')\n",
    "df_sl.rename(columns=lambda x: (dt.datetime(2016,1,1) + dt.timedelta(days=int(x)-730)).date(), inplace=True)\n",
    "df_sl['SKU'], df_sl['DC'] = df_sl.index.str.split('#', 1).str"
   ]
  },
  {
   "cell_type": "code",
   "execution_count": 194,
   "metadata": {},
   "outputs": [
    {
     "data": {
      "text/html": [
       "<div>\n",
       "<style scoped>\n",
       "    .dataframe tbody tr th:only-of-type {\n",
       "        vertical-align: middle;\n",
       "    }\n",
       "\n",
       "    .dataframe tbody tr th {\n",
       "        vertical-align: top;\n",
       "    }\n",
       "\n",
       "    .dataframe thead th {\n",
       "        text-align: right;\n",
       "    }\n",
       "</style>\n",
       "<table border=\"1\" class=\"dataframe\">\n",
       "  <thead>\n",
       "    <tr style=\"text-align: right;\">\n",
       "      <th></th>\n",
       "      <th>item_sku_id</th>\n",
       "      <th>sku_id</th>\n",
       "      <th>create_tm</th>\n",
       "      <th>complete_dt</th>\n",
       "      <th>vlt_actual</th>\n",
       "      <th>E2E_MLP_pred</th>\n",
       "      <th>E2E_RNN_pred</th>\n",
       "      <th>E2E_NN_SF_mean_pred</th>\n",
       "      <th>E2E_NN_vlt_pred</th>\n",
       "      <th>review_period</th>\n",
       "      <th>next_complete_dt</th>\n",
       "      <th>initial_stock</th>\n",
       "      <th>mean_112</th>\n",
       "    </tr>\n",
       "  </thead>\n",
       "  <tbody>\n",
       "    <tr>\n",
       "      <th>0</th>\n",
       "      <td>258214#3</td>\n",
       "      <td>258214</td>\n",
       "      <td>2018-07-30 04:50:00</td>\n",
       "      <td>2018-08-04 16:34:00</td>\n",
       "      <td>5.488264</td>\n",
       "      <td>1485.4271</td>\n",
       "      <td>2268.90280</td>\n",
       "      <td>557.55210</td>\n",
       "      <td>6.363373</td>\n",
       "      <td>1.417975</td>\n",
       "      <td>2018-08-04 16:27:00</td>\n",
       "      <td>915</td>\n",
       "      <td>194.151786</td>\n",
       "    </tr>\n",
       "    <tr>\n",
       "      <th>1</th>\n",
       "      <td>258214#3</td>\n",
       "      <td>258214</td>\n",
       "      <td>2018-07-31 14:52:00</td>\n",
       "      <td>2018-08-04 16:27:00</td>\n",
       "      <td>4.066100</td>\n",
       "      <td>2276.1375</td>\n",
       "      <td>2564.64800</td>\n",
       "      <td>638.37350</td>\n",
       "      <td>6.138837</td>\n",
       "      <td>7.062083</td>\n",
       "      <td>2018-08-14 15:46:00</td>\n",
       "      <td>793</td>\n",
       "      <td>193.794643</td>\n",
       "    </tr>\n",
       "    <tr>\n",
       "      <th>2</th>\n",
       "      <td>258214#3</td>\n",
       "      <td>258214</td>\n",
       "      <td>2018-08-07 16:22:00</td>\n",
       "      <td>2018-08-14 15:46:00</td>\n",
       "      <td>6.975035</td>\n",
       "      <td>1735.7422</td>\n",
       "      <td>2101.61990</td>\n",
       "      <td>728.61250</td>\n",
       "      <td>5.566259</td>\n",
       "      <td>5.543704</td>\n",
       "      <td>2018-08-18 14:39:00</td>\n",
       "      <td>2701</td>\n",
       "      <td>185.214286</td>\n",
       "    </tr>\n",
       "    <tr>\n",
       "      <th>3</th>\n",
       "      <td>258214#3</td>\n",
       "      <td>258214</td>\n",
       "      <td>2018-08-13 05:25:00</td>\n",
       "      <td>2018-08-18 14:39:00</td>\n",
       "      <td>5.384803</td>\n",
       "      <td>2011.5070</td>\n",
       "      <td>2473.88350</td>\n",
       "      <td>711.59010</td>\n",
       "      <td>6.034840</td>\n",
       "      <td>6.987188</td>\n",
       "      <td>2018-08-25 14:41:00</td>\n",
       "      <td>1795</td>\n",
       "      <td>178.392857</td>\n",
       "    </tr>\n",
       "    <tr>\n",
       "      <th>4</th>\n",
       "      <td>258214#4</td>\n",
       "      <td>258214</td>\n",
       "      <td>2018-07-30 04:50:00</td>\n",
       "      <td>2018-08-08 23:09:00</td>\n",
       "      <td>9.763206</td>\n",
       "      <td>500.8687</td>\n",
       "      <td>334.82117</td>\n",
       "      <td>118.85773</td>\n",
       "      <td>9.574233</td>\n",
       "      <td>7.017778</td>\n",
       "      <td>2018-08-15 23:17:00</td>\n",
       "      <td>163</td>\n",
       "      <td>27.946429</td>\n",
       "    </tr>\n",
       "  </tbody>\n",
       "</table>\n",
       "</div>"
      ],
      "text/plain": [
       "  item_sku_id  sku_id           create_tm         complete_dt  vlt_actual  \\\n",
       "0    258214#3  258214 2018-07-30 04:50:00 2018-08-04 16:34:00    5.488264   \n",
       "1    258214#3  258214 2018-07-31 14:52:00 2018-08-04 16:27:00    4.066100   \n",
       "2    258214#3  258214 2018-08-07 16:22:00 2018-08-14 15:46:00    6.975035   \n",
       "3    258214#3  258214 2018-08-13 05:25:00 2018-08-18 14:39:00    5.384803   \n",
       "4    258214#4  258214 2018-07-30 04:50:00 2018-08-08 23:09:00    9.763206   \n",
       "\n",
       "   E2E_MLP_pred  E2E_RNN_pred  E2E_NN_SF_mean_pred  E2E_NN_vlt_pred  \\\n",
       "0     1485.4271    2268.90280            557.55210         6.363373   \n",
       "1     2276.1375    2564.64800            638.37350         6.138837   \n",
       "2     1735.7422    2101.61990            728.61250         5.566259   \n",
       "3     2011.5070    2473.88350            711.59010         6.034840   \n",
       "4      500.8687     334.82117            118.85773         9.574233   \n",
       "\n",
       "   review_period    next_complete_dt  initial_stock    mean_112  \n",
       "0       1.417975 2018-08-04 16:27:00            915  194.151786  \n",
       "1       7.062083 2018-08-14 15:46:00            793  193.794643  \n",
       "2       5.543704 2018-08-18 14:39:00           2701  185.214286  \n",
       "3       6.987188 2018-08-25 14:41:00           1795  178.392857  \n",
       "4       7.017778 2018-08-15 23:17:00            163   27.946429  "
      ]
     },
     "execution_count": 194,
     "metadata": {},
     "output_type": "execute_result"
    }
   ],
   "source": [
    "START_DAY = dt.datetime(2018,7,27)\n",
    "\n",
    "#Benchmark2 qunatile prediction: quantiles = [0.1, 0.25, 0.5, 0.6, 0.7, 0.8, 0.9, 0.95]\n",
    "with open('pred_E2E_SF_RNN.pkl', 'rb') as fp: \n",
    "    bc2 = pickle.load(fp)\n",
    "\n",
    "#Item_sku_id, sku_id, create_tm, complete_dt, vlt_actual, E2E_MLP_pred, E2E_NN_SF_mean_pred, E2E_NN_vlt_pred \n",
    "df_orders = pd.read_csv('pred_v5.csv', parse_dates=['create_tm','complete_dt','next_complete_dt'])\n",
    "\n",
    "df_orders.head()"
   ]
  },
  {
   "cell_type": "code",
   "execution_count": 195,
   "metadata": {},
   "outputs": [],
   "source": [
    "o4 = df_orders.copy()"
   ]
  },
  {
   "cell_type": "code",
   "execution_count": 196,
   "metadata": {},
   "outputs": [],
   "source": [
    "o4['demand_RV_list'] = o4.apply(lambda x: df_sl.loc[x['item_sku_id'], \\\n",
    "                                            x['create_tm'].date():x['next_complete_dt'].date()].values\\\n",
    "                            if x['item_sku_id'] in df_sl.index else [], axis=1)\n",
    "\n",
    "o4['demand_RV_list_acm'] = o4['demand_RV_list'].apply(lambda x: np.cumsum(x))"
   ]
  },
  {
   "cell_type": "code",
   "execution_count": 197,
   "metadata": {},
   "outputs": [],
   "source": [
    "def get_inv(x, name):\n",
    "    inv1, inv2 = [], []\n",
    " \n",
    "    for t in range(len(x['demand_RV_list_acm'])):\n",
    "        if t < np.ceil(x['vlt_actual']):\n",
    "            inv1.append(x['initial_stock']-x['demand_RV_list_acm'][t])\n",
    "            continue\n",
    "        else:\n",
    "#             if inv[-1] <= 0:\n",
    "#                 inv.append(-x['demand_RV_list'][t])\n",
    "#             else:\n",
    "#                 inv.append(inv[-1] - x['demand_RV_list'][t])\n",
    "            inv_ = x[name]+x['initial_stock']-x['demand_RV_list_acm'][t]\n",
    "            inv1.append(inv_)\n",
    "            inv2.append(inv_)\n",
    "    return [inv1, inv2]\n",
    "\n",
    "def get_agginv(x, name):\n",
    "    inv1, inv2 = [x['initial_stock'][0]], []\n",
    "    rd = len(x['sku_id'])\n",
    " \n",
    "    for r in range(rd):\n",
    "        if r < rd - 1:\n",
    "            len_day = len(x['demand_RV_list'][r])-1\n",
    "        else:\n",
    "            len_day = len(x['demand_RV_list'][r])\n",
    "        for t in range(len_day):\n",
    "            if t == 0:\n",
    "                if r == 0:\n",
    "                    replen = int(round(x[name+'_pred'][r] - inv1[0]))\n",
    "                else:\n",
    "                    try:\n",
    "                        replen = int(round(x[name+'_pred'][r] - max(inv1[-int(round(x['vlt_actual'][r]))-1], 0)))\n",
    "                    except:\n",
    "                        replen = int(round(x[name+'_pred'][r] - max(inv1[1],0)))\n",
    "            if t < int(round(x['vlt_actual'][r])):\n",
    "                if r == 0:\n",
    "                    inv1.append(inv1[-1] - x['demand_RV_list'][r][t])\n",
    "            elif t == int(round(x['vlt_actual'][r])):\n",
    "                if inv1[-1] >= 0:\n",
    "                    inv_ = inv1[-1] + replen - x['demand_RV_list'][r][t]\n",
    "                else:\n",
    "                    inv_ = replen - x['demand_RV_list'][r][t]\n",
    "                inv1.append(inv_)\n",
    "                inv2.append(inv_)\n",
    "            else:\n",
    "                inv_ = inv1[-1] - x['demand_RV_list'][r][t]\n",
    "                inv1.append(inv_)\n",
    "                inv2.append(inv_)\n",
    "    \n",
    "    inv1 = inv1[1:]\n",
    "    return [inv1, inv2]\n"
   ]
  },
  {
   "cell_type": "code",
   "execution_count": 198,
   "metadata": {},
   "outputs": [],
   "source": [
    "o4['E2E_MLP_replen'] = (o4['E2E_MLP_pred'] - o4['initial_stock']).clip(0)\n",
    "o4['E2E_MLP_inv_f'], o4['E2E_MLP_inv'] = zip(*o4.apply(get_inv, name='E2E_MLP_replen', axis=1))\n",
    "\n",
    "o4['E2E_RNN_replen'] = (o4['E2E_RNN_pred'] - o4['initial_stock']).clip(0)\n",
    "o4['E2E_RNN_inv_f'], o4['E2E_RNN_inv'] = zip(*o4.apply(get_inv, name='E2E_RNN_replen', axis=1))"
   ]
  },
  {
   "cell_type": "code",
   "execution_count": 224,
   "metadata": {},
   "outputs": [],
   "source": [
    "o4['Bm1_pred'] = np.mean(bc2[:,:,3], axis=1)\n",
    "o4['Bm1_pred'] = o4['Bm1_pred'] * (np.ceil(o4['review_period']) + np.ceil(o4['E2E_NN_vlt_pred']))\n",
    "\n",
    "def get_bm2(x):\n",
    "    rl = np.ceil(x['review_period']) + np.ceil(x['E2E_NN_vlt_pred'])\n",
    "    if rl <= b:\n",
    "        days = int(rl)\n",
    "    else:\n",
    "        days = int(rl) - rl//(b+h)\n",
    "    return x['Bm2_pred'] * days\n",
    "\n",
    "o4['Bm2_pred'] = np.mean(bc2[:,:,4], axis=1)\n",
    "o4['Bm2_pred'] = o4.apply(get_bm2, axis=1)\n",
    "\n",
    "o4['Bm1_replen'] = (o4['Bm1_pred'] - o4['initial_stock']).clip(0)\n",
    "o4['Bm1_inv_f'], o4['Bm1_inv'] = zip(*o4.apply(get_inv, name='Bm1_replen', axis=1))\n",
    "o4['Bm2_replen'] = (o4['Bm2_pred'] - o4['initial_stock']).clip(0)\n",
    "o4['Bm2_inv_f'], o4['Bm2_inv'] = zip(*o4.apply(get_inv, name='Bm2_replen', axis=1))"
   ]
  },
  {
   "cell_type": "code",
   "execution_count": 225,
   "metadata": {},
   "outputs": [],
   "source": [
    "o4g = o4.groupby('item_sku_id').agg(lambda x: x.tolist())"
   ]
  },
  {
   "cell_type": "code",
   "execution_count": 226,
   "metadata": {},
   "outputs": [],
   "source": [
    "o4g['E2E_MLP_agginv_f'], o4g['E2E_MLP_agginv'] = zip(*o4g.apply(get_agginv, name='E2E_MLP',  axis=1))\n",
    "o4g['E2E_RNN_agginv_f'], o4g['E2E_RNN_agginv'] = zip(*o4g.apply(get_agginv, name='E2E_RNN',  axis=1))\n",
    "o4g['Bm1_agginv_f'], o4g['Bm1_agginv'] = zip(*o4g.apply(get_agginv, name='Bm1',  axis=1))\n",
    "o4g['Bm2_agginv_f'], o4g['Bm2_agginv'] = zip(*o4g.apply(get_agginv, name='Bm2',  axis=1))"
   ]
  },
  {
   "cell_type": "code",
   "execution_count": 227,
   "metadata": {},
   "outputs": [],
   "source": [
    "list_c2 = ['SKU_DC',\n",
    "          'E2E_MLP', 'E2E_RNN',\n",
    "          'Bm1','Bm2',  \n",
    "          'Ave_sales'\n",
    "         ]\n",
    "numberOfRows = len(o4g)\n",
    "df2_cost_agg = pd.DataFrame(index=np.arange(0, numberOfRows), columns=list_c2)\n",
    "df2_holding_agg = pd.DataFrame(index=np.arange(0, numberOfRows), columns=list_c2)\n",
    "df2_back_agg = pd.DataFrame(index=np.arange(0, numberOfRows), columns=list_c2)\n",
    "df2_stockout_agg = pd.DataFrame(index=np.arange(0, numberOfRows), columns=list_c2)\n",
    "df2_turnover_agg = pd.DataFrame(index=np.arange(0, numberOfRows), columns=list_c2)\n",
    "\n",
    "df2_cost_agg['SKU_DC']=df2_holding_agg['SKU_DC']=df2_back_agg['SKU_DC']=df2_stockout_agg['SKU_DC']\\\n",
    "            =df2_turnover_agg['SKU_DC']=o4g.index.values\n",
    "df2_cost_agg['Ave_sales']=df2_holding_agg['Ave_sales']=df2_back_agg['Ave_sales']=df2_stockout_agg['Ave_sales']\\\n",
    "            =df2_turnover_agg['Ave_sales']=o4g['mean_112'].apply(lambda x:x[0]).values"
   ]
  },
  {
   "cell_type": "code",
   "execution_count": 228,
   "metadata": {},
   "outputs": [],
   "source": [
    "o4g_ = o4g.reset_index(drop=True)\n",
    "for str1 in str_list2:\n",
    "    str2 = str1 + '_agginv'\n",
    "    df2_holding_agg[str1] = o4g_[str2].apply(lambda x: h * sum([inv for inv in x if inv>0]) )\n",
    "    df2_back_agg[str1] = o4g_[str2].apply(lambda x: b * -sum([inv for inv in x if inv<0]) )\n",
    "    df2_stockout_agg[str1] = o4g_[str2].apply(lambda x: len([inv for inv in x if inv<0])/len(x) if len(x)>0 else 0 )\n",
    "    df2_turnover_agg[str1] = o4g_.apply(lambda x: np.mean([max(i,0) for i in x[str2]]) / x['mean_112'][0]\n",
    "                                  if np.mean(x['mean_112'][0]) >0 else np.mean(x[str2]), axis=1).fillna(7)\n",
    "    df2_cost_agg[str1] = df2_holding_agg[str1] + df2_back_agg[str1]"
   ]
  },
  {
   "cell_type": "code",
   "execution_count": 229,
   "metadata": {},
   "outputs": [
    {
     "data": {
      "text/html": [
       "<div>\n",
       "<style scoped>\n",
       "    .dataframe tbody tr th:only-of-type {\n",
       "        vertical-align: middle;\n",
       "    }\n",
       "\n",
       "    .dataframe tbody tr th {\n",
       "        vertical-align: top;\n",
       "    }\n",
       "\n",
       "    .dataframe thead th {\n",
       "        text-align: right;\n",
       "    }\n",
       "</style>\n",
       "<table border=\"1\" class=\"dataframe\">\n",
       "  <thead>\n",
       "    <tr style=\"text-align: right;\">\n",
       "      <th></th>\n",
       "      <th>E2E_MLP</th>\n",
       "      <th>E2E_RNN</th>\n",
       "      <th>Bm1</th>\n",
       "      <th>Bm2</th>\n",
       "    </tr>\n",
       "  </thead>\n",
       "  <tbody>\n",
       "    <tr>\n",
       "      <th>Total cost</th>\n",
       "      <td>3470.049790</td>\n",
       "      <td>3569.387522</td>\n",
       "      <td>3567.116977</td>\n",
       "      <td>3515.200960</td>\n",
       "    </tr>\n",
       "    <tr>\n",
       "      <th>Holding cost</th>\n",
       "      <td>1991.296341</td>\n",
       "      <td>1904.981404</td>\n",
       "      <td>1710.023395</td>\n",
       "      <td>1924.284943</td>\n",
       "    </tr>\n",
       "    <tr>\n",
       "      <th>Stockout cost</th>\n",
       "      <td>1478.753449</td>\n",
       "      <td>1664.406119</td>\n",
       "      <td>1857.093581</td>\n",
       "      <td>1590.916017</td>\n",
       "    </tr>\n",
       "    <tr>\n",
       "      <th>Stockout rate</th>\n",
       "      <td>0.096356</td>\n",
       "      <td>0.106856</td>\n",
       "      <td>0.149746</td>\n",
       "      <td>0.099476</td>\n",
       "    </tr>\n",
       "    <tr>\n",
       "      <th>Turnover rate</th>\n",
       "      <td>10.705349</td>\n",
       "      <td>13.333803</td>\n",
       "      <td>8.058215</td>\n",
       "      <td>10.336719</td>\n",
       "    </tr>\n",
       "  </tbody>\n",
       "</table>\n",
       "</div>"
      ],
      "text/plain": [
       "                   E2E_MLP      E2E_RNN          Bm1          Bm2\n",
       "Total cost     3470.049790  3569.387522  3567.116977  3515.200960\n",
       "Holding cost   1991.296341  1904.981404  1710.023395  1924.284943\n",
       "Stockout cost  1478.753449  1664.406119  1857.093581  1590.916017\n",
       "Stockout rate     0.096356     0.106856     0.149746     0.099476\n",
       "Turnover rate    10.705349    13.333803     8.058215    10.336719"
      ]
     },
     "execution_count": 229,
     "metadata": {},
     "output_type": "execute_result"
    }
   ],
   "source": [
    "df2_aggcom = pd.DataFrame({'Total cost': df2_cost_agg[str_list2].mean(),\n",
    "             'Holding cost': df2_holding_agg[str_list2].mean(),\n",
    "             'Stockout cost': df2_back_agg[str_list2].mean(),\n",
    "             'Stockout rate': df2_stockout_agg[str_list2].mean(),\n",
    "             'Turnover rate': df2_turnover_agg[str_list2].mean(),\n",
    "             }).T\n",
    "df2_aggcom"
   ]
  },
  {
   "cell_type": "code",
   "execution_count": null,
   "metadata": {},
   "outputs": [],
   "source": []
  },
  {
   "cell_type": "code",
   "execution_count": null,
   "metadata": {},
   "outputs": [],
   "source": []
  },
  {
   "cell_type": "code",
   "execution_count": null,
   "metadata": {},
   "outputs": [],
   "source": []
  },
  {
   "cell_type": "code",
   "execution_count": null,
   "metadata": {},
   "outputs": [],
   "source": []
  },
  {
   "cell_type": "code",
   "execution_count": null,
   "metadata": {},
   "outputs": [],
   "source": []
  },
  {
   "cell_type": "code",
   "execution_count": 20,
   "metadata": {},
   "outputs": [
    {
     "data": {
      "text/plain": [
       "<matplotlib.axes._subplots.AxesSubplot at 0x1a200d71d0>"
      ]
     },
     "execution_count": 20,
     "metadata": {},
     "output_type": "execute_result"
    },
    {
     "data": {
      "image/png": "[encoded data removed]",
      "text/plain": [
       "<Figure size 432x288 with 1 Axes>"
      ]
     },
     "metadata": {},
     "output_type": "display_data"
    }
   ],
   "source": [
    "df_com.iloc[0:3,:].plot.bar(rot=0)\n",
    "plt.savefig('../figures/eps/exp1.eps', dpi=200)"
   ]
  },
  {
   "cell_type": "code",
   "execution_count": 42,
   "metadata": {},
   "outputs": [
    {
     "data": {
      "image/png": "[encoded data removed]",
      "text/plain": [
       "<Figure size 432x360 with 1 Axes>"
      ]
     },
     "metadata": {},
     "output_type": "display_data"
    }
   ],
   "source": [
    "sl_qtl = df_holding.iloc[:,2:].sort_values('Ave_sales').groupby(df_cost.index//360).mean()\n",
    "fig, ax = plt.subplots(figsize=(6, 5))\n",
    "ax.plot(np.log(sl_qtl.iloc[:,:-2].astype(float)).replace(-np.inf, 0));\n",
    "ax.legend(sl_qtl.columns[:-2], loc=0)\n",
    "ax.set_xlabel('$i$-th quantile of averaging demand');\n",
    "ax.set_ylabel('Holding cost(log)');\n",
    "ax.set_ylim((0,12));\n",
    "# plt.savefig('../figures/eps/qtl2.eps', dpi=200)"
   ]
  },
  {
   "cell_type": "code",
   "execution_count": null,
   "metadata": {},
   "outputs": [],
   "source": []
  }
 ],
 "metadata": {
  "kernelspec": {
   "display_name": "Python [conda env:tf]",
   "language": "python",
   "name": "conda-env-tf-py"
  },
  "language_info": {
   "codemirror_mode": {
    "name": "ipython",
    "version": 3
   },
   "file_extension": ".py",
   "mimetype": "text/x-python",
   "name": "python",
   "nbconvert_exporter": "python",
   "pygments_lexer": "ipython3",
   "version": "3.6.6"
  }
 },
 "nbformat": 4,
 "nbformat_minor": 2
}
